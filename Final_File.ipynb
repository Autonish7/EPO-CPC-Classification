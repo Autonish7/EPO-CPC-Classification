{
 "cells": [
  {
   "cell_type": "markdown",
   "metadata": {},
   "source": [
    "# A61H CPC Classification - Output file\n",
    "\n",
    "<font size=\"3\">\n",
    "\n",
    "#### About the Module:\n",
    "<I><span style=\"font-family:Arial\">This module import all the cpc class modules and process them to get final output with predicted cpc classes  </span></I>\n",
    "\n",
    "#### Input needed: \n",
    "<I><span style=\"font-family:Arial\"> This module will import modules:     \n",
    "Initial_Processing, A61H0100, A61H0300, A61H0500, A61H0700, A61H0900, A61H1100, A61H1300, A61H1500, A61H1900, A61H2100, A61H2300, A61H3100, A61H3300, A61H3500, A61H3600, A61H3700, A61H3900 </span></I>\n",
    "\n",
    "#### Output expected: \n",
    "<I><span style=\"font-family:Arial\">This module will create a excel file 'output.xlsx' with testdata title, abstract and predicted classes</span></I>\n",
    "\n",
    "#### Related modules: \n",
    "<I><span style=\"font-family:Arial\">This is the last module in the list and it is not called by any other module. However, this module is calling modules: <br> A61H0100, A61H0300, A61H0500, A61H0700, A61H0900, A61H1100, A61H1300, A61H1500, A61H1900, A61H2100, A61H2300, A61H3100, A61H3300, A61H3500, A61H3600, A61H3700, A61H3900 and initial_processing</span></I>\n",
    "\n",
    "#### Who and when: \n",
    "<I><span style=\"font-family:Arial\">Last Modified by : Nishant Chauhan</span><br>\n",
    "<span style=\"font-family:Arial\">Last Modified on : 1-Aug-2021</span><br>\n",
    "<span style=\"font-family:Arial\">Version no       : 2</span><br>\n",
    "<span style=\"font-family:Arial\">Developed by     : Nishant Chauhan </span><br></font></I>\n"
   ]
  },
  {
   "cell_type": "code",
   "execution_count": 1,
   "metadata": {},
   "outputs": [],
   "source": [
    "import os\n",
    "import sys\n",
    "import import_ipynb\n",
    "import pandas as pd"
   ]
  },
  {
   "cell_type": "code",
   "execution_count": 2,
   "metadata": {},
   "outputs": [
    {
     "name": "stdout",
     "output_type": "stream",
     "text": [
      "importing Jupyter notebook from Initial_Processing.ipynb\n",
      "Module Initial Processing is successfully loaded on 31/Jul/2021 - 19:55 PM\n"
     ]
    }
   ],
   "source": [
    "import Initial_Processing"
   ]
  },
  {
   "cell_type": "code",
   "execution_count": 3,
   "metadata": {},
   "outputs": [
    {
     "name": "stdout",
     "output_type": "stream",
     "text": [
      "importing Jupyter notebook from A61H0100.ipynb\n",
      "importing Jupyter notebook from Initial_processing.ipynb\n",
      "The autoreload extension is already loaded. To reload it, use:\n",
      "  %reload_ext autoreload\n",
      "Module Initial Processing is successfully loaded on 31/Jul/2021 - 20:01 PM\n",
      "Training data accuracy score :  0.8817784306357394\n",
      "Module A61H0100 is successfully loaded on 31/Jul/2021 - 20:05 PM\n"
     ]
    }
   ],
   "source": [
    "import A61H0100"
   ]
  },
  {
   "cell_type": "code",
   "execution_count": 5,
   "metadata": {},
   "outputs": [],
   "source": [
    "import A61H0300"
   ]
  },
  {
   "cell_type": "code",
   "execution_count": 17,
   "metadata": {},
   "outputs": [],
   "source": [
    "import A61H0500"
   ]
  },
  {
   "cell_type": "code",
   "execution_count": null,
   "metadata": {},
   "outputs": [
    {
     "name": "stdout",
     "output_type": "stream",
     "text": [
      "importing Jupyter notebook from A61H0700.ipynb\n"
     ]
    }
   ],
   "source": [
    "import A61H0700"
   ]
  },
  {
   "cell_type": "code",
   "execution_count": 21,
   "metadata": {},
   "outputs": [],
   "source": [
    "import A61H0900"
   ]
  },
  {
   "cell_type": "code",
   "execution_count": 22,
   "metadata": {},
   "outputs": [],
   "source": [
    "import A61H1100"
   ]
  },
  {
   "cell_type": "code",
   "execution_count": 24,
   "metadata": {},
   "outputs": [],
   "source": [
    "import A61H1300"
   ]
  },
  {
   "cell_type": "code",
   "execution_count": null,
   "metadata": {},
   "outputs": [],
   "source": [
    "import A61H1500"
   ]
  },
  {
   "cell_type": "code",
   "execution_count": null,
   "metadata": {},
   "outputs": [],
   "source": [
    "import A61H1900"
   ]
  },
  {
   "cell_type": "code",
   "execution_count": null,
   "metadata": {},
   "outputs": [],
   "source": [
    "import A61H2100"
   ]
  },
  {
   "cell_type": "code",
   "execution_count": null,
   "metadata": {},
   "outputs": [],
   "source": [
    "import A61H2300"
   ]
  },
  {
   "cell_type": "code",
   "execution_count": null,
   "metadata": {},
   "outputs": [],
   "source": [
    "import A61H3100"
   ]
  },
  {
   "cell_type": "code",
   "execution_count": null,
   "metadata": {},
   "outputs": [],
   "source": [
    "import A61H3300"
   ]
  },
  {
   "cell_type": "code",
   "execution_count": null,
   "metadata": {},
   "outputs": [],
   "source": [
    "import A61H3500"
   ]
  },
  {
   "cell_type": "code",
   "execution_count": null,
   "metadata": {},
   "outputs": [],
   "source": [
    "import A61H3600"
   ]
  },
  {
   "cell_type": "code",
   "execution_count": null,
   "metadata": {},
   "outputs": [],
   "source": [
    "import A61H3700"
   ]
  },
  {
   "cell_type": "code",
   "execution_count": null,
   "metadata": {},
   "outputs": [],
   "source": [
    "import A61H3900"
   ]
  },
  {
   "cell_type": "code",
   "execution_count": null,
   "metadata": {},
   "outputs": [],
   "source": [
    "df_final_table = pd.concat([A61H0100.df_final,\n",
    "                            A61H0300.df_final['prediction'],\n",
    "                            A61H0500.df_final['prediction'],\n",
    "                            A61H0700.df_final['prediction'],\n",
    "                            A61H0900.df_final['prediction'],\n",
    "                            A61H1100.df_final['prediction'],\n",
    "                            A61H1300.df_final['prediction'],\n",
    "                            A61H1500.df_final['prediction'],\n",
    "                            A61H1900.df_final['prediction'],\n",
    "                            A61H2100.df_final['prediction'],\n",
    "                            A61H2300.df_final['prediction'],\n",
    "                            A61H3100.df_final['prediction'],\n",
    "                            A61H3300.df_final['prediction'],\n",
    "                            A61H3500.df_final['prediction'],\n",
    "                            A61H3600.df_final['prediction'],\n",
    "                            A61H3700.df_final['prediction'],\n",
    "                            A61H3900.df_final['prediction']], axis=1)"
   ]
  },
  {
   "cell_type": "code",
   "execution_count": null,
   "metadata": {},
   "outputs": [],
   "source": [
    "df_final_table['predicted_classes'] = ''\n",
    "for i in range(len(df_final_table)):\n",
    "    for j in range(3,(len(df_final_table.columns)-1)):\n",
    "        if not df_final_table.iloc[i,j] == '':\n",
    "            df_final_table.loc[i,'predicted_classes'] = (df_final_table.loc[i,'predicted_classes'] + ' | '\n",
    "                                                         + df_final_table.iloc[i,j])\n",
    "\n",
    "df_final_table['predicted_classes'] = df_final_table['predicted_classes'].str[3:]\n",
    "\n",
    "for i in range(len(df_final_table)-1):\n",
    "    if df_final_table.loc[i,'predicted_classes'] == '':\n",
    "        df_final_table.loc[i,'predicted_classes'] = 'NR' \n",
    "        \n",
    "df_final_table = df_final_table.drop(columns = ['prediction'])"
   ]
  },
  {
   "cell_type": "code",
   "execution_count": null,
   "metadata": {},
   "outputs": [],
   "source": [
    "df_final_table.to_excel(\"output.xlsx\")"
   ]
  },
  {
   "cell_type": "code",
   "execution_count": null,
   "metadata": {},
   "outputs": [],
   "source": []
  }
 ],
 "metadata": {
  "kernelspec": {
   "display_name": "Python 3",
   "language": "python",
   "name": "python3"
  },
  "language_info": {
   "codemirror_mode": {
    "name": "ipython",
    "version": 3
   },
   "file_extension": ".py",
   "mimetype": "text/x-python",
   "name": "python",
   "nbconvert_exporter": "python",
   "pygments_lexer": "ipython3",
   "version": "3.6.12"
  }
 },
 "nbformat": 4,
 "nbformat_minor": 2
}
