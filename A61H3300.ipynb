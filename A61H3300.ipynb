{
 "cells": [
  {
   "cell_type": "markdown",
   "metadata": {},
   "source": [
    "# A61H CPC Classification - A61H3300\n",
    "\n",
    "<font size=\"2\">\n",
    "\n",
    "#### About the Module:\n",
    "<I><span style=\"font-family:Arial\">This module work to identify patents in A61H3300 class. Class detail is as follow<br></span>\n",
    "<span style=\"font-family:Arial\">A61H33/00&emsp;&emsp;&emsp;&emsp;•&emsp;Bathing devices for special therapeutic or hygienic\n",
    "purposes<br></span>\n",
    "<span style=\"font-family:Arial\">A61H2033/0004&emsp;&emsp;•&emsp;Bathing devices specially adapted for treating burned patients<br></span>\n",
    "<span style=\"font-family:Arial\">A61H2033/0008&emsp;&emsp;•&emsp;Arrangement for cleaning the installation before or after use<br></span>\n",
    "<span style=\"font-family:Arial\">A61H2033/0012&emsp;&emsp;••&emsp;by rinsing<br></span>\n",
    "<span style=\"font-family:Arial\">A61H2033/0016&emsp;&emsp;••&emsp;using cleansing products<br></span>\n",
    "<span style=\"font-family:Arial\">A61H2033/002 &emsp;&emsp; ••&emsp;by blowing air through the installation after the bath has been emptied<br></span>\n",
    "<span style=\"font-family:Arial\">A61H2033/0025&emsp;&emsp;••&emsp;by connecting the air lines with the drain<br></span>\n",
    "<span style=\"font-family:Arial\">A61H2033/0029&emsp;&emsp;••&emsp;with ultrasonics<br></span>\n",
    "<span style=\"font-family:Arial\">A61H2033/0033&emsp;&emsp;••&emsp;by draining-off pumps, nozzles, waterlines by gravity<br></span>\n",
    "<span style=\"font-family:Arial\">A61H2033/0037&emsp;&emsp;•&emsp;Arrangement for cleaning the fluid during use<br></span>\n",
    "<span style=\"font-family:Arial\">A61H2033/0041&emsp;&emsp;•&emsp;Cleaning and recovery of the fluid without mixing\n",
    "the cleaned and uncleaned fluid, e.g. using a recovery tank<br></span>\n",
    "<span style=\"font-family:Arial\">A61H2033/0045&emsp;&emsp;•&emsp;with heat-recovery of waste fluid<br></span>\n",
    "<span style=\"font-family:Arial\">A61H33/005 &emsp; &emsp;&emsp;••&emsp;Electrical circuits therefor<br></span>\n",
    "<span style=\"font-family:Arial\">A61H2033/0054&emsp;&emsp;••&emsp;with liquid level detectors<br></span>\n",
    "<span style=\"font-family:Arial\">A61H2033/0058&emsp;&emsp;••&emsp;controlled by the user<br></span>\n",
    "<span style=\"font-family:Arial\">A61H2033/0062&emsp;&emsp;•••&emsp;with electro-pneumatic or -hydraulic switches<br></span>\n",
    "<span style=\"font-family:Arial\">A61H2033/0066&emsp;&emsp;•••&emsp;with low-voltage switching, e.g. using optical isolators, isolated transformers<br></span>\n",
    "<span style=\"font-family:Arial\">A61H2033/007 &emsp;&emsp;•••&emsp;with capacitors, e.g. proximity switches<br></span>\n",
    "<span style=\"font-family:Arial\">A61H2033/0075&emsp;&emsp;•••&emsp;with opto-electric switches<br></span>\n",
    "<span style=\"font-family:Arial\">A61H2033/0079&emsp;&emsp;•••&emsp;using remote control signal transmission devices, e.g. ultrasonic, infra-red<br></span>\n",
    "<span style=\"font-family:Arial\">A61H2033/0083&emsp;&emsp;••&emsp;Illumination<br></span>\n",
    "<span style=\"font-family:Arial\">A61H33/0087&emsp;&emsp;&emsp;•&emsp;Therapeutic baths with agitated or circulated water<br></span>\n",
    "<span style=\"font-family:Arial\">A61H33/0091&emsp;&emsp;&emsp;••&emsp;Water agitated by means moving in the bath, i.e. without water connections to an outside pump circuit<br></span>\n",
    "<span style=\"font-family:Arial\">A61H33/0095&emsp;&emsp;&emsp;•&emsp;Arrangements for varying the temperature of the\n",
    "liquid<br></span>\n",
    "<span style=\"font-family:Arial\">A61H33/02&emsp;&emsp;&emsp;&emsp;•&emsp;Bathing devices for use with gas-containing liquid, or liquid in which gas is led or generated, e.g. carbon dioxide baths<br></span>\n",
    "<span style=\"font-family:Arial\">A61H2033/021 &emsp;&emsp;••&emsp;Nozzles having flow-regulation means<br></span>\n",
    "<span style=\"font-family:Arial\">A61H2033/022 &emsp;&emsp;••&emsp;with control means for regulating the air volume aspirated by a water jet<br></span>\n",
    "<span style=\"font-family:Arial\">A61H2033/023 &emsp;&emsp;••&emsp;with means in the air supply lines to prevent back-feed of water, e.g. anti-backflow valves, draining devices<br></span>\n",
    "<span style=\"font-family:Arial\">A61H33/025 &emsp; &emsp;&emsp;••&emsp;Aerating mats or frames, e.g. to be put in a bathtub<br></span>\n",
    "<span style=\"font-family:Arial\">A61H33/026 &emsp; &emsp;&emsp;••&emsp;Gas nozzles specially adapted therefor<br></span>\n",
    "<span style=\"font-family:Arial\">A61H33/027 &emsp; &emsp;&emsp;••&emsp;Gas-water mixing nozzles therefor<br></span>\n",
    "<span style=\"font-family:Arial\">A61H33/028 &emsp; &emsp;&emsp;••&emsp;Means for producing a flow of gas, e.g. blowers, compressors<br></span>\n",
    "<span style=\"font-family:Arial\">A61H33/04&emsp;&emsp;&emsp;&emsp;•&emsp;Appliances for sand, mud, wax or foam baths;\n",
    "Appliances for metal baths, e.g. using metal salt solutions<br></span>\n",
    "<span style=\"font-family:Arial\">A61H2033/041 &emsp;&emsp;••&emsp;Baths with dry sand or other dry particles<br></span>\n",
    "<span style=\"font-family:Arial\">A61H2033/042 &emsp;&emsp;••&emsp;gas-fluidised or gas-heated during use<br></span>\n",
    "<span style=\"font-family:Arial\">A61H2033/043 &emsp;&emsp;••&emsp;Foam baths<br></span>\n",
    "<span style=\"font-family:Arial\">A61H2033/044 &emsp;&emsp;••&emsp;Baths with herbs, e.g. infusions<br></span>\n",
    "<span style=\"font-family:Arial\">A61H2033/045 &emsp;&emsp;••&emsp;Liquid-metal baths<br></span>\n",
    "<span style=\"font-family:Arial\">A61H2033/046 &emsp;&emsp;••&emsp;Mud baths; Baths using sand or other particles in water<br></span>\n",
    "<span style=\"font-family:Arial\">A61H2033/047 &emsp;&emsp;••&emsp;Paraffin or wax baths<br></span>\n",
    "<span style=\"font-family:Arial\">A61H2033/048 &emsp;&emsp;••&emsp;Baths using solutions, e.g. salts<br></span>\n",
    "<span style=\"font-family:Arial\">A61H33/06&emsp;&emsp;&emsp;&emsp;•&emsp;Artificial hot-air or cold-air baths; Steam or gas baths or douches, e.g. sauna or Finnish baths<br></span>\n",
    "<span style=\"font-family:Arial\">A61H2033/061 &emsp;&emsp;••&emsp;Artificial hot-air baths<br></span>\n",
    "<span style=\"font-family:Arial\">A61H2033/062 &emsp;&emsp;••&emsp;Artificial cold-air baths<br></span>\n",
    "<span style=\"font-family:Arial\">A61H33/063 &emsp; &emsp;&emsp;••&emsp;Heaters specifically designed therefor<br></span>\n",
    "<span style=\"font-family:Arial\">A61H33/065 &emsp; &emsp;&emsp;•••&emsp;with steam generators<br></span>\n",
    "<span style=\"font-family:Arial\">A61H33/066 &emsp; &emsp;&emsp;••&emsp;Cabins therefor<br></span>\n",
    "<span style=\"font-family:Arial\">A61H33/067 &emsp; &emsp;&emsp;•••&emsp;Installations for the inside of such cabins, e.g.\n",
    "seats<br></span>\n",
    "<span style=\"font-family:Arial\">A61H2033/068 &emsp;&emsp;••&emsp;Steam Baths<br></span>\n",
    "<span style=\"font-family:Arial\">A61H33/08&emsp;&emsp;&emsp;&emsp;••&emsp;Air douches for hygienic purposes<br></span>\n",
    "<span style=\"font-family:Arial\">A61H33/10&emsp;&emsp;&emsp;&emsp;••&emsp;Devices on tubs for steam baths<br></span>\n",
    "<span style=\"font-family:Arial\">A61H33/12&emsp;&emsp;&emsp;&emsp;••&emsp;Steam baths for the face<br></span>\n",
    "<span style=\"font-family:Arial\">A61H33/14&emsp;&emsp;&emsp;&emsp;•&emsp;Devices for gas baths with ozone, hydrogen, or the like<br></span>\n",
    "<span style=\"font-family:Arial\">A61H33/08&emsp;&emsp;&emsp;&emsp;•&emsp;Air douches for hygienic purposes<br></span>\n",
    "<span style=\"font-family:Arial\">A61H2033/141 &emsp;&emsp;••&emsp;with ionised gas, e.g. ozone<br></span>\n",
    "<span style=\"font-family:Arial\">A61H2033/143 &emsp;&emsp;••&emsp;with oxygen<br></span>\n",
    "<span style=\"font-family:Arial\">A61H2033/145 &emsp;&emsp;••&emsp;with CO2<br></span>\n",
    "<span style=\"font-family:Arial\">A61H2033/146 &emsp;&emsp;••&emsp;with nitrogen<br></span>\n",
    "<span style=\"font-family:Arial\">A61H2033/148 &emsp;&emsp;••&emsp;with hydrogen<br></span>\n",
    "<span style=\"font-family:Arial\">A61H33/60&emsp;&emsp;&emsp;&emsp;•&emsp;Components specifically designed for the therapeutic baths of groups<br></span>\n",
    "<span style=\"font-family:Arial\">A61H33/6005&emsp;&emsp;&emsp;••&emsp;Special constructive structural details of the bathtub, e.g. of the walls or supporting structure<br></span>\n",
    "<span style=\"font-family:Arial\">A61H33/601 &emsp; &emsp;&emsp;••&emsp;Inlet to the bath<br></span>\n",
    "<span style=\"font-family:Arial\">A61H33/6015&emsp;&emsp;&emsp;•••&emsp;cascade massage<br></span>\n",
    "<span style=\"font-family:Arial\">A61H33/6021&emsp;&emsp;&emsp;•••&emsp;Nozzles<br></span>\n",
    "<span style=\"font-family:Arial\">A61H33/6026&emsp;&emsp;&emsp;••••&emsp;Nozzles in the bathtub connected to an outside pump circuit without modification of the walls<br></span>\n",
    "<span style=\"font-family:Arial\">A61H33/6031&emsp;&emsp;&emsp;••••&emsp;Extendible or retractable<br></span>\n",
    "<span style=\"font-family:Arial\">A61H33/6036&emsp;&emsp;&emsp;••••&emsp;Hand-held connected to a supply hose<br></span>\n",
    "<span style=\"font-family:Arial\">A61H33/6042&emsp;&emsp;&emsp;••••&emsp;Used also as outlet<br></span>\n",
    "<span style=\"font-family:Arial\">A61H33/6047&emsp;&emsp;&emsp;••••&emsp;With incorporated pump means<br></span>\n",
    "<span style=\"font-family:Arial\">A61H33/6052&emsp;&emsp;&emsp;••••&emsp;Having flow regulating means<br></span>\n",
    "<span style=\"font-family:Arial\">A61H33/6057&emsp;&emsp;&emsp;••••&emsp;Comprising means producing pulsating or intermittent streams<br></span>\n",
    "<span style=\"font-family:Arial\">A61H33/6063&emsp;&emsp;&emsp;••••&emsp;Specifically adapted for fitting in bathtub\n",
    "walls<br></span>\n",
    "<span style=\"font-family:Arial\">A61H33/6068&emsp;&emsp;&emsp;••&emsp;Outlet from the bath<br></span>\n",
    "<span style=\"font-family:Arial\">A61H33/6073&emsp;&emsp;&emsp;•••&emsp;Intake mouths for recirculation of fluid in whirlpool baths<br></span>\n",
    "<span style=\"font-family:Arial\">A61H33/6078&emsp;&emsp;&emsp;••••&emsp;Combined with waste outlets<br></span>\n",
    "<span style=\"font-family:Arial\">A61H33/6084&emsp;&emsp;&emsp;•••&emsp;For filling to the border or edge of the bath, i.e. no border to be seen<br></span>\n",
    "<span style=\"font-family:Arial\">A61H33/6089&emsp;&emsp;&emsp;••&emsp;Specific construction features for further\n",
    "massaging means, i.e. not for the nozzles<br></span>\n",
    "<span style=\"font-family:Arial\">A61H33/6094&emsp;&emsp;&emsp;•••&emsp;Extending through the wall of the bathing device<br></span>\n",
    "\n",
    "    \n",
    "\n",
    "\n",
    "<font size=\"3\">\n",
    "\n",
    "#### Input needed: \n",
    "<I><span style=\"font-family:Arial\">This module use libraries, function and processed text data present in initial_processing module</span></I>\n",
    "\n",
    "#### Output expected: \n",
    "<I><span style=\"font-family:Arial\">This module will identify patents in A61H3300 class in test data.<br>This output is pass to the module final_file. No output is expected in this module alone.</span></I>\n",
    "\n",
    "#### Related modules: \n",
    "<I><span style=\"font-family:Arial\">This module is calling initial_processing module and is called by final_file module</span></I>\n",
    "\n",
    "#### Who and when: \n",
    "<I><span style=\"font-family:Arial\">Last Modified by : Nishant Chauhan</span><br>\n",
    "<span style=\"font-family:Arial\">Last Modified on : 24-July-2020</span><br>\n",
    "<span style=\"font-family:Arial\">Version no       : 2</span><br>\n",
    "<span style=\"font-family:Arial\">Developed by     : Nishant Chauhan </span><br></font></I>"
   ]
  },
  {
   "cell_type": "code",
   "execution_count": 644,
   "metadata": {},
   "outputs": [],
   "source": [
    "import os\n",
    "import sys\n",
    "import import_ipynb\n",
    "from Initial_processing import *"
   ]
  },
  {
   "cell_type": "code",
   "execution_count": 645,
   "metadata": {},
   "outputs": [
    {
     "data": {
      "text/plain": [
       "0    3576\n",
       "1     341\n",
       "Name: A61H3300, dtype: int64"
      ]
     },
     "execution_count": 645,
     "metadata": {},
     "output_type": "execute_result"
    }
   ],
   "source": [
    "df['A61H3300'] = df['CPC'].str.contains('A61H33/|A61H0033|A61H 33/').astype('int')\n",
    "df['A61H3300'].value_counts()"
   ]
  },
  {
   "cell_type": "markdown",
   "metadata": {},
   "source": [
    "## Model training and prediction"
   ]
  },
  {
   "cell_type": "code",
   "execution_count": 646,
   "metadata": {},
   "outputs": [],
   "source": [
    "y_train = df['A61H3300']\n",
    "\n",
    "model_title , score_title = train_model(X_title_dtm, y_train)\n",
    "\n",
    "y_pred_class_title = model_title.predict(X_title_test_dtm)"
   ]
  },
  {
   "cell_type": "code",
   "execution_count": 647,
   "metadata": {},
   "outputs": [],
   "source": [
    "model_abstract , score_abstract = train_model(X_abstract_dtm, y_train)\n",
    "\n",
    "y_pred_class_abstract = model_abstract.predict(X_abstract_test_dtm)"
   ]
  },
  {
   "cell_type": "code",
   "execution_count": 648,
   "metadata": {},
   "outputs": [
    {
     "name": "stdout",
     "output_type": "stream",
     "text": [
      "Training data accuracy score :  0.9681761855566672\n"
     ]
    }
   ],
   "source": [
    "model_tab , score_tab = train_model(X_tab_dtm, y_train)\n",
    "\n",
    "y_pred_class_tab = model_tab.predict(X_tab_test_dtm)\n",
    "\n",
    "print(\"Training data accuracy score : \" ,((score_abstract.mean() + score_title.mean() + score_tab.mean())/3))"
   ]
  },
  {
   "cell_type": "code",
   "execution_count": 649,
   "metadata": {},
   "outputs": [],
   "source": [
    "df_first = pd.DataFrame(df_test[['number','title','abstract']])"
   ]
  },
  {
   "cell_type": "code",
   "execution_count": 650,
   "metadata": {},
   "outputs": [],
   "source": [
    "df_first['all_text'] = X_all\n",
    "df_first['title_prediction'] = y_pred_class_title\n",
    "df_first['abstract_prediction'] = y_pred_class_abstract"
   ]
  },
  {
   "cell_type": "markdown",
   "metadata": {},
   "source": [
    "## Predicting using words"
   ]
  },
  {
   "cell_type": "code",
   "execution_count": 651,
   "metadata": {},
   "outputs": [],
   "source": [
    "# AND Operator keywords\n",
    "\n",
    "A61H3300 = ['sauna', 'hot air bath', 'cold air bath', 'finnish bath', \n",
    "            'artificial climate room']"
   ]
  },
  {
   "cell_type": "code",
   "execution_count": 652,
   "metadata": {},
   "outputs": [],
   "source": [
    "# NEAR operator keywords (List1 NEAR5 List2)\n",
    "\n",
    "A61H3300_list1 = ['therap', 'steam', 'massag', 'mist', 'mud', 'wax', 'paraffin', 'gas', 'ozone', 'salt', 'tub']\n",
    "A61H3300_list2 = ['bath', 'sauna']\n",
    "\n",
    "A61H3300_list3 = ['shower']\n",
    "A61H3300_list4 = ['spray', 'nozzle']"
   ]
  },
  {
   "cell_type": "code",
   "execution_count": 653,
   "metadata": {},
   "outputs": [],
   "source": [
    "#SSTO command e.g. search \"eye massage device\" as single word\n",
    "\n",
    "A61H3300_word = ['wash tub', 'bath tub', 'shower spray', 'shower nozzle', 'air douche', 'halotherapy',\n",
    "                 'hydro massage', 'spa sauna','spa cabin']"
   ]
  },
  {
   "cell_type": "code",
   "execution_count": 654,
   "metadata": {},
   "outputs": [],
   "source": [
    "new_col = []\n",
    "for i in range(len(df_first['all_text'])):\n",
    "    check_word = (near_operator(df_first['all_text'][i],A61H3300_list1,A61H3300_list2, near=5) or\n",
    "                  near_operator(df_first['all_text'][i],A61H3300_list3,A61H3300_list4, near=5) or\n",
    "                 and_operator(df_first['all_text'][i],A61H3300) or\n",
    "                 ssto(df_first['all_text'][i], A61H3300_word)) \n",
    "    new_col.append(check_word)\n",
    "    \n",
    "df_first['word_predict'] = new_col"
   ]
  },
  {
   "cell_type": "code",
   "execution_count": 655,
   "metadata": {},
   "outputs": [],
   "source": [
    "df_first['A61H3300'] = df_first['word_predict'] + df_first['title_prediction'] + df_first['abstract_prediction']\n",
    "\n",
    "for row in range(len(df_first['A61H3300'])):\n",
    "    if df_first.loc[row, 'A61H3300'] > 0:\n",
    "        df_first.loc[row, 'A61H3300'] = 1\n",
    "    else:\n",
    "        df_first.loc[row, 'A61H3300'] = 0"
   ]
  },
  {
   "cell_type": "code",
   "execution_count": 656,
   "metadata": {},
   "outputs": [],
   "source": [
    "df_second = df_first.drop(['title_prediction','abstract_prediction', 'word_predict'],axis=1)"
   ]
  },
  {
   "cell_type": "markdown",
   "metadata": {},
   "source": [
    "## Sub-classification of A61H33/00 (this section need improvement)"
   ]
  },
  {
   "cell_type": "markdown",
   "metadata": {},
   "source": [
    "### A61H2033/0004  • Bathing devices specially adapted for treating burned patients"
   ]
  },
  {
   "cell_type": "code",
   "execution_count": 657,
   "metadata": {},
   "outputs": [],
   "source": [
    "# AND Operator keywords\n",
    "A61H20330004 = ['treat burn patient']\n",
    "\n",
    "# NEAR operator keywords (List1 NEAR5 List2)\n",
    "A61H20330004_list1 = ['burn']\n",
    "A61H20330004_list2 = ['patient']\n",
    "\n",
    "#SSTO command e.g. search \"eye massage device\" as single word\n",
    "A61H20330004_word = []"
   ]
  },
  {
   "cell_type": "code",
   "execution_count": 658,
   "metadata": {},
   "outputs": [],
   "source": [
    "new_col_20330004 = []\n",
    "for i in range(len(df_second['all_text'])):\n",
    "    if df_second['A61H3300'][i] == 1:\n",
    "        check_word_20330004 = int((near_operator(df_second['all_text'][i],A61H20330004_list1,A61H20330004_list2, near=5) or \n",
    "                           and_operator(df_second['all_text'][i],A61H20330004) or\n",
    "                           ssto(df_second['all_text'][i], A61H20330004_word)))\n",
    "    else:\n",
    "        check_word_20330004 = 0\n",
    "    \n",
    "    new_col_20330004.append(check_word_20330004)\n",
    "    \n",
    "df_second['A61H20330004'] = new_col_20330004"
   ]
  },
  {
   "cell_type": "markdown",
   "metadata": {},
   "source": [
    "### A61H2033/0008  • Arrangement for cleaning the installation before or after use"
   ]
  },
  {
   "cell_type": "code",
   "execution_count": 659,
   "metadata": {},
   "outputs": [],
   "source": [
    "# AND Operator keywords\n",
    "A61H20330008 = []\n",
    "\n",
    "# NEAR operator keywords (List1 NEAR5 List2)\n",
    "A61H20330008_list1 = ['clean', 'wash']\n",
    "A61H20330008_list2 = ['installation']\n",
    "\n",
    "#SSTO command e.g. search \"eye massage device\" as single word\n",
    "A61H20330008_word = []"
   ]
  },
  {
   "cell_type": "code",
   "execution_count": 660,
   "metadata": {},
   "outputs": [],
   "source": [
    "new_col_20330008 = []\n",
    "for i in range(len(df_second['all_text'])):\n",
    "    if df_second['A61H3300'][i] == 1:\n",
    "        check_word_20330008 = int((near_operator(df_second['all_text'][i],A61H20330008_list1,A61H20330008_list2, near=5) or \n",
    "                           and_operator(df_second['all_text'][i],A61H20330008) or\n",
    "                           ssto(df_second['all_text'][i], A61H20330008_word)))\n",
    "    else:\n",
    "        check_word_20330008 = 0\n",
    "    \n",
    "    new_col_20330008.append(check_word_20330008)\n",
    "    \n",
    "df_second['A61H20330008'] = new_col_20330008"
   ]
  },
  {
   "cell_type": "markdown",
   "metadata": {},
   "source": [
    "### A61H2033/0012  •• By rinsing"
   ]
  },
  {
   "cell_type": "code",
   "execution_count": 661,
   "metadata": {},
   "outputs": [],
   "source": [
    "# AND Operator keywords\n",
    "A61H20330012 = []\n",
    "\n",
    "# NEAR operator keywords (List1 NEAR5 List2)\n",
    "A61H20330012_list1 = ['clean', 'wash']\n",
    "A61H20330012_list2 = ['rinsing','rinse']\n",
    "\n",
    "#SSTO command e.g. search \"eye massage device\" as single word\n",
    "A61H20330012_word = []"
   ]
  },
  {
   "cell_type": "code",
   "execution_count": 662,
   "metadata": {},
   "outputs": [],
   "source": [
    "new_col_20330012 = []\n",
    "for i in range(len(df_second['all_text'])):\n",
    "    if df_second['A61H20330008'][i] == 1:\n",
    "        check_word_20330012 = int((near_operator(df_second['all_text'][i],A61H20330012_list1,A61H20330012_list2, near=5) or \n",
    "                           and_operator(df_second['all_text'][i],A61H20330012) or\n",
    "                           ssto(df_second['all_text'][i], A61H20330012_word)))\n",
    "    else:\n",
    "        check_word_20330012 = 0\n",
    "    \n",
    "    new_col_20330012.append(check_word_20330012)\n",
    "    \n",
    "df_second['A61H20330012'] = new_col_20330012"
   ]
  },
  {
   "cell_type": "markdown",
   "metadata": {},
   "source": [
    "### A61H2033/0016  •• using cleansing products"
   ]
  },
  {
   "cell_type": "code",
   "execution_count": 663,
   "metadata": {},
   "outputs": [],
   "source": [
    "# AND Operator keywords\n",
    "A61H20330016 = []\n",
    "\n",
    "# NEAR operator keywords (List1 NEAR5 List2)\n",
    "A61H20330016_list1 = ['cleansing']\n",
    "A61H20330016_list2 = ['product']\n",
    "\n",
    "#SSTO command e.g. search \"eye massage device\" as single word\n",
    "A61H20330016_word = []"
   ]
  },
  {
   "cell_type": "code",
   "execution_count": 664,
   "metadata": {},
   "outputs": [],
   "source": [
    "new_col_20330016 = []\n",
    "for i in range(len(df_second['all_text'])):\n",
    "    if df_second['A61H20330008'][i] == 1:\n",
    "        check_word_20330016 = int((near_operator(df_second['all_text'][i],A61H20330016_list1,A61H20330016_list2, near=5) or \n",
    "                           and_operator(df_second['all_text'][i],A61H20330016) or\n",
    "                           ssto(df_second['all_text'][i], A61H20330016_word)))\n",
    "    else:\n",
    "        check_word_20330016 = 0\n",
    "    \n",
    "    new_col_20330016.append(check_word_20330016)\n",
    "    \n",
    "df_second['A61H20330016'] = new_col_20330016"
   ]
  },
  {
   "cell_type": "markdown",
   "metadata": {},
   "source": [
    "### A61H2033/002    •• by blowing air through the installation after the bath has been emptied"
   ]
  },
  {
   "cell_type": "code",
   "execution_count": 665,
   "metadata": {},
   "outputs": [],
   "source": [
    "# AND Operator keywords\n",
    "A61H2033002 = ['clean', 'rins']\n",
    "\n",
    "# NEAR operator keywords (List1 NEAR5 List2)\n",
    "A61H2033002_list1 = ['blow']\n",
    "A61H2033002_list2 = ['air', 'gas']\n",
    "\n",
    "#SSTO command e.g. search \"eye massage device\" as single word\n",
    "A61H2033002_word = []"
   ]
  },
  {
   "cell_type": "code",
   "execution_count": 666,
   "metadata": {},
   "outputs": [],
   "source": [
    "new_col_2033002 = []\n",
    "for i in range(len(df_second['all_text'])):\n",
    "    if df_second['A61H20330008'][i] == 1:\n",
    "        check_word_2033002 = int(((near_operator(df_second['all_text'][i],A61H2033002_list1,A61H2033002_list2, near=5) and \n",
    "                           and_operator(df_second['all_text'][i],A61H2033002)) or\n",
    "                           ssto(df_second['all_text'][i], A61H2033002_word)))\n",
    "    else:\n",
    "        check_word_2033002 = 0\n",
    "    \n",
    "    new_col_2033002.append(check_word_2033002)\n",
    "    \n",
    "df_second['A61H2033002'] = new_col_2033002"
   ]
  },
  {
   "cell_type": "markdown",
   "metadata": {},
   "source": [
    "### A61H2033/0025  •• by connecting the air lines with the drain"
   ]
  },
  {
   "cell_type": "code",
   "execution_count": 667,
   "metadata": {},
   "outputs": [],
   "source": [
    "# AND Operator keywords\n",
    "A61H20330025 = ['connect air line drain']\n",
    "\n",
    "# NEAR operator keywords (List1 NEAR5 List2)\n",
    "A61H20330025_list1 = []\n",
    "A61H20330025_list2 = []\n",
    "\n",
    "#SSTO command e.g. search \"eye massage device\" as single word\n",
    "A61H20330025_word = []"
   ]
  },
  {
   "cell_type": "code",
   "execution_count": 668,
   "metadata": {},
   "outputs": [],
   "source": [
    "new_col_20330025 = []\n",
    "for i in range(len(df_second['all_text'])):\n",
    "    if df_second['A61H20330008'][i] == 1:\n",
    "        check_word_20330025 = int((near_operator(df_second['all_text'][i],A61H20330025_list1,A61H20330025_list2, near=5) or \n",
    "                           and_operator(df_second['all_text'][i],A61H20330025) or\n",
    "                           ssto(df_second['all_text'][i], A61H20330025_word)))\n",
    "    else:\n",
    "        check_word_20330025 = 0\n",
    "    \n",
    "    new_col_20330025.append(check_word_20330025)\n",
    "    \n",
    "df_second['A61H20330025'] = new_col_20330025"
   ]
  },
  {
   "cell_type": "markdown",
   "metadata": {},
   "source": [
    "### A61H2033/0029  •• with ultrasonics"
   ]
  },
  {
   "cell_type": "code",
   "execution_count": 669,
   "metadata": {},
   "outputs": [],
   "source": [
    "# AND Operator keywords\n",
    "A61H20330029 = []\n",
    "\n",
    "# NEAR operator keywords (List1 NEAR5 List2)\n",
    "A61H20330029_list1 = ['clean', 'rins']\n",
    "A61H20330029_list2 = ['ultrasonic', 'ultra sonic']\n",
    "\n",
    "#SSTO command e.g. search \"eye massage device\" as single word\n",
    "A61H20330029_word = []"
   ]
  },
  {
   "cell_type": "code",
   "execution_count": 670,
   "metadata": {},
   "outputs": [],
   "source": [
    "new_col_20330029 = []\n",
    "for i in range(len(df_second['all_text'])):\n",
    "    if df_second['A61H20330008'][i] == 1:\n",
    "        check_word_20330029 = int((near_operator(df_second['all_text'][i],A61H20330029_list1,A61H20330029_list2, near=5) or \n",
    "                           and_operator(df_second['all_text'][i],A61H20330029) or\n",
    "                           ssto(df_second['all_text'][i], A61H20330029_word)))\n",
    "    else:\n",
    "        check_word_20330029 = 0\n",
    "    \n",
    "    new_col_20330029.append(check_word_20330029)\n",
    "    \n",
    "df_second['A61H20330029'] = new_col_20330029"
   ]
  },
  {
   "cell_type": "markdown",
   "metadata": {},
   "source": [
    "### A61H2033/0033  •• by draining-off pumps, nozzles, waterlines by gravity"
   ]
  },
  {
   "cell_type": "code",
   "execution_count": 671,
   "metadata": {},
   "outputs": [],
   "source": [
    "# AND Operator keywords\n",
    "A61H20330033 = ['gravity', 'gravitational']\n",
    "\n",
    "# NEAR operator keywords (List1 NEAR5 List2)\n",
    "A61H20330033_list1 = ['drain']\n",
    "A61H20330033_list2 = ['pump', 'nozzle', 'waterline', 'water line', 'pipe']\n",
    "\n",
    "#SSTO command e.g. search \"eye massage device\" as single word\n",
    "A61H20330033_word = []"
   ]
  },
  {
   "cell_type": "code",
   "execution_count": 672,
   "metadata": {},
   "outputs": [],
   "source": [
    "new_col_20330033 = []\n",
    "for i in range(len(df_second['all_text'])):\n",
    "    if df_second['A61H20330008'][i] == 1:\n",
    "        check_word_2033003 = int(((near_operator(df_second['all_text'][i],A61H20330033_list1,A61H20330033_list2, near=5) and \n",
    "                           and_operator(df_second['all_text'][i],A61H20330033)) or\n",
    "                           ssto(df_second['all_text'][i], A61H20330033_word)))\n",
    "    else:\n",
    "        check_word_20330033 = 0\n",
    "    \n",
    "    new_col_20330033.append(check_word_20330033)\n",
    "    \n",
    "df_second['A61H20330033'] = new_col_20330033"
   ]
  },
  {
   "cell_type": "markdown",
   "metadata": {},
   "source": [
    "### A61H2033/0037  • Arrangement for cleaning the fluid during use"
   ]
  },
  {
   "cell_type": "code",
   "execution_count": 673,
   "metadata": {},
   "outputs": [],
   "source": [
    "# AND Operator keywords\n",
    "A61H20330037 = ['bath', 'clean fluid during use']\n",
    "\n",
    "# NEAR operator keywords (List1 NEAR5 List2)\n",
    "A61H20330037_list1 = ['clean']\n",
    "A61H20330037_list2 = ['fluid']\n",
    "\n",
    "#SSTO command e.g. search \"eye massage device\" as single word\n",
    "A61H20330037_word = []"
   ]
  },
  {
   "cell_type": "code",
   "execution_count": 674,
   "metadata": {},
   "outputs": [],
   "source": [
    "new_col_20330037 = []\n",
    "for i in range(len(df_second['all_text'])):\n",
    "    if df_second['A61H3300'][i] == 1:\n",
    "        check_word_20330037 = int(((near_operator(df_second['all_text'][i],A61H20330037_list1,A61H20330037_list2, near=5) and \n",
    "                           and_operator(df_second['all_text'][i],A61H20330037)) or\n",
    "                           ssto(df_second['all_text'][i], A61H20330037_word)))\n",
    "    else:\n",
    "        check_word_20330037 = 0\n",
    "    \n",
    "    new_col_20330037.append(check_word_20330037)\n",
    "    \n",
    "df_second['A61H20330037'] = new_col_20330037"
   ]
  },
  {
   "cell_type": "markdown",
   "metadata": {},
   "source": [
    "### A61H2033/0041  • Cleaning and recovery of the fluid without mixing the cleaned and uncleaned fluid, e.g. using a recovery tank"
   ]
  },
  {
   "cell_type": "code",
   "execution_count": 675,
   "metadata": {},
   "outputs": [],
   "source": [
    "# AND Operator keywords\n",
    "A61H20330041 = ['fluid recovery tank']\n",
    "\n",
    "# NEAR operator keywords (List1 NEAR5 List2)\n",
    "A61H20330041_list1 = ['recovery']\n",
    "A61H20330041_list2 = ['tank']\n",
    "\n",
    "#SSTO command e.g. search \"eye massage device\" as single word\n",
    "A61H20330041_word = []"
   ]
  },
  {
   "cell_type": "code",
   "execution_count": 676,
   "metadata": {},
   "outputs": [],
   "source": [
    "new_col_20330041 = []\n",
    "for i in range(len(df_second['all_text'])):\n",
    "    if df_second['A61H3300'][i] == 1:\n",
    "        check_word_20330041 = int((near_operator(df_second['all_text'][i],A61H20330041_list1,A61H20330041_list2, near=5) or \n",
    "                           and_operator(df_second['all_text'][i],A61H20330041) or\n",
    "                           ssto(df_second['all_text'][i], A61H20330041_word)))\n",
    "    else:\n",
    "        check_word_20330041 = 0\n",
    "    \n",
    "    new_col_20330041.append(check_word_20330041)\n",
    "    \n",
    "df_second['A61H20330041'] = new_col_20330041"
   ]
  },
  {
   "cell_type": "markdown",
   "metadata": {},
   "source": [
    "### A61H2033/0045  • with heat-recovery of waste fluid"
   ]
  },
  {
   "cell_type": "code",
   "execution_count": 677,
   "metadata": {},
   "outputs": [],
   "source": [
    "# AND Operator keywords\n",
    "A61H20330045 = ['fluid recovery tank']\n",
    "\n",
    "# NEAR operator keywords (List1 NEAR5 List2)\n",
    "A61H20330045_list1 = ['recovery']\n",
    "A61H20330045_list2 = ['tank']\n",
    "\n",
    "#SSTO command e.g. search \"eye massage device\" as single word\n",
    "A61H20330045_word = []"
   ]
  },
  {
   "cell_type": "code",
   "execution_count": 678,
   "metadata": {},
   "outputs": [],
   "source": [
    "new_col_20330045 = []\n",
    "for i in range(len(df_second['all_text'])):\n",
    "    if df_second['A61H3300'][i] == 1:\n",
    "        check_word_20330045 = int((near_operator(df_second['all_text'][i],A61H20330045_list1,A61H20330045_list2, near=5) or \n",
    "                           and_operator(df_second['all_text'][i],A61H20330045) or\n",
    "                           ssto(df_second['all_text'][i], A61H20330045_word)))\n",
    "    else:\n",
    "        check_word_20330045 = 0\n",
    "    \n",
    "    new_col_20330045.append(check_word_20330045)\n",
    "    \n",
    "df_second['A61H20330045'] = new_col_20330045"
   ]
  },
  {
   "cell_type": "markdown",
   "metadata": {},
   "source": [
    "### A61H33/005     •• Electrical circuits therefor"
   ]
  },
  {
   "cell_type": "code",
   "execution_count": 679,
   "metadata": {},
   "outputs": [],
   "source": [
    "# AND Operator keywords\n",
    "A61H33005 = []\n",
    "\n",
    "# NEAR operator keywords (List1 NEAR5 List2)\n",
    "A61H33005_list1 = ['electric']\n",
    "A61H33005_list2 = ['circuit']\n",
    "\n",
    "#SSTO command e.g. search \"eye massage device\" as single word\n",
    "A61H33005_word = []"
   ]
  },
  {
   "cell_type": "code",
   "execution_count": 680,
   "metadata": {},
   "outputs": [],
   "source": [
    "new_col_33005 = []\n",
    "for i in range(len(df_second['all_text'])):\n",
    "    if df_second['A61H3300'][i] == 1:\n",
    "        check_word_33005 = int((near_operator(df_second['all_text'][i],A61H33005_list1,A61H33005_list2, near=5) or \n",
    "                           and_operator(df_second['all_text'][i],A61H33005) or\n",
    "                           ssto(df_second['all_text'][i], A61H33005_word)))\n",
    "    else:\n",
    "        check_word_33005 = 0\n",
    "    \n",
    "    new_col_33005.append(check_word_33005)\n",
    "    \n",
    "df_second['A61H33005'] = new_col_33005"
   ]
  },
  {
   "cell_type": "markdown",
   "metadata": {},
   "source": [
    "### A61H2033/0054  •• with liquid level detectors"
   ]
  },
  {
   "cell_type": "code",
   "execution_count": 681,
   "metadata": {},
   "outputs": [],
   "source": [
    "# AND Operator keywords\n",
    "A61H20330054 = ['liquid level detect', 'fluid level detect']\n",
    "\n",
    "# NEAR operator keywords (List1 NEAR5 List2)\n",
    "A61H20330054_list1 = ['level']\n",
    "A61H20330054_list2 = ['detect']\n",
    "\n",
    "#SSTO command e.g. search \"eye massage device\" as single word\n",
    "A61H20330054_word = []"
   ]
  },
  {
   "cell_type": "code",
   "execution_count": 682,
   "metadata": {},
   "outputs": [],
   "source": [
    "new_col_20330054 = []\n",
    "for i in range(len(df_second['all_text'])):\n",
    "    if df_second['A61H33005'][i] == 1:\n",
    "        check_word_20330054 = int((near_operator(df_second['all_text'][i],A61H20330054_list1,A61H20330054_list2, near=5) or \n",
    "                           and_operator(df_second['all_text'][i],A61H20330054) or\n",
    "                           ssto(df_second['all_text'][i], A61H20330054_word)))\n",
    "    else:\n",
    "        check_word_20330054 = 0\n",
    "    \n",
    "    new_col_20330054.append(check_word_20330054)\n",
    "    \n",
    "df_second['A61H20330054'] = new_col_20330054"
   ]
  },
  {
   "cell_type": "markdown",
   "metadata": {},
   "source": [
    "### A61H2033/0058  •• controlled by the user"
   ]
  },
  {
   "cell_type": "code",
   "execution_count": 683,
   "metadata": {},
   "outputs": [],
   "source": [
    "# AND Operator keywords\n",
    "A61H20330058 = []\n",
    "\n",
    "# NEAR operator keywords (List1 NEAR5 List2)\n",
    "A61H20330058_list1 = ['control', 'operat', 'manag']\n",
    "A61H20330058_list2 = ['user', 'person', 'operator', 'patient']\n",
    "\n",
    "#SSTO command e.g. search \"eye massage device\" as single word\n",
    "A61H20330058_word = []"
   ]
  },
  {
   "cell_type": "code",
   "execution_count": 684,
   "metadata": {},
   "outputs": [],
   "source": [
    "new_col_20330058 = []\n",
    "for i in range(len(df_second['all_text'])):\n",
    "    if df_second['A61H33005'][i] == 1:\n",
    "        check_word_20330058 = int((near_operator(df_second['all_text'][i],A61H20330058_list1,A61H20330058_list2, near=5) or \n",
    "                           and_operator(df_second['all_text'][i],A61H20330058) or\n",
    "                           ssto(df_second['all_text'][i], A61H20330058_word)))\n",
    "    else:\n",
    "        check_word_20330058 = 0\n",
    "    \n",
    "    new_col_20330058.append(check_word_20330058)\n",
    "    \n",
    "df_second['A61H20330058'] = new_col_20330058"
   ]
  },
  {
   "cell_type": "markdown",
   "metadata": {},
   "source": [
    "### A61H2033/0062  ••• with electro-pneumatic or -hydraulic switches"
   ]
  },
  {
   "cell_type": "code",
   "execution_count": 685,
   "metadata": {},
   "outputs": [],
   "source": [
    "# AND Operator keywords\n",
    "A61H20330062 = []\n",
    "\n",
    "# NEAR operator keywords (List1 NEAR5 List2)\n",
    "A61H20330062_list1 = ['electro', 'hydraulic', 'pneumatic']\n",
    "A61H20330062_list2 = ['switch', 'control', 'operate']\n",
    "\n",
    "#SSTO command e.g. search \"eye massage device\" as single word\n",
    "A61H20330062_word = []"
   ]
  },
  {
   "cell_type": "code",
   "execution_count": 686,
   "metadata": {},
   "outputs": [],
   "source": [
    "new_col_20330062 = []\n",
    "for i in range(len(df_second['all_text'])):\n",
    "    if df_second['A61H20330058'][i] == 1:\n",
    "        check_word_20330062 = int((near_operator(df_second['all_text'][i],A61H20330062_list1,A61H20330062_list2, near=5) or \n",
    "                           and_operator(df_second['all_text'][i],A61H20330062) or\n",
    "                           ssto(df_second['all_text'][i], A61H20330062_word)))\n",
    "    else:\n",
    "        check_word_20330062 = 0\n",
    "    \n",
    "    new_col_20330062.append(check_word_20330062)\n",
    "    \n",
    "df_second['A61H20330062'] = new_col_20330062"
   ]
  },
  {
   "cell_type": "markdown",
   "metadata": {},
   "source": [
    "### A61H2033/0066  ••• with low-voltage switching, e.g. using optical isolators, isolated transformers"
   ]
  },
  {
   "cell_type": "code",
   "execution_count": 687,
   "metadata": {},
   "outputs": [],
   "source": [
    "# AND Operator keywords\n",
    "A61H20330066 = ['low voltage switch']\n",
    "\n",
    "# NEAR operator keywords (List1 NEAR5 List2)\n",
    "A61H20330066_list1 = ['optic', 'transformer', 'switch']\n",
    "A61H20330066_list2 = ['isolat', 'low voltage']\n",
    "\n",
    "#SSTO command e.g. search \"eye massage device\" as single word\n",
    "A61H20330066_word = []"
   ]
  },
  {
   "cell_type": "code",
   "execution_count": 688,
   "metadata": {},
   "outputs": [],
   "source": [
    "new_col_20330066 = []\n",
    "for i in range(len(df_second['all_text'])):\n",
    "    if df_second['A61H20330058'][i] == 1:\n",
    "        check_word_20330066 = int((near_operator(df_second['all_text'][i],A61H20330066_list1,A61H20330066_list2, near=5) or \n",
    "                           and_operator(df_second['all_text'][i],A61H20330066) or\n",
    "                           ssto(df_second['all_text'][i], A61H20330066_word)))\n",
    "    else:\n",
    "        check_word_20330066 = 0\n",
    "    \n",
    "    new_col_20330066.append(check_word_20330066)\n",
    "    \n",
    "df_second['A61H20330066'] = new_col_20330066"
   ]
  },
  {
   "cell_type": "markdown",
   "metadata": {},
   "source": [
    "### A61H2033/007   ••• with capacitors, e.g. proximity switches"
   ]
  },
  {
   "cell_type": "code",
   "execution_count": 689,
   "metadata": {},
   "outputs": [],
   "source": [
    "# AND Operator keywords\n",
    "A61H2033007 = ['capacitor']\n",
    "\n",
    "# NEAR operator keywords (List1 NEAR5 List2)\n",
    "A61H2033007_list1 = ['proximity']\n",
    "A61H2033007_list2 = ['switch']\n",
    "\n",
    "#SSTO command e.g. search \"eye massage device\" as single word\n",
    "A61H2033007_word = []"
   ]
  },
  {
   "cell_type": "code",
   "execution_count": 690,
   "metadata": {},
   "outputs": [],
   "source": [
    "new_col_2033007 = []\n",
    "for i in range(len(df_second['all_text'])):\n",
    "    if df_second['A61H20330058'][i] == 1:\n",
    "        check_word_2033007 = int((near_operator(df_second['all_text'][i],A61H2033007_list1,A61H2033007_list2, near=5) or \n",
    "                           and_operator(df_second['all_text'][i],A61H2033007) or\n",
    "                           ssto(df_second['all_text'][i], A61H2033007_word)))\n",
    "    else:\n",
    "        check_word_2033007 = 0\n",
    "    \n",
    "    new_col_2033007.append(check_word_2033007)\n",
    "    \n",
    "df_second['A61H2033007'] = new_col_2033007"
   ]
  },
  {
   "cell_type": "markdown",
   "metadata": {},
   "source": [
    "### A61H2033/0075  ••• with opto-electric switches"
   ]
  },
  {
   "cell_type": "code",
   "execution_count": 691,
   "metadata": {},
   "outputs": [],
   "source": [
    "# AND Operator keywords\n",
    "A61H20330075 = ['opto electric switch']\n",
    "\n",
    "# NEAR operator keywords (List1 NEAR5 List2)\n",
    "A61H20330075_list1 = ['opto', 'optical']\n",
    "A61H20330075_list2 = ['switch']\n",
    "\n",
    "#SSTO command e.g. search \"eye massage device\" as single word\n",
    "A61H20330075_word = []"
   ]
  },
  {
   "cell_type": "code",
   "execution_count": 692,
   "metadata": {},
   "outputs": [],
   "source": [
    "new_col_20330075 = []\n",
    "for i in range(len(df_second['all_text'])):\n",
    "    if df_second['A61H20330058'][i] == 1:\n",
    "        check_word_20330075 = int((near_operator(df_second['all_text'][i],A61H20330075_list1,A61H20330075_list2, near=5) or \n",
    "                           and_operator(df_second['all_text'][i],A61H20330075) or\n",
    "                           ssto(df_second['all_text'][i], A61H20330075_word)))\n",
    "    else:\n",
    "        check_word_20330075 = 0\n",
    "    \n",
    "    new_col_20330075.append(check_word_20330075)\n",
    "    \n",
    "df_second['A61H20330075'] = new_col_20330075"
   ]
  },
  {
   "cell_type": "markdown",
   "metadata": {},
   "source": [
    "### A61H2033/0079  ••• using remote control signal transmission devices, e.g. ultrasonic, infra-red"
   ]
  },
  {
   "cell_type": "code",
   "execution_count": 693,
   "metadata": {},
   "outputs": [],
   "source": [
    "# AND Operator keywords\n",
    "A61H20330079 = ['remote control signal transmission', 'ultrasonic', 'infrared']\n",
    "\n",
    "# NEAR operator keywords (List1 NEAR5 List2)\n",
    "A61H20330079_list1 = ['remote', 'ultrasonic', 'infrared']\n",
    "A61H20330079_list2 = ['control']\n",
    "\n",
    "#SSTO command e.g. search \"eye massage device\" as single word\n",
    "A61H20330079_word = []"
   ]
  },
  {
   "cell_type": "code",
   "execution_count": 694,
   "metadata": {},
   "outputs": [],
   "source": [
    "new_col_20330079 = []\n",
    "for i in range(len(df_second['all_text'])):\n",
    "    if df_second['A61H20330058'][i] == 1:\n",
    "        check_word_20330079 = int((near_operator(df_second['all_text'][i],A61H20330079_list1,A61H20330079_list2, near=5) or \n",
    "                           and_operator(df_second['all_text'][i],A61H20330079) or\n",
    "                           ssto(df_second['all_text'][i], A61H20330079_word)))\n",
    "    else:\n",
    "        check_word_20330079 = 0\n",
    "    \n",
    "    new_col_20330079.append(check_word_20330079)\n",
    "    \n",
    "df_second['A61H20330079'] = new_col_20330079"
   ]
  },
  {
   "cell_type": "markdown",
   "metadata": {},
   "source": [
    "### A61H2033/0083  •• Illumination"
   ]
  },
  {
   "cell_type": "code",
   "execution_count": 695,
   "metadata": {},
   "outputs": [],
   "source": [
    "# AND Operator keywords\n",
    "A61H20330083 = ['illuminat']\n",
    "\n",
    "# NEAR operator keywords (List1 NEAR5 List2)\n",
    "A61H20330083_list1 = ['lighting']\n",
    "A61H20330083_list2 = ['feature']\n",
    "\n",
    "#SSTO command e.g. search \"eye massage device\" as single word\n",
    "A61H20330083_word = []"
   ]
  },
  {
   "cell_type": "code",
   "execution_count": 696,
   "metadata": {},
   "outputs": [],
   "source": [
    "new_col_20330083 = []\n",
    "for i in range(len(df_second['all_text'])):\n",
    "    if df_second['A61H20330058'][i] == 1:\n",
    "        check_word_20330083 = int((near_operator(df_second['all_text'][i],A61H20330083_list1,A61H20330083_list2, near=5) or \n",
    "                           and_operator(df_second['all_text'][i],A61H20330083) or\n",
    "                           ssto(df_second['all_text'][i], A61H20330083_word)))\n",
    "    else:\n",
    "        check_word_20330083 = 0\n",
    "    \n",
    "    new_col_20330083.append(check_word_20330083)\n",
    "    \n",
    "df_second['A61H20330083'] = new_col_20330083"
   ]
  },
  {
   "cell_type": "markdown",
   "metadata": {},
   "source": [
    "### A61H33/0087   • Therapeutic baths with agitated or circulated water"
   ]
  },
  {
   "cell_type": "code",
   "execution_count": 697,
   "metadata": {},
   "outputs": [],
   "source": [
    "# AND Operator keywords\n",
    "A61H330087 = ['bath']\n",
    "\n",
    "# NEAR operator keywords (List1 NEAR5 List2)\n",
    "A61H330087_list1 = ['agitat', 'circulat']\n",
    "A61H330087_list2 = ['water']\n",
    "\n",
    "#SSTO command e.g. search \"eye massage device\" as single word\n",
    "A61H330087_word = []"
   ]
  },
  {
   "cell_type": "code",
   "execution_count": 698,
   "metadata": {},
   "outputs": [],
   "source": [
    "new_col_330087 = []\n",
    "for i in range(len(df_second['all_text'])):\n",
    "    if df_second['A61H3300'][i] == 1:\n",
    "        check_word_330087 = int(((near_operator(df_second['all_text'][i],A61H330087_list1,A61H330087_list2, near=5) and \n",
    "                           and_operator(df_second['all_text'][i],A61H330087)) or\n",
    "                           ssto(df_second['all_text'][i], A61H330087_word)))\n",
    "    else:\n",
    "        check_word_330087 = 0\n",
    "    \n",
    "    new_col_330087.append(check_word_330087)\n",
    "    \n",
    "df_second['A61H330087'] = new_col_330087"
   ]
  },
  {
   "cell_type": "markdown",
   "metadata": {},
   "source": [
    "### A61H33/0091   •• Water agitated by means moving in the bath, i.e. without water connections to an outside pump circuit"
   ]
  },
  {
   "cell_type": "code",
   "execution_count": 699,
   "metadata": {},
   "outputs": [],
   "source": [
    "# AND Operator keywords\n",
    "A61H330091 = ['pump']\n",
    "\n",
    "# NEAR operator keywords (List1 NEAR5 List2)\n",
    "A61H330091_list1 = ['agitat', 'circulat']\n",
    "A61H330091_list2 = ['water']\n",
    "\n",
    "#SSTO command e.g. search \"eye massage device\" as single word\n",
    "A61H330091_word = []"
   ]
  },
  {
   "cell_type": "code",
   "execution_count": 700,
   "metadata": {},
   "outputs": [],
   "source": [
    "new_col_330091 = []\n",
    "for i in range(len(df_second['all_text'])):\n",
    "    if df_second['A61H330087'][i] == 1:\n",
    "        check_word_330091 = int(((near_operator(df_second['all_text'][i],A61H330091_list1,A61H330091_list2, near=5) or (not \n",
    "                           and_operator(df_second['all_text'][i],A61H330091))) or\n",
    "                           ssto(df_second['all_text'][i], A61H330091_word)))\n",
    "    else:\n",
    "        check_word_330091 = 0\n",
    "    \n",
    "    new_col_330091.append(check_word_330091)\n",
    "    \n",
    "df_second['A61H330091'] = new_col_330091"
   ]
  },
  {
   "cell_type": "markdown",
   "metadata": {},
   "source": [
    "### A61H33/0095   • Arrangements for varying the temperature of the liquid"
   ]
  },
  {
   "cell_type": "code",
   "execution_count": 701,
   "metadata": {},
   "outputs": [],
   "source": [
    "# AND Operator keywords\n",
    "A61H330095 = []\n",
    "\n",
    "# NEAR operator keywords (List1 NEAR5 List2)\n",
    "A61H330095_list1 = ['vary','changing','fluctuat','differ']\n",
    "A61H330095_list2 = ['temperature']\n",
    "\n",
    "#SSTO command e.g. search \"eye massage device\" as single word\n",
    "A61H330095_word = []"
   ]
  },
  {
   "cell_type": "code",
   "execution_count": 702,
   "metadata": {},
   "outputs": [],
   "source": [
    "new_col_330095 = []\n",
    "for i in range(len(df_second['all_text'])):\n",
    "    if df_second['A61H3300'][i] == 1:\n",
    "        check_word_330095 = int(((near_operator(df_second['all_text'][i],A61H330095_list1,A61H330095_list2, near=5) and \n",
    "                           and_operator(df_second['all_text'][i],A61H330095)) or\n",
    "                           ssto(df_second['all_text'][i], A61H330095_word)))\n",
    "    else:\n",
    "        check_word_330095 = 0\n",
    "    \n",
    "    new_col_330095.append(check_word_330095)\n",
    "    \n",
    "df_second['A61H330095'] = new_col_330095"
   ]
  },
  {
   "cell_type": "markdown",
   "metadata": {},
   "source": [
    "### A61H33/02    • Bathing devices for use with gas-containing liquid, or liquid in which gas is led or generated, e.g. carbon dioxide baths"
   ]
  },
  {
   "cell_type": "code",
   "execution_count": 703,
   "metadata": {},
   "outputs": [],
   "source": [
    "# AND Operator keywords\n",
    "A61H3302 = ['gas contain liquid bath', 'dioxide contain bath']\n",
    "\n",
    "# NEAR operator keywords (List1 NEAR5 List2)\n",
    "A61H3302_list1 = ['gas','dioxide','carbon']\n",
    "A61H3302_list2 = ['bath']\n",
    "\n",
    "#SSTO command e.g. search \"eye massage device\" as single word\n",
    "A61H3302_word = []"
   ]
  },
  {
   "cell_type": "code",
   "execution_count": 704,
   "metadata": {},
   "outputs": [],
   "source": [
    "new_col_3302 = []\n",
    "for i in range(len(df_second['all_text'])):\n",
    "    if df_second['A61H3300'][i] == 1:\n",
    "        check_word_3302 = int(((near_operator(df_second['all_text'][i],A61H3302_list1,A61H3302_list2, near=5) and \n",
    "                           and_operator(df_second['all_text'][i],A61H3302)) or\n",
    "                           ssto(df_second['all_text'][i], A61H3302_word)))\n",
    "    else:\n",
    "        check_word_3302 = 0\n",
    "    \n",
    "    new_col_3302.append(check_word_3302)\n",
    "    \n",
    "df_second['A61H3302'] = new_col_3302"
   ]
  },
  {
   "cell_type": "markdown",
   "metadata": {},
   "source": [
    "### A61H2033/021   •• Nozzles having flow-regulation means"
   ]
  },
  {
   "cell_type": "code",
   "execution_count": 705,
   "metadata": {},
   "outputs": [],
   "source": [
    "# AND Operator keywords\n",
    "A61H2033021 = ['nozzle']\n",
    "\n",
    "# NEAR operator keywords (List1 NEAR5 List2)\n",
    "A61H2033021_list1 = ['flow', 'fluid', 'liquid', 'gas']\n",
    "A61H2033021_list2 = ['regulat', 'control']\n",
    "\n",
    "#SSTO command e.g. search \"eye massage device\" as single word\n",
    "A61H2033021_word = []"
   ]
  },
  {
   "cell_type": "code",
   "execution_count": 706,
   "metadata": {},
   "outputs": [],
   "source": [
    "new_col_2033021 = []\n",
    "for i in range(len(df_second['all_text'])):\n",
    "    if df_second['A61H3302'][i] == 1:\n",
    "        check_word_2033021 = int(((near_operator(df_second['all_text'][i],A61H2033021_list1,A61H2033021_list2, near=5) and \n",
    "                           and_operator(df_second['all_text'][i],A61H2033021)) or\n",
    "                           ssto(df_second['all_text'][i], A61H2033021_word)))\n",
    "    else:\n",
    "        check_word_2033021 = 0\n",
    "    \n",
    "    new_col_2033021.append(check_word_2033021)\n",
    "    \n",
    "df_second['A61H2033021'] = new_col_2033021"
   ]
  },
  {
   "cell_type": "markdown",
   "metadata": {},
   "source": [
    "### A61H2033/022   •• with control means for regulating the air volume aspirated by a water jet"
   ]
  },
  {
   "cell_type": "code",
   "execution_count": 707,
   "metadata": {},
   "outputs": [],
   "source": [
    "# AND Operator keywords\n",
    "A61H2033022 = ['water jet']\n",
    "\n",
    "# NEAR operator keywords (List1 NEAR5 List2)\n",
    "A61H2033022_list1 = ['air volume']\n",
    "A61H2033022_list2 = ['regulate', 'control']\n",
    "\n",
    "#SSTO command e.g. search \"eye massage device\" as single word\n",
    "A61H2033022_word = []"
   ]
  },
  {
   "cell_type": "code",
   "execution_count": 708,
   "metadata": {},
   "outputs": [],
   "source": [
    "new_col_2033022 = []\n",
    "for i in range(len(df_second['all_text'])):\n",
    "    if df_second['A61H3302'][i] == 1:\n",
    "        check_word_2033022 = int(((near_operator(df_second['all_text'][i],A61H2033022_list2,A61H2033022_list1, near=5) and \n",
    "                           and_operator(df_second['all_text'][i],A61H2033022)) or\n",
    "                           ssto(df_second['all_text'][i], A61H2033022_word)))\n",
    "    else:\n",
    "        check_word_2033022 = 0\n",
    "    \n",
    "    new_col_2033022.append(check_word_2033022)\n",
    "    \n",
    "df_second['A61H2033022'] = new_col_2033022"
   ]
  },
  {
   "cell_type": "markdown",
   "metadata": {},
   "source": [
    "### A61H2033/023   •• with means in the air supply lines to prevent back-feed of water, e.g. anti-backflow valves, draining devices"
   ]
  },
  {
   "cell_type": "code",
   "execution_count": 709,
   "metadata": {},
   "outputs": [],
   "source": [
    "# AND Operator keywords\n",
    "A61H2033023 = ['prevent back feed water', 'anti backflow valve']\n",
    "\n",
    "# NEAR operator keywords (List1 NEAR5 List2)\n",
    "A61H2033023_list1 = ['backflow']\n",
    "A61H2033023_list2 = ['valve']\n",
    "\n",
    "#SSTO command e.g. search \"eye massage device\" as single word\n",
    "A61H2033023_word = []"
   ]
  },
  {
   "cell_type": "code",
   "execution_count": 710,
   "metadata": {},
   "outputs": [],
   "source": [
    "new_col_2033023 = []\n",
    "for i in range(len(df_second['all_text'])):\n",
    "    if df_second['A61H3302'][i] == 1:\n",
    "        check_word_2033023 = int(((near_operator(df_second['all_text'][i],A61H2033023_list1,A61H2033023_list2, near=5) and \n",
    "                           and_operator(df_second['all_text'][i],A61H2033023)) or\n",
    "                           ssto(df_second['all_text'][i], A61H2033023_word)))\n",
    "    else:\n",
    "        check_word_2033023 = 0\n",
    "    \n",
    "    new_col_2033023.append(check_word_2033023)\n",
    "    \n",
    "df_second['A61H2033023'] = new_col_2033023"
   ]
  },
  {
   "cell_type": "markdown",
   "metadata": {},
   "source": [
    "### A61H33/025     •• Aerating mats or frames, e.g. to be put in a bathtub"
   ]
  },
  {
   "cell_type": "code",
   "execution_count": 711,
   "metadata": {},
   "outputs": [],
   "source": [
    "# AND Operator keywords\n",
    "A61H33025 = []\n",
    "\n",
    "# NEAR operator keywords (List1 NEAR5 List2)\n",
    "A61H33025_list1 = ['aerat']\n",
    "A61H33025_list2 = ['mat', 'frame']\n",
    "\n",
    "#SSTO command e.g. search \"eye massage device\" as single word\n",
    "A61H33025_word = []"
   ]
  },
  {
   "cell_type": "code",
   "execution_count": 712,
   "metadata": {},
   "outputs": [],
   "source": [
    "new_col_33025 = []\n",
    "for i in range(len(df_second['all_text'])):\n",
    "    if df_second['A61H3302'][i] == 1:\n",
    "        check_word_33025 = int((near_operator(df_second['all_text'][i],A61H33025_list1,A61H33025_list2, near=5) or \n",
    "                           and_operator(df_second['all_text'][i],A61H33025) or\n",
    "                           ssto(df_second['all_text'][i], A61H33025)))\n",
    "    else:\n",
    "        check_word_33025 = 0\n",
    "    \n",
    "    new_col_33025.append(check_word_33025)\n",
    "    \n",
    "df_second['A61H33025'] = new_col_33025"
   ]
  },
  {
   "cell_type": "markdown",
   "metadata": {},
   "source": [
    "### A61H33/026     •• Gas nozzles specially adapted therefor"
   ]
  },
  {
   "cell_type": "code",
   "execution_count": 713,
   "metadata": {},
   "outputs": [],
   "source": [
    "# AND Operator keywords\n",
    "A61H33026 = []\n",
    "\n",
    "# NEAR operator keywords (List1 NEAR5 List2)\n",
    "A61H33026_list1 = ['gas']\n",
    "A61H33026_list2 = ['nozzle', 'jet']\n",
    "\n",
    "#SSTO command e.g. search \"eye massage device\" as single word\n",
    "A61H33026_word = []"
   ]
  },
  {
   "cell_type": "code",
   "execution_count": 714,
   "metadata": {},
   "outputs": [],
   "source": [
    "new_col_33026 = []\n",
    "for i in range(len(df_second['all_text'])):\n",
    "    if df_second['A61H3302'][i] == 1:\n",
    "        check_word_33026 = int((near_operator(df_second['all_text'][i],A61H33026_list1,A61H33026_list2, near=5) or \n",
    "                           and_operator(df_second['all_text'][i],A61H33026) or\n",
    "                           ssto(df_second['all_text'][i], A61H33026)))\n",
    "    else:\n",
    "        check_word_33026 = 0\n",
    "    \n",
    "    new_col_33026.append(check_word_33026)\n",
    "    \n",
    "df_second['A61H33026'] = new_col_33026"
   ]
  },
  {
   "cell_type": "markdown",
   "metadata": {},
   "source": [
    "### A61H33/027     •• Gas-water mixing nozzles therefor"
   ]
  },
  {
   "cell_type": "code",
   "execution_count": 715,
   "metadata": {},
   "outputs": [],
   "source": [
    "# AND Operator keywords\n",
    "A61H33027 = ['gas water']\n",
    "\n",
    "# NEAR operator keywords (List1 NEAR5 List2)\n",
    "A61H33027_list1 = ['mix']\n",
    "A61H33027_list2 = ['nozzle', 'jet']\n",
    "\n",
    "#SSTO command e.g. search \"eye massage device\" as single word\n",
    "A61H33027_word = []"
   ]
  },
  {
   "cell_type": "code",
   "execution_count": 716,
   "metadata": {},
   "outputs": [],
   "source": [
    "new_col_33027 = []\n",
    "for i in range(len(df_second['all_text'])):\n",
    "    if df_second['A61H3302'][i] == 1:\n",
    "        check_word_33027 = int(((near_operator(df_second['all_text'][i],A61H33027_list1,A61H33027_list2, near=5) and \n",
    "                           and_operator(df_second['all_text'][i],A61H33027)) or\n",
    "                           ssto(df_second['all_text'][i], A61H33027)))\n",
    "    else:\n",
    "        check_word_33027 = 0\n",
    "    \n",
    "    new_col_33027.append(check_word_33027)\n",
    "    \n",
    "df_second['A61H33027'] = new_col_33027"
   ]
  },
  {
   "cell_type": "markdown",
   "metadata": {},
   "source": [
    "### A61H33/028     •• Means for producing a flow of gas, e.g. blowers, compressors"
   ]
  },
  {
   "cell_type": "code",
   "execution_count": 717,
   "metadata": {},
   "outputs": [],
   "source": [
    "# AND Operator keywords\n",
    "A61H33028 = ['blower', 'compressor']\n",
    "\n",
    "# NEAR operator keywords (List1 NEAR5 List2)\n",
    "A61H33028_list1 = ['produc']\n",
    "A61H33028_list2 = ['flow gas', 'dioxide', 'co2']\n",
    "\n",
    "#SSTO command e.g. search \"eye massage device\" as single word\n",
    "A61H33028_word = []"
   ]
  },
  {
   "cell_type": "code",
   "execution_count": 718,
   "metadata": {},
   "outputs": [],
   "source": [
    "new_col_33028 = []\n",
    "for i in range(len(df_second['all_text'])):\n",
    "    if df_second['A61H3302'][i] == 1:\n",
    "        check_word_33028 = int(((near_operator(df_second['all_text'][i],A61H33028_list1,A61H33028_list2, near=5) and \n",
    "                           and_operator(df_second['all_text'][i],A61H33028)) or\n",
    "                           ssto(df_second['all_text'][i], A61H33028)))\n",
    "    else:\n",
    "        check_word_33028 = 0\n",
    "    \n",
    "    new_col_33028.append(check_word_33028)\n",
    "    \n",
    "df_second['A61H33028'] = new_col_33028"
   ]
  },
  {
   "cell_type": "markdown",
   "metadata": {},
   "source": [
    "### A61H33/04    • Appliances for sand, mud, wax or foam baths; Appliances for metal baths, e.g. using metal salt solutions"
   ]
  },
  {
   "cell_type": "code",
   "execution_count": 719,
   "metadata": {},
   "outputs": [],
   "source": [
    "# AND Operator keywords\n",
    "A61H3304 = []\n",
    "\n",
    "# NEAR operator keywords (List1 NEAR5 List2)\n",
    "A61H3304_list1 = ['sand','mud','wax','foam', 'metal']\n",
    "A61H3304_list2 = ['bath']\n",
    "\n",
    "#SSTO command e.g. search \"eye massage device\" as single word\n",
    "A61H3304_word = []"
   ]
  },
  {
   "cell_type": "code",
   "execution_count": 720,
   "metadata": {},
   "outputs": [],
   "source": [
    "new_col_3304 = []\n",
    "for i in range(len(df_second['all_text'])):\n",
    "    if df_second['A61H3300'][i] == 1:\n",
    "        check_word_3304 = int((near_operator(df_second['all_text'][i],A61H3304_list1,A61H3304_list2, near=5) or \n",
    "                           and_operator(df_second['all_text'][i],A61H3304) or\n",
    "                           ssto(df_second['all_text'][i], A61H3304_word)))\n",
    "    else:\n",
    "        check_word_3304 = 0\n",
    "    \n",
    "    new_col_3304.append(check_word_3304)\n",
    "    \n",
    "df_second['A61H3304'] = new_col_3304"
   ]
  },
  {
   "cell_type": "markdown",
   "metadata": {},
   "source": [
    "### A61H2033/041   •• Baths with dry sand or other dry particles"
   ]
  },
  {
   "cell_type": "code",
   "execution_count": 721,
   "metadata": {},
   "outputs": [],
   "source": [
    "# AND Operator keywords\n",
    "A61H2033041 = []\n",
    "\n",
    "# NEAR operator keywords (List1 NEAR5 List2)\n",
    "A61H2033041_list1 = ['sand', 'dry']\n",
    "A61H2033041_list2 = ['bath']\n",
    "\n",
    "#SSTO command e.g. search \"eye massage device\" as single word\n",
    "A61H2033041_word = ['dry sand']"
   ]
  },
  {
   "cell_type": "code",
   "execution_count": 722,
   "metadata": {},
   "outputs": [],
   "source": [
    "new_col_2033041 = []\n",
    "for i in range(len(df_second['all_text'])):\n",
    "    if df_second['A61H3304'][i] == 1:\n",
    "        check_word_2033041 = int(((near_operator(df_second['all_text'][i],A61H2033041_list1,A61H2033041_list2, near=5) or \n",
    "                           and_operator(df_second['all_text'][i],A61H2033041)) or\n",
    "                           ssto(df_second['all_text'][i], A61H2033041_word)))\n",
    "    else:\n",
    "        check_word_2033041 = 0\n",
    "    \n",
    "    new_col_2033041.append(check_word_2033041)\n",
    "    \n",
    "df_second['A61H2033041'] = new_col_2033041"
   ]
  },
  {
   "cell_type": "markdown",
   "metadata": {},
   "source": [
    "### A61H2033/042   •• gas-fluidised or gas-heated during use"
   ]
  },
  {
   "cell_type": "code",
   "execution_count": 723,
   "metadata": {},
   "outputs": [],
   "source": [
    "# AND Operator keywords\n",
    "A61H2033042 = []\n",
    "\n",
    "# NEAR operator keywords (List1 NEAR5 List2)\n",
    "A61H2033042_list1 = ['gas']\n",
    "A61H2033042_list2 = ['heated', 'fluidised']\n",
    "\n",
    "#SSTO command e.g. search \"eye massage device\" as single word\n",
    "A61H2033042_word = ['gas fluid', 'gas heat']"
   ]
  },
  {
   "cell_type": "code",
   "execution_count": 724,
   "metadata": {},
   "outputs": [],
   "source": [
    "new_col_2033042 = []\n",
    "for i in range(len(df_second['all_text'])):\n",
    "    if df_second['A61H2033041'][i] == 1:\n",
    "        check_word_2033042 = int(((near_operator(df_second['all_text'][i],A61H2033042_list1,A61H2033042_list2, near=5) or \n",
    "                           and_operator(df_second['all_text'][i],A61H2033042)) or\n",
    "                           ssto(df_second['all_text'][i], A61H2033042_word)))\n",
    "    else:\n",
    "        check_word_2033042 = 0\n",
    "    \n",
    "    new_col_2033042.append(check_word_2033042)\n",
    "    \n",
    "df_second['A61H2033042'] = new_col_2033042"
   ]
  },
  {
   "cell_type": "markdown",
   "metadata": {},
   "source": [
    "### A61H2033/043   •• Foam baths"
   ]
  },
  {
   "cell_type": "code",
   "execution_count": 725,
   "metadata": {},
   "outputs": [],
   "source": [
    "# AND Operator keywords\n",
    "A61H2033043 = []\n",
    "\n",
    "# NEAR operator keywords (List1 NEAR5 List2)\n",
    "A61H2033043_list1 = ['foam']\n",
    "A61H2033043_list2 = ['bath']\n",
    "\n",
    "#SSTO command e.g. search \"eye massage device\" as single word\n",
    "A61H2033043_word = []"
   ]
  },
  {
   "cell_type": "code",
   "execution_count": 726,
   "metadata": {},
   "outputs": [],
   "source": [
    "new_col_2033043 = []\n",
    "for i in range(len(df_second['all_text'])):\n",
    "    if df_second['A61H3304'][i] == 1:\n",
    "        check_word_2033043 = int(((near_operator(df_second['all_text'][i],A61H2033043_list1,A61H2033043_list2, near=5) or \n",
    "                           and_operator(df_second['all_text'][i],A61H2033043)) or\n",
    "                           ssto(df_second['all_text'][i], A61H2033043_word)))\n",
    "    else:\n",
    "        check_word_2033043 = 0\n",
    "    \n",
    "    new_col_2033043.append(check_word_2033043)\n",
    "    \n",
    "df_second['A61H2033043'] = new_col_2033043"
   ]
  },
  {
   "cell_type": "markdown",
   "metadata": {},
   "source": [
    "### A61H2033/044   •• Baths with herbs, e.g. infusions"
   ]
  },
  {
   "cell_type": "code",
   "execution_count": 727,
   "metadata": {},
   "outputs": [],
   "source": [
    "# AND Operator keywords\n",
    "A61H2033044 = []\n",
    "\n",
    "# NEAR operator keywords (List1 NEAR5 List2)\n",
    "A61H2033044_list1 = ['herb', 'plant', 'infusion']\n",
    "A61H2033044_list2 = ['bath']\n",
    "\n",
    "#SSTO command e.g. search \"eye massage device\" as single word\n",
    "A61H2033044_word = []"
   ]
  },
  {
   "cell_type": "code",
   "execution_count": 728,
   "metadata": {},
   "outputs": [],
   "source": [
    "new_col_2033044 = []\n",
    "for i in range(len(df_second['all_text'])):\n",
    "    if df_second['A61H3304'][i] == 1:\n",
    "        check_word_2033044 = int(((near_operator(df_second['all_text'][i],A61H2033044_list1,A61H2033044_list2, near=5) or \n",
    "                           and_operator(df_second['all_text'][i],A61H2033044)) or\n",
    "                           ssto(df_second['all_text'][i], A61H2033044_word)))\n",
    "    else:\n",
    "        check_word_2033044 = 0\n",
    "    \n",
    "    new_col_2033044.append(check_word_2033044)\n",
    "    \n",
    "df_second['A61H2033044'] = new_col_2033044"
   ]
  },
  {
   "cell_type": "markdown",
   "metadata": {},
   "source": [
    "### A61H2033/045   •• Liquid-metal baths"
   ]
  },
  {
   "cell_type": "code",
   "execution_count": 729,
   "metadata": {},
   "outputs": [],
   "source": [
    "# AND Operator keywords\n",
    "A61H2033045 = ['liquid']\n",
    "\n",
    "# NEAR operator keywords (List1 NEAR5 List2)\n",
    "A61H2033045_list1 = ['metal']\n",
    "A61H2033045_list2 = ['bath']\n",
    "\n",
    "#SSTO command e.g. search \"eye massage device\" as single word\n",
    "A61H2033045_word = ['liquid metal bath']"
   ]
  },
  {
   "cell_type": "code",
   "execution_count": 730,
   "metadata": {},
   "outputs": [],
   "source": [
    "new_col_2033045 = []\n",
    "for i in range(len(df_second['all_text'])):\n",
    "    if df_second['A61H3304'][i] == 1:\n",
    "        check_word_2033045 = int(((near_operator(df_second['all_text'][i],A61H2033045_list1,A61H2033045_list2, near=5) and \n",
    "                           and_operator(df_second['all_text'][i],A61H2033045)) or\n",
    "                           ssto(df_second['all_text'][i], A61H2033045_word)))\n",
    "    else:\n",
    "        check_word_2033045 = 0\n",
    "    \n",
    "    new_col_2033045.append(check_word_2033045)\n",
    "    \n",
    "df_second['A61H2033045'] = new_col_2033045"
   ]
  },
  {
   "cell_type": "markdown",
   "metadata": {},
   "source": [
    "### A61H2033/046   •• Mud baths; Baths using sand or other particles in water"
   ]
  },
  {
   "cell_type": "code",
   "execution_count": 731,
   "metadata": {},
   "outputs": [],
   "source": [
    "# AND Operator keywords\n",
    "A61H2033046 = ['liquid']\n",
    "\n",
    "# NEAR operator keywords (List1 NEAR5 List2)\n",
    "A61H2033046_list1 = ['mud', 'sand', 'particle']\n",
    "A61H2033046_list2 = ['bath']\n",
    "\n",
    "#SSTO command e.g. search \"eye massage device\" as single word\n",
    "A61H2033046_word = []"
   ]
  },
  {
   "cell_type": "code",
   "execution_count": 732,
   "metadata": {},
   "outputs": [],
   "source": [
    "new_col_2033046 = []\n",
    "for i in range(len(df_second['all_text'])):\n",
    "    if df_second['A61H3304'][i] == 1:\n",
    "        check_word_2033046 = int(((near_operator(df_second['all_text'][i],A61H2033046_list1,A61H2033046_list2, near=5) and \n",
    "                           and_operator(df_second['all_text'][i],A61H2033046)) or\n",
    "                           ssto(df_second['all_text'][i], A61H2033046_word)))\n",
    "    else:\n",
    "        check_word_2033046 = 0\n",
    "    \n",
    "    new_col_2033046.append(check_word_2033046)\n",
    "    \n",
    "df_second['A61H2033046'] = new_col_2033046"
   ]
  },
  {
   "cell_type": "markdown",
   "metadata": {},
   "source": [
    "### A61H2033/047   •• Paraffin or wax baths"
   ]
  },
  {
   "cell_type": "code",
   "execution_count": 733,
   "metadata": {},
   "outputs": [],
   "source": [
    "# AND Operator keywords\n",
    "A61H2033047 = []\n",
    "\n",
    "# NEAR operator keywords (List1 NEAR5 List2)\n",
    "A61H2033047_list1 = ['paraffin', 'wax']\n",
    "A61H2033047_list2 = ['bath']\n",
    "\n",
    "#SSTO command e.g. search \"eye massage device\" as single word\n",
    "A61H2033047_word = []"
   ]
  },
  {
   "cell_type": "code",
   "execution_count": 734,
   "metadata": {},
   "outputs": [],
   "source": [
    "new_col_2033047 = []\n",
    "for i in range(len(df_second['all_text'])):\n",
    "    if df_second['A61H3304'][i] == 1:\n",
    "        check_word_2033047 = int(((near_operator(df_second['all_text'][i],A61H2033047_list1,A61H2033047_list2, near=5) or \n",
    "                           and_operator(df_second['all_text'][i],A61H2033047)) or\n",
    "                           ssto(df_second['all_text'][i], A61H2033047_word)))\n",
    "    else:\n",
    "        check_word_2033047 = 0\n",
    "    \n",
    "    new_col_2033047.append(check_word_2033047)\n",
    "    \n",
    "df_second['A61H2033047'] = new_col_2033047"
   ]
  },
  {
   "cell_type": "markdown",
   "metadata": {},
   "source": [
    "### A61H2033/048   •• Baths using solutions, e.g. salts"
   ]
  },
  {
   "cell_type": "code",
   "execution_count": 735,
   "metadata": {},
   "outputs": [],
   "source": [
    "# AND Operator keywords\n",
    "A61H2033048 = ['salt']\n",
    "\n",
    "# NEAR operator keywords (List1 NEAR5 List2)\n",
    "A61H2033048_list1 = ['solution']\n",
    "A61H2033048_list2 = ['bath']\n",
    "\n",
    "#SSTO command e.g. search \"eye massage device\" as single word\n",
    "A61H2033048_word = []"
   ]
  },
  {
   "cell_type": "code",
   "execution_count": 736,
   "metadata": {},
   "outputs": [],
   "source": [
    "new_col_2033048 = []\n",
    "for i in range(len(df_second['all_text'])):\n",
    "    if df_second['A61H3304'][i] == 1:\n",
    "        check_word_2033048 = int(((near_operator(df_second['all_text'][i],A61H2033048_list1,A61H2033048_list2, near=5) and \n",
    "                           and_operator(df_second['all_text'][i],A61H2033048)) or\n",
    "                           ssto(df_second['all_text'][i], A61H2033048_word)))\n",
    "    else:\n",
    "        check_word_2033048 = 0\n",
    "    \n",
    "    new_col_2033048.append(check_word_2033048)\n",
    "    \n",
    "df_second['A61H2033048'] = new_col_2033048"
   ]
  },
  {
   "cell_type": "markdown",
   "metadata": {},
   "source": [
    "### A61H33/06    • Artificial hot-air or cold-air baths; Steam or gas baths or douches, e.g. sauna or Finnish baths"
   ]
  },
  {
   "cell_type": "code",
   "execution_count": 737,
   "metadata": {},
   "outputs": [],
   "source": [
    "# AND Operator keywords\n",
    "A61H3306 = ['sauna' 'artificial hot air bath', 'cold air bath artificial', 'air douche']\n",
    "\n",
    "# NEAR operator keywords (List1 NEAR5 List2)\n",
    "A61H3306_list1 = ['hot','cold','steam','gas', 'finnish']\n",
    "A61H3306_list2 = ['bath','spa']\n",
    "\n",
    "#SSTO command e.g. search \"eye massage device\" as single word\n",
    "A61H3306_word = []"
   ]
  },
  {
   "cell_type": "code",
   "execution_count": 738,
   "metadata": {},
   "outputs": [],
   "source": [
    "new_col_3306 = []\n",
    "for i in range(len(df_second['all_text'])):\n",
    "    if df_second['A61H3300'][i] == 1:\n",
    "        check_word_3306 = int((near_operator(df_second['all_text'][i],A61H3306_list1,A61H3306_list2, near=5) or \n",
    "                           and_operator(df_second['all_text'][i],A61H3306) or\n",
    "                           ssto(df_second['all_text'][i], A61H3306_word)))\n",
    "    else:\n",
    "        check_word_3306 = 0\n",
    "    \n",
    "    new_col_3306.append(check_word_3306)\n",
    "    \n",
    "df_second['A61H3306'] = new_col_3306"
   ]
  },
  {
   "cell_type": "markdown",
   "metadata": {},
   "source": [
    "### A61H2033/061   •• Artificial hot-air baths"
   ]
  },
  {
   "cell_type": "code",
   "execution_count": 739,
   "metadata": {},
   "outputs": [],
   "source": [
    "# AND Operator keywords\n",
    "A61H2033061 = ['artificial hot air bath']\n",
    "\n",
    "# NEAR operator keywords (List1 NEAR5 List2)\n",
    "A61H2033061_list1 = ['hot']\n",
    "A61H2033061_list2 = ['bath', 'steam', 'saunna', 'spa']\n",
    "\n",
    "#SSTO command e.g. search \"eye massage device\" as single word\n",
    "A61H2033061_word = []"
   ]
  },
  {
   "cell_type": "code",
   "execution_count": 740,
   "metadata": {},
   "outputs": [],
   "source": [
    "new_col_2033061 = []\n",
    "for i in range(len(df_second['all_text'])):\n",
    "    if df_second['A61H3306'][i] == 1:\n",
    "        check_word_2033061 = int((near_operator(df_second['all_text'][i],A61H2033061_list1,A61H2033061_list2, near=5) or \n",
    "                           and_operator(df_second['all_text'][i],A61H2033061) or\n",
    "                           ssto(df_second['all_text'][i], A61H2033061_word)))\n",
    "    else:\n",
    "        check_word_2033061 = 0\n",
    "    \n",
    "    new_col_2033061.append(check_word_2033061)\n",
    "    \n",
    "df_second['A61H2033061'] = new_col_2033061"
   ]
  },
  {
   "cell_type": "markdown",
   "metadata": {},
   "source": [
    "### A61H2033/062   •• Artificial cold-air baths"
   ]
  },
  {
   "cell_type": "code",
   "execution_count": 741,
   "metadata": {},
   "outputs": [],
   "source": [
    "# AND Operator keywords\n",
    "A61H2033062 = ['artificial cols air bath']\n",
    "\n",
    "# NEAR operator keywords (List1 NEAR5 List2)\n",
    "A61H2033062_list1 = ['cold']\n",
    "A61H2033062_list2 = ['bath', 'steam', 'saunna', 'spa']\n",
    "\n",
    "#SSTO command e.g. search \"eye massage device\" as single word\n",
    "A61H2033062_word = []"
   ]
  },
  {
   "cell_type": "code",
   "execution_count": 742,
   "metadata": {},
   "outputs": [],
   "source": [
    "new_col_2033062 = []\n",
    "for i in range(len(df_second['all_text'])):\n",
    "    if df_second['A61H3306'][i] == 1:\n",
    "        check_word_2033062 = int((near_operator(df_second['all_text'][i],A61H2033062_list1,A61H2033062_list2, near=5) or \n",
    "                           and_operator(df_second['all_text'][i],A61H2033062) or\n",
    "                           ssto(df_second['all_text'][i], A61H2033062_word)))\n",
    "    else:\n",
    "        check_word_2033062 = 0\n",
    "    \n",
    "    new_col_2033062.append(check_word_2033062)\n",
    "    \n",
    "df_second['A61H2033062'] = new_col_2033062"
   ]
  },
  {
   "cell_type": "markdown",
   "metadata": {},
   "source": [
    "### A61H33/063     •• Heaters specifically designed therefor"
   ]
  },
  {
   "cell_type": "code",
   "execution_count": 743,
   "metadata": {},
   "outputs": [],
   "source": [
    "# AND Operator keywords\n",
    "A61H33063 = []\n",
    "\n",
    "# NEAR operator keywords (List1 NEAR5 List2)\n",
    "A61H33063_list1 = ['bath', 'bathing','spa', 'sauna']\n",
    "A61H33063_list2 = ['heater']\n",
    "\n",
    "#SSTO command e.g. search \"eye massage device\" as single word\n",
    "A61H33063_word = ['heating device']"
   ]
  },
  {
   "cell_type": "code",
   "execution_count": 744,
   "metadata": {},
   "outputs": [],
   "source": [
    "new_col_33063 = []\n",
    "for i in range(len(df_second['all_text'])):\n",
    "    if df_second['A61H3306'][i] == 1:\n",
    "        check_word_33063 = int((near_operator(df_second['all_text'][i],A61H33063_list1,A61H33063_list2, near=5) or \n",
    "                           and_operator(df_second['all_text'][i],A61H33063) or\n",
    "                           ssto(df_second['all_text'][i], A61H33063_word)))\n",
    "    else:\n",
    "        check_word_33063 = 0\n",
    "    \n",
    "    new_col_33063.append(check_word_33063)\n",
    "    \n",
    "df_second['A61H33063'] = new_col_33063"
   ]
  },
  {
   "cell_type": "markdown",
   "metadata": {},
   "source": [
    "### A61H33/065     ••• with steam generators"
   ]
  },
  {
   "cell_type": "code",
   "execution_count": 745,
   "metadata": {},
   "outputs": [],
   "source": [
    "# AND Operator keywords\n",
    "A61H33065 = []\n",
    "\n",
    "# NEAR operator keywords (List1 NEAR5 List2)\n",
    "A61H33065_list1 = ['steam']\n",
    "A61H33065_list2 = ['generat']\n",
    "\n",
    "#SSTO command e.g. search \"eye massage device\" as single word\n",
    "A61H33065_word = []"
   ]
  },
  {
   "cell_type": "code",
   "execution_count": 746,
   "metadata": {},
   "outputs": [],
   "source": [
    "new_col_33065 = []\n",
    "for i in range(len(df_second['all_text'])):\n",
    "    if df_second['A61H3306'][i] == 1:\n",
    "        check_word_33065 = int((near_operator(df_second['all_text'][i],A61H33065_list1,A61H33065_list2, near=5) or \n",
    "                           and_operator(df_second['all_text'][i],A61H33065) or\n",
    "                           ssto(df_second['all_text'][i], A61H33065_word)))\n",
    "    else:\n",
    "        check_word_33065 = 0\n",
    "    \n",
    "    new_col_33065.append(check_word_33065)\n",
    "    \n",
    "df_second['A61H33065'] = new_col_33065"
   ]
  },
  {
   "cell_type": "markdown",
   "metadata": {},
   "source": [
    "### A61H33/066     •• Cabins therefor"
   ]
  },
  {
   "cell_type": "code",
   "execution_count": 747,
   "metadata": {},
   "outputs": [],
   "source": [
    "# AND Operator keywords\n",
    "A61H33066 = []\n",
    "\n",
    "# NEAR operator keywords (List1 NEAR5 List2)\n",
    "A61H33066_list1 = ['sauna','spa', 'bath']\n",
    "A61H33066_list2 = ['cabin', 'room']\n",
    "\n",
    "#SSTO command e.g. search \"eye massage device\" as single word\n",
    "A61H33066_word = []"
   ]
  },
  {
   "cell_type": "code",
   "execution_count": 748,
   "metadata": {},
   "outputs": [],
   "source": [
    "new_col_33066 = []\n",
    "for i in range(len(df_second['all_text'])):\n",
    "    if df_second['A61H3306'][i] == 1:\n",
    "        check_word_33066 = int((near_operator(df_second['all_text'][i],A61H33066_list1,A61H33066_list2, near=5) or \n",
    "                           and_operator(df_second['all_text'][i],A61H33066) or\n",
    "                           ssto(df_second['all_text'][i], A61H33066_word)))\n",
    "    else:\n",
    "        check_word_33066 = 0\n",
    "    \n",
    "    new_col_33066.append(check_word_33066)\n",
    "    \n",
    "df_second['A61H33066'] = new_col_33066"
   ]
  },
  {
   "cell_type": "markdown",
   "metadata": {},
   "source": [
    "### A61H33/067     ••• Installations for the inside of such cabins, e.g. seats"
   ]
  },
  {
   "cell_type": "code",
   "execution_count": 749,
   "metadata": {},
   "outputs": [],
   "source": [
    "# AND Operator keywords\n",
    "A61H33067 = []\n",
    "\n",
    "# NEAR operator keywords (List1 NEAR5 List2)\n",
    "A61H33067_list1 = ['installation','seat']\n",
    "A61H33067_list2 = ['cabin', 'room']\n",
    "\n",
    "#SSTO command e.g. search \"eye massage device\" as single word\n",
    "A61H33067_word = []"
   ]
  },
  {
   "cell_type": "code",
   "execution_count": 750,
   "metadata": {},
   "outputs": [],
   "source": [
    "new_col_33067 = []\n",
    "for i in range(len(df_second['all_text'])):\n",
    "    if df_second['A61H33066'][i] == 1:\n",
    "        check_word_33067 = int((near_operator(df_second['all_text'][i],A61H33067_list1,A61H33067_list2, near=5) or \n",
    "                           and_operator(df_second['all_text'][i],A61H33067) or\n",
    "                           ssto(df_second['all_text'][i], A61H33067_word)))\n",
    "    else:\n",
    "        check_word_33067 = 0\n",
    "    \n",
    "    new_col_33067.append(check_word_33067)\n",
    "    \n",
    "df_second['A61H33067'] = new_col_33067"
   ]
  },
  {
   "cell_type": "markdown",
   "metadata": {},
   "source": [
    "### A61H2033/068   •• Steam Baths"
   ]
  },
  {
   "cell_type": "code",
   "execution_count": 751,
   "metadata": {},
   "outputs": [],
   "source": [
    "# AND Operator keywords\n",
    "A61H33068 = []\n",
    "\n",
    "# NEAR operator keywords (List1 NEAR5 List2)\n",
    "A61H33068_list1 = ['steam']\n",
    "A61H33068_list2 = ['bath']\n",
    "\n",
    "#SSTO command e.g. search \"eye massage device\" as single word\n",
    "A61H33068_word = []"
   ]
  },
  {
   "cell_type": "code",
   "execution_count": 752,
   "metadata": {},
   "outputs": [],
   "source": [
    "new_col_33068 = []\n",
    "for i in range(len(df_second['all_text'])):\n",
    "    if df_second['A61H3306'][i] == 1:\n",
    "        check_word_33068 = int((near_operator(df_second['all_text'][i],A61H33068_list1,A61H33068_list2, near=5) or \n",
    "                           and_operator(df_second['all_text'][i],A61H33068) or\n",
    "                           ssto(df_second['all_text'][i], A61H33068_word)))\n",
    "    else:\n",
    "        check_word_33068 = 0\n",
    "    \n",
    "    new_col_33068.append(check_word_33068)\n",
    "    \n",
    "df_second['A61H33068'] = new_col_33068"
   ]
  },
  {
   "cell_type": "markdown",
   "metadata": {},
   "source": [
    "### A61H33/08    •• Air douches for hygienic purposes"
   ]
  },
  {
   "cell_type": "code",
   "execution_count": 753,
   "metadata": {},
   "outputs": [],
   "source": [
    "# AND Operator keywords\n",
    "A61H3308 = []\n",
    "\n",
    "# NEAR operator keywords (List1 NEAR5 List2)\n",
    "A61H3308_list1 = ['air']\n",
    "A61H3308_list2 = ['douche']\n",
    "\n",
    "#SSTO command e.g. search \"eye massage device\" as single word\n",
    "A61H3308_word = []\n",
    "\n",
    "new_col_3308 = []\n",
    "for i in range(len(df_second['all_text'])):\n",
    "    if df_second['A61H3306'][i] == 1:\n",
    "        check_word_3308 = int((near_operator(df_second['all_text'][i],A61H3308_list1,A61H3308_list2, near=5) or \n",
    "                           and_operator(df_second['all_text'][i],A61H3308) or\n",
    "                           ssto(df_second['all_text'][i], A61H3308_word)))\n",
    "    else:\n",
    "        check_word_3308 = 0\n",
    "    \n",
    "    new_col_3308.append(check_word_3308)\n",
    "    \n",
    "df_second['A61H3308'] = new_col_3308"
   ]
  },
  {
   "cell_type": "markdown",
   "metadata": {},
   "source": [
    "### A61H33/10    •• Devices on tubs for steam baths"
   ]
  },
  {
   "cell_type": "code",
   "execution_count": 754,
   "metadata": {},
   "outputs": [],
   "source": [
    "# AND Operator keywords\n",
    "A61H3310 = ['tub', 'wash tub', 'bath tub']\n",
    "\n",
    "# NEAR operator keywords (List1 NEAR5 List2)\n",
    "A61H3310_list1 = ['steam']\n",
    "A61H3310_list2 = ['bath']\n",
    "\n",
    "#SSTO command e.g. search \"eye massage device\" as single word\n",
    "A61H3310_word = []\n",
    "\n",
    "new_col_3310 = []\n",
    "for i in range(len(df_second['all_text'])):\n",
    "    if df_second['A61H3306'][i] == 1:\n",
    "        check_word_3310 = int(((near_operator(df_second['all_text'][i],A61H3310_list1,A61H3310_list2, near=5) and \n",
    "                           and_operator(df_second['all_text'][i],A61H3310)) or\n",
    "                           ssto(df_second['all_text'][i], A61H3310_word)))\n",
    "    else:\n",
    "        check_word_3310 = 0\n",
    "    \n",
    "    new_col_3310.append(check_word_3310)\n",
    "    \n",
    "df_second['A61H3310'] = new_col_3310"
   ]
  },
  {
   "cell_type": "markdown",
   "metadata": {},
   "source": [
    "### A61H33/12    •• Steam baths for the face"
   ]
  },
  {
   "cell_type": "code",
   "execution_count": 755,
   "metadata": {},
   "outputs": [],
   "source": [
    "# AND Operator keywords\n",
    "A61H3312 = ['face']\n",
    "\n",
    "# NEAR operator keywords (List1 NEAR5 List2)\n",
    "A61H3312_list1 = ['steam']\n",
    "A61H3312_list2 = ['bath']\n",
    "\n",
    "#SSTO command e.g. search \"eye massage device\" as single word\n",
    "A61H3312_word = []\n",
    "\n",
    "new_col_3312 = []\n",
    "for i in range(len(df_second['all_text'])):\n",
    "    if df_second['A61H3306'][i] == 1:\n",
    "        check_word_3312 = int(((near_operator(df_second['all_text'][i],A61H3312_list1,A61H3312_list2, near=5) and \n",
    "                           and_operator(df_second['all_text'][i],A61H3312)) or\n",
    "                           ssto(df_second['all_text'][i], A61H3312_word)))\n",
    "    else:\n",
    "        check_word_3312 = 0\n",
    "    \n",
    "    new_col_3312.append(check_word_3312)\n",
    "    \n",
    "df_second['A61H3312'] = new_col_3312"
   ]
  },
  {
   "cell_type": "markdown",
   "metadata": {},
   "source": [
    "### A61H33/14    • Devices for gas baths with ozone, hydrogen, or the like"
   ]
  },
  {
   "cell_type": "code",
   "execution_count": 756,
   "metadata": {},
   "outputs": [],
   "source": [
    "# AND Operator keywords\n",
    "A61H3314 = []\n",
    "\n",
    "# NEAR operator keywords (List1 NEAR5 List2)\n",
    "A61H3314_list1 = ['gas', 'ozone', 'hydrogen']\n",
    "A61H3314_list2 = ['bath']\n",
    "\n",
    "#SSTO command e.g. search \"eye massage device\" as single word\n",
    "A61H3314_word = []\n",
    "\n",
    "new_col_3314 = []\n",
    "for i in range(len(df_second['all_text'])):\n",
    "    if df_second['A61H3300'][i] == 1:\n",
    "        check_word_3314 = int((near_operator(df_second['all_text'][i],A61H3314_list1,A61H3314_list2, near=5) or \n",
    "                           and_operator(df_second['all_text'][i],A61H3314) or\n",
    "                           ssto(df_second['all_text'][i], A61H3314_word)))\n",
    "    else:\n",
    "        check_word_3314 = 0\n",
    "    \n",
    "    new_col_3314.append(check_word_3314)\n",
    "    \n",
    "df_second['A61H3314'] = new_col_3314"
   ]
  },
  {
   "cell_type": "markdown",
   "metadata": {},
   "source": [
    "### A61H2033/141   •• with ionised gas, e.g. ozone"
   ]
  },
  {
   "cell_type": "code",
   "execution_count": 757,
   "metadata": {},
   "outputs": [],
   "source": [
    "# AND Operator keywords\n",
    "A61H2033141 = ['ion gas bath', 'ozone bath']\n",
    "\n",
    "# NEAR operator keywords (List1 NEAR5 List2)\n",
    "A61H2033141_list1 = []\n",
    "A61H2033141_list2 = []\n",
    "\n",
    "#SSTO command e.g. search \"eye massage device\" as single word\n",
    "A61H2033141_word = []\n",
    "\n",
    "new_col_2033141 = []\n",
    "for i in range(len(df_second['all_text'])):\n",
    "    if df_second['A61H3314'][i] == 1:\n",
    "        check_word_2033141 = int((near_operator(df_second['all_text'][i],A61H2033141_list1,A61H2033141_list2, near=5) or \n",
    "                           and_operator(df_second['all_text'][i],A61H2033141) or\n",
    "                           ssto(df_second['all_text'][i], A61H2033141_word)))\n",
    "    else:\n",
    "        check_word_2033141 = 0\n",
    "    \n",
    "    new_col_2033141.append(check_word_2033141)\n",
    "    \n",
    "df_second['A61H2033141'] = new_col_2033141"
   ]
  },
  {
   "cell_type": "markdown",
   "metadata": {},
   "source": [
    "### A61H2033/143   •• with oxygen"
   ]
  },
  {
   "cell_type": "code",
   "execution_count": 758,
   "metadata": {},
   "outputs": [],
   "source": [
    "# AND Operator keywords\n",
    "A61H2033143 = []\n",
    "\n",
    "# NEAR operator keywords (List1 NEAR5 List2)\n",
    "A61H2033143_list1 = ['oxygen']\n",
    "A61H2033143_list2 = ['bath']\n",
    "\n",
    "#SSTO command e.g. search \"eye massage device\" as single word\n",
    "A61H2033143_word = []\n",
    "\n",
    "new_col_2033143 = []\n",
    "for i in range(len(df_second['all_text'])):\n",
    "    if df_second['A61H3314'][i] == 1:\n",
    "        check_word_2033143 = int((near_operator(df_second['all_text'][i],A61H2033143_list1,A61H2033143_list2, near=5) or \n",
    "                           and_operator(df_second['all_text'][i],A61H2033143) or\n",
    "                           ssto(df_second['all_text'][i], A61H2033143_word)))\n",
    "    else:\n",
    "        check_word_2033143 = 0\n",
    "    \n",
    "    new_col_2033143.append(check_word_2033143)\n",
    "    \n",
    "df_second['A61H2033143'] = new_col_2033143\n"
   ]
  },
  {
   "cell_type": "markdown",
   "metadata": {},
   "source": [
    "### A61H2033/145   •• with CO2"
   ]
  },
  {
   "cell_type": "code",
   "execution_count": 759,
   "metadata": {},
   "outputs": [],
   "source": [
    "# AND Operator keywords\n",
    "A61H2033145 = ['carbon dioxide bath']\n",
    "\n",
    "# NEAR operator keywords (List1 NEAR5 List2)\n",
    "A61H2033145_list1 = ['carbon', 'dioxide']\n",
    "A61H2033145_list2 = ['bath']\n",
    "\n",
    "#SSTO command e.g. search \"eye massage device\" as single word\n",
    "A61H2033145_word = []\n",
    "\n",
    "new_col_2033145 = []\n",
    "for i in range(len(df_second['all_text'])):\n",
    "    if df_second['A61H3314'][i] == 1:\n",
    "        check_word_2033145 = int((near_operator(df_second['all_text'][i],A61H2033145_list1,A61H2033145_list2, near=5) or \n",
    "                           and_operator(df_second['all_text'][i],A61H2033145) or\n",
    "                           ssto(df_second['all_text'][i], A61H2033145_word)))\n",
    "    else:\n",
    "        check_word_2033145 = 0\n",
    "    \n",
    "    new_col_2033145.append(check_word_2033145)\n",
    "    \n",
    "df_second['A61H2033145'] = new_col_2033145"
   ]
  },
  {
   "cell_type": "markdown",
   "metadata": {},
   "source": [
    "### A61H2033/146   •• with nitrogen"
   ]
  },
  {
   "cell_type": "code",
   "execution_count": 760,
   "metadata": {},
   "outputs": [],
   "source": [
    "# AND Operator keywords\n",
    "A61H2033146 = []\n",
    "\n",
    "# NEAR operator keywords (List1 NEAR5 List2)\n",
    "A61H2033146_list1 = ['nitrogen']\n",
    "A61H2033146_list2 = ['bath']\n",
    "\n",
    "#SSTO command e.g. search \"eye massage device\" as single word\n",
    "A61H2033146_word = []\n",
    "\n",
    "new_col_2033146 = []\n",
    "for i in range(len(df_second['all_text'])):\n",
    "    if df_second['A61H3314'][i] == 1:\n",
    "        check_word_2033146 = int((near_operator(df_second['all_text'][i],A61H2033146_list1,A61H2033146_list2, near=5) or \n",
    "                           and_operator(df_second['all_text'][i],A61H2033146) or\n",
    "                           ssto(df_second['all_text'][i], A61H2033146_word)))\n",
    "    else:\n",
    "        check_word_2033146 = 0\n",
    "    \n",
    "    new_col_2033146.append(check_word_2033146)\n",
    "    \n",
    "df_second['A61H2033146'] = new_col_2033146"
   ]
  },
  {
   "cell_type": "markdown",
   "metadata": {},
   "source": [
    "### A61H2033/148   •• with hydrogen"
   ]
  },
  {
   "cell_type": "code",
   "execution_count": 761,
   "metadata": {},
   "outputs": [],
   "source": [
    "# AND Operator keywords\n",
    "A61H2033148 = []\n",
    "\n",
    "# NEAR operator keywords (List1 NEAR5 List2)\n",
    "A61H2033148_list1 = ['hydrogen']\n",
    "A61H2033148_list2 = ['bath']\n",
    "\n",
    "#SSTO command e.g. search \"eye massage device\" as single word\n",
    "A61H2033148_word = []\n",
    "\n",
    "new_col_2033148 = []\n",
    "for i in range(len(df_second['all_text'])):\n",
    "    if df_second['A61H3314'][i] == 1:\n",
    "        check_word_2033148 = int((near_operator(df_second['all_text'][i],A61H2033148_list1,A61H2033148_list2, near=5) or \n",
    "                           and_operator(df_second['all_text'][i],A61H2033148) or\n",
    "                           ssto(df_second['all_text'][i], A61H2033148_word)))\n",
    "    else:\n",
    "        check_word_2033148 = 0\n",
    "    \n",
    "    new_col_2033148.append(check_word_2033148)\n",
    "    \n",
    "df_second['A61H2033148'] = new_col_2033148"
   ]
  },
  {
   "cell_type": "markdown",
   "metadata": {},
   "source": [
    "### A61H33/60    • Components specifically designed for the therapeutic baths of groups"
   ]
  },
  {
   "cell_type": "code",
   "execution_count": 762,
   "metadata": {},
   "outputs": [],
   "source": [
    "# AND Operator keywords\n",
    "A61H3360 = []\n",
    "\n",
    "# NEAR operator keywords (List1 NEAR5 List2)\n",
    "A61H3360_list1 = ['component', 'nozzle', 'hose','cascade', 'device', 'pump', 'construct', 'spa', 'bath', 'wash']\n",
    "A61H3360_list2 = ['tub']\n",
    "\n",
    "#SSTO command e.g. search \"eye massage device\" as single word\n",
    "A61H3360_word = []\n",
    "\n",
    "new_col_3360 = []\n",
    "for i in range(len(df_second['all_text'])):\n",
    "    if df_second['A61H3300'][i] == 1:\n",
    "        check_word_3360 = int((near_operator(df_second['all_text'][i],A61H3360_list1,A61H3360_list2, near=5) or \n",
    "                           and_operator(df_second['all_text'][i],A61H3360) or\n",
    "                           ssto(df_second['all_text'][i], A61H3360_word)))\n",
    "    else:\n",
    "        check_word_3360 = 0\n",
    "    \n",
    "    new_col_3360.append(check_word_3360)\n",
    "    \n",
    "df_second['A61H3360'] = new_col_3360\n"
   ]
  },
  {
   "cell_type": "markdown",
   "metadata": {},
   "source": [
    "### A61H33/6005   •• Special constructive structural details of the bathtub, e.g. of the walls or supporting structure"
   ]
  },
  {
   "cell_type": "code",
   "execution_count": 763,
   "metadata": {},
   "outputs": [],
   "source": [
    "# AND Operator keywords\n",
    "A61H336005 = []\n",
    "\n",
    "# NEAR operator keywords (List1 NEAR5 List2)\n",
    "A61H336005_list1 = ['component','construct', 'spa', 'bath', 'wash']\n",
    "A61H336005_list2 = ['tub']\n",
    "\n",
    "#SSTO command e.g. search \"eye massage device\" as single word\n",
    "A61H336005_word = []\n",
    "\n",
    "new_col_336005 = []\n",
    "for i in range(len(df_second['all_text'])):\n",
    "    if df_second['A61H3360'][i] == 1:\n",
    "        check_word_336005 = int((near_operator(df_second['all_text'][i],A61H336005_list1,A61H336005_list2, near=5) or \n",
    "                           and_operator(df_second['all_text'][i],A61H336005) or\n",
    "                           ssto(df_second['all_text'][i], A61H336005_word)))\n",
    "    else:\n",
    "        check_word_336005 = 0\n",
    "    \n",
    "    new_col_336005.append(check_word_336005)\n",
    "    \n",
    "df_second['A61H336005'] = new_col_336005"
   ]
  },
  {
   "cell_type": "markdown",
   "metadata": {},
   "source": [
    "### A61H33/601     •• Inlet to the bath"
   ]
  },
  {
   "cell_type": "code",
   "execution_count": 764,
   "metadata": {},
   "outputs": [],
   "source": [
    "# AND Operator keywords\n",
    "A61H33601 = ['tub']\n",
    "\n",
    "# NEAR operator keywords (List1 NEAR5 List2)\n",
    "A61H33601_list1 = ['inlet']\n",
    "A61H33601_list2 = ['nozzle', 'spray', 'pipe', 'pump']\n",
    "\n",
    "#SSTO command e.g. search \"eye massage device\" as single word\n",
    "A61H33601_word = []\n",
    "\n",
    "new_col_33601 = []\n",
    "for i in range(len(df_second['all_text'])):\n",
    "    if df_second['A61H3360'][i] == 1:\n",
    "        check_word_33601 = int(((near_operator(df_second['all_text'][i],A61H33601_list1,A61H33601_list2, near=8) or \n",
    "                           and_operator(df_second['all_text'][i],A61H33601)) and\n",
    "                           ssto(df_second['all_text'][i], A61H33601_word)))\n",
    "    else:\n",
    "        check_word_33601 = 0\n",
    "    \n",
    "    new_col_33601.append(check_word_33601)\n",
    "    \n",
    "df_second['A61H33601'] = new_col_33601"
   ]
  },
  {
   "cell_type": "markdown",
   "metadata": {},
   "source": [
    "### A61H33/6015   ••• cascade massage"
   ]
  },
  {
   "cell_type": "code",
   "execution_count": 765,
   "metadata": {},
   "outputs": [],
   "source": [
    "# AND Operator keywords\n",
    "A61H336015 = []\n",
    "\n",
    "# NEAR operator keywords (List1 NEAR5 List2)\n",
    "A61H336015_list1 = ['cascade']\n",
    "A61H336015_list2 = ['massag']\n",
    "\n",
    "#SSTO command e.g. search \"eye massage device\" as single word\n",
    "A61H336015_word = []\n",
    "\n",
    "new_col_336015 = []\n",
    "for i in range(len(df_second['all_text'])):\n",
    "    if df_second['A61H33601'][i] == 1:\n",
    "        check_word_336015 = int((near_operator(df_second['all_text'][i],A61H336015_list1,A61H336015_list2, near=5) or \n",
    "                           and_operator(df_second['all_text'][i],A61H336015) or\n",
    "                           ssto(df_second['all_text'][i], A61H336015_word)))\n",
    "    else:\n",
    "        check_word_336015 = 0\n",
    "    \n",
    "    new_col_336015.append(check_word_336015)\n",
    "    \n",
    "df_second['A61H336015'] = new_col_336015"
   ]
  },
  {
   "cell_type": "markdown",
   "metadata": {},
   "source": [
    "### A61H33/6021   ••• Nozzles"
   ]
  },
  {
   "cell_type": "code",
   "execution_count": 766,
   "metadata": {},
   "outputs": [],
   "source": [
    "# AND Operator keywords\n",
    "A61H336021 = []\n",
    "\n",
    "# NEAR operator keywords (List1 NEAR5 List2)\n",
    "A61H336021_list1 = ['component', 'nozzle', 'hose','cascade', 'device', 'pump', 'construct', 'spa']\n",
    "A61H336021_list2 = ['tub']\n",
    "\n",
    "#SSTO command e.g. search \"eye massage device\" as single word\n",
    "A61H336021_word = []\n",
    "\n",
    "new_col_336021 = []\n",
    "for i in range(len(df_second['all_text'])):\n",
    "    if df_second['A61H33601'][i] == 1:\n",
    "        check_word_336021 = int((near_operator(df_second['all_text'][i],A61H336021_list1,A61H336021_list2, near=5) or \n",
    "                           and_operator(df_second['all_text'][i],A61H336021) or\n",
    "                           ssto(df_second['all_text'][i], A61H336021_word)))\n",
    "    else:\n",
    "        check_word_336021 = 0\n",
    "    \n",
    "    new_col_336021.append(check_word_336021)\n",
    "    \n",
    "df_second['A61H336021'] = new_col_336021"
   ]
  },
  {
   "cell_type": "markdown",
   "metadata": {},
   "source": [
    "### A61H33/6026   •••• Nozzles in the bathtub connected to an outside pump circuit without modification of the walls"
   ]
  },
  {
   "cell_type": "code",
   "execution_count": 767,
   "metadata": {},
   "outputs": [],
   "source": [
    "# AND Operator keywords\n",
    "A61H336026 = []\n",
    "\n",
    "# NEAR operator keywords (List1 NEAR5 List2)\n",
    "A61H336026_list1 = ['nozzle', 'hose','spray']\n",
    "A61H336026_list2 = ['pump']\n",
    "\n",
    "#SSTO command e.g. search \"eye massage device\" as single word\n",
    "A61H336026_word = []\n",
    "\n",
    "new_col_336026 = []\n",
    "for i in range(len(df_second['all_text'])):\n",
    "    if df_second['A61H336021'][i] == 1:\n",
    "        check_word_336026 = int((near_operator(df_second['all_text'][i],A61H336026_list1,A61H336026_list2, near=5) or \n",
    "                           and_operator(df_second['all_text'][i],A61H336026) or\n",
    "                           ssto(df_second['all_text'][i], A61H336026_word)))\n",
    "    else:\n",
    "        check_word_336026 = 0\n",
    "    \n",
    "    new_col_336026.append(check_word_336026)\n",
    "    \n",
    "df_second['A61H336026'] = new_col_336026"
   ]
  },
  {
   "cell_type": "markdown",
   "metadata": {},
   "source": [
    "### A61H33/6031   •••• Extendible or retractable"
   ]
  },
  {
   "cell_type": "code",
   "execution_count": 768,
   "metadata": {},
   "outputs": [],
   "source": [
    "# AND Operator keywords\n",
    "A61H336031 = []\n",
    "\n",
    "# NEAR operator keywords (List1 NEAR5 List2)\n",
    "A61H336031_list1 = ['extend','retract']\n",
    "A61H336031_list2 = ['nozzle','spray','hose']\n",
    "\n",
    "#SSTO command e.g. search \"eye massage device\" as single word\n",
    "A61H336031_word = []\n",
    "\n",
    "new_col_336031 = []\n",
    "for i in range(len(df_second['all_text'])):\n",
    "    if df_second['A61H336021'][i] == 1:\n",
    "        check_word_336031 = int((near_operator(df_second['all_text'][i],A61H336031_list1,A61H336031_list2, near=5) or \n",
    "                           and_operator(df_second['all_text'][i],A61H336031) or\n",
    "                           ssto(df_second['all_text'][i], A61H336031_word)))\n",
    "    else:\n",
    "        check_word_336031 = 0\n",
    "    \n",
    "    new_col_336031.append(check_word_336031)\n",
    "    \n",
    "df_second['A61H336031'] = new_col_336031"
   ]
  },
  {
   "cell_type": "markdown",
   "metadata": {},
   "source": [
    "### A61H33/6036   •••• Hand-held connected to a supply hose"
   ]
  },
  {
   "cell_type": "code",
   "execution_count": 769,
   "metadata": {},
   "outputs": [],
   "source": [
    "# AND Operator keywords\n",
    "A61H336036 = []\n",
    "\n",
    "# NEAR operator keywords (List1 NEAR5 List2)\n",
    "A61H336036_list1 = ['handheld', 'hand']\n",
    "A61H336036_list2 = ['hose']\n",
    "\n",
    "#SSTO command e.g. search \"eye massage device\" as single word\n",
    "A61H336036_word = []\n",
    "\n",
    "new_col_336036 = []\n",
    "for i in range(len(df_second['all_text'])):\n",
    "    if df_second['A61H336021'][i] == 1:\n",
    "        check_word_336036 = int((near_operator(df_second['all_text'][i],A61H336036_list1,A61H336036_list2, near=5) or \n",
    "                           and_operator(df_second['all_text'][i],A61H336036) or\n",
    "                           ssto(df_second['all_text'][i], A61H336036_word)))\n",
    "    else:\n",
    "        check_word_336036 = 0\n",
    "    \n",
    "    new_col_336036.append(check_word_336036)\n",
    "    \n",
    "df_second['A61H336036'] = new_col_336036"
   ]
  },
  {
   "cell_type": "markdown",
   "metadata": {},
   "source": [
    "### A61H33/6042   •••• Used also as outlet"
   ]
  },
  {
   "cell_type": "code",
   "execution_count": 770,
   "metadata": {},
   "outputs": [],
   "source": [
    "# AND Operator keywords\n",
    "A61H336042 = []\n",
    "\n",
    "# NEAR operator keywords (List1 NEAR5 List2)\n",
    "A61H336042_list1 = ['use', 'work']\n",
    "A61H336042_list2 = ['outlet']\n",
    "\n",
    "#SSTO command e.g. search \"eye massage device\" as single word\n",
    "A61H336042_word = []\n",
    "\n",
    "new_col_336042 = []\n",
    "for i in range(len(df_second['all_text'])):\n",
    "    if df_second['A61H336021'][i] == 1:\n",
    "        check_word_336042 = int((near_operator(df_second['all_text'][i],A61H336042_list1,A61H336042_list2, near=5) or \n",
    "                           and_operator(df_second['all_text'][i],A61H336042) or\n",
    "                           ssto(df_second['all_text'][i], A61H336042_word)))\n",
    "    else:\n",
    "        check_word_336042 = 0\n",
    "    \n",
    "    new_col_336042.append(check_word_336042)\n",
    "    \n",
    "df_second['A61H336042'] = new_col_336042"
   ]
  },
  {
   "cell_type": "markdown",
   "metadata": {},
   "source": [
    "### A61H33/6047   •••• With incorporated pump means"
   ]
  },
  {
   "cell_type": "code",
   "execution_count": 771,
   "metadata": {},
   "outputs": [],
   "source": [
    "# AND Operator keywords\n",
    "A61H336047 = ['pump']\n",
    "\n",
    "# NEAR operator keywords (List1 NEAR5 List2)\n",
    "A61H336047_list1 = []\n",
    "A61H336047_list2 = []\n",
    "\n",
    "#SSTO command e.g. search \"eye massage device\" as single word\n",
    "A61H336047_word = []\n",
    "\n",
    "new_col_336047 = []\n",
    "for i in range(len(df_second['all_text'])):\n",
    "    if df_second['A61H336021'][i] == 1:\n",
    "        check_word_336047 = int((near_operator(df_second['all_text'][i],A61H336047_list1,A61H336047_list2, near=5) or \n",
    "                           and_operator(df_second['all_text'][i],A61H336047) or\n",
    "                           ssto(df_second['all_text'][i], A61H336047_word)))\n",
    "    else:\n",
    "        check_word_336047 = 0\n",
    "    \n",
    "    new_col_336047.append(check_word_336047)\n",
    "    \n",
    "df_second['A61H336047'] = new_col_336047"
   ]
  },
  {
   "cell_type": "markdown",
   "metadata": {},
   "source": [
    "### A61H33/6052   •••• Having flow regulating means"
   ]
  },
  {
   "cell_type": "code",
   "execution_count": 772,
   "metadata": {},
   "outputs": [],
   "source": [
    "# AND Operator keywords\n",
    "A61H336052 = []\n",
    "\n",
    "# NEAR operator keywords (List1 NEAR5 List2)\n",
    "A61H336052_list1 = ['flow']\n",
    "A61H336052_list2 = ['regulat']\n",
    "\n",
    "#SSTO command e.g. search \"eye massage device\" as single word\n",
    "A61H336052_word = []\n",
    "\n",
    "new_col_336052 = []\n",
    "for i in range(len(df_second['all_text'])):\n",
    "    if df_second['A61H336021'][i] == 1:\n",
    "        check_word_336052 = int((near_operator(df_second['all_text'][i],A61H336052_list1,A61H336052_list2, near=5) or \n",
    "                           and_operator(df_second['all_text'][i],A61H336052) or\n",
    "                           ssto(df_second['all_text'][i], A61H336052_word)))\n",
    "    else:\n",
    "        check_word_336052 = 0\n",
    "    \n",
    "    new_col_336052.append(check_word_336052)\n",
    "    \n",
    "df_second['A61H336052'] = new_col_336052"
   ]
  },
  {
   "cell_type": "markdown",
   "metadata": {},
   "source": [
    "### A61H33/6057   •••• Comprising means producing pulsating or intermittent streams"
   ]
  },
  {
   "cell_type": "code",
   "execution_count": 773,
   "metadata": {},
   "outputs": [],
   "source": [
    "# AND Operator keywords\n",
    "A61H336057 = []\n",
    "\n",
    "# NEAR operator keywords (List1 NEAR5 List2)\n",
    "A61H336057_list1 = ['pulsat', 'intermitt', 'vary']\n",
    "A61H336057_list2 = ['stream']\n",
    "\n",
    "#SSTO command e.g. search \"eye massage device\" as single word\n",
    "A61H336057_word = []\n",
    "\n",
    "new_col_336057 = []\n",
    "for i in range(len(df_second['all_text'])):\n",
    "    if df_second['A61H336021'][i] == 1:\n",
    "        check_word_336057 = int((near_operator(df_second['all_text'][i],A61H336057_list1,A61H336057_list2, near=5) or \n",
    "                           and_operator(df_second['all_text'][i],A61H336057) or\n",
    "                           ssto(df_second['all_text'][i], A61H336057_word)))\n",
    "    else:\n",
    "        check_word_336057 = 0\n",
    "    \n",
    "    new_col_336057.append(check_word_336057)\n",
    "    \n",
    "df_second['A61H336057'] = new_col_336057"
   ]
  },
  {
   "cell_type": "markdown",
   "metadata": {},
   "source": [
    "### A61H33/6063   •••• Specifically adapted for fitting in bathtub walls"
   ]
  },
  {
   "cell_type": "code",
   "execution_count": 774,
   "metadata": {},
   "outputs": [],
   "source": [
    "# AND Operator keywords\n",
    "A61H336063 = []\n",
    "\n",
    "# NEAR operator keywords (List1 NEAR5 List2)\n",
    "A61H336063_list1 = ['tub']\n",
    "A61H336063_list2 = ['wall']\n",
    "\n",
    "#SSTO command e.g. search \"eye massage device\" as single word\n",
    "A61H336063_word = []\n",
    "\n",
    "new_col_336063 = []\n",
    "for i in range(len(df_second['all_text'])):\n",
    "    if df_second['A61H336021'][i] == 1:\n",
    "        check_word_336063 = int((near_operator(df_second['all_text'][i],A61H336063_list1,A61H336063_list2, near=5) or \n",
    "                           and_operator(df_second['all_text'][i],A61H336063) or\n",
    "                           ssto(df_second['all_text'][i], A61H336063_word)))\n",
    "    else:\n",
    "        check_word_336063 = 0\n",
    "    \n",
    "    new_col_336063.append(check_word_336063)\n",
    "    \n",
    "df_second['A61H336063'] = new_col_336063"
   ]
  },
  {
   "cell_type": "markdown",
   "metadata": {},
   "source": [
    "### A61H33/6068   •• Outlet from the bath"
   ]
  },
  {
   "cell_type": "code",
   "execution_count": 775,
   "metadata": {},
   "outputs": [],
   "source": [
    "# AND Operator keywords\n",
    "A61H336068 = ['tub']\n",
    "\n",
    "# NEAR operator keywords (List1 NEAR5 List2)\n",
    "A61H336068_list1 = ['outlet']\n",
    "A61H336068_list2 = ['pipe', 'nozzle', 'waste']\n",
    "\n",
    "#SSTO command e.g. search \"eye massage device\" as single word\n",
    "A61H336068_word = []\n",
    "\n",
    "new_col_336068 = []\n",
    "for i in range(len(df_second['all_text'])):\n",
    "    if df_second['A61H3360'][i] == 1:\n",
    "        check_word_336068 = int(((near_operator(df_second['all_text'][i],A61H336068_list1,A61H336068_list2, near=5) and \n",
    "                           and_operator(df_second['all_text'][i],A61H336068)) or\n",
    "                           ssto(df_second['all_text'][i], A61H336068_word)))\n",
    "    else:\n",
    "        check_word_336068 = 0\n",
    "    \n",
    "    new_col_336068.append(check_word_336068)\n",
    "    \n",
    "df_second['A61H336068'] = new_col_336068"
   ]
  },
  {
   "cell_type": "markdown",
   "metadata": {},
   "source": [
    "### A61H33/6073   ••• Intake mouths for recirculation of fluid in whirlpool baths"
   ]
  },
  {
   "cell_type": "code",
   "execution_count": 776,
   "metadata": {},
   "outputs": [],
   "source": [
    "# AND Operator keywords\n",
    "A61H336073 = []\n",
    "\n",
    "# NEAR operator keywords (List1 NEAR5 List2)\n",
    "A61H336073_list1 = ['recirculat', 'whirlpool']\n",
    "A61H336073_list2 = ['water','fluid']\n",
    "\n",
    "#SSTO command e.g. search \"eye massage device\" as single word\n",
    "A61H336073_word = []\n",
    "\n",
    "new_col_336073 = []\n",
    "for i in range(len(df_second['all_text'])):\n",
    "    if df_second['A61H336068'][i] == 1:\n",
    "        check_word_336073 = int((near_operator(df_second['all_text'][i],A61H336073_list1,A61H336073_list2, near=5) or \n",
    "                           and_operator(df_second['all_text'][i],A61H336073) or\n",
    "                           ssto(df_second['all_text'][i], A61H336073_word)))\n",
    "    else:\n",
    "        check_word_336073 = 0\n",
    "    \n",
    "    new_col_336073.append(check_word_336073)\n",
    "    \n",
    "df_second['A61H336073'] = new_col_336073"
   ]
  },
  {
   "cell_type": "markdown",
   "metadata": {},
   "source": [
    "### A61H33/6078   •••• Combined with waste outlets"
   ]
  },
  {
   "cell_type": "code",
   "execution_count": 777,
   "metadata": {},
   "outputs": [],
   "source": [
    "# AND Operator keywords\n",
    "A61H336078 = []\n",
    "\n",
    "# NEAR operator keywords (List1 NEAR5 List2)\n",
    "A61H336078_list1 = ['waste']\n",
    "A61H336078_list2 = ['outlet']\n",
    "\n",
    "#SSTO command e.g. search \"eye massage device\" as single word\n",
    "A61H336078_word = []\n",
    "\n",
    "new_col_336078 = []\n",
    "for i in range(len(df_second['all_text'])):\n",
    "    if df_second['A61H336068'][i] == 1:\n",
    "        check_word_336078 = int((near_operator(df_second['all_text'][i],A61H336078_list1,A61H336078_list2, near=5) or \n",
    "                           and_operator(df_second['all_text'][i],A61H336078) or\n",
    "                           ssto(df_second['all_text'][i], A61H336078_word)))\n",
    "    else:\n",
    "        check_word_336078 = 0\n",
    "    \n",
    "    new_col_336078.append(check_word_336078)\n",
    "    \n",
    "df_second['A61H336078'] = new_col_336078"
   ]
  },
  {
   "cell_type": "markdown",
   "metadata": {},
   "source": [
    "### A61H33/6084   ••• For filling to the border or edge of the bath, i.e. no border to be seen"
   ]
  },
  {
   "cell_type": "code",
   "execution_count": 778,
   "metadata": {},
   "outputs": [],
   "source": [
    "# AND Operator keywords\n",
    "A61H336084 = []\n",
    "\n",
    "# NEAR operator keywords (List1 NEAR5 List2)\n",
    "A61H336084_list1 = ['fill']\n",
    "A61H336084_list2 = ['border', 'edge']\n",
    "\n",
    "#SSTO command e.g. search \"eye massage device\" as single word\n",
    "A61H336084_word = []\n",
    "\n",
    "new_col_336084 = []\n",
    "for i in range(len(df_second['all_text'])):\n",
    "    if df_second['A61H336068'][i] == 1:\n",
    "        check_word_336084 = int((near_operator(df_second['all_text'][i],A61H336084_list1,A61H336084_list2, near=5) or \n",
    "                           and_operator(df_second['all_text'][i],A61H336084) or\n",
    "                           ssto(df_second['all_text'][i], A61H336084_word)))\n",
    "    else:\n",
    "        check_word_336084 = 0\n",
    "    \n",
    "    new_col_336084.append(check_word_336084)\n",
    "    \n",
    "df_second['A61H336084'] = new_col_336084"
   ]
  },
  {
   "cell_type": "markdown",
   "metadata": {},
   "source": [
    "### A61H33/6089   •• Specific construction features for further massaging means, i.e. not for the nozzles"
   ]
  },
  {
   "cell_type": "code",
   "execution_count": 779,
   "metadata": {},
   "outputs": [],
   "source": [
    "# AND Operator keywords\n",
    "A61H336089 = []\n",
    "\n",
    "# NEAR operator keywords (List1 NEAR5 List2)\n",
    "A61H336089_list1 = ['component', 'nozzle', 'device']\n",
    "A61H336089_list2 = ['massag']\n",
    "\n",
    "#SSTO command e.g. search \"eye massage device\" as single word\n",
    "A61H336089_word = []\n",
    "\n",
    "new_col_336089 = []\n",
    "for i in range(len(df_second['all_text'])):\n",
    "    if df_second['A61H3360'][i] == 1:\n",
    "        check_word_336089 = int((near_operator(df_second['all_text'][i],A61H336089_list1,A61H336089_list2, near=5) or \n",
    "                           and_operator(df_second['all_text'][i],A61H336089) or\n",
    "                           ssto(df_second['all_text'][i], A61H336089_word)))\n",
    "    else:\n",
    "        check_word_336089 = 0\n",
    "    \n",
    "    new_col_336089.append(check_word_336089)\n",
    "    \n",
    "df_second['A61H336089'] = new_col_336089"
   ]
  },
  {
   "cell_type": "markdown",
   "metadata": {},
   "source": [
    "### A61H33/6094   ••• Extending through the wall of the bathing device"
   ]
  },
  {
   "cell_type": "code",
   "execution_count": 780,
   "metadata": {},
   "outputs": [],
   "source": [
    "# AND Operator keywords\n",
    "A61H336094 = ['tub']\n",
    "\n",
    "# NEAR operator keywords (List1 NEAR5 List2)\n",
    "A61H336094_list1 = ['extend']\n",
    "A61H336094_list2 = ['Wall']\n",
    "\n",
    "#SSTO command e.g. search \"eye massage device\" as single word\n",
    "A61H336094_word = []\n",
    "\n",
    "new_col_336094 = []\n",
    "for i in range(len(df_second['all_text'])):\n",
    "    if df_second['A61H336089'][i] == 1:\n",
    "        check_word_336094 = int(((near_operator(df_second['all_text'][i],A61H336094_list1,A61H336094_list2, near=5) and \n",
    "                           and_operator(df_second['all_text'][i],A61H336094)) or\n",
    "                           ssto(df_second['all_text'][i], A61H336094_word)))\n",
    "    else:\n",
    "        check_word_336094 = 0\n",
    "    \n",
    "    new_col_336094.append(check_word_336094)\n",
    "    \n",
    "df_second['A61H336094'] = new_col_336094"
   ]
  },
  {
   "cell_type": "markdown",
   "metadata": {},
   "source": [
    "## Final step"
   ]
  },
  {
   "cell_type": "code",
   "execution_count": 781,
   "metadata": {},
   "outputs": [],
   "source": [
    "for i in range(4,len(df_second.columns)):\n",
    "    df_second.iloc[:,i].replace(1,df_second.columns[i], inplace=True)\n",
    "    df_second.iloc[:,i].replace(0,'', inplace=True)"
   ]
  },
  {
   "cell_type": "code",
   "execution_count": 782,
   "metadata": {},
   "outputs": [],
   "source": [
    "cols = ['A61H3300', 'A61H20330004','A61H20330008', 'A61H20330012', 'A61H20330016', 'A61H2033002',\n",
    "       'A61H20330025', 'A61H20330029', 'A61H20330033', 'A61H20330037','A61H20330041', 'A61H20330045',\n",
    "        'A61H33005', 'A61H20330054','A61H20330058', 'A61H20330062', 'A61H20330066', 'A61H2033007',\n",
    "       'A61H20330075', 'A61H20330079', 'A61H20330083', 'A61H330087','A61H330091', 'A61H330095', \n",
    "        'A61H3302', 'A61H2033021', 'A61H2033022','A61H2033023', 'A61H33025', 'A61H33026', \n",
    "        'A61H33027', 'A61H33028','A61H3304', 'A61H2033041', 'A61H2033042', 'A61H2033043', \n",
    "        'A61H2033044','A61H2033045', 'A61H2033046', 'A61H2033047', 'A61H2033048', 'A61H3306',\n",
    "       'A61H2033061', 'A61H2033062', 'A61H33063', 'A61H33065', 'A61H33066','A61H33067', \n",
    "        'A61H33068', 'A61H3308', 'A61H3310', 'A61H3312','A61H3314', 'A61H2033141', \n",
    "        'A61H2033143', 'A61H2033145', 'A61H2033146','A61H2033148', 'A61H3360', 'A61H336005', \n",
    "        'A61H33601', 'A61H336015','A61H336021', 'A61H336026', 'A61H336031', 'A61H336036', \n",
    "        'A61H336042','A61H336047', 'A61H336052', 'A61H336057', 'A61H336063', 'A61H336068',\n",
    "       'A61H336073', 'A61H336078', 'A61H336084', 'A61H336089', 'A61H336094']\n",
    "\n",
    "df_second['prediction'] = ''\n",
    "for i in range(len(df_second)):\n",
    "    for col in cols:\n",
    "        if not df_second.loc[i,col] == '':\n",
    "            df_second.loc[i,'prediction'] = (df_second.loc[i,'prediction'] + ' | '\n",
    "                                                        + df_second.loc[i,col])\n",
    "\n",
    "df_second['prediction'] = df_second['prediction'].str[3:]"
   ]
  },
  {
   "cell_type": "code",
   "execution_count": 783,
   "metadata": {},
   "outputs": [],
   "source": [
    "df_final = df_second.drop(columns=['A61H3300', 'A61H20330004','A61H20330008', 'A61H20330012', 'A61H20330016', 'A61H2033002',\n",
    "       'A61H20330025', 'A61H20330029', 'A61H20330033', 'A61H20330037','A61H20330041', 'A61H20330045',\n",
    "        'A61H33005', 'A61H20330054','A61H20330058', 'A61H20330062', 'A61H20330066', 'A61H2033007',\n",
    "       'A61H20330075', 'A61H20330079', 'A61H20330083', 'A61H330087','A61H330091', 'A61H330095', \n",
    "        'A61H3302', 'A61H2033021', 'A61H2033022','A61H2033023', 'A61H33025', 'A61H33026', \n",
    "        'A61H33027', 'A61H33028','A61H3304', 'A61H2033041', 'A61H2033042', 'A61H2033043', \n",
    "        'A61H2033044','A61H2033045', 'A61H2033046', 'A61H2033047', 'A61H2033048', 'A61H3306',\n",
    "       'A61H2033061', 'A61H2033062', 'A61H33063', 'A61H33065', 'A61H33066','A61H33067', \n",
    "        'A61H33068', 'A61H3308', 'A61H3310', 'A61H3312','A61H3314', 'A61H2033141', \n",
    "        'A61H2033143', 'A61H2033145', 'A61H2033146','A61H2033148', 'A61H3360', 'A61H336005', \n",
    "        'A61H33601', 'A61H336015','A61H336021', 'A61H336026', 'A61H336031', 'A61H336036', \n",
    "        'A61H336042','A61H336047', 'A61H336052', 'A61H336057', 'A61H336063', 'A61H336068',\n",
    "       'A61H336073', 'A61H336078', 'A61H336084', 'A61H336089', 'A61H336094', 'all_text'], axis=1)\n"
   ]
  },
  {
   "cell_type": "code",
   "execution_count": 786,
   "metadata": {},
   "outputs": [
    {
     "name": "stdout",
     "output_type": "stream",
     "text": [
      "Module A61H3500 is successfully loaded on 01/Aug/2020 - 01:01 AM\n"
     ]
    }
   ],
   "source": [
    "from datetime import datetime\n",
    "dt_string = datetime.now().strftime(\"%d/%b/%Y - %H:%M %p\")\n",
    "print(\"Module A61H3500 is successfully loaded on\",dt_string)"
   ]
  },
  {
   "cell_type": "code",
   "execution_count": null,
   "metadata": {},
   "outputs": [],
   "source": []
  }
 ],
 "metadata": {
  "kernelspec": {
   "display_name": "Python 3",
   "language": "python",
   "name": "python3"
  },
  "language_info": {
   "codemirror_mode": {
    "name": "ipython",
    "version": 3
   },
   "file_extension": ".py",
   "mimetype": "text/x-python",
   "name": "python",
   "nbconvert_exporter": "python",
   "pygments_lexer": "ipython3",
   "version": "3.8.5"
  }
 },
 "nbformat": 4,
 "nbformat_minor": 2
}
