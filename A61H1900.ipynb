{
 "cells": [
  {
   "cell_type": "markdown",
   "metadata": {},
   "source": [
    "# A61H CPC Classification - A61H1900\n",
    "\n",
    "<font size=\"3\">\n",
    "\n",
    "#### About the Module:\n",
    "<I><span style=\"font-family:Arial\">This module work to identify patents in A61H1900 class. Class detail is as follow<br></span>\n",
    "<span style=\"font-family:Arial\">A61H19/30\t•\tDevices for external stimulation of the genitals<br></span>\n",
    "<span style=\"font-family:Arial\">A61H19/32\t••\tfor inserting the genitals therein, e.g. vibrating rings for males or breast stimulating devices<br></span>\n",
    "<span style=\"font-family:Arial\">A61H19/34\t••\tFor clitoral stimulation<br></span>\n",
    "<span style=\"font-family:Arial\">A61H19/40\t•\tDevices insertable in the genitals<br></span>\n",
    "<span style=\"font-family:Arial\">A61H19/44\t••\tHaving substantially cylindrical shape, e.g. dildos<br></span>\n",
    "<span style=\"font-family:Arial\">A61H19/50\t•\tDevices for use during sexual intercourse<br></span></I>\n",
    "\n",
    "\n",
    "#### Input needed: \n",
    "<I><span style=\"font-family:Arial\">This module use libraries, function and processed text data present in initial_processing module</span></I>\n",
    "\n",
    "#### Output expected: \n",
    "<I><span style=\"font-family:Arial\">This module will identify patents in A61H1900 class in test data.<br>This output is pass to the module final_file. No output is expected in this module alone.</span></I>\n",
    "\n",
    "#### Related modules: \n",
    "<I><span style=\"font-family:Arial\">This module is calling initial_processing module and is called by final_file module</span></I>\n",
    "\n",
    "#### Who and when: \n",
    "<I><span style=\"font-family:Arial\">Last Modified by : Nishant Chauhan</span><br>\n",
    "<span style=\"font-family:Arial\">Last Modified on : 23-July-2020</span><br>\n",
    "<span style=\"font-family:Arial\">Version no       : 2</span><br>\n",
    "<span style=\"font-family:Arial\">Developed by     : Nishant Chauhan </span><br></font></I>\n"
   ]
  },
  {
   "cell_type": "code",
   "execution_count": 1,
   "metadata": {},
   "outputs": [
    {
     "name": "stdout",
     "output_type": "stream",
     "text": [
      "importing Jupyter notebook from Initial_processing.ipynb\n",
      "Loading of module Initial processing is successfully complete.\n"
     ]
    }
   ],
   "source": [
    "import os\n",
    "import sys\n",
    "import import_ipynb\n",
    "from Initial_processing import *"
   ]
  },
  {
   "cell_type": "code",
   "execution_count": 2,
   "metadata": {},
   "outputs": [
    {
     "data": {
      "text/plain": [
       "0    3591\n",
       "1     326\n",
       "Name: A61H1900, dtype: int64"
      ]
     },
     "execution_count": 2,
     "metadata": {},
     "output_type": "execute_result"
    }
   ],
   "source": [
    "df['A61H1900'] = df['CPC'].str.contains('A61H19|A61H0019|A61H 19').astype('int')\n",
    "df['A61H1900'].value_counts()"
   ]
  },
  {
   "cell_type": "markdown",
   "metadata": {},
   "source": [
    "## Model training and prediction"
   ]
  },
  {
   "cell_type": "code",
   "execution_count": 187,
   "metadata": {},
   "outputs": [],
   "source": [
    "y_train = df['A61H1900']\n",
    "\n",
    "model_title , score_title = train_model(X_title_dtm, y_train)\n",
    "\n",
    "y_pred_class_title = model_title.predict(X_title_test_dtm)"
   ]
  },
  {
   "cell_type": "code",
   "execution_count": 188,
   "metadata": {},
   "outputs": [],
   "source": [
    "model_abstract , score_abstract = train_model(X_abstract_dtm, y_train)\n",
    "\n",
    "y_pred_class_abstract = model_abstract.predict(X_abstract_test_dtm)"
   ]
  },
  {
   "cell_type": "code",
   "execution_count": 189,
   "metadata": {},
   "outputs": [
    {
     "name": "stdout",
     "output_type": "stream",
     "text": [
      "Training data accuracy score :  0.9647717825446795\n"
     ]
    }
   ],
   "source": [
    "model_tab , score_tab = train_model(X_tab_dtm, y_train)\n",
    "\n",
    "y_pred_class_tab = model_tab.predict(X_tab_test_dtm)\n",
    "\n",
    "print(\"Training data accuracy score : \" ,((score_abstract.mean() + score_title.mean() + score_tab.mean())/3))"
   ]
  },
  {
   "cell_type": "code",
   "execution_count": 196,
   "metadata": {},
   "outputs": [],
   "source": [
    "df_first = pd.DataFrame(df_test[['number','title','abstract']])"
   ]
  },
  {
   "cell_type": "code",
   "execution_count": 197,
   "metadata": {},
   "outputs": [],
   "source": [
    "df_first['title_prediction'] = y_pred_class_title\n",
    "df_first['abstract_prediction'] = y_pred_class_abstract\n",
    "df_first['all_text'] = X_all"
   ]
  },
  {
   "cell_type": "markdown",
   "metadata": {},
   "source": [
    "## Predicting using words"
   ]
  },
  {
   "cell_type": "code",
   "execution_count": 198,
   "metadata": {},
   "outputs": [],
   "source": [
    "# AND Operator keywords\n",
    "\n",
    "A61H1900 = ['intimate pleasure enhanc device', 'improve sexual intercourse', \n",
    "            'device external stimulat genital', 'device insert genital',\n",
    "            'dildo', 'fellatio device','sex vibrator', 'sexual aid apparatus']"
   ]
  },
  {
   "cell_type": "code",
   "execution_count": 199,
   "metadata": {},
   "outputs": [],
   "source": [
    "# NEAR operator keywords (List1 NEAR5 List2)\n",
    "\n",
    "A61H1900_list1 = ['sex', 'genital', 'vagina', 'penis', 'clitor', 'breast','labia']\n",
    "A61H1900_list2 = ['massag', 'stimulat', 'therap', 'activity', 'toy']"
   ]
  },
  {
   "cell_type": "code",
   "execution_count": 200,
   "metadata": {},
   "outputs": [],
   "source": [
    "#SSTO command e.g. search \"eye massage device\" as single word\n",
    "\n",
    "A61H1900_word = ['fellatio device', 'vibrating ring', 'sexual intercourse', 'sexual aid device']"
   ]
  },
  {
   "cell_type": "code",
   "execution_count": 201,
   "metadata": {},
   "outputs": [],
   "source": [
    "new_col = []\n",
    "for i in range(len(df_first['all_text'])):\n",
    "    check_word = (near_operator(df_first['all_text'][i],A61H1900_list1,A61H1900_list2, near=6) or \n",
    "                 and_operator(df_first['all_text'][i],A61H1900) or\n",
    "                 ssto(df_first['all_text'][i], A61H1900_word)) \n",
    "    new_col.append(check_word)\n",
    "    \n",
    "df_first['word_predict'] = new_col"
   ]
  },
  {
   "cell_type": "code",
   "execution_count": 202,
   "metadata": {},
   "outputs": [],
   "source": [
    "df_first['A61H1900'] = df_first['word_predict'] + df_first['title_prediction'] + df_first['abstract_prediction']\n",
    "\n",
    "for row in range(len(df_first['A61H1900'])):\n",
    "    if df_first.loc[row, 'A61H1900'] > 0:\n",
    "        df_first.loc[row, 'A61H1900'] = 1\n",
    "    else:\n",
    "        df_first.loc[row, 'A61H1900'] = 0"
   ]
  },
  {
   "cell_type": "code",
   "execution_count": 203,
   "metadata": {},
   "outputs": [],
   "source": [
    "df_second = df_first.drop(['title_prediction','abstract_prediction', 'word_predict'],axis=1)"
   ]
  },
  {
   "cell_type": "markdown",
   "metadata": {},
   "source": [
    "## Sub-classification of A61H19/00 (this section need improvement)"
   ]
  },
  {
   "cell_type": "markdown",
   "metadata": {},
   "source": [
    "### A61H19/30    •    Devices for external stimulation of the genitals"
   ]
  },
  {
   "cell_type": "code",
   "execution_count": 204,
   "metadata": {},
   "outputs": [],
   "source": [
    "# AND Operator keywords\n",
    "A61H1930 = ['external massag vagina', 'penis massage']\n",
    "\n",
    "# NEAR operator keywords (List1 NEAR5 List2)\n",
    "A61H1930_list1 = ['external']\n",
    "A61H1930_list2 = ['massag', 'stimulat', 'therap']\n",
    "\n",
    "#SSTO command e.g. search \"eye massage device\" as single word\n",
    "A61H1930_word = ['external stimulat', 'penis massag']\n"
   ]
  },
  {
   "cell_type": "code",
   "execution_count": 205,
   "metadata": {},
   "outputs": [],
   "source": [
    "new_col_1930 = []\n",
    "for i in range(len(df_second['all_text'])):\n",
    "    if df_second['A61H1900'][i] == 1:\n",
    "        check_word_1930 = int((near_operator(df_second['all_text'][i],A61H1930_list1,A61H1930_list2, near=4)or \n",
    "                           and_operator(df_second['all_text'][i],A61H1930) or\n",
    "                           ssto(df_second['all_text'][i], A61H1930_word)))\n",
    "    else:\n",
    "        check_word_1930 = 0\n",
    "    \n",
    "    new_col_1930.append(check_word_1930)\n",
    "    \n",
    "df_second['A61H1930'] = new_col_1930"
   ]
  },
  {
   "cell_type": "markdown",
   "metadata": {},
   "source": [
    "### A61H19/32    ••    for inserting the genitals therein"
   ]
  },
  {
   "cell_type": "code",
   "execution_count": 206,
   "metadata": {},
   "outputs": [],
   "source": [
    "# AND Operator keywords\n",
    "A61H1932 = ['vibrat ring', 'breast stimulat device']\n",
    "\n",
    "# NEAR operator keywords (List1 NEAR5 List2)\n",
    "A61H1932_list1 = ['insert', 'vibrat', 'stimulat']\n",
    "A61H1932_list2 = ['genital', 'penis', 'male organ', 'female organ', 'vagina', 'ring', 'breast']\n",
    "\n",
    "#SSTO command e.g. search \"eye massage device\" as single word\n",
    "A61H1932_word = ['vibrating ring', 'breast stimulat']\n"
   ]
  },
  {
   "cell_type": "code",
   "execution_count": 207,
   "metadata": {},
   "outputs": [],
   "source": [
    "new_col_1932 = []\n",
    "for i in range(len(df_second['all_text'])):\n",
    "    if df_second['A61H1900'][i] == 1:\n",
    "        check_word_1932 = int((near_operator(df_second['all_text'][i],A61H1932_list1,A61H1932_list2, near=4)or \n",
    "                           and_operator(df_second['all_text'][i],A61H1932) or\n",
    "                           ssto(df_second['all_text'][i], A61H1932_word)))\n",
    "    else:\n",
    "        check_word_1932 = 0\n",
    "    \n",
    "    new_col_1932.append(check_word_1932)\n",
    "    \n",
    "df_second['A61H1932'] = new_col_1932"
   ]
  },
  {
   "cell_type": "markdown",
   "metadata": {},
   "source": [
    "### A61H19/34    ••    For clitoral stimulation"
   ]
  },
  {
   "cell_type": "code",
   "execution_count": 208,
   "metadata": {},
   "outputs": [],
   "source": [
    "# AND Operator keywords\n",
    "A61H1934 = ['clitorial stimulat']\n",
    "\n",
    "# NEAR operator keywords (List1 NEAR5 List2)\n",
    "A61H1934_list1 = ['clitorial', 'labia']\n",
    "A61H1934_list2 = ['stimulat']\n",
    "\n",
    "#SSTO command e.g. search \"eye massage device\" as single word\n",
    "A61H1934_word = ['clitorial stimulation']\n"
   ]
  },
  {
   "cell_type": "code",
   "execution_count": 209,
   "metadata": {},
   "outputs": [],
   "source": [
    "new_col_1934 = []\n",
    "for i in range(len(df_second['all_text'])):\n",
    "    if df_second['A61H1900'][i] == 1:\n",
    "        check_word_1934 = int((near_operator(df_second['all_text'][i],A61H1934_list1,A61H1934_list2, near=4)or \n",
    "                           and_operator(df_second['all_text'][i],A61H1934) or\n",
    "                           ssto(df_second['all_text'][i], A61H1934_word)))\n",
    "    else:\n",
    "        check_word_1934 = 0\n",
    "    \n",
    "    new_col_1934.append(check_word_1934)\n",
    "    \n",
    "df_second['A61H1934'] = new_col_1934"
   ]
  },
  {
   "cell_type": "markdown",
   "metadata": {},
   "source": [
    "### A61H19/40    •    Devices insertable in the genitals"
   ]
  },
  {
   "cell_type": "code",
   "execution_count": 210,
   "metadata": {},
   "outputs": [],
   "source": [
    "# AND Operator keywords\n",
    "A61H1940 = ['insertable genital']\n",
    "\n",
    "# NEAR operator keywords (List1 NEAR5 List2)\n",
    "A61H1940_list1 = ['insert']\n",
    "A61H1940_list2 = ['genital', 'vagina', 'female organ']\n",
    "\n",
    "#SSTO command e.g. search \"eye massage device\" as single word\n",
    "A61H1940_word = ['devices insertable genital', 'masturbation device']\n"
   ]
  },
  {
   "cell_type": "code",
   "execution_count": 211,
   "metadata": {},
   "outputs": [],
   "source": [
    "new_col_1940 = []\n",
    "for i in range(len(df_second['all_text'])):\n",
    "    if df_second['A61H1900'][i] == 1:\n",
    "        check_word_1940 = int((near_operator(df_second['all_text'][i],A61H1940_list1,A61H1940_list2, near=5)or \n",
    "                           and_operator(df_second['all_text'][i],A61H1940) or\n",
    "                           ssto(df_second['all_text'][i], A61H1940_word)))\n",
    "    else:\n",
    "        check_word_1940 = 0\n",
    "    \n",
    "    new_col_1940.append(check_word_1940)\n",
    "    \n",
    "df_second['A61H1940'] = new_col_1940"
   ]
  },
  {
   "cell_type": "markdown",
   "metadata": {},
   "source": [
    "### A61H19/44    ••    Having substantially cylindrical shape, e.g. dildos"
   ]
  },
  {
   "cell_type": "code",
   "execution_count": 212,
   "metadata": {},
   "outputs": [],
   "source": [
    "# AND Operator keywords\n",
    "A61H1944 = ['didlo']\n",
    "\n",
    "# NEAR operator keywords (List1 NEAR5 List2)\n",
    "A61H1944_list1 = ['cylindr']\n",
    "A61H1944_list2 = ['shape']\n",
    "\n",
    "#SSTO command e.g. search \"eye massage device\" as single word\n",
    "A61H1944_word = ['didlo', 'cylidrical shape']\n"
   ]
  },
  {
   "cell_type": "code",
   "execution_count": 213,
   "metadata": {},
   "outputs": [],
   "source": [
    "new_col_1944 = []\n",
    "for i in range(len(df_second['all_text'])):\n",
    "    if df_second['A61H1900'][i] == 1:\n",
    "        check_word_1944 = int((near_operator(df_second['all_text'][i],A61H1944_list1,A61H1944_list2, near=5)or \n",
    "                           and_operator(df_second['all_text'][i],A61H1944) or\n",
    "                           ssto(df_second['all_text'][i], A61H1944_word)))\n",
    "    else:\n",
    "        check_word_1944 = 0\n",
    "    \n",
    "    new_col_1944.append(check_word_1944)\n",
    "    \n",
    "df_second['A61H1944'] = new_col_1944"
   ]
  },
  {
   "cell_type": "markdown",
   "metadata": {},
   "source": [
    "### A61H19/50    •    Devices for use during sexual intercourse"
   ]
  },
  {
   "cell_type": "code",
   "execution_count": 214,
   "metadata": {},
   "outputs": [],
   "source": [
    "# AND Operator keywords\n",
    "A61H1950 = ['sexual intercourse']\n",
    "\n",
    "# NEAR operator keywords (List1 NEAR5 List2)\n",
    "A61H1950_list1 = ['sex', 'enhanc', 'improv']\n",
    "A61H1950_list2 = ['activity', 'intercourse', 'sexual pleasure']\n",
    "\n",
    "#SSTO command e.g. search \"eye massage device\" as single word\n",
    "A61H1950_word = ['sexual intercourse']\n"
   ]
  },
  {
   "cell_type": "code",
   "execution_count": 215,
   "metadata": {},
   "outputs": [],
   "source": [
    "new_col_1950 = []\n",
    "for i in range(len(df_second['all_text'])):\n",
    "    if df_second['A61H1900'][i] == 1:\n",
    "        check_word_1950 = int((near_operator(df_second['all_text'][i],A61H1950_list1,A61H1950_list2, near=5)or \n",
    "                           and_operator(df_second['all_text'][i],A61H1950) or\n",
    "                           ssto(df_second['all_text'][i], A61H1950_word)))\n",
    "    else:\n",
    "        check_word_1950 = 0\n",
    "    \n",
    "    new_col_1950.append(check_word_1950)\n",
    "    \n",
    "df_second['A61H1950'] = new_col_1950"
   ]
  },
  {
   "cell_type": "markdown",
   "metadata": {},
   "source": [
    "## Final step"
   ]
  },
  {
   "cell_type": "code",
   "execution_count": 216,
   "metadata": {},
   "outputs": [],
   "source": [
    "for i in range(4,len(df_second.columns)):\n",
    "    df_second.iloc[:,i].replace(1,df_second.columns[i], inplace=True)\n",
    "    df_second.iloc[:,i].replace(0,'', inplace=True)"
   ]
  },
  {
   "cell_type": "code",
   "execution_count": 217,
   "metadata": {},
   "outputs": [],
   "source": [
    "cols = ['A61H1900','A61H1930', 'A61H1932', 'A61H1934','A61H1940','A61H1944','A61H1950']\n",
    "\n",
    "df_second['prediction'] = ''\n",
    "for i in range(len(df_second)):\n",
    "    for col in cols:\n",
    "        if not df_second.loc[i,col] == '':\n",
    "            df_second.loc[i,'prediction'] = (df_second.loc[i,'prediction'] + ' | '\n",
    "                                                        + df_second.loc[i,col])\n",
    "\n",
    "df_second['prediction'] = df_second['prediction'].str[3:]"
   ]
  },
  {
   "cell_type": "code",
   "execution_count": 218,
   "metadata": {},
   "outputs": [],
   "source": [
    "df_final = df_second.drop(\n",
    "    columns= ['A61H1900','A61H1930', 'A61H1932', 'A61H1934','A61H1940','A61H1944','A61H1950', 'all_text'], axis=1)"
   ]
  },
  {
   "cell_type": "code",
   "execution_count": 219,
   "metadata": {},
   "outputs": [
    {
     "name": "stdout",
     "output_type": "stream",
     "text": [
      "Loading of module A61H1900 is successfully complete.\n"
     ]
    }
   ],
   "source": [
    "from datetime import datetime\n",
    "dt_string = datetime.now().strftime(\"%d/%b/%Y - %H:%M %p\")\n",
    "print(\"Module A61H1900 is successfully loaded on\",dt_string)"
   ]
  },
  {
   "cell_type": "code",
   "execution_count": null,
   "metadata": {},
   "outputs": [],
   "source": []
  }
 ],
 "metadata": {
  "kernelspec": {
   "display_name": "Python 3",
   "language": "python",
   "name": "python3"
  },
  "language_info": {
   "codemirror_mode": {
    "name": "ipython",
    "version": 3
   },
   "file_extension": ".py",
   "mimetype": "text/x-python",
   "name": "python",
   "nbconvert_exporter": "python",
   "pygments_lexer": "ipython3",
   "version": "3.8.5"
  }
 },
 "nbformat": 4,
 "nbformat_minor": 2
}
