{
 "cells": [
  {
   "cell_type": "markdown",
   "metadata": {},
   "source": [
    "# A61H CPC Classification - A61H2100\n",
    "\n",
    "<font size=\"3\">\n",
    "\n",
    "#### About the Module:\n",
    "<I><span style=\"font-family:Arial\">This module work to identify patents in A61H2100 class.<br></span>\n",
    "<span style=\"font-family:Arial\">This class includes massage devices for body cavities e.g. nose, ears, anus etc.<br></span></I>\n",
    "\n",
    "#### Input needed: \n",
    "<I><span style=\"font-family:Arial\">This module use libraries, function and processed text data present in initial_processing module</span></I>\n",
    "\n",
    "#### Output expected: \n",
    "<I><span style=\"font-family:Arial\">This module will identify patents in A61H2100 class in test data.<br>This output is pass to the module final_file. No output is expected in this module alone.</span></I>\n",
    "\n",
    "#### Related modules: \n",
    "<I><span style=\"font-family:Arial\">This module is calling initial_processing module and is called by final_file module</span></I>\n",
    "#### Who and when: \n",
    "<I><span style=\"font-family:Arial\">Last Modified by : Nishant Chauhan</span><br>\n",
    "<span style=\"font-family:Arial\">Last Modified on : 23-July-2020</span><br>\n",
    "<span style=\"font-family:Arial\">Version no       : 2</span><br>\n",
    "<span style=\"font-family:Arial\">Developed by     : Nishant Chauhan </span><br></font></I>\n"
   ]
  },
  {
   "cell_type": "code",
   "execution_count": 1,
   "metadata": {},
   "outputs": [
    {
     "name": "stdout",
     "output_type": "stream",
     "text": [
      "importing Jupyter notebook from Initial_processing.ipynb\n",
      "Loading of module Initial processing is successfully complete.\n"
     ]
    }
   ],
   "source": [
    "import os\n",
    "import sys\n",
    "import import_ipynb\n",
    "from Initial_processing import *"
   ]
  },
  {
   "cell_type": "code",
   "execution_count": 148,
   "metadata": {},
   "outputs": [
    {
     "data": {
      "text/plain": [
       "0    3836\n",
       "1      81\n",
       "Name: A61H2100, dtype: int64"
      ]
     },
     "execution_count": 148,
     "metadata": {},
     "output_type": "execute_result"
    }
   ],
   "source": [
    "df['A61H2100'] = df['CPC'].str.contains('A61H21|A61H0021|A61H 21').astype('int')\n",
    "df['A61H2100'].value_counts()"
   ]
  },
  {
   "cell_type": "markdown",
   "metadata": {},
   "source": [
    "### Due to low number of patents in this category, machine learning algorithms is not producing good result in this category. Proper use of keywords will produce better result."
   ]
  },
  {
   "cell_type": "code",
   "execution_count": 149,
   "metadata": {},
   "outputs": [],
   "source": [
    "df_first = pd.DataFrame(df_test[['number','title','abstract']])\n",
    "df_first['all_text'] = X_all"
   ]
  },
  {
   "cell_type": "markdown",
   "metadata": {},
   "source": [
    "## Predicting using words"
   ]
  },
  {
   "cell_type": "code",
   "execution_count": 150,
   "metadata": {},
   "outputs": [],
   "source": [
    "# AND Operator keywords\n",
    "\n",
    "A61H2100 = ['massag anus']"
   ]
  },
  {
   "cell_type": "code",
   "execution_count": 151,
   "metadata": {},
   "outputs": [],
   "source": [
    "# NEAR operator keywords (List1 NEAR5 List2)\n",
    "\n",
    "A61H2100_list1 = ['anus', 'body cavity', 'body cavities']\n",
    "A61H2100_list2 = ['massag', 'therap']"
   ]
  },
  {
   "cell_type": "code",
   "execution_count": 152,
   "metadata": {},
   "outputs": [],
   "source": [
    "#SSTO command e.g. search \"eye massage device\" as single word\n",
    "\n",
    "A61H2100_word = ['human body cavit', 'body cavity massag', 'nose massag', 'ear clean', 'ear massag']"
   ]
  },
  {
   "cell_type": "code",
   "execution_count": 153,
   "metadata": {},
   "outputs": [],
   "source": [
    "new_col = []\n",
    "for i in range(len(df_first['all_text'])):\n",
    "    check_word = (near_operator(df_first['all_text'][i],A61H2100_list1,A61H2100_list2, near=3) or \n",
    "                 and_operator(df_first['all_text'][i],A61H2100) or\n",
    "                 ssto(df_first['all_text'][i], A61H2100_word)) \n",
    "    new_col.append(check_word)\n",
    "    \n",
    "df_first['word_predict'] = new_col"
   ]
  },
  {
   "cell_type": "code",
   "execution_count": 154,
   "metadata": {},
   "outputs": [],
   "source": [
    "df_first['A61H2100'] = df_first['word_predict']\n",
    "\n",
    "for row in range(len(df_first['A61H2100'])):\n",
    "    if df_first.loc[row, 'A61H2100'] > 0:\n",
    "        df_first.loc[row, 'A61H2100'] = 1\n",
    "    else:\n",
    "        df_first.loc[row, 'A61H2100'] = 0"
   ]
  },
  {
   "cell_type": "code",
   "execution_count": 155,
   "metadata": {},
   "outputs": [],
   "source": [
    "df_second = df_first.drop(['word_predict'],axis=1)"
   ]
  },
  {
   "cell_type": "markdown",
   "metadata": {},
   "source": [
    "### No subclass is present for A61H2100"
   ]
  },
  {
   "cell_type": "markdown",
   "metadata": {},
   "source": [
    "## Final step"
   ]
  },
  {
   "cell_type": "code",
   "execution_count": 156,
   "metadata": {},
   "outputs": [],
   "source": [
    "for i in range(4,len(df_second.columns)):\n",
    "    df_second.iloc[:,i].replace(1,df_second.columns[i], inplace=True)\n",
    "    df_second.iloc[:,i].replace(0,'', inplace=True)"
   ]
  },
  {
   "cell_type": "code",
   "execution_count": 157,
   "metadata": {},
   "outputs": [],
   "source": [
    "cols = ['A61H2100']\n",
    "\n",
    "df_second['prediction'] = ''\n",
    "for i in range(len(df_second)):\n",
    "    for col in cols:\n",
    "        if not df_second.loc[i,col] == '':\n",
    "            df_second.loc[i,'prediction'] = (df_second.loc[i,'prediction'] + ' | '\n",
    "                                                        + df_second.loc[i,col])\n",
    "\n",
    "df_second['prediction'] = df_second['prediction'].str[3:]"
   ]
  },
  {
   "cell_type": "code",
   "execution_count": 158,
   "metadata": {},
   "outputs": [],
   "source": [
    "df_final = df_second.drop(\n",
    "    columns= ['A61H2100', 'all_text'], axis=1)"
   ]
  },
  {
   "cell_type": "code",
   "execution_count": 159,
   "metadata": {},
   "outputs": [
    {
     "name": "stdout",
     "output_type": "stream",
     "text": [
      "Loading of module A61H2100 is successfully complete.\n"
     ]
    }
   ],
   "source": [
    "from datetime import datetime\n",
    "dt_string = datetime.now().strftime(\"%d/%b/%Y - %H:%M %p\")\n",
    "print(\"Module A61H2100 is successfully loaded on\",dt_string)"
   ]
  },
  {
   "cell_type": "code",
   "execution_count": null,
   "metadata": {},
   "outputs": [],
   "source": []
  },
  {
   "cell_type": "code",
   "execution_count": null,
   "metadata": {},
   "outputs": [],
   "source": []
  }
 ],
 "metadata": {
  "kernelspec": {
   "display_name": "Python 3",
   "language": "python",
   "name": "python3"
  },
  "language_info": {
   "codemirror_mode": {
    "name": "ipython",
    "version": 3
   },
   "file_extension": ".py",
   "mimetype": "text/x-python",
   "name": "python",
   "nbconvert_exporter": "python",
   "pygments_lexer": "ipython3",
   "version": "3.8.5"
  }
 },
 "nbformat": 4,
 "nbformat_minor": 2
}
