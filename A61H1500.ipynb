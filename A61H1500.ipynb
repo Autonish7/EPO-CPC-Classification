{
 "cells": [
  {
   "cell_type": "markdown",
   "metadata": {},
   "source": [
    "# A61H CPC Classification - A61H1500\n",
    "\n",
    "\n",
    "\n",
    "#### About the Module:\n",
    "<I><span style=\"font-family:Arial\">This module work to identify patents in A61H1500 class. Class detail is as follow<br></span>\n",
    "<span style=\"font-family:Arial\">A61H15/00&emsp;&emsp;&emsp;&emsp;•&emsp;Massage by means of rollers, balls, e.g. inflatable,\n",
    "chains, or roller chains<br></span>\n",
    "<span style=\"font-family:Arial\">A61H2015/0007&emsp;&emsp;•&emsp;with balls or rollers rotating about their own axis<br></span>\n",
    "<span style=\"font-family:Arial\">A61H2015/0014&emsp;&emsp;••&emsp;cylinder-like, i.e. rollers<br></span>\n",
    "<span style=\"font-family:Arial\">A61H2015/0021&emsp;&emsp;•••&emsp;multiple on the same axis<br></span>\n",
    "<span style=\"font-family:Arial\">A61H2015/0028&emsp;&emsp;••&emsp;disc-like, i.e. diameter substantially greater than\n",
    "width}<br></span>\n",
    "<span style=\"font-family:Arial\">A61H2015/0035&emsp;&emsp;•••&emsp;multiple on the same axis<br></span>\n",
    "<span style=\"font-family:Arial\">A61H2015/0042&emsp;&emsp;••&emsp;Balls or spheres<br></span>\n",
    "<span style=\"font-family:Arial\">A61H2015/005 &emsp;&emsp; •••&emsp;multiple on the same axis<br></span>\n",
    "<span style=\"font-family:Arial\">A61H2015/0057&emsp;&emsp;••&emsp;the axis being resiliently biased<br></span>\n",
    "<span style=\"font-family:Arial\">A61H2015/0064&emsp;&emsp;•&emsp;with freely rotating spheres<br></span>\n",
    "<span style=\"font-family:Arial\">A61H2015/0071&emsp;&emsp;•&emsp;with balls or rollers having built-in vibrating\n",
    "means<br></span>\n",
    "<span style=\"font-family:Arial\">A61H15/0078 &emsp; &emsp; •&emsp;power driven<br></span>\n",
    "<span style=\"font-family:Arial\">A61H15/0085 &emsp; &emsp; ••&emsp;hand-held<br></span>\n",
    "<span style=\"font-family:Arial\">A61H15/0092 &emsp; &emsp; •&emsp;hand-held<br></span>\n",
    "<span style=\"font-family:Arial\">A61H15/02&emsp;&emsp;&emsp;&emsp;•&emsp;adapted for simultaneous treatment with light, heat\n",
    "or drugs<br></span>\n",
    "\n",
    "<font size=\"3\">\n",
    "\n",
    "#### Input needed: \n",
    "<I><span style=\"font-family:Arial\">This module use libraries, function and processed text data present in initial_processing module</span></I>\n",
    "\n",
    "#### Output expected: \n",
    "<I><span style=\"font-family:Arial\">This module will identify patents in A61H1500 class in test data.<br>This output is pass to the module final_file. No output is expected in this module alone.</span></I>\n",
    "\n",
    "#### Related modules: \n",
    "<I><span style=\"font-family:Arial\">This module is calling initial_processing module and is called by final_file module</span></I>\n",
    "\n",
    "#### Who and when: \n",
    "<I><span style=\"font-family:Arial\">Last Modified by : Nishant Chauhan</span><br>\n",
    "<span style=\"font-family:Arial\">Last Modified on : 24-July-2020</span><br>\n",
    "<span style=\"font-family:Arial\">Version no       : 2</span><br>\n",
    "<span style=\"font-family:Arial\">Developed by     : Nishant Chauhan </span><br></font></I>\n"
   ]
  },
  {
   "cell_type": "code",
   "execution_count": 1,
   "metadata": {},
   "outputs": [
    {
     "name": "stdout",
     "output_type": "stream",
     "text": [
      "importing Jupyter notebook from Initial_processing.ipynb\n",
      "Loading of module Initial processing is successfully complete.\n"
     ]
    }
   ],
   "source": [
    "import os\n",
    "import sys\n",
    "import import_ipynb\n",
    "from Initial_processing import *"
   ]
  },
  {
   "cell_type": "code",
   "execution_count": 2,
   "metadata": {},
   "outputs": [
    {
     "data": {
      "text/plain": [
       "0    3513\n",
       "1     404\n",
       "Name: A61H1500, dtype: int64"
      ]
     },
     "execution_count": 2,
     "metadata": {},
     "output_type": "execute_result"
    }
   ],
   "source": [
    "df['A61H1500'] = df['CPC'].str.contains('A61H15/|A61H2015|A61H 15/').astype('int')\n",
    "df['A61H1500'].value_counts()"
   ]
  },
  {
   "cell_type": "markdown",
   "metadata": {},
   "source": [
    "## Model training and prediction"
   ]
  },
  {
   "cell_type": "code",
   "execution_count": 3,
   "metadata": {},
   "outputs": [],
   "source": [
    "y_train = df['A61H1500']\n",
    "\n",
    "model_title , score_title = train_model(X_title_dtm, y_train)\n",
    "\n",
    "y_pred_class_title = model_title.predict(X_title_test_dtm)"
   ]
  },
  {
   "cell_type": "code",
   "execution_count": 4,
   "metadata": {},
   "outputs": [],
   "source": [
    "model_abstract , score_abstract = train_model(X_abstract_dtm, y_train)\n",
    "\n",
    "y_pred_class_abstract = model_abstract.predict(X_abstract_test_dtm)"
   ]
  },
  {
   "cell_type": "code",
   "execution_count": 5,
   "metadata": {},
   "outputs": [
    {
     "name": "stdout",
     "output_type": "stream",
     "text": [
      "Training data accuracy score :  0.9294540802050176\n"
     ]
    }
   ],
   "source": [
    "model_tab , score_tab = train_model(X_tab_dtm, y_train)\n",
    "\n",
    "y_pred_class_tab = model_tab.predict(X_tab_test_dtm)\n",
    "\n",
    "print(\"Training data accuracy score : \" ,((score_abstract.mean() + score_title.mean() + score_tab.mean())/3))"
   ]
  },
  {
   "cell_type": "code",
   "execution_count": 321,
   "metadata": {},
   "outputs": [],
   "source": [
    "df_first = pd.DataFrame(df_test[['number','title','abstract']])"
   ]
  },
  {
   "cell_type": "code",
   "execution_count": 322,
   "metadata": {},
   "outputs": [],
   "source": [
    "df_first['all_text'] = X_all\n",
    "df_first['title_prediction'] = y_pred_class_title\n",
    "df_first['abstract_prediction'] = y_pred_class_abstract"
   ]
  },
  {
   "cell_type": "markdown",
   "metadata": {},
   "source": [
    "## Predicting using words\n",
    "\n",
    "##### Note: we have 'AND', 'NEAR' and 'NOT' operations"
   ]
  },
  {
   "cell_type": "code",
   "execution_count": 323,
   "metadata": {},
   "outputs": [],
   "source": [
    "# AND Operator keywords\n",
    "\n",
    "A61H1500 = ['rotat rollers massag', 'cylindr roller massag', 'rotat sphere massag']\n",
    "A61H1500_1 = ['controller device'] #need work\n",
    "\n",
    "# NEAR operator keywords (List1 NEAR5 List2)\n",
    "\n",
    "A61H1500_list1 = ['roller', 'ball', 'spherical','sphere', 'inflatable','chain']\n",
    "A61H1500_list2 = ['massag', 'pressure', 'rotat']\n",
    "\n",
    "#SSTO command e.g. search \"eye massage device\" as single word\n",
    "\n",
    "A61H1500_word = []"
   ]
  },
  {
   "cell_type": "code",
   "execution_count": 324,
   "metadata": {},
   "outputs": [],
   "source": [
    "new_col = []\n",
    "for i in range(len(df_first['all_text'])):\n",
    "    check_word =   ((near_operator(df_first['all_text'][i],A61H1500_list1,A61H1500_list2, near=5) and not\n",
    "                    and_operator(df_first['all_text'][i],A61H1500_1)) or\n",
    "                    and_operator(df_first['all_text'][i],A61H1500) or\n",
    "                    ssto(df_first['all_text'][i], A61H1500_word))\n",
    "    new_col.append(check_word)\n",
    "    \n",
    "df_first['word_predict'] = new_col"
   ]
  },
  {
   "cell_type": "code",
   "execution_count": 325,
   "metadata": {},
   "outputs": [],
   "source": [
    "df_first['A61H1500'] = df_first['word_predict'] + df_first['title_prediction'] + df_first['abstract_prediction']\n",
    "\n",
    "for row in range(len(df_first['A61H1500'])):\n",
    "    if df_first.loc[row, 'A61H1500'] > 0:\n",
    "        df_first.loc[row, 'A61H1500'] = 1\n",
    "    else:\n",
    "        df_first.loc[row, 'A61H1500'] = 0"
   ]
  },
  {
   "cell_type": "code",
   "execution_count": 326,
   "metadata": {},
   "outputs": [],
   "source": [
    "df_second = df_first.drop(['title_prediction','abstract_prediction', 'word_predict'],axis=1)"
   ]
  },
  {
   "cell_type": "markdown",
   "metadata": {},
   "source": [
    "## Sub-classification of A61H15/00 (this section need improvement)\n",
    "##### Note: may be get better result if stemming is off (e.g. roller is capturing controller)"
   ]
  },
  {
   "cell_type": "markdown",
   "metadata": {},
   "source": [
    "### A61H2015/0007  • with balls or rollers rotating about their own axis"
   ]
  },
  {
   "cell_type": "code",
   "execution_count": 328,
   "metadata": {},
   "outputs": [],
   "source": [
    "# AND Operator keywords\n",
    "A61H20150007 = ['ball', 'roller']\n",
    "\n",
    "# NEAR operator keywords (List1 NEAR5 List2)\n",
    "A61H20150007_list1 = []\n",
    "A61H20150007_list2 = []\n",
    "\n",
    "#SSTO command e.g. search \"eye massage device\" as single word\n",
    "A61H20150007_word = []"
   ]
  },
  {
   "cell_type": "code",
   "execution_count": 329,
   "metadata": {},
   "outputs": [],
   "source": [
    "new_col_20150007 = []\n",
    "for i in range(len(df_second['all_text'])):\n",
    "    if df_second['A61H1500'][i] == 1:\n",
    "        check_word_20150007 = int((near_operator(df_second['all_text'][i],A61H20150007_list1,A61H20150007_list2, near=5) or \n",
    "                           and_operator(df_second['all_text'][i],A61H20150007) or\n",
    "                           ssto(df_second['all_text'][i], A61H20150007_word)))\n",
    "    else:\n",
    "        check_word_20150007 = 0\n",
    "    \n",
    "    new_col_20150007.append(check_word_20150007)\n",
    "    \n",
    "df_second['A61H20150007'] = new_col_20150007"
   ]
  },
  {
   "cell_type": "markdown",
   "metadata": {},
   "source": [
    "### A61H2015/0014  •• cylinder-like, i.e. rollers"
   ]
  },
  {
   "cell_type": "code",
   "execution_count": 331,
   "metadata": {},
   "outputs": [],
   "source": [
    "# AND Operator keywords\n",
    "A61H20150014 = []\n",
    "\n",
    "# NEAR operator keywords (List1 NEAR5 List2)\n",
    "A61H20150014_list1 = ['cylinder', 'cylindrical']\n",
    "A61H20150014_list2 = ['roller']\n",
    "\n",
    "#SSTO command e.g. search \"eye massage device\" as single word\n",
    "A61H20150014_word = []"
   ]
  },
  {
   "cell_type": "code",
   "execution_count": 332,
   "metadata": {},
   "outputs": [],
   "source": [
    "new_col_20150014 = []\n",
    "for i in range(len(df_second['all_text'])):\n",
    "    if df_second['A61H20150007'][i] == 1:\n",
    "        check_word_20150014 = int((near_operator(df_second['all_text'][i],A61H20150014_list1,A61H20150014_list2, near=5) or \n",
    "                           and_operator(df_second['all_text'][i],A61H20150014) or\n",
    "                           ssto(df_second['all_text'][i], A61H20150014_word)))\n",
    "    else:\n",
    "        check_word_20150014 = 0\n",
    "    \n",
    "    new_col_20150014.append(check_word_20150014)\n",
    "    \n",
    "df_second['A61H20150014'] = new_col_20150014"
   ]
  },
  {
   "cell_type": "markdown",
   "metadata": {},
   "source": [
    "### A61H2015/0021  ••• multiple on the same axis"
   ]
  },
  {
   "cell_type": "code",
   "execution_count": 334,
   "metadata": {},
   "outputs": [],
   "source": [
    "# AND Operator keywords\n",
    "A61H20150021 = ['multiple roller same axis']\n",
    "\n",
    "# NEAR operator keywords (List1 NEAR5 List2)\n",
    "A61H20150021_list1 = ['multiple']\n",
    "A61H20150021_list2 = ['roller']\n",
    "\n",
    "#SSTO command e.g. search \"eye massage device\" as single word\n",
    "A61H20150021_word = []"
   ]
  },
  {
   "cell_type": "code",
   "execution_count": 335,
   "metadata": {},
   "outputs": [],
   "source": [
    "new_col_20150021 = []\n",
    "for i in range(len(df_second['all_text'])):\n",
    "    if df_second['A61H20150014'][i] == 1:\n",
    "        check_word_20150021 = int((near_operator(df_second['all_text'][i],A61H20150021_list1,A61H20150021_list2, near=4) or \n",
    "                           and_operator(df_second['all_text'][i],A61H20150021) or\n",
    "                           ssto(df_second['all_text'][i], A61H20150021_word)))\n",
    "    else:\n",
    "        check_word_20150021 = 0\n",
    "    \n",
    "    new_col_20150021.append(check_word_20150021)\n",
    "    \n",
    "df_second['A61H20150021'] = new_col_20150021"
   ]
  },
  {
   "cell_type": "markdown",
   "metadata": {},
   "source": [
    "### A61H2015/0028  •• disc-like, i.e. diameter substantially greater than width"
   ]
  },
  {
   "cell_type": "code",
   "execution_count": 337,
   "metadata": {},
   "outputs": [],
   "source": [
    "# AND Operator keywords\n",
    "A61H20150028 = []\n",
    "\n",
    "# NEAR operator keywords (List1 NEAR5 List2)\n",
    "A61H20150028_list1 = ['disc']\n",
    "A61H20150028_list2 = ['roller']\n",
    "\n",
    "#SSTO command e.g. search \"eye massage device\" as single word\n",
    "A61H20150028_word = []"
   ]
  },
  {
   "cell_type": "code",
   "execution_count": 338,
   "metadata": {},
   "outputs": [],
   "source": [
    "new_col_20150028 = []\n",
    "for i in range(len(df_second['all_text'])):\n",
    "    if df_second['A61H20150007'][i] == 1:\n",
    "        check_word_20150028 = int((near_operator(df_second['all_text'][i],A61H20150028_list1,A61H20150028_list2, near=4) or \n",
    "                           and_operator(df_second['all_text'][i],A61H20150028) or\n",
    "                           ssto(df_second['all_text'][i], A61H20150028_word)))\n",
    "    else:\n",
    "        check_word_20150028 = 0\n",
    "    \n",
    "    new_col_20150028.append(check_word_20150028)\n",
    "    \n",
    "df_second['A61H20150028'] = new_col_20150028"
   ]
  },
  {
   "cell_type": "markdown",
   "metadata": {},
   "source": [
    "### A61H2015/0035  ••• multiple on the same axis"
   ]
  },
  {
   "cell_type": "code",
   "execution_count": 339,
   "metadata": {},
   "outputs": [],
   "source": [
    "# AND Operator keywords\n",
    "A61H20150035 = []\n",
    "\n",
    "# NEAR operator keywords (List1 NEAR5 List2)\n",
    "A61H20150035_list1 = ['multiple', 'many']\n",
    "A61H20150035_list2 = ['axis']\n",
    "\n",
    "#SSTO command e.g. search \"eye massage device\" as single word\n",
    "A61H20150035_word = []"
   ]
  },
  {
   "cell_type": "code",
   "execution_count": 340,
   "metadata": {},
   "outputs": [],
   "source": [
    "new_col_20150035 = []\n",
    "for i in range(len(df_second['all_text'])):\n",
    "    if df_second['A61H20150028'][i] == 1:\n",
    "        check_word_20150035 = int((near_operator(df_second['all_text'][i],A61H20150035_list1,A61H20150035_list2, near=5) or \n",
    "                           and_operator(df_second['all_text'][i],A61H20150035) or\n",
    "                           ssto(df_second['all_text'][i], A61H20150035_word)))\n",
    "    else:\n",
    "        check_word_20150035 = 0\n",
    "    \n",
    "    new_col_20150035.append(check_word_20150035)\n",
    "    \n",
    "df_second['A61H20150035'] = new_col_20150035"
   ]
  },
  {
   "cell_type": "markdown",
   "metadata": {},
   "source": [
    "### A61H2015/0042  •• Balls or spheres"
   ]
  },
  {
   "cell_type": "code",
   "execution_count": 341,
   "metadata": {},
   "outputs": [],
   "source": [
    "# AND Operator keywords\n",
    "A61H20150042 = []\n",
    "\n",
    "# NEAR operator keywords (List1 NEAR5 List2)\n",
    "A61H20150042_list1 = ['ball', 'sphere', 'spherical']\n",
    "A61H20150042_list2 = ['roller', 'massage', 'therapy']\n",
    "\n",
    "#SSTO command e.g. search \"eye massage device\" as single word\n",
    "A61H20150042_word = []"
   ]
  },
  {
   "cell_type": "code",
   "execution_count": 342,
   "metadata": {},
   "outputs": [],
   "source": [
    "new_col_20150042 = []\n",
    "for i in range(len(df_second['all_text'])):\n",
    "    if df_second['A61H20150007'][i] == 1:\n",
    "        check_word_20150042 = int((near_operator(df_second['all_text'][i],A61H20150042_list1,A61H20150042_list2, near=5) or \n",
    "                           and_operator(df_second['all_text'][i],A61H20150042) or\n",
    "                           ssto(df_second['all_text'][i], A61H20150042_word)))\n",
    "    else:\n",
    "        check_word_20150042 = 0\n",
    "\n",
    "    new_col_20150042.append(check_word_20150042)\n",
    "    \n",
    "df_second['A61H20150042'] = new_col_20150042"
   ]
  },
  {
   "cell_type": "markdown",
   "metadata": {},
   "source": [
    "### A61H2015/005    ••• multiple on the same axis"
   ]
  },
  {
   "cell_type": "code",
   "execution_count": 343,
   "metadata": {},
   "outputs": [],
   "source": [
    "# AND Operator keywords\n",
    "A61H2015005 = []\n",
    "\n",
    "# NEAR operator keywords (List1 NEAR5 List2)\n",
    "A61H2015005_list1 = ['multiple', 'many', 'many']\n",
    "A61H2015005_list2 = ['ball', 'spher']\n",
    "\n",
    "#SSTO command e.g. search \"eye massage device\" as single word\n",
    "A61H2015005_word = []"
   ]
  },
  {
   "cell_type": "code",
   "execution_count": 344,
   "metadata": {},
   "outputs": [],
   "source": [
    "new_col_2015005 = []\n",
    "for i in range(len(df_second['all_text'])):\n",
    "    if df_second['A61H20150042'][i] == 1:\n",
    "        check_word_2015005 = int((near_operator(df_second['all_text'][i],A61H2015005_list1,A61H2015005_list2, near=5) or \n",
    "                           and_operator(df_second['all_text'][i],A61H2015005) or\n",
    "                           ssto(df_second['all_text'][i], A61H2015005_word)))\n",
    "    else:\n",
    "        check_word_2015005 = 0\n",
    "\n",
    "    new_col_2015005.append(check_word_2015005)\n",
    "    \n",
    "df_second['A61H2015005'] = new_col_2015005"
   ]
  },
  {
   "cell_type": "markdown",
   "metadata": {},
   "source": [
    "### A61H2015/0057  •• the axis being resiliently biased"
   ]
  },
  {
   "cell_type": "code",
   "execution_count": 345,
   "metadata": {},
   "outputs": [],
   "source": [
    "# AND Operator keywords\n",
    "A61H20150057 = []\n",
    "\n",
    "# NEAR operator keywords (List1 NEAR5 List2)\n",
    "A61H20150057_list1 = ['resilient']\n",
    "A61H20150057_list2 = ['axis']\n",
    "\n",
    "#SSTO command e.g. search \"eye massage device\" as single word\n",
    "A61H20150057_word = []"
   ]
  },
  {
   "cell_type": "code",
   "execution_count": 346,
   "metadata": {},
   "outputs": [],
   "source": [
    "new_col_20150057 = []\n",
    "for i in range(len(df_second['all_text'])):\n",
    "    if df_second['A61H20150007'][i] == 1:\n",
    "        check_word_20150057 = int((near_operator(df_second['all_text'][i],A61H20150057_list1,A61H20150057_list2, near=8) or \n",
    "                           and_operator(df_second['all_text'][i],A61H20150057) or\n",
    "                           ssto(df_second['all_text'][i], A61H20150057_word)))\n",
    "    else:\n",
    "        check_word_20150057 = 0\n",
    "\n",
    "    new_col_20150057.append(check_word_20150057)\n",
    "    \n",
    "df_second['A61H20150057'] = new_col_20150057"
   ]
  },
  {
   "cell_type": "markdown",
   "metadata": {},
   "source": [
    "### A61H2015/0064  • with freely rotating spheres"
   ]
  },
  {
   "cell_type": "code",
   "execution_count": 347,
   "metadata": {},
   "outputs": [],
   "source": [
    "# AND Operator keywords\n",
    "A61H20150064 = ['sphere', 'ball']\n",
    "\n",
    "# NEAR operator keywords (List1 NEAR5 List2)\n",
    "A61H20150064_list1 = ['free']\n",
    "A61H20150064_list2 = ['rotat']\n",
    "\n",
    "#SSTO command e.g. search \"eye massage device\" as single word\n",
    "A61H20150064_word = ['freely rotating sphere']"
   ]
  },
  {
   "cell_type": "code",
   "execution_count": 348,
   "metadata": {},
   "outputs": [],
   "source": [
    "new_col_20150064 = []\n",
    "for i in range(len(df_second['all_text'])):\n",
    "    if df_second['A61H1500'][i] == 1:\n",
    "        check_word_20150064 = int(((near_operator(df_second['all_text'][i],A61H20150064_list1,A61H20150064_list2, near=4) and \n",
    "                           and_operator(df_second['all_text'][i],A61H20150064)) or\n",
    "                           ssto(df_second['all_text'][i], A61H20150064_word)))\n",
    "    else:\n",
    "        check_word_20150064 = 0\n",
    "\n",
    "    new_col_20150064.append(check_word_20150064)\n",
    "    \n",
    "df_second['A61H20150064'] = new_col_20150064"
   ]
  },
  {
   "cell_type": "markdown",
   "metadata": {},
   "source": [
    "### A61H2015/0071  • with balls or rollers having built-in vibrating means"
   ]
  },
  {
   "cell_type": "code",
   "execution_count": 349,
   "metadata": {},
   "outputs": [],
   "source": [
    "# AND Operator keywords\n",
    "A61H20150071 = []\n",
    "\n",
    "# NEAR operator keywords (List1 NEAR5 List2)\n",
    "A61H20150071_list1 = ['sphere', 'ball', 'roller']\n",
    "A61H20150071_list2 = ['vibrat']\n",
    "\n",
    "#SSTO command e.g. search \"eye massage device\" as single word\n",
    "A61H20150071_word = []"
   ]
  },
  {
   "cell_type": "code",
   "execution_count": 350,
   "metadata": {},
   "outputs": [],
   "source": [
    "new_col_20150071 = []\n",
    "for i in range(len(df_second['all_text'])):\n",
    "    if df_second['A61H1500'][i] == 1:\n",
    "        check_word_20150071 = int(((near_operator(df_second['all_text'][i],A61H20150071_list1,A61H20150071_list2, near=8) or \n",
    "                           and_operator(df_second['all_text'][i],A61H20150071)) or\n",
    "                           ssto(df_second['all_text'][i], A61H20150071_word)))\n",
    "    else:\n",
    "        check_word_20150071 = 0\n",
    "\n",
    "    new_col_20150071.append(check_word_20150071)\n",
    "    \n",
    "df_second['A61H20150071'] = new_col_20150071"
   ]
  },
  {
   "cell_type": "markdown",
   "metadata": {},
   "source": [
    "### A61H15/0078     • power driven"
   ]
  },
  {
   "cell_type": "code",
   "execution_count": 351,
   "metadata": {},
   "outputs": [],
   "source": [
    "# AND Operator keywords\n",
    "A61H150078 = []\n",
    "\n",
    "# NEAR operator keywords (List1 NEAR5 List2)\n",
    "A61H150078_list1 = ['power', 'electric', 'motor']\n",
    "A61H150078_list2 = ['drive', 'driving']\n",
    "\n",
    "#SSTO command e.g. search \"eye massage device\" as single word\n",
    "A61H150078_word = []"
   ]
  },
  {
   "cell_type": "code",
   "execution_count": 352,
   "metadata": {},
   "outputs": [],
   "source": [
    "new_col_150078 = []\n",
    "for i in range(len(df_second['all_text'])):\n",
    "    if df_second['A61H1500'][i] == 1:\n",
    "        check_word_150078 = int(((near_operator(df_second['all_text'][i],A61H150078_list1,A61H150078_list2, near=5) or \n",
    "                           and_operator(df_second['all_text'][i],A61H150078)) or\n",
    "                           ssto(df_second['all_text'][i], A61H150078_word)))\n",
    "    else:\n",
    "        check_word_150078 = 0\n",
    "\n",
    "    new_col_150078.append(check_word_150078)\n",
    "    \n",
    "df_second['A61H150078'] = new_col_150078"
   ]
  },
  {
   "cell_type": "markdown",
   "metadata": {},
   "source": [
    "### A61H15/0085     •• hand-held"
   ]
  },
  {
   "cell_type": "code",
   "execution_count": 353,
   "metadata": {},
   "outputs": [],
   "source": [
    "# AND Operator keywords\n",
    "A61H150085 = ['handheld']\n",
    "\n",
    "# NEAR operator keywords (List1 NEAR5 List2)\n",
    "A61H150085_list1 = ['hand']\n",
    "A61H150085_list2 = ['driven']\n",
    "\n",
    "#SSTO command e.g. search \"eye massage device\" as single word\n",
    "A61H150085_word = []"
   ]
  },
  {
   "cell_type": "code",
   "execution_count": 354,
   "metadata": {},
   "outputs": [],
   "source": [
    "new_col_150085 = []\n",
    "for i in range(len(df_second['all_text'])):\n",
    "    if df_second['A61H150078'][i] == 1:\n",
    "        check_word_150085 = int(((near_operator(df_second['all_text'][i],A61H150085_list1,A61H150085_list2, near=5) or \n",
    "                           and_operator(df_second['all_text'][i],A61H150085)) or\n",
    "                           ssto(df_second['all_text'][i], A61H150085_word)))\n",
    "    else:\n",
    "        check_word_150085 = 0\n",
    "\n",
    "    new_col_150085.append(check_word_150085)\n",
    "    \n",
    "df_second['A61H150085'] = new_col_150085"
   ]
  },
  {
   "cell_type": "markdown",
   "metadata": {},
   "source": [
    "### A61H15/0092     • hand-held"
   ]
  },
  {
   "cell_type": "code",
   "execution_count": 356,
   "metadata": {},
   "outputs": [],
   "source": [
    "# AND Operator keywords\n",
    "A61H150092 = ['handheld']\n",
    "\n",
    "# NEAR operator keywords (List1 NEAR5 List2)\n",
    "A61H150092_list1 = ['hand']\n",
    "A61H150092_list2 = ['driven', 'held']\n",
    "\n",
    "#SSTO command e.g. search \"eye massage device\" as single word\n",
    "A61H150092_word = []"
   ]
  },
  {
   "cell_type": "code",
   "execution_count": 357,
   "metadata": {},
   "outputs": [],
   "source": [
    "new_col_150092 = []\n",
    "for i in range(len(df_second['all_text'])):\n",
    "    if (df_second['A61H1500'][i] == 1) & (df_second['A61H150078'][i] == 0):\n",
    "        check_word_150092 = int(((near_operator(df_second['all_text'][i],A61H150092_list1,A61H150092_list2, near=5) or \n",
    "                           and_operator(df_second['all_text'][i],A61H150092)) or\n",
    "                           ssto(df_second['all_text'][i], A61H150092_word)))\n",
    "    else:\n",
    "        check_word_150092 = 0\n",
    "\n",
    "    new_col_150092.append(check_word_150092)\n",
    "\n",
    "df_second['A61H150092'] = new_col_150092"
   ]
  },
  {
   "cell_type": "markdown",
   "metadata": {},
   "source": [
    "### A61H15/02    • adapted for simultaneous treatment with light, heat or drugs"
   ]
  },
  {
   "cell_type": "code",
   "execution_count": 358,
   "metadata": {},
   "outputs": [],
   "source": [
    "# AND Operator keywords\n",
    "A61H1502 = []\n",
    "\n",
    "# NEAR operator keywords (List1 NEAR5 List2)\n",
    "A61H1502_list1 = ['massag', 'therapy', 'treatment']\n",
    "A61H1502_list2 = ['light', 'heat', 'drug', 'medicine', 'aroma', 'radiation', 'electro', 'magneto']\n",
    "\n",
    "#SSTO command e.g. search \"eye massage device\" as single word\n",
    "A61H1502_word = []"
   ]
  },
  {
   "cell_type": "code",
   "execution_count": 359,
   "metadata": {},
   "outputs": [],
   "source": [
    "new_col_1502 = []\n",
    "for i in range(len(df_second['all_text'])):\n",
    "    if df_second['A61H1500'][i] == 1:\n",
    "        check_word_1502 = int(((near_operator(df_second['all_text'][i],A61H1502_list1,A61H1502_list2, near=5) or \n",
    "                           and_operator(df_second['all_text'][i],A61H1502)) or\n",
    "                           ssto(df_second['all_text'][i], A61H1502_word)))\n",
    "    else:\n",
    "        check_word_1502 = 0\n",
    "\n",
    "    new_col_1502.append(check_word_1502)\n",
    "\n",
    "df_second['A61H1502'] = new_col_1502"
   ]
  },
  {
   "cell_type": "markdown",
   "metadata": {},
   "source": [
    "## Final step"
   ]
  },
  {
   "cell_type": "code",
   "execution_count": 362,
   "metadata": {},
   "outputs": [],
   "source": [
    "for i in range(4,len(df_second.columns)):\n",
    "    df_second.iloc[:,i].replace(1,df_second.columns[i], inplace=True)\n",
    "    df_second.iloc[:,i].replace(0,'', inplace=True)"
   ]
  },
  {
   "cell_type": "code",
   "execution_count": 365,
   "metadata": {},
   "outputs": [],
   "source": [
    "cols = ['A61H1500', 'A61H20150007','A61H20150014', 'A61H20150021', 'A61H20150028', 'A61H20150035',\n",
    "        'A61H20150042', 'A61H2015005', 'A61H20150057', 'A61H20150064',\n",
    "        'A61H20150071', 'A61H150078', 'A61H150085', 'A61H150092', 'A61H1502']\n",
    "\n",
    "df_second['prediction'] = ''\n",
    "for i in range(len(df_second)):\n",
    "    for col in cols:\n",
    "        if not df_second.loc[i,col] == '':\n",
    "            df_second.loc[i,'prediction'] = (df_second.loc[i,'prediction'] + ' | '\n",
    "                                                        + df_second.loc[i,col])\n",
    "\n",
    "df_second['prediction'] = df_second['prediction'].str[3:]"
   ]
  },
  {
   "cell_type": "code",
   "execution_count": 366,
   "metadata": {},
   "outputs": [],
   "source": [
    "df_final = df_second.drop(columns=['A61H1500', 'A61H20150007','A61H20150014', 'A61H20150021', \n",
    "                                   'A61H20150028', 'A61H20150035','A61H20150042', 'A61H2015005', \n",
    "                                   'A61H20150057', 'A61H20150064','A61H20150071', 'A61H150078', \n",
    "                                   'A61H150085', 'A61H150092', 'A61H1502','all_text'], axis=1)\n"
   ]
  },
  {
   "cell_type": "code",
   "execution_count": 1,
   "metadata": {},
   "outputs": [
    {
     "name": "stdout",
     "output_type": "stream",
     "text": [
      "Module A61H1500 is successfully loaded on 01/Aug/2020 - 01:03 AM\n"
     ]
    }
   ],
   "source": [
    "from datetime import datetime\n",
    "dt_string = datetime.now().strftime(\"%d/%b/%Y - %H:%M %p\")\n",
    "print(\"Module A61H1500 is successfully loaded on\",dt_string)"
   ]
  },
  {
   "cell_type": "code",
   "execution_count": null,
   "metadata": {},
   "outputs": [],
   "source": []
  }
 ],
 "metadata": {
  "kernelspec": {
   "display_name": "Python 3",
   "language": "python",
   "name": "python3"
  },
  "language_info": {
   "codemirror_mode": {
    "name": "ipython",
    "version": 3
   },
   "file_extension": ".py",
   "mimetype": "text/x-python",
   "name": "python",
   "nbconvert_exporter": "python",
   "pygments_lexer": "ipython3",
   "version": "3.8.5"
  }
 },
 "nbformat": 4,
 "nbformat_minor": 2
}
