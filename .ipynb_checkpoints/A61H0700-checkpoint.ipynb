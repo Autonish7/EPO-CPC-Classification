{
 "cells": [
  {
   "cell_type": "markdown",
   "metadata": {},
   "source": [
    "# A61H CPC Classification - A61H0700\n",
    "\n",
    "<font size=\"3\">\n",
    "\n",
    "#### About the Module:\n",
    "<I><span style=\"font-family:Arial\">This module work to identify patents in A61H700 class. Class detail is as follow<br></span>\n",
    "<span style=\"font-family:Arial\">A61H7/00&emsp; &emsp; &emsp; &emsp;•&emsp;Devices for suction-kneading massage; Devices for massaging the skin by rubbing or brushing<br></span>\n",
    "<span style=\"font-family:Arial\">A61H7/001 &emsp; &emsp; &emsp; •&emsp;without substantial movement between the skin and the device<br></span>\n",
    "<span style=\"font-family:Arial\">A61H7/002 &emsp; &emsp; &emsp; •&emsp;by rubbing or brushing<br></span>\n",
    "<span style=\"font-family:Arial\">A61H7/003 &emsp; &emsp; &emsp; ••&emsp;Hand-held or hand-driven devices<br></span>\n",
    "<span style=\"font-family:Arial\">A61H7/004 &emsp; &emsp; &emsp; ••&emsp;power-driven, e.g. electrical<br></span>\n",
    "<span style=\"font-family:Arial\">A61H7/005 &emsp; &emsp; &emsp; •••&emsp;hand-held<br></span>\n",
    "<span style=\"font-family:Arial\">A61H7/006 &emsp; &emsp; &emsp; •&emsp;Helmets for head-massage<br></span>\n",
    "<span style=\"font-family:Arial\">A61H7/007 &emsp; &emsp; &emsp; •&emsp;Kneading<br></span>\n",
    "<span style=\"font-family:Arial\">A61H7/008 &emsp; &emsp; &emsp; ••&emsp;Suction kneading<br></span>\n",
    "<span style=\"font-family:Arial\">A61H2007/009 &emsp;&emsp; ••&emsp;having massage elements rotating on parallel output axis<br></span>\n",
    "\n",
    "#### Input needed: \n",
    "<I><span style=\"font-family:Arial\">This module use libraries, function and processed text data present in initial_processing module</span></I>\n",
    "\n",
    "#### Output expected: \n",
    "<I><span style=\"font-family:Arial\">This module will identify patents in A61H700 class in test data.<br>This output is pass to the module final_file. No output is expected in this module alone.</span></I>\n",
    "\n",
    "#### Related modules: \n",
    "<I><span style=\"font-family:Arial\">This module is calling initial_processing module and is called by final_file module</span></I>\n",
    "\n",
    "#### Who and when: \n",
    "<I><span style=\"font-family:Arial\">Last Modified by : Nishant Chauhan</span><br>\n",
    "<span style=\"font-family:Arial\">Last Modified on : 27-July-2020</span><br>\n",
    "<span style=\"font-family:Arial\">Version no       : 2</span><br>\n",
    "<span style=\"font-family:Arial\">Developed by     : Nishant Chauhan </span><br></font></I>\n"
   ]
  },
  {
   "cell_type": "code",
   "execution_count": 1,
   "metadata": {},
   "outputs": [
    {
     "name": "stdout",
     "output_type": "stream",
     "text": [
      "importing Jupyter notebook from Initial_processing.ipynb\n",
      "Module Initial Processing is successfully loaded on 01/Aug/2020 - 23:59 PM\n"
     ]
    }
   ],
   "source": [
    "import os\n",
    "import sys\n",
    "import import_ipynb\n",
    "from Initial_processing import *"
   ]
  },
  {
   "cell_type": "code",
   "execution_count": 2,
   "metadata": {},
   "outputs": [
    {
     "data": {
      "text/plain": [
       "0    3473\n",
       "1     444\n",
       "Name: A61H0700, dtype: int64"
      ]
     },
     "execution_count": 2,
     "metadata": {},
     "output_type": "execute_result"
    }
   ],
   "source": [
    "df['A61H0700'] = df['CPC'].str.contains('A61H7/|A61H0007|A61H 7/').astype('int')\n",
    "df['A61H0700'].value_counts()"
   ]
  },
  {
   "cell_type": "markdown",
   "metadata": {},
   "source": [
    "## Model training and prediction"
   ]
  },
  {
   "cell_type": "code",
   "execution_count": 3,
   "metadata": {},
   "outputs": [],
   "source": [
    "y_train = df['A61H0700']\n",
    "\n",
    "model_title , score_title = train_model(X_title_dtm, y_train)\n",
    "\n",
    "y_pred_class_title = model_title.predict(X_title_test_dtm)"
   ]
  },
  {
   "cell_type": "code",
   "execution_count": 4,
   "metadata": {},
   "outputs": [],
   "source": [
    "model_abstract , score_abstract = train_model(X_abstract_dtm, y_train)\n",
    "\n",
    "y_pred_class_abstract = model_abstract.predict(X_abstract_test_dtm)"
   ]
  },
  {
   "cell_type": "code",
   "execution_count": 5,
   "metadata": {},
   "outputs": [
    {
     "name": "stdout",
     "output_type": "stream",
     "text": [
      "Training data accuracy score :  0.898481055201802\n"
     ]
    }
   ],
   "source": [
    "model_tab , score_tab = train_model(X_tab_dtm, y_train)\n",
    "\n",
    "y_pred_class_tab = model_tab.predict(X_tab_test_dtm)\n",
    "\n",
    "print(\"Training data accuracy score : \" ,((score_abstract.mean() + score_title.mean() + score_tab.mean())/3))"
   ]
  },
  {
   "cell_type": "code",
   "execution_count": 6,
   "metadata": {},
   "outputs": [],
   "source": [
    "df_first = pd.DataFrame(df_test[['number','title','abstract']])"
   ]
  },
  {
   "cell_type": "code",
   "execution_count": 7,
   "metadata": {},
   "outputs": [],
   "source": [
    "df_first['all_text'] = X_all\n",
    "df_first['title_prediction'] = y_pred_class_title\n",
    "df_first['abstract_prediction'] = y_pred_class_abstract"
   ]
  },
  {
   "cell_type": "markdown",
   "metadata": {},
   "source": [
    "## Predicting using words"
   ]
  },
  {
   "cell_type": "code",
   "execution_count": 152,
   "metadata": {},
   "outputs": [],
   "source": [
    "# AND Operator keywords\n",
    "\n",
    "A61H0700 = ['kneading', 'suction knead','knead massag']\n"
   ]
  },
  {
   "cell_type": "code",
   "execution_count": 153,
   "metadata": {},
   "outputs": [],
   "source": [
    "# NEAR operator keywords (List1 NEAR5 List2)\n",
    "\n",
    "A61H0700_list1 = ['knead','kneading','rubbing', 'brushing']\n",
    "A61H0700_list2 = ['therapy', 'massag']\n",
    "\n",
    "A61H0700_list3 = ['helmet','headset']\n",
    "A61H0700_list4 = ['head','scalp','forehead']\n",
    "A61H0700_list5 = ['massag']\n",
    "\n"
   ]
  },
  {
   "cell_type": "code",
   "execution_count": 154,
   "metadata": {},
   "outputs": [],
   "source": [
    "#SSTO command e.g. search \"eye massage device\" as single word\n",
    "\n",
    "A61H0700_word = ['kneading massag','rubbing massag','brushing massag','skin massag']"
   ]
  },
  {
   "cell_type": "code",
   "execution_count": 155,
   "metadata": {},
   "outputs": [],
   "source": [
    "new_col = []\n",
    "for i in range(len(df_first['all_text'])):\n",
    "    check_word = (near_operator(df_first['all_text'][i],A61H0700_list1,A61H0700_list2, near=5) or\n",
    "                  (near_operator(df_first['all_text'][i],A61H0700_list3,A61H0700_list4, near=5) and \n",
    "                  near_operator(df_first['all_text'][i],A61H0700_list4,A61H0700_list5, near=5)) or\n",
    "                    and_operator(df_first['all_text'][i],A61H0700) or\n",
    "                     ssto(df_first['all_text'][i], A61H0700_word))\n",
    "                                 \n",
    "    new_col.append(check_word)\n",
    "    \n",
    "df_first['word_predict'] = new_col"
   ]
  },
  {
   "cell_type": "code",
   "execution_count": 156,
   "metadata": {},
   "outputs": [],
   "source": [
    "df_first['A61H0700'] = df_first['word_predict'] + df_first['title_prediction'] + df_first['abstract_prediction']\n",
    "\n",
    "for row in range(len(df_first['A61H0700'])):\n",
    "    if df_first.loc[row, 'A61H0700'] > 0:\n",
    "        df_first.loc[row, 'A61H0700'] = 1\n",
    "    else:\n",
    "        df_first.loc[row, 'A61H0700'] = 0"
   ]
  },
  {
   "cell_type": "code",
   "execution_count": 157,
   "metadata": {},
   "outputs": [],
   "source": [
    "df_second = df_first.drop(['title_prediction','abstract_prediction', 'word_predict'],axis=1)"
   ]
  },
  {
   "cell_type": "markdown",
   "metadata": {},
   "source": [
    "## Sub-classification of A61H7/00 (this section need improvement)"
   ]
  },
  {
   "cell_type": "markdown",
   "metadata": {},
   "source": [
    "### A61H7/001       • without substantial movement between the skin and the device"
   ]
  },
  {
   "cell_type": "code",
   "execution_count": 158,
   "metadata": {},
   "outputs": [],
   "source": [
    "# AND Operator keywords\n",
    "A61H7001 = ['without movement between skin device']\n",
    "\n",
    "# NEAR operator keywords (List1 NEAR5 List2)\n",
    "A61H7001_list1 = []\n",
    "A61H7001_list2 = []\n",
    "\n",
    "#SSTO command e.g. search \"eye massage device\" as single word\n",
    "A61H7001_word = []"
   ]
  },
  {
   "cell_type": "code",
   "execution_count": 159,
   "metadata": {},
   "outputs": [],
   "source": [
    "new_col_7001 = []\n",
    "for i in range(len(df_second['all_text'])):\n",
    "    if df_second['A61H0700'][i] == 1:\n",
    "        check_word_7001 = int((near_operator(df_second['all_text'][i],A61H7001_list1,A61H7001_list2, near=5) or \n",
    "                           and_operator(df_second['all_text'][i],A61H7001) or\n",
    "                           ssto(df_second['all_text'][i], A61H7001_word)))\n",
    "    else:\n",
    "        check_word_7001 = 0\n",
    "    \n",
    "    new_col_7001.append(check_word_7001)\n",
    "    \n",
    "df_second['A61H7001'] = new_col_7001"
   ]
  },
  {
   "cell_type": "markdown",
   "metadata": {},
   "source": [
    "### A61H7/002       • by rubbing or brushing"
   ]
  },
  {
   "cell_type": "code",
   "execution_count": 160,
   "metadata": {},
   "outputs": [],
   "source": [
    "# AND Operator keywords\n",
    "A61H7002 = []\n",
    "\n",
    "# NEAR operator keywords (List1 NEAR5 List2)\n",
    "A61H7002_list1 = ['rubbing','brushing']\n",
    "A61H7002_list2 = ['massag','therap']\n",
    "\n",
    "#SSTO command e.g. search \"eye massage device\" as single word\n",
    "A61H7002_word = []"
   ]
  },
  {
   "cell_type": "code",
   "execution_count": 161,
   "metadata": {},
   "outputs": [],
   "source": [
    "new_col_7002 = []\n",
    "for i in range(len(df_second['all_text'])):\n",
    "    if df_second['A61H0700'][i] == 1:\n",
    "        check_word_7002 = int((near_operator(df_second['all_text'][i],A61H7002_list1,A61H7002_list2, near=5) or \n",
    "                           and_operator(df_second['all_text'][i],A61H7002) or\n",
    "                           ssto(df_second['all_text'][i], A61H7002_word)))\n",
    "    else:\n",
    "        check_word_7002 = 0\n",
    "    \n",
    "    new_col_7002.append(check_word_7002)\n",
    "    \n",
    "df_second['A61H7002'] = new_col_7002"
   ]
  },
  {
   "cell_type": "markdown",
   "metadata": {},
   "source": [
    "### A61H7/004       •• power-driven, e.g. electrical"
   ]
  },
  {
   "cell_type": "code",
   "execution_count": 162,
   "metadata": {},
   "outputs": [],
   "source": [
    "# AND Operator keywords\n",
    "A61H7004 = []\n",
    "\n",
    "# NEAR operator keywords (List1 NEAR5 List2)\n",
    "A61H7004_list1 = ['driven','operate']\n",
    "A61H7004_list2 = ['electric','power', 'motor']\n",
    "\n",
    "#SSTO command e.g. search \"eye massage device\" as single word\n",
    "A61H7004_word = []"
   ]
  },
  {
   "cell_type": "code",
   "execution_count": 163,
   "metadata": {},
   "outputs": [],
   "source": [
    "new_col_7004 = []\n",
    "for i in range(len(df_second['all_text'])):\n",
    "    if df_second['A61H0700'][i] == 1:\n",
    "        check_word_7004 = int((near_operator(df_second['all_text'][i],A61H7004_list1,A61H7004_list2, near=5) or \n",
    "                           and_operator(df_second['all_text'][i],A61H7004) or\n",
    "                           ssto(df_second['all_text'][i], A61H7004_word)))\n",
    "    else:\n",
    "        check_word_7004 = 0\n",
    "    \n",
    "    new_col_7004.append(check_word_7004)\n",
    "    \n",
    "df_second['A61H7004'] = new_col_7004"
   ]
  },
  {
   "cell_type": "markdown",
   "metadata": {},
   "source": [
    "### A61H7/005       ••• hand-held"
   ]
  },
  {
   "cell_type": "code",
   "execution_count": 164,
   "metadata": {},
   "outputs": [],
   "source": [
    "# AND Operator keywords\n",
    "A61H7005 = []\n",
    "\n",
    "# NEAR operator keywords (List1 NEAR5 List2)\n",
    "A61H7005_list1 = ['handheld']\n",
    "A61H7005_list2 = ['device','apparatus']\n",
    "\n",
    "#SSTO command e.g. search \"eye massage device\" as single word\n",
    "A61H7005_word = ['hand driven', 'hand operat']"
   ]
  },
  {
   "cell_type": "code",
   "execution_count": 165,
   "metadata": {},
   "outputs": [],
   "source": [
    "new_col_7005 = []\n",
    "for i in range(len(df_second['all_text'])):\n",
    "    if df_second['A61H7004'][i] == 1:\n",
    "        check_word_7005 = int((near_operator(df_second['all_text'][i],A61H7005_list1,A61H7005_list2, near=5) or \n",
    "                           and_operator(df_second['all_text'][i],A61H7005) or\n",
    "                           ssto(df_second['all_text'][i], A61H7005_word)))\n",
    "    else:\n",
    "        check_word_7005 = 0\n",
    "    \n",
    "    new_col_7005.append(check_word_7005)\n",
    "    \n",
    "df_second['A61H7005'] = new_col_7005"
   ]
  },
  {
   "cell_type": "markdown",
   "metadata": {},
   "source": [
    "### A61H7/003       •• Hand-held or hand-driven devices"
   ]
  },
  {
   "cell_type": "code",
   "execution_count": 166,
   "metadata": {},
   "outputs": [],
   "source": [
    "# AND Operator keywords\n",
    "A61H7003 = []\n",
    "\n",
    "# NEAR operator keywords (List1 NEAR5 List2)\n",
    "A61H7003_list1 = ['handheld']\n",
    "A61H7003_list2 = ['device','apparatus']\n",
    "\n",
    "#SSTO command e.g. search \"eye massage device\" as single word\n",
    "A61H7003_word = ['hand driven', 'hand operat']"
   ]
  },
  {
   "cell_type": "code",
   "execution_count": 167,
   "metadata": {},
   "outputs": [],
   "source": [
    "new_col_7003 = []\n",
    "for i in range(len(df_second['all_text'])):\n",
    "    if df_second['A61H0700'][i] == 1 & df_second['A61H7004'][i] == 0:\n",
    "        check_word_7003 = int((near_operator(df_second['all_text'][i],A61H7003_list1,A61H7003_list2, near=5) or \n",
    "                           and_operator(df_second['all_text'][i],A61H7003) or\n",
    "                           ssto(df_second['all_text'][i], A61H7003_word)))\n",
    "    else:\n",
    "        check_word_7003 = 0\n",
    "    \n",
    "    new_col_7003.append(check_word_7003)\n",
    "    \n",
    "df_second['A61H7003'] = new_col_7003"
   ]
  },
  {
   "cell_type": "markdown",
   "metadata": {},
   "source": [
    "### A61H7/006       • Helmets for head-massage"
   ]
  },
  {
   "cell_type": "code",
   "execution_count": 168,
   "metadata": {},
   "outputs": [],
   "source": [
    "# AND Operator keywords\n",
    "A61H7006 = []\n",
    "\n",
    "# NEAR operator keywords (List1 NEAR5 List2)\n",
    "A61H7006_list1 = ['helmet','headgear','headset']\n",
    "A61H7006_list2 = ['head','scalp','forehead']\n",
    "A61H7006_list3 = ['massag']\n",
    "\n",
    "#SSTO command e.g. search \"eye massage device\" as single word\n",
    "A61H7006_word = []"
   ]
  },
  {
   "cell_type": "code",
   "execution_count": 169,
   "metadata": {},
   "outputs": [],
   "source": [
    "new_col_7006 = []\n",
    "for i in range(len(df_second['all_text'])):\n",
    "    if df_second['A61H0700'][i] == 1:\n",
    "        check_word_7006 = int(((near_operator(df_second['all_text'][i],A61H7006_list1,A61H7006_list2, near=7) and\n",
    "                               near_operator(df_second['all_text'][i],A61H7006_list2,A61H7006_list3, near=7)) or\n",
    "                           and_operator(df_second['all_text'][i],A61H7006) or\n",
    "                           ssto(df_second['all_text'][i], A61H7006_word)))\n",
    "    else:\n",
    "        check_word_7006 = 0\n",
    "    \n",
    "    new_col_7006.append(check_word_7006)\n",
    "    \n",
    "df_second['A61H7006'] = new_col_7006"
   ]
  },
  {
   "cell_type": "markdown",
   "metadata": {},
   "source": [
    "### A61H7/007       • Kneading"
   ]
  },
  {
   "cell_type": "code",
   "execution_count": 170,
   "metadata": {},
   "outputs": [],
   "source": [
    "# AND Operator keywords\n",
    "A61H7007 = ['knead']\n",
    "\n",
    "# NEAR operator keywords (List1 NEAR5 List2)\n",
    "A61H7007_list1 = []\n",
    "A61H7007_list2 = []\n",
    "\n",
    "#SSTO command e.g. search \"eye massage device\" as single word\n",
    "A61H7007_word = []"
   ]
  },
  {
   "cell_type": "code",
   "execution_count": 171,
   "metadata": {},
   "outputs": [],
   "source": [
    "new_col_7007 = []\n",
    "for i in range(len(df_second['all_text'])):\n",
    "    if df_second['A61H0700'][i] == 1:\n",
    "        check_word_7007 = int((near_operator(df_second['all_text'][i],A61H7007_list1,A61H7007_list2, near=5) or \n",
    "                           and_operator(df_second['all_text'][i],A61H7007) or\n",
    "                           ssto(df_second['all_text'][i], A61H7007_word)))\n",
    "    else:\n",
    "        check_word_7007 = 0\n",
    "    \n",
    "    new_col_7007.append(check_word_7007)\n",
    "    \n",
    "df_second['A61H7007'] = new_col_7007"
   ]
  },
  {
   "cell_type": "markdown",
   "metadata": {},
   "source": [
    "### A61H7/008       •• Suction kneading"
   ]
  },
  {
   "cell_type": "code",
   "execution_count": 172,
   "metadata": {},
   "outputs": [],
   "source": [
    "# AND Operator keywords\n",
    "A61H7008 = []\n",
    "\n",
    "# NEAR operator keywords (List1 NEAR5 List2)\n",
    "A61H7008_list1 = ['suction']\n",
    "A61H7008_list2 = ['knead']\n",
    "\n",
    "#SSTO command e.g. search \"eye massage device\" as single word\n",
    "A61H7008_word = []"
   ]
  },
  {
   "cell_type": "code",
   "execution_count": 173,
   "metadata": {},
   "outputs": [],
   "source": [
    "new_col_7008 = []\n",
    "for i in range(len(df_second['all_text'])):\n",
    "    if df_second['A61H7007'][i] == 1:\n",
    "        check_word_7008 = int((near_operator(df_second['all_text'][i],A61H7008_list1,A61H7008_list2, near=5) or \n",
    "                           and_operator(df_second['all_text'][i],A61H7008) or\n",
    "                           ssto(df_second['all_text'][i], A61H7008_word)))\n",
    "    else:\n",
    "        check_word_7008 = 0\n",
    "    \n",
    "    new_col_7008.append(check_word_7008)\n",
    "    \n",
    "df_second['A61H7008'] = new_col_7008"
   ]
  },
  {
   "cell_type": "markdown",
   "metadata": {},
   "source": [
    "### A61H2007/009    •• having massage elements rotating on parallel output axis"
   ]
  },
  {
   "cell_type": "code",
   "execution_count": 185,
   "metadata": {},
   "outputs": [],
   "source": [
    "# AND Operator keywords\n",
    "A61H2007009 = []\n",
    "\n",
    "# NEAR operator keywords (List1 NEAR5 List2)\n",
    "A61H2007009_list1 = ['massage', 'massaging','massager']\n",
    "A61H2007009_list2 = ['rotat','revolv' ]\n",
    "A61H2007009_list2 = ['parallel axis','output axis', 'output shaft']\n",
    "\n",
    "\n",
    "#SSTO command e.g. search \"eye massage device\" as single word\n",
    "A61H2007009_word = []"
   ]
  },
  {
   "cell_type": "code",
   "execution_count": 186,
   "metadata": {},
   "outputs": [],
   "source": [
    "new_col_2007009 = []\n",
    "for i in range(len(df_second['all_text'])):\n",
    "    if df_second['A61H7007'][i] == 1:\n",
    "        check_word_2007009 = int(((near_operator(df_second['all_text'][i],A61H2007009_list1,A61H2007009_list2, near=5) and\n",
    "                                  near_operator(df_second['all_text'][i],A61H2007009_list1,A61H2007009_list3, near=10)) or\n",
    "                           and_operator(df_second['all_text'][i],A61H2007009) or\n",
    "                           ssto(df_second['all_text'][i], A61H2007009_word)))\n",
    "    else:\n",
    "        check_word_2007009 = 0\n",
    "    \n",
    "    new_col_2007009.append(check_word_2007009)\n",
    "    \n",
    "df_second['A61H2007009'] = new_col_2007009"
   ]
  },
  {
   "cell_type": "markdown",
   "metadata": {},
   "source": [
    "## Final step"
   ]
  },
  {
   "cell_type": "code",
   "execution_count": 187,
   "metadata": {},
   "outputs": [],
   "source": [
    "for i in range(4,len(df_second.columns)):\n",
    "    df_second.iloc[:,i].replace(1,df_second.columns[i], inplace=True)\n",
    "    df_second.iloc[:,i].replace(0,'', inplace=True)"
   ]
  },
  {
   "cell_type": "code",
   "execution_count": 188,
   "metadata": {},
   "outputs": [],
   "source": [
    "cols = ['A61H0700', 'A61H7001','A61H7002', 'A61H7004', 'A61H7005', 'A61H7003',\n",
    "        'A61H7006', 'A61H7007','A61H7008', 'A61H2007009']\n",
    "\n",
    "df_second['prediction'] = ''\n",
    "for i in range(len(df_second)):\n",
    "    for col in cols:\n",
    "        if not df_second.loc[i,col] == '':\n",
    "            df_second.loc[i,'prediction'] = (df_second.loc[i,'prediction'] + ' | '\n",
    "                                                        + df_second.loc[i,col])\n",
    "\n",
    "df_second['prediction'] = df_second['prediction'].str[3:]"
   ]
  },
  {
   "cell_type": "code",
   "execution_count": 189,
   "metadata": {},
   "outputs": [],
   "source": [
    "df_final = df_second.drop(columns=['A61H0700', 'A61H7001','A61H7002', 'A61H7004', 'A61H7005', 'A61H7003',\n",
    "        'A61H7006', 'A61H7007','A61H7008', 'A61H2007009', 'all_text'], axis=1)\n"
   ]
  },
  {
   "cell_type": "code",
   "execution_count": 190,
   "metadata": {},
   "outputs": [
    {
     "name": "stdout",
     "output_type": "stream",
     "text": [
      "Module A61H0700 is successfully loaded on 02/Aug/2020 - 02:00 AM\n"
     ]
    }
   ],
   "source": [
    "from datetime import datetime\n",
    "dt_string = datetime.now().strftime(\"%d/%b/%Y - %H:%M %p\")\n",
    "print(\"Module A61H0700 is successfully loaded on\",dt_string)"
   ]
  },
  {
   "cell_type": "code",
   "execution_count": null,
   "metadata": {},
   "outputs": [],
   "source": []
  }
 ],
 "metadata": {
  "kernelspec": {
   "display_name": "Python 3",
   "language": "python",
   "name": "python3"
  },
  "language_info": {
   "codemirror_mode": {
    "name": "ipython",
    "version": 3
   },
   "file_extension": ".py",
   "mimetype": "text/x-python",
   "name": "python",
   "nbconvert_exporter": "python",
   "pygments_lexer": "ipython3",
   "version": "3.8.5"
  }
 },
 "nbformat": 4,
 "nbformat_minor": 2
}
