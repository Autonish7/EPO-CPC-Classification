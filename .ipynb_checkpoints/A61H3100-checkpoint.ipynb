{
 "cells": [
  {
   "cell_type": "markdown",
   "metadata": {},
   "source": [
    "# A61H CPC Classification - A61H3100\n",
    "\n",
    "<font size=\"3\">\n",
    "\n",
    "#### About the Module:\n",
    "<I><span style=\"font-family:Arial\">This module work to identify patents in A61H3100 class. Class detail is as follow<br></span>\n",
    "<span style=\"font-family:Arial\">A61H31/00 &emsp; &emsp;•&emsp;Artificial respiration or heart stimulation<br></span>\n",
    "<span style=\"font-family:Arial\">A61H2031/001&emsp;•&emsp;fixed on the chest by suction<br></span>\n",
    "<span style=\"font-family:Arial\">A61H2031/002&emsp;•&emsp;fixed on the chest by adhesives<br></span>\n",
    "<span style=\"font-family:Arial\">A61H2031/003&emsp;•&emsp;with alternated thorax decompression due to lateral compression<br></span>\n",
    "<span style=\"font-family:Arial\">A61H31/004&emsp;&emsp;•&emsp;Heart Stimulation<br></span>\n",
    "<span style=\"font-family:Arial\">A61H31/005&emsp;&emsp;••&emsp;with feedback for the user<br></span>\n",
    "<span style=\"font-family:Arial\">A61H31/006&emsp;&emsp;••&emsp;power driven<br></span>\n",
    "<span style=\"font-family:Arial\">A61H31/007&emsp;&emsp;••&emsp;Manual driven<br></span>\n",
    "<span style=\"font-family:Arial\">A61H31/008&emsp;&emsp;•&emsp;Supine patient supports or bases, e.g. improving air-way access to the lungs<br></span>\n",
    "<span style=\"font-family:Arial\">A61H31/02 &emsp; &emsp;•&emsp;Iron lungs<br></span>\n",
    "<span style=\"font-family:Arial\">A61H2031/025&emsp;••&emsp;using the same pump for pressure and vacuum,not being driven at the respiratory rate, e.g. blowers<br></span>\n",
    "\n",
    "#### Input needed: \n",
    "<I><span style=\"font-family:Arial\">This module use libraries, function and processed text data present in initial_processing module</span></I>\n",
    "\n",
    "#### Output expected: \n",
    "<I><span style=\"font-family:Arial\">This module will identify patents in A61H3100 class in test data.<br>This output is pass to the module final_file. No output is expected in this module alone.</span></I>\n",
    "\n",
    "#### Related modules: \n",
    "<I><span style=\"font-family:Arial\">This module is calling initial_processing module and is called by final_file module</span></I>\n",
    "\n",
    "#### Who and when: \n",
    "<I><span style=\"font-family:Arial\">Last Modified by : Nishant Chauhan</span><br>\n",
    "<span style=\"font-family:Arial\">Last Modified on : 27-July-2020</span><br>\n",
    "<span style=\"font-family:Arial\">Version no       : 2</span><br>\n",
    "<span style=\"font-family:Arial\">Developed by     : Nishant Chauhan </span><br></font></I>\n"
   ]
  },
  {
   "cell_type": "code",
   "execution_count": 1,
   "metadata": {},
   "outputs": [
    {
     "name": "stdout",
     "output_type": "stream",
     "text": [
      "importing Jupyter notebook from Initial_processing.ipynb\n",
      "Loading of module Initial processing is successfully complete.\n"
     ]
    }
   ],
   "source": [
    "import os\n",
    "import sys\n",
    "import import_ipynb\n",
    "from Initial_processing import *"
   ]
  },
  {
   "cell_type": "code",
   "execution_count": 2,
   "metadata": {},
   "outputs": [
    {
     "data": {
      "text/plain": [
       "0    3694\n",
       "1     223\n",
       "Name: A61H3100, dtype: int64"
      ]
     },
     "execution_count": 2,
     "metadata": {},
     "output_type": "execute_result"
    }
   ],
   "source": [
    "df['A61H3100'] = df['CPC'].str.contains('A61H31/|A61H2031|A61H 31/|A61H0031').astype('int')\n",
    "df['A61H3100'].value_counts()"
   ]
  },
  {
   "cell_type": "markdown",
   "metadata": {},
   "source": [
    "## Model training and prediction"
   ]
  },
  {
   "cell_type": "code",
   "execution_count": 3,
   "metadata": {},
   "outputs": [],
   "source": [
    "y_train = df['A61H3100']\n",
    "\n",
    "model_title , score_title = train_model(X_title_dtm, y_train)\n",
    "\n",
    "y_pred_class_title = model_title.predict(X_title_test_dtm)"
   ]
  },
  {
   "cell_type": "code",
   "execution_count": 4,
   "metadata": {},
   "outputs": [],
   "source": [
    "model_abstract , score_abstract = train_model(X_abstract_dtm, y_train)\n",
    "\n",
    "y_pred_class_abstract = model_abstract.predict(X_abstract_test_dtm)"
   ]
  },
  {
   "cell_type": "code",
   "execution_count": 5,
   "metadata": {},
   "outputs": [
    {
     "name": "stdout",
     "output_type": "stream",
     "text": [
      "Training data accuracy score :  0.9836625971394722\n"
     ]
    }
   ],
   "source": [
    "model_tab , score_tab = train_model(X_tab_dtm, y_train)\n",
    "\n",
    "y_pred_class_tab = model_tab.predict(X_tab_test_dtm)\n",
    "\n",
    "print(\"Training data accuracy score : \" ,((score_abstract.mean() + score_title.mean() + score_tab.mean())/3))"
   ]
  },
  {
   "cell_type": "code",
   "execution_count": 74,
   "metadata": {},
   "outputs": [],
   "source": [
    "df_first = pd.DataFrame(df_test[['number','title','abstract']])"
   ]
  },
  {
   "cell_type": "code",
   "execution_count": 75,
   "metadata": {},
   "outputs": [],
   "source": [
    "df_first['all_text'] = X_all\n",
    "df_first['title_prediction'] = y_pred_class_title\n",
    "df_first['abstract_prediction'] = y_pred_class_abstract"
   ]
  },
  {
   "cell_type": "markdown",
   "metadata": {},
   "source": [
    "## Predicting using words"
   ]
  },
  {
   "cell_type": "code",
   "execution_count": 76,
   "metadata": {},
   "outputs": [],
   "source": [
    "# AND Operator keywords\n",
    "\n",
    "A61H3100 = ['resuscitation']\n",
    "\n",
    "# NEAR operator keywords (List1 NEAR5 List2)\n",
    "\n",
    "A61H3100_list1 = ['resuscitation', 'respiration']\n",
    "A61H3100_list2 = ['cardiopulmonary', 'device', 'system', 'articifical','apparatus']\n",
    "\n",
    "A61H3100_list3 = ['heart', 'thorax', 'cardiac', 'chest']\n",
    "A61H3100_list4 = ['compress','decompress','stimulat', 'expansion']\n",
    "\n",
    "#SSTO command e.g. search \"eye massage device\" as single word\n",
    "\n",
    "A61H3100_word = ['iron lung','iron-lung','cpr']"
   ]
  },
  {
   "cell_type": "code",
   "execution_count": 77,
   "metadata": {},
   "outputs": [],
   "source": [
    "new_col = []\n",
    "for i in range(len(df_first['all_text'])):\n",
    "    check_word =   (near_operator(df_first['all_text'][i],A61H3100_list1,A61H3100_list2, near=5) or\n",
    "                    near_operator(df_first['all_text'][i],A61H3100_list3,A61H3100_list4, near=7) or\n",
    "                    and_operator(df_first['all_text'][i],A61H3100) or\n",
    "                    ssto(df_first['all_text'][i], A61H3100_word))\n",
    "    new_col.append(check_word)\n",
    "    \n",
    "df_first['word_predict'] = new_col"
   ]
  },
  {
   "cell_type": "code",
   "execution_count": 78,
   "metadata": {},
   "outputs": [],
   "source": [
    "df_first['A61H3100'] = df_first['word_predict'] + df_first['title_prediction'] + df_first['abstract_prediction']\n",
    "\n",
    "for row in range(len(df_first['A61H3100'])):\n",
    "    if df_first.loc[row, 'A61H3100'] > 0:\n",
    "        df_first.loc[row, 'A61H3100'] = 1\n",
    "    else:\n",
    "        df_first.loc[row, 'A61H3100'] = 0"
   ]
  },
  {
   "cell_type": "code",
   "execution_count": 79,
   "metadata": {},
   "outputs": [],
   "source": [
    "df_second = df_first.drop(['title_prediction','abstract_prediction', 'word_predict'],axis=1)"
   ]
  },
  {
   "cell_type": "markdown",
   "metadata": {},
   "source": [
    "## Sub-classification of A61H3100"
   ]
  },
  {
   "cell_type": "markdown",
   "metadata": {},
   "source": [
    "### A61H2031/001 • fixed on the chest by suction"
   ]
  },
  {
   "cell_type": "code",
   "execution_count": 80,
   "metadata": {},
   "outputs": [],
   "source": [
    "# AND Operator keywords\n",
    "A61H2031001 = ['fix chest suction']\n",
    "\n",
    "# NEAR operator keywords (List1 NEAR5 List2)\n",
    "A61H2031001_list1 = ['chest','thorax']\n",
    "A61H2031001_list2 = ['suction']\n",
    "\n",
    "#SSTO command e.g. search \"eye massage device\" as single word\n",
    "A61H2031001_word = []"
   ]
  },
  {
   "cell_type": "code",
   "execution_count": 81,
   "metadata": {},
   "outputs": [],
   "source": [
    "new_col_2031001 = []\n",
    "for i in range(len(df_second['all_text'])):\n",
    "    if df_second['A61H3100'][i] == 1:\n",
    "        check_word_2031001 = int((near_operator(df_second['all_text'][i],A61H2031001_list1,A61H2031001_list2, near=5) or \n",
    "                           and_operator(df_second['all_text'][i],A61H2031001) or\n",
    "                           ssto(df_second['all_text'][i], A61H2031001_word)))\n",
    "    else:\n",
    "        check_word_2031001 = 0\n",
    "    \n",
    "    new_col_2031001.append(check_word_2031001)\n",
    "    \n",
    "df_second['A61H2031001'] = new_col_2031001"
   ]
  },
  {
   "cell_type": "markdown",
   "metadata": {},
   "source": [
    "### A61H2031/002 • fixed on the chest by adhesives"
   ]
  },
  {
   "cell_type": "code",
   "execution_count": 82,
   "metadata": {},
   "outputs": [],
   "source": [
    "# AND Operator keywords\n",
    "A61H2031002 = ['fix chest adhesive']\n",
    "\n",
    "# NEAR operator keywords (List1 NEAR5 List2)\n",
    "A61H2031002_list1 = ['chest','thorax']\n",
    "A61H2031002_list2 = ['adhesive']\n",
    "\n",
    "#SSTO command e.g. search \"eye massage device\" as single word\n",
    "A61H2031002_word = []"
   ]
  },
  {
   "cell_type": "code",
   "execution_count": 83,
   "metadata": {},
   "outputs": [],
   "source": [
    "new_col_2031002 = []\n",
    "for i in range(len(df_second['all_text'])):\n",
    "    if df_second['A61H3100'][i] == 1:\n",
    "        check_word_2031002 = int((near_operator(df_second['all_text'][i],A61H2031002_list1,A61H2031002_list2, near=5) or \n",
    "                           and_operator(df_second['all_text'][i],A61H2031002) or\n",
    "                           ssto(df_second['all_text'][i], A61H2031002_word)))\n",
    "    else:\n",
    "        check_word_2031002 = 0\n",
    "    \n",
    "    new_col_2031002.append(check_word_2031002)\n",
    "    \n",
    "df_second['A61H2031002'] = new_col_2031002"
   ]
  },
  {
   "cell_type": "markdown",
   "metadata": {},
   "source": [
    "### A61H2031/003 • with alternated thorax decompression due to lateral compression"
   ]
  },
  {
   "cell_type": "code",
   "execution_count": 84,
   "metadata": {},
   "outputs": [],
   "source": [
    "# AND Operator keywords\n",
    "A61H2031003 = ['thorax decompression']\n",
    "\n",
    "# NEAR operator keywords (List1 NEAR5 List2)\n",
    "A61H2031003_list1 = ['thorax']\n",
    "A61H2031003_list2 = ['decompress', 'compress']\n",
    "\n",
    "#SSTO command e.g. search \"eye massage device\" as single word\n",
    "A61H2031003_word = []"
   ]
  },
  {
   "cell_type": "code",
   "execution_count": 85,
   "metadata": {},
   "outputs": [],
   "source": [
    "new_col_2031003 = []\n",
    "for i in range(len(df_second['all_text'])):\n",
    "    if df_second['A61H3100'][i] == 1:\n",
    "        check_word_2031003 = int((near_operator(df_second['all_text'][i],A61H2031003_list1,A61H2031003_list2, near=5) or \n",
    "                           and_operator(df_second['all_text'][i],A61H2031003) or\n",
    "                           ssto(df_second['all_text'][i], A61H2031003_word)))\n",
    "    else:\n",
    "        check_word_2031003 = 0\n",
    "    \n",
    "    new_col_2031003.append(check_word_2031003)\n",
    "    \n",
    "df_second['A61H2031003'] = new_col_2031003"
   ]
  },
  {
   "cell_type": "markdown",
   "metadata": {},
   "source": [
    "### A61H31/004  • Heart Stimulation"
   ]
  },
  {
   "cell_type": "code",
   "execution_count": 86,
   "metadata": {},
   "outputs": [],
   "source": [
    "# AND Operator keywords\n",
    "A61H31004 = []\n",
    "\n",
    "# NEAR operator keywords (List1 NEAR5 List2)\n",
    "A61H31004_list1 = ['heart']\n",
    "A61H31004_list2 = ['stimulat', 'cpr', 'monitor']\n",
    "\n",
    "#SSTO command e.g. search \"eye massage device\" as single word\n",
    "A61H31004_word = []"
   ]
  },
  {
   "cell_type": "code",
   "execution_count": 87,
   "metadata": {},
   "outputs": [],
   "source": [
    "new_col_31004 = []\n",
    "for i in range(len(df_second['all_text'])):\n",
    "    if df_second['A61H3100'][i] == 1:\n",
    "        check_word_31004 = int((near_operator(df_second['all_text'][i],A61H31004_list1,A61H31004_list2, near=5) or \n",
    "                           and_operator(df_second['all_text'][i],A61H31004) or\n",
    "                           ssto(df_second['all_text'][i], A61H31004_word)))\n",
    "    else:\n",
    "        check_word_31004 = 0\n",
    "    \n",
    "    new_col_31004.append(check_word_31004)\n",
    "    \n",
    "df_second['A61H31004'] = new_col_31004"
   ]
  },
  {
   "cell_type": "markdown",
   "metadata": {},
   "source": [
    "### A61H31/005  •• with feedback for the user"
   ]
  },
  {
   "cell_type": "code",
   "execution_count": 88,
   "metadata": {},
   "outputs": [],
   "source": [
    "# AND Operator keywords\n",
    "A61H31005 = []\n",
    "\n",
    "# NEAR operator keywords (List1 NEAR5 List2)\n",
    "A61H31005_list1 = ['feedback']\n",
    "A61H31005_list2 = ['user', 'patient', 'person', 'operator']\n",
    "\n",
    "#SSTO command e.g. search \"eye massage device\" as single word\n",
    "A61H31005_word = []"
   ]
  },
  {
   "cell_type": "code",
   "execution_count": 89,
   "metadata": {},
   "outputs": [],
   "source": [
    "new_col_31005 = []\n",
    "for i in range(len(df_second['all_text'])):\n",
    "    if df_second['A61H31004'][i] == 1:\n",
    "        check_word_31005 = int((near_operator(df_second['all_text'][i],A61H31005_list1,A61H31005_list2, near=5) or \n",
    "                           and_operator(df_second['all_text'][i],A61H31005) or\n",
    "                           ssto(df_second['all_text'][i], A61H31005_word)))\n",
    "    else:\n",
    "        check_word_31005 = 0\n",
    "    \n",
    "    new_col_31005.append(check_word_31005)\n",
    "    \n",
    "df_second['A61H31005'] = new_col_31005"
   ]
  },
  {
   "cell_type": "markdown",
   "metadata": {},
   "source": [
    "### A61H31/006  •• power driven"
   ]
  },
  {
   "cell_type": "code",
   "execution_count": 90,
   "metadata": {},
   "outputs": [],
   "source": [
    "# AND Operator keywords\n",
    "A61H31006 = []\n",
    "\n",
    "# NEAR operator keywords (List1 NEAR5 List2)\n",
    "A61H31006_list1 = ['power','motor', 'electric']\n",
    "A61H31006_list2 = ['drive', 'driven', 'operat', 'driving']\n",
    "\n",
    "#SSTO command e.g. search \"eye massage device\" as single word\n",
    "A61H31006_word = []"
   ]
  },
  {
   "cell_type": "code",
   "execution_count": 91,
   "metadata": {},
   "outputs": [],
   "source": [
    "new_col_31006 = []\n",
    "for i in range(len(df_second['all_text'])):\n",
    "    if df_second['A61H31004'][i] == 1:\n",
    "        check_word_31006 = int((near_operator(df_second['all_text'][i],A61H31006_list1,A61H31006_list2, near=5) or \n",
    "                           and_operator(df_second['all_text'][i],A61H31006) or\n",
    "                           ssto(df_second['all_text'][i], A61H31006_word)))\n",
    "    else:\n",
    "        check_word_31006 = 0\n",
    "    \n",
    "    new_col_31006.append(check_word_31006)\n",
    "    \n",
    "df_second['A61H31006'] = new_col_31006"
   ]
  },
  {
   "cell_type": "markdown",
   "metadata": {},
   "source": [
    "### A61H31/007  •• Manual driven"
   ]
  },
  {
   "cell_type": "code",
   "execution_count": 92,
   "metadata": {},
   "outputs": [],
   "source": [
    "# AND Operator keywords\n",
    "A61H31007 = []\n",
    "\n",
    "# NEAR operator keywords (List1 NEAR5 List2)\n",
    "A61H31007_list1 = ['manual','hand']\n",
    "A61H31007_list2 = ['drive', 'driven', 'operat', 'driving']\n",
    "\n",
    "#SSTO command e.g. search \"eye massage device\" as single word\n",
    "A61H31007_word = []"
   ]
  },
  {
   "cell_type": "code",
   "execution_count": 93,
   "metadata": {},
   "outputs": [],
   "source": [
    "new_col_31007 = []\n",
    "for i in range(len(df_second['all_text'])):\n",
    "    if df_second['A61H31004'][i] == 1:\n",
    "        check_word_31007 = int((near_operator(df_second['all_text'][i],A61H31007_list1,A61H31007_list2, near=5) or \n",
    "                           and_operator(df_second['all_text'][i],A61H31007) or\n",
    "                           ssto(df_second['all_text'][i], A61H31007_word)))\n",
    "    else:\n",
    "        check_word_31007 = 0\n",
    "    \n",
    "    new_col_31007.append(check_word_31007)\n",
    "    \n",
    "df_second['A61H31007'] = new_col_31007"
   ]
  },
  {
   "cell_type": "markdown",
   "metadata": {},
   "source": [
    "### A61H31/008  • Supine patient supports or bases, e.g. improving air-way access to the lungs"
   ]
  },
  {
   "cell_type": "code",
   "execution_count": 94,
   "metadata": {},
   "outputs": [],
   "source": [
    "# AND Operator keywords\n",
    "A61H31008 = ['supine patient bases', 'supine patient support', 'improv airway lung']\n",
    "\n",
    "# NEAR operator keywords (List1 NEAR5 List2)\n",
    "A61H31008_list1 = ['improve']\n",
    "A61H31008_list2 = ['airway']\n",
    "\n",
    "A61H31008_list3 = ['supine']\n",
    "A61H31008_list4 = ['support', 'base']\n",
    "\n",
    "#SSTO command e.g. search \"eye massage device\" as single word\n",
    "A61H31008_word = ['supine patient support']"
   ]
  },
  {
   "cell_type": "code",
   "execution_count": 95,
   "metadata": {},
   "outputs": [],
   "source": [
    "new_col_31008 = []\n",
    "for i in range(len(df_second['all_text'])):\n",
    "    if df_second['A61H3100'][i] == 1:\n",
    "        check_word_31008 = int((near_operator(df_second['all_text'][i],A61H31008_list1,A61H31008_list2, near=5) or \n",
    "                            near_operator(df_second['all_text'][i],A61H31008_list3,A61H31008_list4, near=5) or\n",
    "                           and_operator(df_second['all_text'][i],A61H31008) or\n",
    "                           ssto(df_second['all_text'][i], A61H31008_word)))\n",
    "    else:\n",
    "        check_word_31008 = 0\n",
    "    \n",
    "    new_col_31008.append(check_word_31008)\n",
    "    \n",
    "df_second['A61H31008'] = new_col_31008"
   ]
  },
  {
   "cell_type": "markdown",
   "metadata": {},
   "source": [
    "### A61H31/02    • Iron lungs"
   ]
  },
  {
   "cell_type": "code",
   "execution_count": 96,
   "metadata": {},
   "outputs": [],
   "source": [
    "# AND Operator keywords\n",
    "A61H3102 = ['pressure', 'underpressure']\n",
    "\n",
    "# NEAR operator keywords (List1 NEAR5 List2)\n",
    "A61H3102_list1 = ['chest']\n",
    "A61H3102_list2 = ['expansion', 'compress', 'decompress']\n",
    "\n",
    "#SSTO command e.g. search \"eye massage device\" as single word\n",
    "A61H3102_word = ['iron lung', 'ironlung']"
   ]
  },
  {
   "cell_type": "code",
   "execution_count": 97,
   "metadata": {},
   "outputs": [],
   "source": [
    "new_col_3102 = []\n",
    "for i in range(len(df_second['all_text'])):\n",
    "    if df_second['A61H3100'][i] == 1:\n",
    "        check_word_3102 = int(((near_operator(df_second['all_text'][i],A61H3102_list1,A61H3102_list2, near=5) and \n",
    "                           and_operator(df_second['all_text'][i],A61H3102)) or\n",
    "                           ssto(df_second['all_text'][i], A61H3102_word)))\n",
    "    else:\n",
    "        check_word_3102 = 0\n",
    "    \n",
    "    new_col_3102.append(check_word_3102)\n",
    "    \n",
    "df_second['A61H3102'] = new_col_3102"
   ]
  },
  {
   "cell_type": "markdown",
   "metadata": {},
   "source": [
    "### A61H2031/025 •• using the same pump for pressure and vacuum,not being driven at the respiratory rate, e.g. blowers"
   ]
  },
  {
   "cell_type": "code",
   "execution_count": 98,
   "metadata": {},
   "outputs": [],
   "source": [
    "# AND Operator keywords\n",
    "A61H2031025 = ['blower', 'same pump pressure vacuum']\n",
    "\n",
    "# NEAR operator keywords (List1 NEAR5 List2)\n",
    "A61H2031025_list1 = ['pump']\n",
    "A61H2031025_list2 = ['vacuum']\n",
    "\n",
    "#SSTO command e.g. search \"eye massage device\" as single word\n",
    "A61H2031025_word = []"
   ]
  },
  {
   "cell_type": "code",
   "execution_count": 99,
   "metadata": {},
   "outputs": [],
   "source": [
    "new_col_2031025 = []\n",
    "for i in range(len(df_second['all_text'])):\n",
    "    if df_second['A61H3102'][i] == 1:\n",
    "        check_word_2031025 = int((near_operator(df_second['all_text'][i],A61H2031025_list1,A61H2031025_list2, near=5) or \n",
    "                           and_operator(df_second['all_text'][i],A61H2031025) or\n",
    "                           ssto(df_second['all_text'][i], A61H2031025_word)))\n",
    "    else:\n",
    "        check_word_2031025 = 0\n",
    "    \n",
    "    new_col_2031025.append(check_word_2031025)\n",
    "    \n",
    "df_second['A61H2031025'] = new_col_2031025"
   ]
  },
  {
   "cell_type": "markdown",
   "metadata": {},
   "source": [
    "## Final step"
   ]
  },
  {
   "cell_type": "code",
   "execution_count": 100,
   "metadata": {},
   "outputs": [],
   "source": [
    "for i in range(4,len(df_second.columns)):\n",
    "    df_second.iloc[:,i].replace(1,df_second.columns[i], inplace=True)\n",
    "    df_second.iloc[:,i].replace(0,'', inplace=True)"
   ]
  },
  {
   "cell_type": "code",
   "execution_count": 101,
   "metadata": {},
   "outputs": [],
   "source": [
    "cols = ['A61H3100', 'A61H2031001','A61H2031002', 'A61H2031003', 'A61H31004', 'A61H31005',\n",
    "        'A61H31006','A61H31007', 'A61H31008', 'A61H3102', 'A61H2031025']\n",
    "\n",
    "df_second['prediction'] = ''\n",
    "for i in range(len(df_second)):\n",
    "    for col in cols:\n",
    "        if not df_second.loc[i,col] == '':\n",
    "            df_second.loc[i,'prediction'] = (df_second.loc[i,'prediction'] + ' | '\n",
    "                                                        + df_second.loc[i,col])\n",
    "\n",
    "df_second['prediction'] = df_second['prediction'].str[3:]"
   ]
  },
  {
   "cell_type": "code",
   "execution_count": 102,
   "metadata": {},
   "outputs": [],
   "source": [
    "df_final = df_second.drop(columns=['A61H3100', 'A61H2031001','A61H2031002', 'A61H2031003', 'A61H31004', 'A61H31005',\n",
    "                                   'A61H31006','A61H31007', 'A61H31008', 'A61H3102', 'A61H2031025','all_text'], axis=1)\n"
   ]
  },
  {
   "cell_type": "code",
   "execution_count": 103,
   "metadata": {},
   "outputs": [
    {
     "name": "stdout",
     "output_type": "stream",
     "text": [
      "Loading of module A61H3100 is successfully complete.\n"
     ]
    }
   ],
   "source": [
    "from datetime import datetime\n",
    "dt_string = datetime.now().strftime(\"%d/%b/%Y - %H:%M %p\")\n",
    "print(\"Module A61H3100 is successfully loaded on\",dt_string)"
   ]
  },
  {
   "cell_type": "code",
   "execution_count": null,
   "metadata": {},
   "outputs": [],
   "source": []
  }
 ],
 "metadata": {
  "kernelspec": {
   "display_name": "Python 3",
   "language": "python",
   "name": "python3"
  },
  "language_info": {
   "codemirror_mode": {
    "name": "ipython",
    "version": 3
   },
   "file_extension": ".py",
   "mimetype": "text/x-python",
   "name": "python",
   "nbconvert_exporter": "python",
   "pygments_lexer": "ipython3",
   "version": "3.8.5"
  }
 },
 "nbformat": 4,
 "nbformat_minor": 2
}
