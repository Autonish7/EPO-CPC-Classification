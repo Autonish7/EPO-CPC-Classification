{
 "cells": [
  {
   "cell_type": "markdown",
   "metadata": {},
   "source": [
    "# A61H CPC Classification - Output file\n",
    "\n",
    "<font size=\"3\">\n",
    "\n",
    "#### About the Module:\n",
    "<I><span style=\"font-family:Arial\">This module import all the cpc class modules and process them to get final output with predicted cpc classes  </span></I>\n",
    "\n",
    "#### Input needed: \n",
    "<I><span style=\"font-family:Arial\"> This module will import modules:     \n",
    "Initial_Processing, A61H0100, A61H0300, A61H0500, A61H0700, A61H0900, A61H1100, A61H1300, A61H1500, A61H1900, A61H2100, A61H2300, A61H3100, A61H3300, A61H3500, A61H3600, A61H3700, A61H3900 </span></I>\n",
    "\n",
    "#### Output expected: \n",
    "<I><span style=\"font-family:Arial\">This module will create a excel file 'output.xlsx' with testdata title, abstract and predicted classes</span></I>\n",
    "\n",
    "#### Related modules: \n",
    "<I><span style=\"font-family:Arial\">This is the last module in the list and it is not called by any other module. However, this module is calling modules: <br> A61H0100, A61H0300, A61H0500, A61H0700, A61H0900, A61H1100, A61H1300, A61H1500, A61H1900, A61H2100, A61H2300, A61H3100, A61H3300, A61H3500, A61H3600, A61H3700, A61H3900 and initial_processing</span></I>\n",
    "\n",
    "#### Who and when: \n",
    "<I><span style=\"font-family:Arial\">Last Modified by : Nishant Chauhan</span><br>\n",
    "<span style=\"font-family:Arial\">Last Modified on : 2-Aug-2020</span><br>\n",
    "<span style=\"font-family:Arial\">Version no       : 2</span><br>\n",
    "<span style=\"font-family:Arial\">Developed by     : Nishant Chauhan </span><br></font></I>\n"
   ]
  },
  {
   "cell_type": "code",
   "execution_count": 1,
   "metadata": {},
   "outputs": [],
   "source": [
    "import os\n",
    "import sys\n",
    "import import_ipynb\n",
    "import pandas as pd"
   ]
  },
  {
   "cell_type": "code",
   "execution_count": 2,
   "metadata": {},
   "outputs": [
    {
     "name": "stdout",
     "output_type": "stream",
     "text": [
      "importing Jupyter notebook from Initial_Processing.ipynb\n",
      "Module Initial Processing is successfully loaded on 03/Aug/2020 - 15:21 PM\n"
     ]
    }
   ],
   "source": [
    "import Initial_Processing"
   ]
  },
  {
   "cell_type": "code",
   "execution_count": 3,
   "metadata": {},
   "outputs": [
    {
     "name": "stdout",
     "output_type": "stream",
     "text": [
      "importing Jupyter notebook from A61H0100.ipynb\n",
      "importing Jupyter notebook from Initial_processing.ipynb\n",
      "The autoreload extension is already loaded. To reload it, use:\n",
      "  %reload_ext autoreload\n",
      "Module Initial Processing is successfully loaded on 03/Aug/2020 - 15:26 PM\n",
      "Training data accuracy score :  0.8815285583718978\n",
      "Module A61H0100 is successfully loaded on 03/Aug/2020 - 15:31 PM\n"
     ]
    }
   ],
   "source": [
    "import A61H0100"
   ]
  },
  {
   "cell_type": "code",
   "execution_count": 4,
   "metadata": {},
   "outputs": [
    {
     "name": "stdout",
     "output_type": "stream",
     "text": [
      "importing Jupyter notebook from A61H0300.ipynb\n",
      "Training data accuracy score :  0.9517354093349075\n",
      "Module A61H0300 is successfully loaded on 03/Aug/2020 - 15:34 PM\n"
     ]
    }
   ],
   "source": [
    "import A61H0300"
   ]
  },
  {
   "cell_type": "code",
   "execution_count": 5,
   "metadata": {},
   "outputs": [
    {
     "name": "stdout",
     "output_type": "stream",
     "text": [
      "importing Jupyter notebook from A61H0500.ipynb\n",
      "Training data accuracy score :  0.9846281890629976\n",
      "Module A61H0500 is successfully loaded on 03/Aug/2020 - 15:35 PM\n"
     ]
    }
   ],
   "source": [
    "import A61H0500"
   ]
  },
  {
   "cell_type": "code",
   "execution_count": 6,
   "metadata": {},
   "outputs": [
    {
     "name": "stdout",
     "output_type": "stream",
     "text": [
      "importing Jupyter notebook from A61H0700.ipynb\n",
      "Training data accuracy score :  0.8978937497692557\n",
      "Module A61H0700 is successfully loaded on 03/Aug/2020 - 15:39 PM\n"
     ]
    }
   ],
   "source": [
    "import A61H0700"
   ]
  },
  {
   "cell_type": "code",
   "execution_count": 7,
   "metadata": {},
   "outputs": [
    {
     "name": "stdout",
     "output_type": "stream",
     "text": [
      "importing Jupyter notebook from A61H0900.ipynb\n",
      "Training data accuracy score :  0.921493692087755\n",
      "Module A61H0900 is successfully loaded on 03/Aug/2020 - 15:43 PM\n"
     ]
    }
   ],
   "source": [
    "import A61H0900"
   ]
  },
  {
   "cell_type": "code",
   "execution_count": 8,
   "metadata": {},
   "outputs": [
    {
     "name": "stdout",
     "output_type": "stream",
     "text": [
      "importing Jupyter notebook from A61H1100.ipynb\n",
      "Training data accuracy score :  0.9731634840047816\n",
      "Module A61H1100 is successfully loaded on 03/Aug/2020 - 15:44 PM\n"
     ]
    }
   ],
   "source": [
    "import A61H1100"
   ]
  },
  {
   "cell_type": "code",
   "execution_count": 9,
   "metadata": {},
   "outputs": [
    {
     "name": "stdout",
     "output_type": "stream",
     "text": [
      "importing Jupyter notebook from A61H1300.ipynb\n",
      "Training data accuracy score :  0.987622155225535\n",
      "Module A61H1300 is successfully loaded on 03/Aug/2020 - 15:45 PM\n"
     ]
    }
   ],
   "source": [
    "import A61H1300"
   ]
  },
  {
   "cell_type": "code",
   "execution_count": 10,
   "metadata": {},
   "outputs": [
    {
     "name": "stdout",
     "output_type": "stream",
     "text": [
      "importing Jupyter notebook from A61H1500.ipynb\n",
      "Training data accuracy score :  0.92996054028539\n",
      "Module A61H1500 is successfully loaded on 03/Aug/2020 - 15:48 PM\n"
     ]
    }
   ],
   "source": [
    "import A61H1500"
   ]
  },
  {
   "cell_type": "code",
   "execution_count": 11,
   "metadata": {},
   "outputs": [
    {
     "name": "stdout",
     "output_type": "stream",
     "text": [
      "importing Jupyter notebook from A61H1900.ipynb\n",
      "Training data accuracy score :  0.9666830226219423\n",
      "Module A61H1900 is successfully loaded on 03/Aug/2020 - 15:50 PM\n"
     ]
    }
   ],
   "source": [
    "import A61H1900"
   ]
  },
  {
   "cell_type": "code",
   "execution_count": 12,
   "metadata": {},
   "outputs": [
    {
     "name": "stdout",
     "output_type": "stream",
     "text": [
      "importing Jupyter notebook from A61H2100.ipynb\n",
      "Module A61H2100 is successfully loaded on 03/Aug/2020 - 15:50 PM\n"
     ]
    }
   ],
   "source": [
    "import A61H2100"
   ]
  },
  {
   "cell_type": "code",
   "execution_count": 13,
   "metadata": {},
   "outputs": [
    {
     "name": "stdout",
     "output_type": "stream",
     "text": [
      "importing Jupyter notebook from A61H2300.ipynb\n",
      "Training data accuracy score :  0.8821135206814844\n",
      "Module A61H2300 is successfully loaded on 03/Aug/2020 - 15:55 PM\n"
     ]
    }
   ],
   "source": [
    "import A61H2300"
   ]
  },
  {
   "cell_type": "code",
   "execution_count": 14,
   "metadata": {},
   "outputs": [
    {
     "name": "stdout",
     "output_type": "stream",
     "text": [
      "importing Jupyter notebook from A61H3100.ipynb\n",
      "Training data accuracy score :  0.9841335846767473\n",
      "Module A61H3100 is successfully loaded on 03/Aug/2020 - 15:56 PM\n"
     ]
    }
   ],
   "source": [
    "import A61H3100"
   ]
  },
  {
   "cell_type": "code",
   "execution_count": 15,
   "metadata": {},
   "outputs": [
    {
     "name": "stdout",
     "output_type": "stream",
     "text": [
      "importing Jupyter notebook from A61H3300.ipynb\n",
      "Training data accuracy score :  0.9697600125878744\n",
      "Module A61H3500 is successfully loaded on 03/Aug/2020 - 15:58 PM\n"
     ]
    }
   ],
   "source": [
    "import A61H3300"
   ]
  },
  {
   "cell_type": "code",
   "execution_count": 16,
   "metadata": {},
   "outputs": [
    {
     "name": "stdout",
     "output_type": "stream",
     "text": [
      "importing Jupyter notebook from A61H3500.ipynb\n",
      "Training data accuracy score :  0.9778992602727863\n",
      "Module A61H3500 is successfully loaded on 03/Aug/2020 - 15:59 PM\n"
     ]
    }
   ],
   "source": [
    "import A61H3500"
   ]
  },
  {
   "cell_type": "code",
   "execution_count": 17,
   "metadata": {},
   "outputs": [
    {
     "name": "stdout",
     "output_type": "stream",
     "text": [
      "importing Jupyter notebook from A61H3600.ipynb\n",
      "Module A61H3600 is successfully loaded on 03/Aug/2020 - 15:59 PM\n"
     ]
    }
   ],
   "source": [
    "import A61H3600"
   ]
  },
  {
   "cell_type": "code",
   "execution_count": 18,
   "metadata": {},
   "outputs": [
    {
     "name": "stdout",
     "output_type": "stream",
     "text": [
      "importing Jupyter notebook from A61H3700.ipynb\n",
      "Training data accuracy score :  0.988783644872874\n",
      "Module A61H3700 is successfully loaded on 03/Aug/2020 - 16:00 PM\n"
     ]
    }
   ],
   "source": [
    "import A61H3700"
   ]
  },
  {
   "cell_type": "code",
   "execution_count": 19,
   "metadata": {},
   "outputs": [
    {
     "name": "stdout",
     "output_type": "stream",
     "text": [
      "importing Jupyter notebook from A61H3900.ipynb\n",
      "Training data accuracy score :  0.9409269021357393\n",
      "Module A61H3900 is successfully loaded on 03/Aug/2020 - 16:03 PM\n"
     ]
    }
   ],
   "source": [
    "import A61H3900"
   ]
  },
  {
   "cell_type": "code",
   "execution_count": 20,
   "metadata": {},
   "outputs": [],
   "source": [
    "df_final_table = pd.concat([A61H0100.df_final,\n",
    "                            A61H0300.df_final['prediction'],\n",
    "                            A61H0500.df_final['prediction'],\n",
    "                            A61H0700.df_final['prediction'],\n",
    "                            A61H0900.df_final['prediction'],\n",
    "                            A61H1100.df_final['prediction'],\n",
    "                            A61H1300.df_final['prediction'],\n",
    "                            A61H1500.df_final['prediction'],\n",
    "                            A61H1900.df_final['prediction'],\n",
    "                            A61H2100.df_final['prediction'],\n",
    "                            A61H2300.df_final['prediction'],\n",
    "                            A61H3100.df_final['prediction'],\n",
    "                            A61H3300.df_final['prediction'],\n",
    "                            A61H3500.df_final['prediction'],\n",
    "                            A61H3600.df_final['prediction'],\n",
    "                            A61H3700.df_final['prediction'],\n",
    "                            A61H3900.df_final['prediction']], axis=1)"
   ]
  },
  {
   "cell_type": "code",
   "execution_count": 21,
   "metadata": {},
   "outputs": [],
   "source": [
    "df_final_table['predicted_classes'] = ''\n",
    "for i in range(len(df_final_table)):\n",
    "    for j in range(3,(len(df_final_table.columns)-1)):\n",
    "        if not df_final_table.iloc[i,j] == '':\n",
    "            df_final_table.loc[i,'predicted_classes'] = (df_final_table.loc[i,'predicted_classes'] + ' | '\n",
    "                                                         + df_final_table.iloc[i,j])\n",
    "\n",
    "df_final_table['predicted_classes'] = df_final_table['predicted_classes'].str[3:]\n",
    "\n",
    "for i in range(len(df_final_table)-1):\n",
    "    if df_final_table.loc[i,'predicted_classes'] == '':\n",
    "        df_final_table.loc[i,'predicted_classes'] = 'NR' \n",
    "        \n",
    "df_final_table = df_final_table.drop(columns = ['prediction'])"
   ]
  },
  {
   "cell_type": "code",
   "execution_count": 22,
   "metadata": {},
   "outputs": [],
   "source": [
    "df_final_table.to_excel(\"output.xlsx\")"
   ]
  },
  {
   "cell_type": "code",
   "execution_count": null,
   "metadata": {},
   "outputs": [],
   "source": []
  }
 ],
 "metadata": {
  "kernelspec": {
   "display_name": "Python 3",
   "language": "python",
   "name": "python3"
  },
  "language_info": {
   "codemirror_mode": {
    "name": "ipython",
    "version": 3
   },
   "file_extension": ".py",
   "mimetype": "text/x-python",
   "name": "python",
   "nbconvert_exporter": "python",
   "pygments_lexer": "ipython3",
   "version": "3.8.3"
  }
 },
 "nbformat": 4,
 "nbformat_minor": 2
}
