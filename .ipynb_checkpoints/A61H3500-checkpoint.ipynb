{
 "cells": [
  {
   "cell_type": "markdown",
   "metadata": {},
   "source": [
    "# A61H CPC Classification - A61H3500\n",
    "\n",
    "<font size=\"3\">\n",
    "\n",
    "#### About the Module:\n",
    "<I><span style=\"font-family:Arial\">This module work to identify patents in A61H3500 class. Class detail is as follow<br></span>\n",
    "<span style=\"font-family:Arial\">A61H35/00&emsp;&emsp;&emsp;&emsp;•&emsp;Bath for specific parts of the body<br></span>\n",
    "<span style=\"font-family:Arial\">A61H35/002 &emsp; &emsp;&emsp;•&emsp;breast bath<br></span>\n",
    "<span style=\"font-family:Arial\">A61H2035/004 &emsp;&emsp;•&emsp;For the whole body except the head<br></span>\n",
    "<span style=\"font-family:Arial\">A61H35/006 &emsp; &emsp;&emsp;•&emsp;for the feet<br></span>\n",
    "<span style=\"font-family:Arial\">A61H35/008 &emsp; &emsp;&emsp;•&emsp;for the head<br></span>\n",
    "<span style=\"font-family:Arial\">A61H35/02&emsp;&emsp;&emsp;&emsp;•&emsp; for the eyes<br></span>\n",
    "<span style=\"font-family:Arial\">A61H35/04&emsp;&emsp;&emsp;&emsp;•&emsp; for the nose<br></span>\n",
    "\n",
    "#### Input needed: \n",
    "<I><span style=\"font-family:Arial\">This module use libraries, function and processed text data present in initial_processing module</span></I>\n",
    "\n",
    "#### Output expected: \n",
    "<I><span style=\"font-family:Arial\">This module will identify patents in A61H3500 class in test data.<br>This output is pass to the module final_file. No output is expected in this module alone.</span></I>\n",
    "\n",
    "#### Related modules: \n",
    "<I><span style=\"font-family:Arial\">This module is calling initial_processing module and is called by final_file module</span></I>\n",
    "\n",
    "#### Who and when: \n",
    "<I><span style=\"font-family:Arial\">Last Modified by : Nishant Chauhan</span><br>\n",
    "<span style=\"font-family:Arial\">Last Modified on : 24-July-2020</span><br>\n",
    "<span style=\"font-family:Arial\">Version no       : 2</span><br>\n",
    "<span style=\"font-family:Arial\">Developed by     : Nishant Chauhan </span><br></font></I>"
   ]
  },
  {
   "cell_type": "code",
   "execution_count": 86,
   "metadata": {},
   "outputs": [],
   "source": [
    "import os\n",
    "import sys\n",
    "import import_ipynb\n",
    "from Initial_processing import *"
   ]
  },
  {
   "cell_type": "code",
   "execution_count": 2,
   "metadata": {},
   "outputs": [
    {
     "data": {
      "text/plain": [
       "0    3823\n",
       "1      94\n",
       "Name: A61H3500, dtype: int64"
      ]
     },
     "execution_count": 2,
     "metadata": {},
     "output_type": "execute_result"
    }
   ],
   "source": [
    "df['A61H3500'] = df['CPC'].str.contains('A61H35/|A61H0035|A61H 35/').astype('int')\n",
    "df['A61H3500'].value_counts()"
   ]
  },
  {
   "cell_type": "markdown",
   "metadata": {},
   "source": [
    "## Model training and prediction"
   ]
  },
  {
   "cell_type": "code",
   "execution_count": 3,
   "metadata": {},
   "outputs": [],
   "source": [
    "y_train = df['A61H3500']\n",
    "\n",
    "model_title , score_title = train_model(X_title_dtm, y_train)\n",
    "\n",
    "y_pred_class_title = model_title.predict(X_title_test_dtm)"
   ]
  },
  {
   "cell_type": "code",
   "execution_count": 4,
   "metadata": {},
   "outputs": [],
   "source": [
    "model_abstract , score_abstract = train_model(X_abstract_dtm, y_train)\n",
    "\n",
    "y_pred_class_abstract = model_abstract.predict(X_abstract_test_dtm)"
   ]
  },
  {
   "cell_type": "code",
   "execution_count": 5,
   "metadata": {},
   "outputs": [
    {
     "name": "stdout",
     "output_type": "stream",
     "text": [
      "Training data accuracy score :  0.9772782015243768\n"
     ]
    }
   ],
   "source": [
    "model_tab , score_tab = train_model(X_tab_dtm, y_train)\n",
    "\n",
    "y_pred_class_tab = model_tab.predict(X_tab_test_dtm)\n",
    "\n",
    "print(\"Training data accuracy score : \" ,((score_abstract.mean() + score_title.mean() + score_tab.mean())/3))"
   ]
  },
  {
   "cell_type": "code",
   "execution_count": 6,
   "metadata": {},
   "outputs": [],
   "source": [
    "df_first = pd.DataFrame(df_test[['number','title','abstract']])"
   ]
  },
  {
   "cell_type": "code",
   "execution_count": 7,
   "metadata": {},
   "outputs": [],
   "source": [
    "df_first['all_text'] = X_all\n",
    "df_first['title_prediction'] = y_pred_class_title\n",
    "df_first['abstract_prediction'] = y_pred_class_abstract"
   ]
  },
  {
   "cell_type": "markdown",
   "metadata": {},
   "source": [
    "## Predicting using words"
   ]
  },
  {
   "cell_type": "code",
   "execution_count": 18,
   "metadata": {},
   "outputs": [],
   "source": [
    "# AND Operator keywords\n",
    "\n",
    "A61H3500 = []"
   ]
  },
  {
   "cell_type": "code",
   "execution_count": 19,
   "metadata": {},
   "outputs": [],
   "source": [
    "# NEAR operator keywords (List1 NEAR5 List2)\n",
    "\n",
    "A61H3500_list1 = ['foot', 'feet', 'head', 'face', 'eyes', 'nose', 'breast', 'body','scalp','nostril']\n",
    "A61H3500_list2 = ['bath', 'wash']\n"
   ]
  },
  {
   "cell_type": "code",
   "execution_count": 25,
   "metadata": {},
   "outputs": [],
   "source": [
    "#SSTO command e.g. search \"eye massage device\" as single word\n",
    "\n",
    "A61H3500_word = ['foot spa', 'face wash', 'feet spa']"
   ]
  },
  {
   "cell_type": "code",
   "execution_count": 26,
   "metadata": {},
   "outputs": [],
   "source": [
    "new_col = []\n",
    "for i in range(len(df_first['all_text'])):\n",
    "    check_word = (near_operator(df_first['all_text'][i],A61H3500_list1,A61H3500_list2, near=5) or\n",
    "                 and_operator(df_first['all_text'][i],A61H3500) or\n",
    "                 ssto(df_first['all_text'][i], A61H3500_word)) \n",
    "    new_col.append(check_word)\n",
    "    \n",
    "df_first['word_predict'] = new_col"
   ]
  },
  {
   "cell_type": "code",
   "execution_count": 27,
   "metadata": {},
   "outputs": [],
   "source": [
    "df_first['A61H3500'] = df_first['word_predict'] + df_first['title_prediction'] + df_first['abstract_prediction']\n",
    "\n",
    "for row in range(len(df_first['A61H3500'])):\n",
    "    if df_first.loc[row, 'A61H3500'] > 0:\n",
    "        df_first.loc[row, 'A61H3500'] = 1\n",
    "    else:\n",
    "        df_first.loc[row, 'A61H3500'] = 0"
   ]
  },
  {
   "cell_type": "code",
   "execution_count": 28,
   "metadata": {},
   "outputs": [],
   "source": [
    "df_second = df_first.drop(['title_prediction','abstract_prediction', 'word_predict'],axis=1)"
   ]
  },
  {
   "cell_type": "markdown",
   "metadata": {},
   "source": [
    "## Sub-classification of A61H35/00"
   ]
  },
  {
   "cell_type": "markdown",
   "metadata": {},
   "source": [
    "### A61H35/002     • breast bath"
   ]
  },
  {
   "cell_type": "code",
   "execution_count": 36,
   "metadata": {},
   "outputs": [],
   "source": [
    "# AND Operator keywords\n",
    "A61H35002 = []\n",
    "\n",
    "# NEAR operator keywords (List1 NEAR5 List2)\n",
    "A61H35002_list1 = ['breast']\n",
    "A61H35002_list2 = ['bath', 'wash']\n",
    "\n",
    "#SSTO command e.g. search \"eye massage device\" as single word\n",
    "A61H35002_word = []"
   ]
  },
  {
   "cell_type": "code",
   "execution_count": 37,
   "metadata": {},
   "outputs": [],
   "source": [
    "new_col_35002 = []\n",
    "for i in range(len(df_second['all_text'])):\n",
    "    if df_second['A61H3500'][i] == 1:\n",
    "        check_word_35002 = int((near_operator(df_second['all_text'][i],A61H35002_list1,A61H35002_list2, near=5) or \n",
    "                           and_operator(df_second['all_text'][i],A61H35002) or\n",
    "                           ssto(df_second['all_text'][i], A61H35002_word)))\n",
    "    else:\n",
    "        check_word_35002 = 0\n",
    "    \n",
    "    new_col_35002.append(check_word_35002)\n",
    "    \n",
    "df_second['A61H35002'] = new_col_35002\n"
   ]
  },
  {
   "cell_type": "markdown",
   "metadata": {},
   "source": [
    "### A61H2035/004   • For the whole body except the head"
   ]
  },
  {
   "cell_type": "code",
   "execution_count": 38,
   "metadata": {},
   "outputs": [],
   "source": [
    "# AND Operator keywords\n",
    "A61H2035004 = ['head']\n",
    "\n",
    "# NEAR operator keywords (List1 NEAR5 List2)\n",
    "A61H2035004_list1 = ['body']\n",
    "A61H2035004_list2 = ['bath']\n",
    "\n",
    "#SSTO command e.g. search \"eye massage device\" as single word\n",
    "A61H2035004_word = []\n"
   ]
  },
  {
   "cell_type": "code",
   "execution_count": 39,
   "metadata": {},
   "outputs": [],
   "source": [
    "new_col_2035004 = []\n",
    "for i in range(len(df_second['all_text'])):\n",
    "    if df_second['A61H3500'][i] == 1:\n",
    "        check_word_2035004 = int(((near_operator(df_second['all_text'][i],A61H2035004_list1,A61H2035004_list2, near=5) and \n",
    "                           not and_operator(df_second['all_text'][i],A61H2035004)) or\n",
    "                           ssto(df_second['all_text'][i], A61H2035004_word)))\n",
    "    else:\n",
    "        check_word_2035004 = 0\n",
    "    \n",
    "    new_col_2035004.append(check_word_2035004)\n",
    "    \n",
    "df_second['A61H2035004'] = new_col_2035004"
   ]
  },
  {
   "cell_type": "markdown",
   "metadata": {},
   "source": [
    "### A61H35/006     • for the feet"
   ]
  },
  {
   "cell_type": "code",
   "execution_count": 40,
   "metadata": {},
   "outputs": [],
   "source": [
    "# AND Operator keywords\n",
    "A61H35006 = []\n",
    "\n",
    "# NEAR operator keywords (List1 NEAR5 List2)\n",
    "A61H35006_list1 = ['feet','foot']\n",
    "A61H35006_list2 = ['bath','wash','spa']\n",
    "\n",
    "#SSTO command e.g. search \"eye massage device\" as single word\n",
    "A61H35006_word = []"
   ]
  },
  {
   "cell_type": "code",
   "execution_count": 42,
   "metadata": {},
   "outputs": [],
   "source": [
    "new_col_35006 = []\n",
    "for i in range(len(df_second['all_text'])):\n",
    "    if df_second['A61H3500'][i] == 1:\n",
    "        check_word_35006 = int((near_operator(df_second['all_text'][i],A61H35006_list1,A61H35006_list2, near=5) or \n",
    "                           and_operator(df_second['all_text'][i],A61H35006) or\n",
    "                           ssto(df_second['all_text'][i], A61H35006_word)))\n",
    "    else:\n",
    "        check_word_35006 = 0\n",
    "    \n",
    "    new_col_35006.append(check_word_35006)\n",
    "    \n",
    "df_second['A61H35006'] = new_col_35006"
   ]
  },
  {
   "cell_type": "markdown",
   "metadata": {},
   "source": [
    "### A61H35/008     • for the head"
   ]
  },
  {
   "cell_type": "code",
   "execution_count": 43,
   "metadata": {},
   "outputs": [],
   "source": [
    "# AND Operator keywords\n",
    "A61H35008 = []\n",
    "\n",
    "# NEAR operator keywords (List1 NEAR5 List2)\n",
    "A61H35008_list1 = ['head', 'scalp', 'forehead']\n",
    "A61H35008_list2 = ['bath', 'wash','clean']\n",
    "\n",
    "#SSTO command e.g. search \"eye massage device\" as single word\n",
    "A61H35008_word = []"
   ]
  },
  {
   "cell_type": "code",
   "execution_count": 47,
   "metadata": {},
   "outputs": [],
   "source": [
    "new_col_35008 = []\n",
    "for i in range(len(df_second['all_text'])):\n",
    "    if df_second['A61H3500'][i] == 1:\n",
    "        check_word_35008 = int((near_operator(df_second['all_text'][i],A61H35008_list1,A61H35008_list2, near=5) or \n",
    "                           and_operator(df_second['all_text'][i],A61H35008) or\n",
    "                           ssto(df_second['all_text'][i], A61H35008_word)))\n",
    "    else:\n",
    "        check_word_35008 = 0\n",
    "    \n",
    "    new_col_35008.append(check_word_35008)\n",
    "    \n",
    "df_second['A61H35008'] = new_col_35008"
   ]
  },
  {
   "cell_type": "markdown",
   "metadata": {},
   "source": [
    "### A61H35/02    •  for the eyes"
   ]
  },
  {
   "cell_type": "code",
   "execution_count": 48,
   "metadata": {},
   "outputs": [],
   "source": [
    "# AND Operator keywords\n",
    "A61H3502 = []\n",
    "\n",
    "# NEAR operator keywords (List1 NEAR5 List2)\n",
    "A61H3502_list1 = ['eye']\n",
    "A61H3502_list2 = ['bath','wash','clean']\n",
    "\n",
    "#SSTO command e.g. search \"eye massage device\" as single word\n",
    "A61H3502_word = []"
   ]
  },
  {
   "cell_type": "code",
   "execution_count": 50,
   "metadata": {},
   "outputs": [],
   "source": [
    "new_col_3502 = []\n",
    "for i in range(len(df_second['all_text'])):\n",
    "    if df_second['A61H3500'][i] == 1:\n",
    "        check_word_3502 = int((near_operator(df_second['all_text'][i],A61H3502_list1,A61H3502_list2, near=5) or \n",
    "                           and_operator(df_second['all_text'][i],A61H3502) or\n",
    "                           ssto(df_second['all_text'][i], A61H3502_word)))\n",
    "    else:\n",
    "        check_word_3502 = 0\n",
    "    \n",
    "    new_col_3502.append(check_word_3502)\n",
    "    \n",
    "df_second['A61H3502'] = new_col_3502"
   ]
  },
  {
   "cell_type": "markdown",
   "metadata": {},
   "source": [
    "### A61H35/04    •  for the nose"
   ]
  },
  {
   "cell_type": "code",
   "execution_count": 51,
   "metadata": {},
   "outputs": [],
   "source": [
    "# AND Operator keywords\n",
    "A61H3504 = []\n",
    "\n",
    "# NEAR operator keywords (List1 NEAR5 List2)\n",
    "A61H3504_list1 = ['nose','nostril']\n",
    "A61H3504_list2 = ['bath']\n",
    "\n",
    "#SSTO command e.g. search \"eye massage device\" as single word\n",
    "A61H3504_word = []"
   ]
  },
  {
   "cell_type": "code",
   "execution_count": 53,
   "metadata": {},
   "outputs": [],
   "source": [
    "new_col_3504 = []\n",
    "for i in range(len(df_second['all_text'])):\n",
    "    if df_second['A61H3500'][i] == 1:\n",
    "        check_word_3504 = int((near_operator(df_second['all_text'][i],A61H3504_list1,A61H3504_list2, near=5) or \n",
    "                           and_operator(df_second['all_text'][i],A61H3504) or\n",
    "                           ssto(df_second['all_text'][i], A61H3504_word)))\n",
    "    else:\n",
    "        check_word_3504 = 0\n",
    "    \n",
    "    new_col_3504.append(check_word_3504)\n",
    "    \n",
    "df_second['A61H3504'] = new_col_3504"
   ]
  },
  {
   "cell_type": "markdown",
   "metadata": {},
   "source": [
    "## Final step"
   ]
  },
  {
   "cell_type": "code",
   "execution_count": 54,
   "metadata": {},
   "outputs": [],
   "source": [
    "for i in range(4,len(df_second.columns)):\n",
    "    df_second.iloc[:,i].replace(1,df_second.columns[i], inplace=True)\n",
    "    df_second.iloc[:,i].replace(0,'', inplace=True)"
   ]
  },
  {
   "cell_type": "code",
   "execution_count": 57,
   "metadata": {},
   "outputs": [],
   "source": [
    "cols = ['A61H3500', 'A61H35002', 'A61H2035004','A61H35006', 'A61H35008', 'A61H3502', 'A61H3504']\n",
    "\n",
    "df_second['prediction'] = ''\n",
    "for i in range(len(df_second)):\n",
    "    for col in cols:\n",
    "        if not df_second.loc[i,col] == '':\n",
    "            df_second.loc[i,'prediction'] = (df_second.loc[i,'prediction'] + ' | '\n",
    "                                                        + df_second.loc[i,col])\n",
    "\n",
    "df_second['prediction'] = df_second['prediction'].str[3:]"
   ]
  },
  {
   "cell_type": "code",
   "execution_count": 59,
   "metadata": {},
   "outputs": [],
   "source": [
    "df_final = df_second.drop(columns=['A61H3500', 'A61H2035004','A61H35006', 'A61H35008', \n",
    "                                   'A61H3502', 'A61H3504','A61H35002','all_text'], axis=1)\n"
   ]
  },
  {
   "cell_type": "code",
   "execution_count": 88,
   "metadata": {},
   "outputs": [
    {
     "name": "stdout",
     "output_type": "stream",
     "text": [
      "Module A61H3500 is successfully loaded on 01/Aug/2020 - 01:00 AM\n"
     ]
    }
   ],
   "source": [
    "from datetime import datetime\n",
    "dt_string = datetime.now().strftime(\"%d/%b/%Y - %H:%M %p\")\n",
    "print(\"Module A61H3500 is successfully loaded on\",dt_string)"
   ]
  },
  {
   "cell_type": "code",
   "execution_count": null,
   "metadata": {},
   "outputs": [],
   "source": []
  }
 ],
 "metadata": {
  "kernelspec": {
   "display_name": "Python 3",
   "language": "python",
   "name": "python3"
  },
  "language_info": {
   "codemirror_mode": {
    "name": "ipython",
    "version": 3
   },
   "file_extension": ".py",
   "mimetype": "text/x-python",
   "name": "python",
   "nbconvert_exporter": "python",
   "pygments_lexer": "ipython3",
   "version": "3.8.5"
  }
 },
 "nbformat": 4,
 "nbformat_minor": 2
}
