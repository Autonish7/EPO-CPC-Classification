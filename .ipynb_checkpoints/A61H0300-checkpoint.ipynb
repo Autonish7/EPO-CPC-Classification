{
 "cells": [
  {
   "cell_type": "markdown",
   "metadata": {},
   "source": [
    "# A61H CPC Classification - A61H0300\n",
    "\n",
    "\n",
    "\n",
    "#### About the Module:\n",
    "<I><span style=\"font-family:Arial\">This module work to identify patents in A61H300 class. Class detail is as follow<br></span>\n",
    "<span style=\"font-family:Arial\">A61H3/00&emsp; &emsp;&emsp;&emsp;•&emsp;Appliances for aiding patients or disabled persons to walk about<br></span>\n",
    "<span style=\"font-family:Arial\">A61H2003/001 &emsp;&emsp;•&emsp;on steps or stairways<br></span>\n",
    "<span style=\"font-family:Arial\">A61H2003/002 &emsp;&emsp;•&emsp;with attached or incorporated article carrying means<br></span>\n",
    "<span style=\"font-family:Arial\">A61H2003/003 &emsp;&emsp;••&emsp;Umbrellas<br></span>\n",
    "<span style=\"font-family:Arial\">A61H2003/004 &emsp;&emsp;••&emsp;Trays<br></span>\n",
    "<span style=\"font-family:Arial\">A61H2003/005 &emsp;&emsp;•&emsp;with knee, leg or stump rests<br></span>\n",
    "<span style=\"font-family:Arial\">A61H2003/006 &emsp;&emsp;•&emsp;with forearm rests, i.e. for non-used arms<br></span>\n",
    "<span style=\"font-family:Arial\">A61H2003/007 &emsp;&emsp;•&emsp;secured to the patient, e.g. with belts<br></span>\n",
    "<span style=\"font-family:Arial\">A61H03/008 &emsp; &emsp;&emsp;•&emsp;Using suspension devices for supporting the body in an upright walking or standing position e.g. harnesses<br></span>\n",
    "<span style=\"font-family:Arial\">A61H3/02&emsp; &emsp; &emsp;&emsp;•&emsp;Crutches<br></span>\n",
    "<span style=\"font-family:Arial\">A61H2003/0205&emsp;&emsp;••&emsp;Crutches with no pivoting movement during use, e.g. tripods<br></span>\n",
    "<span style=\"font-family:Arial\">A61H2003/0211&emsp;&emsp;••&emsp;with curved ground-engaging means, i.e. rockers<br></span>\n",
    "<span style=\"font-family:Arial\">A61H2003/0216&emsp;&emsp;••&emsp;Crutches in which movement is limited to a pivoting in one plane, e.g. 2-point supports}<br></span>\n",
    "<span style=\"font-family:Arial\">A61H2003/0222&emsp;&emsp;••&emsp;with means for grasping or picking-up objects<br></span>\n",
    "<span style=\"font-family:Arial\">A61H2003/0227&emsp;&emsp;••&emsp;convertible from armpit- into forearm-model<br></span>\n",
    "<span style=\"font-family:Arial\">A61H2003/0233&emsp;&emsp;••&emsp;convertible from armpit crutch into cane<br></span>\n",
    "<span style=\"font-family:Arial\">A61H2003/0238&emsp;&emsp;••&emsp;convertible from forearm crutch into cane<br></span>\n",
    "<span style=\"font-family:Arial\">A61H3/0244&emsp; &emsp; &emsp;••&emsp;Arrangements for storing or keeping upright when not in use<br></span>\n",
    "<span style=\"font-family:Arial\">A61H2003/025 &emsp; &emsp;•••&emsp;with devices for securing a pair of crutches together<br></span>\n",
    "<span style=\"font-family:Arial\">A61H2003/0255&emsp;&emsp;•••&emsp;{on a single crutch for being fixed on or supported by a wall, furniture or the likes<br></span>\n",
    "<span style=\"font-family:Arial\">A61H2003/0261&emsp;&emsp;•••&emsp;on walls or furniture for receiving single crutches<br></span>\n",
    "<span style=\"font-family:Arial\">A61H2003/0266&emsp;&emsp;•••&emsp;with magnetic fixing<br></span>\n",
    "<span style=\"font-family:Arial\">A61H2003/0272&emsp;&emsp;•••&emsp;on a single crutch allowing it to remain upright when not in use, e.g. retractable tripods<br></span>\n",
    "<span style=\"font-family:Arial\">A61H3/0277&emsp; &emsp; &emsp;••&emsp;Shock absorbers therefor<br></span>\n",
    "<span style=\"font-family:Arial\">A61H2003/0283&emsp;&emsp;•••&emsp;using elastomeric material<br></span>\n",
    "<span style=\"font-family:Arial\">A61H3/0288&emsp; &emsp; &emsp;••&emsp;Ferrules or tips therefor<br></span>\n",
    "<span style=\"font-family:Arial\">A61H2003/0294&emsp;&emsp;•••&emsp;comprising a ball-and-socket joint<br></span>\n",
    "<span style=\"font-family:Arial\">A61H3/04&emsp; &emsp; &emsp;&emsp;•&emsp;Wheeled walking aids for disabled persons<br></span>\n",
    "<span style=\"font-family:Arial\">A61H2003/043 &emsp;&emsp;••&emsp;with a drive mechanism<br></span>\n",
    "<span style=\"font-family:Arial\">A61H2003/046 &emsp;&emsp;••&emsp;with braking means<br></span>\n",
    "<span style=\"font-family:Arial\">A61H3/06&emsp; &emsp; &emsp;&emsp;•&emsp;Walking aids for blind persons<br></span>\n",
    "<span style=\"font-family:Arial\">A61H3/0261&emsp; &emsp; &emsp;••&emsp;with electronic detecting or guiding means<br></span>\n",
    "<span style=\"font-family:Arial\">A61H2003/063 &emsp;&emsp;•••&emsp;with tactile perception<br></span>\n",
    "<span style=\"font-family:Arial\">A61H2003/065 &emsp;&emsp;••••&emsp;in the form of braille<br></span>\n",
    "<span style=\"font-family:Arial\">A61H3/066 &emsp; &emsp; &emsp;••&emsp;Installations on the floor, e.g. special surfaces, to guide blind persons}<br></span>\n",
    "<span style=\"font-family:Arial\">A61H3/068 &emsp; &emsp; &emsp;••&emsp;Sticks for blind persons<br></span></I>\n",
    "\n",
    "\n",
    "<font size=\"3\">\n",
    "\n",
    "#### Input needed: \n",
    "<I><span style=\"font-family:Arial\">This module use libraries, function and processed text data present in initial_processing module</span></I>\n",
    "\n",
    "#### Output expected: \n",
    "<I><span style=\"font-family:Arial\">This module will identify patents in A61H300 class in test data.<br>This output is pass to the module final_file. No output is expected in this module alone.</span></I>\n",
    "\n",
    "#### Related modules: \n",
    "<I><span style=\"font-family:Arial\">This module is calling initial_processing module and is called by final_file module</span></I>\n",
    "\n",
    "#### Who and when: \n",
    "<I><span style=\"font-family:Arial\">Last Modified by : Nishant Chauhan</span><br>\n",
    "<span style=\"font-family:Arial\">Last Modified on : 24-July-2020</span><br>\n",
    "<span style=\"font-family:Arial\">Version no       : 2</span><br>\n",
    "<span style=\"font-family:Arial\">Developed by     : Nishant Chauhan </span><br></font></I>\n"
   ]
  },
  {
   "cell_type": "code",
   "execution_count": 1,
   "metadata": {},
   "outputs": [
    {
     "name": "stdout",
     "output_type": "stream",
     "text": [
      "importing Jupyter notebook from Initial_processing.ipynb\n",
      "Module Initial Processing is successfully loaded on 30/Jul/2021 - 12:13 PM\n"
     ]
    }
   ],
   "source": [
    "import os\n",
    "import sys\n",
    "import import_ipynb\n",
    "from Initial_processing import *"
   ]
  },
  {
   "cell_type": "code",
   "execution_count": 2,
   "metadata": {},
   "outputs": [
    {
     "data": {
      "text/plain": [
       "0    3469\n",
       "1     543\n",
       "Name: A61H0300, dtype: int64"
      ]
     },
     "execution_count": 2,
     "metadata": {},
     "output_type": "execute_result"
    }
   ],
   "source": [
    "df['A61H0300'] = df['CPC'].str.contains('A61H3/|A61H0003|A61H 3/').astype('int')\n",
    "df['A61H0300'].value_counts()"
   ]
  },
  {
   "cell_type": "markdown",
   "metadata": {},
   "source": [
    "## Model training and prediction"
   ]
  },
  {
   "cell_type": "code",
   "execution_count": 3,
   "metadata": {},
   "outputs": [],
   "source": [
    "y_train = df['A61H0300']\n",
    "\n",
    "model_title , score_title = train_model(X_title_dtm, y_train)\n",
    "\n",
    "y_pred_class_title = model_title.predict(X_title_test_dtm)"
   ]
  },
  {
   "cell_type": "code",
   "execution_count": 4,
   "metadata": {},
   "outputs": [],
   "source": [
    "model_abstract , score_abstract = train_model(X_abstract_dtm, y_train)\n",
    "\n",
    "y_pred_class_abstract = model_abstract.predict(X_abstract_test_dtm)"
   ]
  },
  {
   "cell_type": "code",
   "execution_count": 5,
   "metadata": {},
   "outputs": [
    {
     "name": "stdout",
     "output_type": "stream",
     "text": [
      "Training data accuracy score :  0.9518211528049946\n"
     ]
    }
   ],
   "source": [
    "model_tab , score_tab = train_model(X_tab_dtm, y_train)\n",
    "\n",
    "y_pred_class_tab = model_tab.predict(X_tab_test_dtm)\n",
    "\n",
    "print(\"Training data accuracy score : \" ,((score_abstract.mean() + score_title.mean() + score_tab.mean())/3))"
   ]
  },
  {
   "cell_type": "code",
   "execution_count": 6,
   "metadata": {},
   "outputs": [],
   "source": [
    "df_first = pd.DataFrame(df_test[['number','title','abstract']])"
   ]
  },
  {
   "cell_type": "code",
   "execution_count": 7,
   "metadata": {},
   "outputs": [],
   "source": [
    "df_first['all_text'] = X_all\n",
    "df_first['title_prediction'] = y_pred_class_title\n",
    "df_first['abstract_prediction'] = y_pred_class_abstract"
   ]
  },
  {
   "cell_type": "markdown",
   "metadata": {},
   "source": [
    "## Predicting using words"
   ]
  },
  {
   "cell_type": "code",
   "execution_count": 8,
   "metadata": {},
   "outputs": [],
   "source": [
    "# AND Operator keywords\n",
    "\n",
    "A61H0300 = ['crutch', 'walker', 'rollator', 'ferrule']"
   ]
  },
  {
   "cell_type": "code",
   "execution_count": 9,
   "metadata": {},
   "outputs": [],
   "source": [
    "# NEAR operator keywords (List1 NEAR5 List2)\n",
    "\n",
    "A61H0300_list1 = ['wheel', 'mobility', 'assist', 'rehabilitation', 'gait', 'stair', 'tripod']\n",
    "A61H0300_list2 = ['chair', 'walk']\n",
    "\n",
    "A61H0300_list3 = ['blind', 'white', 'disable']\n",
    "A61H0300_list4 = ['stick', 'cane', 'braille', 'walk', 'guid']"
   ]
  },
  {
   "cell_type": "code",
   "execution_count": 10,
   "metadata": {},
   "outputs": [],
   "source": [
    "#SSTO command e.g. search \"eye massage device\" as single word\n",
    "\n",
    "A61H0300_word = ['aiding patient', 'Wheeled walking aid', 'ambulatory assist device']"
   ]
  },
  {
   "cell_type": "code",
   "execution_count": 11,
   "metadata": {},
   "outputs": [],
   "source": [
    "new_col = []\n",
    "for i in range(len(df_first['all_text'])):\n",
    "    check_word = (near_operator(df_first['all_text'][i],A61H0300_list1,A61H0300_list2, near=3) or\n",
    "                  near_operator(df_first['all_text'][i],A61H0300_list3,A61H0300_list4, near=5) or\n",
    "                 and_operator(df_first['all_text'][i],A61H0300) or\n",
    "                 ssto(df_first['all_text'][i], A61H0300_word)) \n",
    "    new_col.append(check_word)\n",
    "    \n",
    "df_first['word_predict'] = new_col"
   ]
  },
  {
   "cell_type": "code",
   "execution_count": 12,
   "metadata": {},
   "outputs": [],
   "source": [
    "df_first['A61H0300'] = df_first['word_predict'] + df_first['title_prediction'] + df_first['abstract_prediction']\n",
    "\n",
    "for row in range(len(df_first['A61H0300'])):\n",
    "    if df_first.loc[row, 'A61H0300'] > 0:\n",
    "        df_first.loc[row, 'A61H0300'] = 1\n",
    "    else:\n",
    "        df_first.loc[row, 'A61H0300'] = 0"
   ]
  },
  {
   "cell_type": "code",
   "execution_count": 13,
   "metadata": {},
   "outputs": [],
   "source": [
    "df_second = df_first.drop(['title_prediction','abstract_prediction', 'word_predict'],axis=1)"
   ]
  },
  {
   "cell_type": "markdown",
   "metadata": {},
   "source": [
    "## Sub-classification of A61H3/00 (this section need improvement)"
   ]
  },
  {
   "cell_type": "markdown",
   "metadata": {},
   "source": [
    "### A61H2003/001   • on steps or stairways"
   ]
  },
  {
   "cell_type": "code",
   "execution_count": 14,
   "metadata": {},
   "outputs": [],
   "source": [
    "# AND Operator keywords\n",
    "A61H2003001 = ['stairway']\n",
    "\n",
    "# NEAR operator keywords (List1 NEAR5 List2)\n",
    "A61H2003001_list1 = ['step', 'stair']\n",
    "A61H2003001_list2 = ['support', 'aid']\n",
    "\n",
    "#SSTO command e.g. search \"eye massage device\" as single word\n",
    "A61H2003001_word = []"
   ]
  },
  {
   "cell_type": "code",
   "execution_count": 15,
   "metadata": {},
   "outputs": [],
   "source": [
    "new_col_2003001 = []\n",
    "for i in range(len(df_second['all_text'])):\n",
    "    if df_second['A61H0300'][i] == 1:\n",
    "        check_word_2003001 = int((near_operator(df_second['all_text'][i],A61H2003001_list1,A61H2003001_list2, near=5) or \n",
    "                           and_operator(df_second['all_text'][i],A61H2003001) or\n",
    "                           ssto(df_second['all_text'][i], A61H2003001_word)))\n",
    "    else:\n",
    "        check_word_2003001 = 0\n",
    "    \n",
    "    new_col_2003001.append(check_word_2003001)\n",
    "    \n",
    "df_second['A61H2003001'] = new_col_2003001"
   ]
  },
  {
   "cell_type": "markdown",
   "metadata": {},
   "source": [
    "### A61H2003/002   • with attached or incorporated article carrying means"
   ]
  },
  {
   "cell_type": "code",
   "execution_count": 16,
   "metadata": {},
   "outputs": [],
   "source": [
    "# AND Operator keywords\n",
    "A61H2003002 = ['basket', 'article carry mean']\n",
    "\n",
    "# NEAR operator keywords (List1 NEAR5 List2)\n",
    "A61H2003002_list1 = []\n",
    "A61H2003002_list2 = []\n",
    "\n",
    "#SSTO command e.g. search \"eye massage device\" as single word\n",
    "A61H2003002_word = []"
   ]
  },
  {
   "cell_type": "code",
   "execution_count": 17,
   "metadata": {},
   "outputs": [],
   "source": [
    "new_col_2003002 = []\n",
    "for i in range(len(df_second['all_text'])):\n",
    "    if df_second['A61H0300'][i] == 1:\n",
    "        check_word_2003002 = int((near_operator(df_second['all_text'][i],A61H2003002_list1,A61H2003002_list2, near=5) or \n",
    "                           and_operator(df_second['all_text'][i],A61H2003002) or\n",
    "                           ssto(df_second['all_text'][i], A61H2003002_word)))\n",
    "    else:\n",
    "        check_word_2003002 = 0\n",
    "    \n",
    "    new_col_2003002.append(check_word_2003002)\n",
    "    \n",
    "df_second['A61H2003002'] = new_col_2003002"
   ]
  },
  {
   "cell_type": "markdown",
   "metadata": {},
   "source": [
    "### A61H2003/003   •• Umbrellas"
   ]
  },
  {
   "cell_type": "code",
   "execution_count": 18,
   "metadata": {},
   "outputs": [],
   "source": [
    "# AND Operator keywords\n",
    "A61H2003003 = ['Umbrella']\n",
    "\n",
    "# NEAR operator keywords (List1 NEAR5 List2)\n",
    "A61H2003003_list1 = []\n",
    "A61H2003003_list2 = []\n",
    "\n",
    "#SSTO command e.g. search \"eye massage device\" as single word\n",
    "A61H2003003_word = []"
   ]
  },
  {
   "cell_type": "code",
   "execution_count": 19,
   "metadata": {},
   "outputs": [],
   "source": [
    "new_col_2003003 = []\n",
    "for i in range(len(df_second['all_text'])):\n",
    "    if df_second['A61H0300'][i] == 1:\n",
    "        check_word_2003003 = int((near_operator(df_second['all_text'][i],A61H2003003_list1,A61H2003003_list2, near=5) or \n",
    "                           and_operator(df_second['all_text'][i],A61H2003003) or\n",
    "                           ssto(df_second['all_text'][i], A61H2003003_word)))\n",
    "    else:\n",
    "        check_word_2003003 = 0\n",
    "    \n",
    "    new_col_2003003.append(check_word_2003003)\n",
    "    \n",
    "df_second['A61H2003003'] = new_col_2003003"
   ]
  },
  {
   "cell_type": "markdown",
   "metadata": {},
   "source": [
    "### A61H2003/004   •• Trays"
   ]
  },
  {
   "cell_type": "code",
   "execution_count": 20,
   "metadata": {},
   "outputs": [],
   "source": [
    "# AND Operator keywords\n",
    "A61H2003004 = ['tray']\n",
    "\n",
    "# NEAR operator keywords (List1 NEAR5 List2)\n",
    "A61H2003004_list1 = []\n",
    "A61H2003004_list2 = []\n",
    "\n",
    "#SSTO command e.g. search \"eye massage device\" as single word\n",
    "A61H2003004_word = []"
   ]
  },
  {
   "cell_type": "code",
   "execution_count": 21,
   "metadata": {},
   "outputs": [],
   "source": [
    "new_col_2003004 = []\n",
    "for i in range(len(df_second['all_text'])):\n",
    "    if df_second['A61H0300'][i] == 1:\n",
    "        check_word_2003004 = int((near_operator(df_second['all_text'][i],A61H2003004_list1,A61H2003004_list2, near=5) or \n",
    "                           and_operator(df_second['all_text'][i],A61H2003004) or\n",
    "                           ssto(df_second['all_text'][i], A61H2003004_word)))\n",
    "    else:\n",
    "        check_word_2003004 = 0\n",
    "    \n",
    "    new_col_2003004.append(check_word_2003004)\n",
    "    \n",
    "df_second['A61H2003004'] = new_col_2003004"
   ]
  },
  {
   "cell_type": "markdown",
   "metadata": {},
   "source": [
    "### A61H2003/005   • with knee, leg or stump rests"
   ]
  },
  {
   "cell_type": "code",
   "execution_count": 22,
   "metadata": {},
   "outputs": [],
   "source": [
    "# AND Operator keywords\n",
    "A61H2003005 = []\n",
    "\n",
    "# NEAR operator keywords (List1 NEAR5 List2)\n",
    "A61H2003005_list1 = ['knee', 'stump']\n",
    "A61H2003005_list2 = ['rest']\n",
    "\n",
    "#SSTO command e.g. search \"eye massage device\" as single word\n",
    "A61H2003005_word = ['leg rest']"
   ]
  },
  {
   "cell_type": "code",
   "execution_count": 23,
   "metadata": {},
   "outputs": [],
   "source": [
    "new_col_2003005 = []\n",
    "for i in range(len(df_second['all_text'])):\n",
    "    if df_second['A61H0300'][i] == 1:\n",
    "        check_word_2003005 = int((near_operator(df_second['all_text'][i],A61H2003005_list1,A61H2003005_list2, near=5) or \n",
    "                           and_operator(df_second['all_text'][i],A61H2003005) or\n",
    "                           ssto(df_second['all_text'][i], A61H2003005_word)))\n",
    "    else:\n",
    "        check_word_2003005 = 0\n",
    "    \n",
    "    new_col_2003005.append(check_word_2003005)\n",
    "    \n",
    "df_second['A61H2003005'] = new_col_2003005"
   ]
  },
  {
   "cell_type": "markdown",
   "metadata": {},
   "source": [
    "### A61H2003/006   • with forearm rests, i.e. for non-used arms"
   ]
  },
  {
   "cell_type": "code",
   "execution_count": 24,
   "metadata": {},
   "outputs": [],
   "source": [
    "# AND Operator keywords\n",
    "A61H2003006 = []\n",
    "\n",
    "# NEAR operator keywords (List1 NEAR5 List2)\n",
    "A61H2003006_list1 = ['forearm']\n",
    "A61H2003006_list2 = ['rest']\n",
    "\n",
    "#SSTO command e.g. search \"eye massage device\" as single word\n",
    "A61H2003006_word = ['arm rest']"
   ]
  },
  {
   "cell_type": "code",
   "execution_count": 25,
   "metadata": {},
   "outputs": [],
   "source": [
    "new_col_2003006 = []\n",
    "for i in range(len(df_second['all_text'])):\n",
    "    if df_second['A61H0300'][i] == 1:\n",
    "        check_word_2003005 = int((near_operator(df_second['all_text'][i],A61H2003006_list1,A61H2003006_list2, near=5) or \n",
    "                           and_operator(df_second['all_text'][i],A61H2003006) or\n",
    "                           ssto(df_second['all_text'][i], A61H2003006_word)))\n",
    "    else:\n",
    "        check_word_2003006 = 0\n",
    "    \n",
    "    new_col_2003006.append(check_word_2003006)\n",
    "    \n",
    "df_second['A61H2003006'] = new_col_2003006"
   ]
  },
  {
   "cell_type": "markdown",
   "metadata": {},
   "source": [
    "### A61H2003/007   • secured to the patient, e.g. with belts"
   ]
  },
  {
   "cell_type": "code",
   "execution_count": 26,
   "metadata": {},
   "outputs": [],
   "source": [
    "# AND Operator keywords\n",
    "A61H2003007 = ['secure patient belt', 'secure disable belt']\n",
    "\n",
    "# NEAR operator keywords (List1 NEAR5 List2)\n",
    "A61H2003007_list1 = ['secure']\n",
    "A61H2003007_list2 = ['belt', 'strap',]\n",
    "\n",
    "#SSTO command e.g. search \"eye massage device\" as single word\n",
    "A61H2003007_word = []"
   ]
  },
  {
   "cell_type": "code",
   "execution_count": 27,
   "metadata": {},
   "outputs": [],
   "source": [
    "new_col_2003007 = []\n",
    "for i in range(len(df_second['all_text'])):\n",
    "    if df_second['A61H0300'][i] == 1:\n",
    "        check_word_2003007 = int((near_operator(df_second['all_text'][i],A61H2003007_list1,A61H2003007_list2, near=5) or \n",
    "                           and_operator(df_second['all_text'][i],A61H2003007) or\n",
    "                           ssto(df_second['all_text'][i], A61H2003007_word)))\n",
    "    else:\n",
    "        check_word_2003007 = 0\n",
    "    \n",
    "    new_col_2003007.append(check_word_2003007)\n",
    "    \n",
    "df_second['A61H2003007'] = new_col_2003007"
   ]
  },
  {
   "cell_type": "markdown",
   "metadata": {},
   "source": [
    "### A61H03/008     • Using suspension devices for supporting the body in an upright walking or standing position e.g. harnesses"
   ]
  },
  {
   "cell_type": "code",
   "execution_count": 28,
   "metadata": {},
   "outputs": [],
   "source": [
    "# AND Operator keywords\n",
    "A61H03008 = ['wear suspension support walk', 'harness']\n",
    "\n",
    "# NEAR operator keywords (List1 NEAR5 List2)\n",
    "A61H03008_list1 = ['belt', 'strap', 'wear', 'harness', 'suspension']\n",
    "A61H03008_list2 = ['support walk', 'walking', 'standing']\n",
    "\n",
    "#SSTO command e.g. search \"eye massage device\" as single word\n",
    "A61H03008_word = []"
   ]
  },
  {
   "cell_type": "code",
   "execution_count": 29,
   "metadata": {},
   "outputs": [],
   "source": [
    "new_col_03008 = []\n",
    "for i in range(len(df_second['all_text'])):\n",
    "    if df_second['A61H0300'][i] == 1:\n",
    "        check_word_03008 = int((near_operator(df_second['all_text'][i],A61H03008_list1,A61H03008_list2, near=5) or \n",
    "                           and_operator(df_second['all_text'][i],A61H03008) or\n",
    "                           ssto(df_second['all_text'][i], A61H03008_word)))\n",
    "    else:\n",
    "        check_word_03008 = 0\n",
    "    \n",
    "    new_col_03008.append(check_word_03008)\n",
    "    \n",
    "df_second['A61H03008'] = new_col_03008"
   ]
  },
  {
   "cell_type": "markdown",
   "metadata": {},
   "source": [
    "### A61H3/02    •    Crutches"
   ]
  },
  {
   "cell_type": "code",
   "execution_count": 30,
   "metadata": {},
   "outputs": [],
   "source": [
    "# AND Operator keywords\n",
    "A61H0302 = ['crutch', 'ferrule']\n",
    "\n",
    "# NEAR operator keywords (List1 NEAR5 List2)\n",
    "A61H0302_list1 = []\n",
    "A61H0302_list2 = []\n",
    "\n",
    "#SSTO command e.g. search \"eye massage device\" as single word\n",
    "A61H0302_word = []\n"
   ]
  },
  {
   "cell_type": "code",
   "execution_count": 31,
   "metadata": {},
   "outputs": [],
   "source": [
    "new_col_0302 = []\n",
    "for i in range(len(df_second['all_text'])):\n",
    "    if df_second['A61H0300'][i] == 1:\n",
    "        check_word_0302 = int((near_operator(df_second['all_text'][i],A61H0302_list1,A61H0302_list2, near=4) or \n",
    "                           and_operator(df_second['all_text'][i],A61H0302) or\n",
    "                           ssto(df_second['all_text'][i], A61H0302_word)))\n",
    "    else:\n",
    "        check_word_0302 = 0\n",
    "    \n",
    "    new_col_0302.append(check_word_0302)\n",
    "    \n",
    "df_second['A61H0302'] = new_col_0302"
   ]
  },
  {
   "cell_type": "markdown",
   "metadata": {},
   "source": [
    "### A61H2003/0205  •• Crutches with no pivoting movement during use, e.g. tripods"
   ]
  },
  {
   "cell_type": "code",
   "execution_count": 32,
   "metadata": {},
   "outputs": [],
   "source": [
    "# AND Operator keywords\n",
    "A61H20030205 = ['tripod', 'no pivot movement']\n",
    "\n",
    "# NEAR operator keywords (List1 NEAR5 List2)\n",
    "A61H20030205_list1 = []\n",
    "A61H20030205_list2 = []\n",
    "\n",
    "#SSTO command e.g. search \"eye massage device\" as single word\n",
    "A61H20030205_word = []\n"
   ]
  },
  {
   "cell_type": "code",
   "execution_count": 33,
   "metadata": {},
   "outputs": [],
   "source": [
    "new_col_20030205 = []\n",
    "for i in range(len(df_second['all_text'])):\n",
    "    if df_second['A61H0302'][i] == 1:\n",
    "        check_word_20030205 = int((near_operator(df_second['all_text'][i],A61H20030205_list1,A61H20030205_list2, near=4) or \n",
    "                           and_operator(df_second['all_text'][i],A61H20030205) or\n",
    "                           ssto(df_second['all_text'][i], A61H20030205_word)))\n",
    "    else:\n",
    "        check_word_20030205 = 0\n",
    "    \n",
    "    new_col_20030205.append(check_word_20030205)\n",
    "    \n",
    "df_second['A61H20030205'] = new_col_20030205"
   ]
  },
  {
   "cell_type": "markdown",
   "metadata": {},
   "source": [
    "### A61H2003/0211  •• with curved ground-engaging means, i.e. rockers"
   ]
  },
  {
   "cell_type": "code",
   "execution_count": 34,
   "metadata": {},
   "outputs": [],
   "source": [
    "# AND Operator keywords\n",
    "A61H20030211 = ['rocker', 'curved ground engag']\n",
    "\n",
    "# NEAR operator keywords (List1 NEAR5 List2)\n",
    "A61H20030211_list1 = ['curve']\n",
    "A61H20030211_list2 = ['tip']\n",
    "\n",
    "#SSTO command e.g. search \"eye massage device\" as single word\n",
    "A61H20030211_word = []\n"
   ]
  },
  {
   "cell_type": "code",
   "execution_count": 35,
   "metadata": {},
   "outputs": [],
   "source": [
    "new_col_20030211 = []\n",
    "for i in range(len(df_second['all_text'])):\n",
    "    if df_second['A61H0302'][i] == 1:\n",
    "        check_word_20030211 = int((near_operator(df_second['all_text'][i],A61H20030211_list1,A61H20030211_list2, near=4) or \n",
    "                           and_operator(df_second['all_text'][i],A61H20030211) or\n",
    "                           ssto(df_second['all_text'][i], A61H20030211_word)))\n",
    "    else:\n",
    "        check_word_20030211 = 0\n",
    "    \n",
    "    new_col_20030211.append(check_word_20030211)\n",
    "    \n",
    "df_second['A61H20030211'] = new_col_20030211"
   ]
  },
  {
   "cell_type": "markdown",
   "metadata": {},
   "source": [
    "### A61H2003/0216  •• Crutches in which movement is limited to a pivoting in one plane, e.g. 2-point supports"
   ]
  },
  {
   "cell_type": "code",
   "execution_count": 36,
   "metadata": {},
   "outputs": [],
   "source": [
    "# AND Operator keywords\n",
    "A61H20030216 = ['pivot one plane']\n",
    "\n",
    "# NEAR operator keywords (List1 NEAR5 List2)\n",
    "A61H20030216_list1 = ['two point']\n",
    "A61H20030216_list2 = ['support']\n",
    "\n",
    "#SSTO command e.g. search \"eye massage device\" as single word\n",
    "A61H20030216_word = ['point support', 'two point support']\n"
   ]
  },
  {
   "cell_type": "code",
   "execution_count": 37,
   "metadata": {},
   "outputs": [],
   "source": [
    "new_col_20030216 = []\n",
    "for i in range(len(df_second['all_text'])):\n",
    "    if df_second['A61H0302'][i] == 1:\n",
    "        check_word_20030216 = int((near_operator(df_second['all_text'][i],A61H20030216_list1,A61H20030216_list2, near=4) or \n",
    "                           and_operator(df_second['all_text'][i],A61H20030216) or\n",
    "                           ssto(df_second['all_text'][i], A61H20030216_word)))\n",
    "    else:\n",
    "        check_word_20030216 = 0\n",
    "    \n",
    "    new_col_20030216.append(check_word_20030216)\n",
    "    \n",
    "df_second['A61H20030216'] = new_col_20030216"
   ]
  },
  {
   "cell_type": "markdown",
   "metadata": {},
   "source": [
    "### A61H2003/0222  •• with means for grasping or picking-up objects"
   ]
  },
  {
   "cell_type": "code",
   "execution_count": 38,
   "metadata": {},
   "outputs": [],
   "source": [
    "# AND Operator keywords\n",
    "A61H20030222 = []\n",
    "\n",
    "# NEAR operator keywords (List1 NEAR5 List2)\n",
    "A61H20030222_list1 = ['grasp', 'pick']\n",
    "A61H20030222_list2 = ['object', 'thing', 'gadget']\n",
    "\n",
    "#SSTO command e.g. search \"eye massage device\" as single word\n",
    "A61H20030222_word = []\n"
   ]
  },
  {
   "cell_type": "code",
   "execution_count": 39,
   "metadata": {},
   "outputs": [],
   "source": [
    "new_col_20030222 = []\n",
    "for i in range(len(df_second['all_text'])):\n",
    "    if df_second['A61H0302'][i] == 1:\n",
    "        check_word_20030222 = int((near_operator(df_second['all_text'][i],A61H20030222_list1,A61H20030222_list2, near=4) or \n",
    "                           and_operator(df_second['all_text'][i],A61H20030222) or\n",
    "                           ssto(df_second['all_text'][i], A61H20030222_word)))\n",
    "    else:\n",
    "        check_word_20030222 = 0\n",
    "    \n",
    "    new_col_20030222.append(check_word_20030222)\n",
    "    \n",
    "df_second['A61H20030222'] = new_col_20030222"
   ]
  },
  {
   "cell_type": "markdown",
   "metadata": {},
   "source": [
    "### A61H2003/0227  •• convertible from armpit- into forearm-model"
   ]
  },
  {
   "cell_type": "code",
   "execution_count": 40,
   "metadata": {},
   "outputs": [],
   "source": [
    "# AND Operator keywords\n",
    "A61H20030227 = ['convert armpit forearm', 'convert underarm forearm']\n",
    "\n",
    "# NEAR operator keywords (List1 NEAR5 List2)\n",
    "A61H20030227_list1 = ['armpit' , 'underarm']\n",
    "A61H20030227_list2 = ['forearm']\n",
    "\n",
    "#SSTO command e.g. search \"eye massage device\" as single word\n",
    "A61H20030227_word = ['convertible armpit into forearm']\n"
   ]
  },
  {
   "cell_type": "code",
   "execution_count": 41,
   "metadata": {},
   "outputs": [],
   "source": [
    "new_col_20030227 = []\n",
    "for i in range(len(df_second['all_text'])):\n",
    "    if df_second['A61H0302'][i] == 1:\n",
    "        check_word_20030227 = int((near_operator(df_second['all_text'][i],A61H20030227_list1,A61H20030227_list2, near=4) or \n",
    "                           and_operator(df_second['all_text'][i],A61H20030227) or\n",
    "                           ssto(df_second['all_text'][i], A61H20030227_word)))\n",
    "    else:\n",
    "        check_word_20030227 = 0\n",
    "    \n",
    "    new_col_20030227.append(check_word_20030227)\n",
    "    \n",
    "df_second['A61H20030227'] = new_col_20030227"
   ]
  },
  {
   "cell_type": "markdown",
   "metadata": {},
   "source": [
    "### A61H2003/0233  •• convertible from armpit crutch into cane"
   ]
  },
  {
   "cell_type": "code",
   "execution_count": 42,
   "metadata": {},
   "outputs": [],
   "source": [
    "# AND Operator keywords\n",
    "A61H20030233 = ['convert armpit cane', 'convert armpit stick']\n",
    "\n",
    "# NEAR operator keywords (List1 NEAR5 List2)\n",
    "A61H20030233_list1 = ['armpit' , 'underarm']\n",
    "A61H20030233_list2 = ['cane', 'stick']\n",
    "\n",
    "#SSTO command e.g. search \"eye massage device\" as single word\n",
    "A61H20030233_word = ['convertible armpit crutch into cane']\n"
   ]
  },
  {
   "cell_type": "code",
   "execution_count": 43,
   "metadata": {},
   "outputs": [],
   "source": [
    "new_col_20030233 = []\n",
    "for i in range(len(df_second['all_text'])):\n",
    "    if df_second['A61H0302'][i] == 1:\n",
    "        check_word_20030233 = int((near_operator(df_second['all_text'][i],A61H20030233_list1,A61H20030233_list2, near=4) or \n",
    "                           and_operator(df_second['all_text'][i],A61H20030233) or\n",
    "                           ssto(df_second['all_text'][i], A61H20030233_word)))\n",
    "    else:\n",
    "        check_word_20030233 = 0\n",
    "    \n",
    "    new_col_20030233.append(check_word_20030233)\n",
    "    \n",
    "df_second['A61H20030233'] = new_col_20030233"
   ]
  },
  {
   "cell_type": "markdown",
   "metadata": {},
   "source": [
    "### A61H2003/0238  •• convertible from forearm crutch into cane"
   ]
  },
  {
   "cell_type": "code",
   "execution_count": 44,
   "metadata": {},
   "outputs": [],
   "source": [
    "# AND Operator keywords\n",
    "A61H20030238 = ['convert forearm cane', 'convert forearm stick']\n",
    "\n",
    "# NEAR operator keywords (List1 NEAR5 List2)\n",
    "A61H20030238_list1 = ['forearm']\n",
    "A61H20030238_list2 = ['cane', 'stick']\n",
    "\n",
    "#SSTO command e.g. search \"eye massage device\" as single word\n",
    "A61H20030238_word = ['convertible forearm crutch into cane']\n"
   ]
  },
  {
   "cell_type": "code",
   "execution_count": 45,
   "metadata": {},
   "outputs": [],
   "source": [
    "new_col_20030238 = []\n",
    "for i in range(len(df_second['all_text'])):\n",
    "    if df_second['A61H0302'][i] == 1:\n",
    "        check_word_20030238 = int((near_operator(df_second['all_text'][i],A61H20030238_list1,A61H20030238_list2, near=4) or \n",
    "                           and_operator(df_second['all_text'][i],A61H20030238) or\n",
    "                           ssto(df_second['all_text'][i], A61H20030238_word)))\n",
    "    else:\n",
    "        check_word_20030238 = 0\n",
    "    \n",
    "    new_col_20030238.append(check_word_20030238)\n",
    "    \n",
    "df_second['A61H20030238'] = new_col_20030238"
   ]
  },
  {
   "cell_type": "markdown",
   "metadata": {},
   "source": [
    "### A61H3/0244     •• Arrangements for storing or keeping upright when not in use"
   ]
  },
  {
   "cell_type": "code",
   "execution_count": 46,
   "metadata": {},
   "outputs": [],
   "source": [
    "# AND Operator keywords\n",
    "A61H030244 = []\n",
    "\n",
    "# NEAR operator keywords (List1 NEAR5 List2)\n",
    "A61H030244_list1 = ['arrange', 'store', 'storing', 'keep']\n",
    "A61H030244_list2 = ['standing position', 'upright']\n",
    "\n",
    "#SSTO command\n",
    "A61H030244_word = []\n"
   ]
  },
  {
   "cell_type": "code",
   "execution_count": 47,
   "metadata": {},
   "outputs": [],
   "source": [
    "new_col_030244 = []\n",
    "for i in range(len(df_second['all_text'])):\n",
    "    if df_second['A61H0302'][i] == 1:\n",
    "        check_word_030244 = int((near_operator(df_second['all_text'][i],A61H030244_list1,A61H030244_list2, near=4) or \n",
    "                           and_operator(df_second['all_text'][i],A61H030244) or\n",
    "                           ssto(df_second['all_text'][i], A61H030244_word)))\n",
    "    else:\n",
    "        check_word_030244 = 0\n",
    "    \n",
    "    new_col_030244.append(check_word_030244)\n",
    "    \n",
    "df_second['A61H030244'] = new_col_030244"
   ]
  },
  {
   "cell_type": "markdown",
   "metadata": {},
   "source": [
    "### A61H2003/025    ••• with devices for securing a pair of crutches together"
   ]
  },
  {
   "cell_type": "code",
   "execution_count": 48,
   "metadata": {},
   "outputs": [],
   "source": [
    "# AND Operator keywords\n",
    "A61H2003025 = ['secure crutch together']\n",
    "\n",
    "# NEAR operator keywords (List1 NEAR5 List2)\n",
    "A61H2003025_list1 = ['crutch']\n",
    "A61H2003025_list2 = ['together', 'each other']\n",
    "\n",
    "#SSTO command\n",
    "A61H2003025_word = []\n"
   ]
  },
  {
   "cell_type": "code",
   "execution_count": 49,
   "metadata": {},
   "outputs": [],
   "source": [
    "new_col_2003025 = []\n",
    "for i in range(len(df_second['all_text'])):\n",
    "    if df_second['A61H030244'][i] == 1:\n",
    "        check_word_2003025 = int((near_operator(df_second['all_text'][i],A61H2003025_list1,A61H2003025_list2, near=4) or \n",
    "                           and_operator(df_second['all_text'][i],A61H2003025) or\n",
    "                           ssto(df_second['all_text'][i], A61H2003025_word)))\n",
    "    else:\n",
    "        check_word_2003025 = 0\n",
    "    \n",
    "    new_col_2003025.append(check_word_2003025)\n",
    "    \n",
    "df_second['A61H2003025'] = new_col_2003025"
   ]
  },
  {
   "cell_type": "markdown",
   "metadata": {},
   "source": [
    "### A61H2003/0255  ••• {on a single crutch for being fixed on or supported by a wall, furniture or the likes"
   ]
  },
  {
   "cell_type": "code",
   "execution_count": 50,
   "metadata": {},
   "outputs": [],
   "source": [
    "# AND Operator keywords\n",
    "A61H20030255 = []\n",
    "\n",
    "# NEAR operator keywords (List1 NEAR5 List2)\n",
    "A61H20030255_list1 = ['fix', 'support', 'attach','affix', 'store' ]\n",
    "A61H20030255_list2 = ['wall', 'furniture', 'chair', 'sofa', 'table', 'bed']\n",
    "\n",
    "#SSTO command\n",
    "A61H20030255_word = []"
   ]
  },
  {
   "cell_type": "code",
   "execution_count": 51,
   "metadata": {},
   "outputs": [],
   "source": [
    "new_col_20030255 = []\n",
    "for i in range(len(df_second['all_text'])):\n",
    "    if df_second['A61H030244'][i] == 1:\n",
    "        check_word_20030255 = int((near_operator(df_second['all_text'][i],A61H20030255_list1,A61H20030255_list2, near=4) or \n",
    "                           and_operator(df_second['all_text'][i],A61H20030255) or\n",
    "                           ssto(df_second['all_text'][i], A61H20030255_word)))\n",
    "    else:\n",
    "        check_word_20030255 = 0\n",
    "    \n",
    "    new_col_20030255.append(check_word_20030255)\n",
    "    \n",
    "df_second['A61H20030255'] = new_col_20030255"
   ]
  },
  {
   "cell_type": "markdown",
   "metadata": {},
   "source": [
    "### A61H2003/0261  ••• on walls or furniture for receiving single crutches"
   ]
  },
  {
   "cell_type": "code",
   "execution_count": 52,
   "metadata": {},
   "outputs": [],
   "source": [
    "# AND Operator keywords\n",
    "A61H20030261 = []\n",
    "\n",
    "# NEAR operator keywords (List1 NEAR5 List2)\n",
    "A61H20030261_list1 = ['wall', 'furniture', 'chair', 'sofa', 'table', 'bed']\n",
    "A61H20030261_list2 = ['recieve crutch', 'fix crutch', 'store crutch' ]\n",
    "\n",
    "#SSTO command\n",
    "A61H20030261_word = []"
   ]
  },
  {
   "cell_type": "code",
   "execution_count": 53,
   "metadata": {},
   "outputs": [],
   "source": [
    "new_col_20030261 = []\n",
    "for i in range(len(df_second['all_text'])):\n",
    "    if df_second['A61H030244'][i] == 1:\n",
    "        check_word_20030261 = int((near_operator(df_second['all_text'][i],A61H20030261_list1,A61H20030261_list2, near=4) or \n",
    "                           and_operator(df_second['all_text'][i],A61H20030261) or\n",
    "                           ssto(df_second['all_text'][i], A61H20030261_word)))\n",
    "    else:\n",
    "        check_word_20030261 = 0\n",
    "    \n",
    "    new_col_20030261.append(check_word_20030261)\n",
    "    \n",
    "df_second['A61H20030261'] = new_col_20030261"
   ]
  },
  {
   "cell_type": "markdown",
   "metadata": {},
   "source": [
    "### A61H2003/0266  ••• with magnetic fixing"
   ]
  },
  {
   "cell_type": "code",
   "execution_count": 54,
   "metadata": {},
   "outputs": [],
   "source": [
    "# AND Operator keywords\n",
    "A61H20030266 = ['magnetic fixing']\n",
    "\n",
    "# NEAR operator keywords (List1 NEAR5 List2)\n",
    "A61H20030266_list1 = ['magnet']\n",
    "A61H20030266_list2 = ['fix' ]\n",
    "\n",
    "#SSTO command\n",
    "A61H20030266_word = []"
   ]
  },
  {
   "cell_type": "code",
   "execution_count": 55,
   "metadata": {},
   "outputs": [],
   "source": [
    "new_col_20030266 = []\n",
    "for i in range(len(df_second['all_text'])):\n",
    "    if df_second['A61H030244'][i] == 1:\n",
    "        check_word_20030266 = int((near_operator(df_second['all_text'][i],A61H20030266_list1,A61H20030266_list2, near=4) or \n",
    "                           and_operator(df_second['all_text'][i],A61H20030266) or\n",
    "                           ssto(df_second['all_text'][i], A61H20030266_word)))\n",
    "    else:\n",
    "        check_word_20030266 = 0\n",
    "    \n",
    "    new_col_20030266.append(check_word_20030266)\n",
    "    \n",
    "df_second['A61H20030266'] = new_col_20030266"
   ]
  },
  {
   "cell_type": "markdown",
   "metadata": {},
   "source": [
    "### A61H2003/0272  ••• on a single crutch allowing it to remain upright when not in use, e.g. retractable tripods"
   ]
  },
  {
   "cell_type": "code",
   "execution_count": 56,
   "metadata": {},
   "outputs": [],
   "source": [
    "# AND Operator keywords\n",
    "A61H20030272 = []\n",
    "\n",
    "# NEAR operator keywords (List1 NEAR5 List2)\n",
    "A61H20030272_list1 = ['retractable']\n",
    "A61H20030272_list2 = ['tripod' ]\n",
    "\n",
    "#SSTO command\n",
    "A61H20030272_word = []"
   ]
  },
  {
   "cell_type": "code",
   "execution_count": 57,
   "metadata": {},
   "outputs": [],
   "source": [
    "new_col_20030272 = []\n",
    "for i in range(len(df_second['all_text'])):\n",
    "    if df_second['A61H030244'][i] == 1:\n",
    "        check_word_20030272 = int((near_operator(df_second['all_text'][i],A61H20030272_list1,A61H20030272_list2, near=4) or \n",
    "                           and_operator(df_second['all_text'][i],A61H20030272) or\n",
    "                           ssto(df_second['all_text'][i], A61H20030272_word)))\n",
    "    else:\n",
    "        check_word_20030272 = 0\n",
    "    \n",
    "    new_col_20030272.append(check_word_20030272)\n",
    "    \n",
    "df_second['A61H20030272'] = new_col_20030272"
   ]
  },
  {
   "cell_type": "markdown",
   "metadata": {},
   "source": [
    "### A61H3/0277     •• Shock absorbers therefor"
   ]
  },
  {
   "cell_type": "code",
   "execution_count": 58,
   "metadata": {},
   "outputs": [],
   "source": [
    "# AND Operator keywords\n",
    "A61H030277 = []\n",
    "\n",
    "# NEAR operator keywords (List1 NEAR5 List2)\n",
    "A61H030277_list1 = ['shock']\n",
    "A61H030277_list2 = ['absorber' ]\n",
    "\n",
    "#SSTO command\n",
    "A61H030277_word = []"
   ]
  },
  {
   "cell_type": "code",
   "execution_count": 59,
   "metadata": {},
   "outputs": [],
   "source": [
    "new_col_030277 = []\n",
    "for i in range(len(df_second['all_text'])):\n",
    "    if df_second['A61H0302'][i] == 1:\n",
    "        check_word_030277 = int((near_operator(df_second['all_text'][i],A61H030277_list1,A61H030277_list2, near=4) or \n",
    "                           and_operator(df_second['all_text'][i],A61H030277) or\n",
    "                           ssto(df_second['all_text'][i], A61H030277_word)))\n",
    "    else:\n",
    "        check_word_030277 = 0\n",
    "    \n",
    "    new_col_030277.append(check_word_030277)\n",
    "    \n",
    "df_second['A61H030277'] = new_col_030277"
   ]
  },
  {
   "cell_type": "markdown",
   "metadata": {},
   "source": [
    "### A61H2003/0283  ••• using elastomeric material"
   ]
  },
  {
   "cell_type": "code",
   "execution_count": 60,
   "metadata": {},
   "outputs": [],
   "source": [
    "# AND Operator keywords\n",
    "A61H20030283 = ['elastomeric']\n",
    "\n",
    "# NEAR operator keywords (List1 NEAR5 List2)\n",
    "A61H20030283_list1 = []\n",
    "A61H20030283_list2 = []\n",
    "\n",
    "#SSTO command\n",
    "A61H20030283_word = ['elastomeric material']"
   ]
  },
  {
   "cell_type": "code",
   "execution_count": 61,
   "metadata": {},
   "outputs": [],
   "source": [
    "new_col_20030283 = []\n",
    "for i in range(len(df_second['all_text'])):\n",
    "    if df_second['A61H030277'][i] == 1:\n",
    "        check_word_20030283 = int((near_operator(df_second['all_text'][i],A61H20030283_list1,A61H20030283_list2, near=5) or \n",
    "                           and_operator(df_second['all_text'][i],A61H20030283) or\n",
    "                           ssto(df_second['all_text'][i], A61H20030283_word)))\n",
    "    else:\n",
    "        check_word_20030283 = 0\n",
    "    \n",
    "    new_col_20030283.append(check_word_20030283)\n",
    "    \n",
    "df_second['A61H20030283'] = new_col_20030283"
   ]
  },
  {
   "cell_type": "markdown",
   "metadata": {},
   "source": [
    "### A61H3/0288     •• Ferrules or tips therefor"
   ]
  },
  {
   "cell_type": "code",
   "execution_count": 62,
   "metadata": {},
   "outputs": [],
   "source": [
    "# AND Operator keywords\n",
    "A61H030288 = ['ferrule']\n",
    "\n",
    "# NEAR operator keywords (List1 NEAR5 List2)\n",
    "A61H030288_list1 = ['crutch']\n",
    "A61H030288_list2 = ['tip' ]\n",
    "\n",
    "#SSTO command\n",
    "A61H030288_word = []"
   ]
  },
  {
   "cell_type": "code",
   "execution_count": 63,
   "metadata": {},
   "outputs": [],
   "source": [
    "new_col_030288 = []\n",
    "for i in range(len(df_second['all_text'])):\n",
    "    if df_second['A61H0302'][i] == 1:\n",
    "        check_word_030288 = int((near_operator(df_second['all_text'][i],A61H030288_list1,A61H030288_list2, near=4) or \n",
    "                           and_operator(df_second['all_text'][i],A61H030288) or\n",
    "                           ssto(df_second['all_text'][i], A61H030288_word)))\n",
    "    else:\n",
    "        check_word_030288 = 0\n",
    "    \n",
    "    new_col_030288.append(check_word_030288)\n",
    "    \n",
    "df_second['A61H030288'] = new_col_030288"
   ]
  },
  {
   "cell_type": "markdown",
   "metadata": {},
   "source": [
    "### A61H2003/0294  ••• comprising a ball-and-socket joint"
   ]
  },
  {
   "cell_type": "code",
   "execution_count": 64,
   "metadata": {},
   "outputs": [],
   "source": [
    "# AND Operator keywords\n",
    "A61H20030294 = ['ball socket joint']\n",
    "\n",
    "# NEAR operator keywords (List1 NEAR5 List2)\n",
    "A61H20030294_list1 = ['ball', 'socket']\n",
    "A61H20030294_list2 = ['joint']\n",
    "\n",
    "#SSTO command\n",
    "A61H20030294_word = []"
   ]
  },
  {
   "cell_type": "code",
   "execution_count": 65,
   "metadata": {},
   "outputs": [],
   "source": [
    "new_col_20030294 = []\n",
    "for i in range(len(df_second['all_text'])):\n",
    "    if df_second['A61H030288'][i] == 1:\n",
    "        check_word_20030283 = int((near_operator(df_second['all_text'][i],A61H20030294_list1,A61H20030294_list2, near=5) or \n",
    "                           and_operator(df_second['all_text'][i],A61H20030294) or\n",
    "                           ssto(df_second['all_text'][i], A61H20030294_word)))\n",
    "    else:\n",
    "        check_word_20030294 = 0\n",
    "    \n",
    "    new_col_20030294.append(check_word_20030294)\n",
    "    \n",
    "df_second['A61H20030294'] = new_col_20030294"
   ]
  },
  {
   "cell_type": "markdown",
   "metadata": {},
   "source": [
    "### A61H03/04    •    Wheeled walking aids for disabled persons"
   ]
  },
  {
   "cell_type": "code",
   "execution_count": 66,
   "metadata": {},
   "outputs": [],
   "source": [
    "# AND Operator keywords\n",
    "A61H0304 = ['wheeled walking aid', 'wheeled walker', 'rollator']\n",
    "\n",
    "# NEAR operator keywords (List1 NEAR5 List2)\n",
    "A61H0304_list1 = ['wheel']\n",
    "A61H0304_list2 = ['walker', 'rollator', 'chair', 'disable', 'rehabilitation' ]\n",
    "\n",
    "#SSTO command e.g. search \"eye massage device\" as single word\n",
    "A61H0304_word = []\n",
    "\n"
   ]
  },
  {
   "cell_type": "code",
   "execution_count": 67,
   "metadata": {},
   "outputs": [],
   "source": [
    "new_col_0304 = []\n",
    "for i in range(len(df_second['all_text'])):\n",
    "    if df_second['A61H0300'][i] == 1:\n",
    "        check_word_0304 = int((near_operator(df_second['all_text'][i],A61H0304_list1,A61H0304_list2, near=4) or \n",
    "                           and_operator(df_second['all_text'][i],A61H0304) or\n",
    "                           ssto(df_second['all_text'][i], A61H0304_word)))\n",
    "    else:\n",
    "        check_word_0304 = 0\n",
    "    \n",
    "    new_col_0304.append(check_word_0304)\n",
    "    \n",
    "df_second['A61H0304'] = new_col_0304"
   ]
  },
  {
   "cell_type": "markdown",
   "metadata": {},
   "source": [
    "### A61H2003/043   •• with a drive mechanism"
   ]
  },
  {
   "cell_type": "code",
   "execution_count": 68,
   "metadata": {},
   "outputs": [],
   "source": [
    "# AND Operator keywords\n",
    "A61H2003043  = []\n",
    "\n",
    "# NEAR operator keywords (List1 NEAR5 List2)\n",
    "A61H2003043_list1 = ['drive', 'driving']\n",
    "A61H2003043_list2 = ['mechanism', 'system']\n",
    "\n",
    "#SSTO command e.g. search \"eye massage device\" as single word\n",
    "A61H2003043_word = []"
   ]
  },
  {
   "cell_type": "code",
   "execution_count": 69,
   "metadata": {},
   "outputs": [],
   "source": [
    "new_col_2003043 = []\n",
    "for i in range(len(df_second['all_text'])):\n",
    "    if df_second['A61H0304'][i] == 1:\n",
    "        check_word_0304 = int((near_operator(df_second['all_text'][i],A61H2003043_list1,A61H2003043_list2, near=5) or \n",
    "                           and_operator(df_second['all_text'][i],A61H2003043) or\n",
    "                           ssto(df_second['all_text'][i], A61H2003043_word)))\n",
    "    else:\n",
    "        check_word_2003043 = 0\n",
    "    \n",
    "    new_col_2003043.append(check_word_2003043)\n",
    "    \n",
    "df_second['A61H2003043'] = new_col_2003043"
   ]
  },
  {
   "cell_type": "markdown",
   "metadata": {},
   "source": [
    "### A61H2003/046   •• with braking means"
   ]
  },
  {
   "cell_type": "code",
   "execution_count": 70,
   "metadata": {},
   "outputs": [],
   "source": [
    "# AND Operator keywords\n",
    "A61H2003046  = []\n",
    "\n",
    "# NEAR operator keywords (List1 NEAR5 List2)\n",
    "A61H2003046_list1 = ['brake', 'braking']\n",
    "A61H2003046_list2 = ['mechanism', 'system']\n",
    "\n",
    "#SSTO command e.g. search \"eye massage device\" as single word\n",
    "A61H2003046_word = []"
   ]
  },
  {
   "cell_type": "code",
   "execution_count": 71,
   "metadata": {},
   "outputs": [],
   "source": [
    "new_col_2003046 = []\n",
    "for i in range(len(df_second['all_text'])):\n",
    "    if df_second['A61H0304'][i] == 1:\n",
    "        check_word_2003046 = int((near_operator(df_second['all_text'][i],A61H2003046_list1,A61H2003046_list2, near=4) or \n",
    "                           and_operator(df_second['all_text'][i],A61H2003046) or\n",
    "                           ssto(df_second['all_text'][i], A61H2003046_word)))\n",
    "    else:\n",
    "        check_word_2003046 = 0\n",
    "    \n",
    "    new_col_2003046.append(check_word_2003046)\n",
    "    \n",
    "df_second['A61H2003046'] = new_col_2003046"
   ]
  },
  {
   "cell_type": "markdown",
   "metadata": {},
   "source": [
    "### A61H03/06    •    Walking aids for blind persons"
   ]
  },
  {
   "cell_type": "code",
   "execution_count": 72,
   "metadata": {},
   "outputs": [],
   "source": [
    "# AND Operator keywords\n",
    "A61H0306 = ['walking aid blind', 'walk aid vision impairment']\n",
    "\n",
    "# NEAR operator keywords (List1 NEAR5 List2)\n",
    "A61H0306_list1 = ['blind', 'vision', 'visual']\n",
    "A61H0306_list2 = ['cane', 'stick', 'crutch', 'disable', 'impair' ]\n",
    "\n",
    "#SSTO command e.g. search \"eye massage device\" as single word\n",
    "A61H0306_word = []\n"
   ]
  },
  {
   "cell_type": "code",
   "execution_count": 73,
   "metadata": {},
   "outputs": [],
   "source": [
    "new_col_0306 = []\n",
    "for i in range(len(df_second['all_text'])):\n",
    "    if df_second['A61H0300'][i] == 1:\n",
    "        check_word_0306 = int((near_operator(df_second['all_text'][i],A61H0306_list1,A61H0306_list2, near=4) or \n",
    "                           and_operator(df_second['all_text'][i],A61H0306) or\n",
    "                           ssto(df_second['all_text'][i], A61H0306_word)))\n",
    "    else:\n",
    "        check_word_0306 = 0\n",
    "    \n",
    "    new_col_0306.append(check_word_0306)\n",
    "    \n",
    "df_second['A61H0306'] = new_col_0306"
   ]
  },
  {
   "cell_type": "markdown",
   "metadata": {},
   "source": [
    "### A61H3/0261     •• with electronic detecting or guiding means"
   ]
  },
  {
   "cell_type": "code",
   "execution_count": 74,
   "metadata": {},
   "outputs": [],
   "source": [
    "# AND Operator keywords\n",
    "A61H030261 = []\n",
    "\n",
    "# NEAR operator keywords (List1 NEAR5 List2)\n",
    "A61H030261_list1 = ['electronic', 'gadget', 'mobile', 'computer']\n",
    "A61H030261_list2 = ['guide', 'guiding', 'aid', 'support']\n",
    "\n",
    "#SSTO command e.g. search \"eye massage device\" as single word\n",
    "A61H030261_word = []\n"
   ]
  },
  {
   "cell_type": "code",
   "execution_count": 75,
   "metadata": {},
   "outputs": [],
   "source": [
    "new_col_030261 = []\n",
    "for i in range(len(df_second['all_text'])):\n",
    "    if df_second['A61H0306'][i] == 1:\n",
    "        check_word_030261 = int((near_operator(df_second['all_text'][i],A61H030261_list1,A61H030261_list2, near=5) or \n",
    "                           and_operator(df_second['all_text'][i],A61H030261) or\n",
    "                           ssto(df_second['all_text'][i], A61H030261_word)))\n",
    "    else:\n",
    "        check_word_030261 = 0\n",
    "    \n",
    "    new_col_030261.append(check_word_030261)\n",
    "    \n",
    "df_second['A61H030261'] = new_col_030261"
   ]
  },
  {
   "cell_type": "markdown",
   "metadata": {},
   "source": [
    "### A61H2003/063   ••• with tactile perception"
   ]
  },
  {
   "cell_type": "code",
   "execution_count": 76,
   "metadata": {},
   "outputs": [],
   "source": [
    "# AND Operator keywords\n",
    "A61H2003063 = []\n",
    "\n",
    "# NEAR operator keywords (List1 NEAR5 List2)\n",
    "A61H2003063_list1 = ['tactile', 'vibration']\n",
    "A61H2003063_list2 = ['perception', 'guiding', 'support', 'signal']\n",
    "\n",
    "#SSTO command e.g. search \"eye massage device\" as single word\n",
    "A61H2003063_word = []\n"
   ]
  },
  {
   "cell_type": "code",
   "execution_count": 77,
   "metadata": {},
   "outputs": [],
   "source": [
    "new_col_2003063 = []\n",
    "for i in range(len(df_second['all_text'])):\n",
    "    if df_second['A61H030261'][i] == 1:\n",
    "        check_word_2003063 = int((near_operator(df_second['all_text'][i],A61H2003063_list1,A61H2003063_list2, near=5) or \n",
    "                           and_operator(df_second['all_text'][i],A61H2003063) or\n",
    "                           ssto(df_second['all_text'][i], A61H2003063_word)))\n",
    "    else:\n",
    "        check_word_2003063 = 0\n",
    "    \n",
    "    new_col_2003063.append(check_word_2003063)\n",
    "    \n",
    "df_second['A61H2003063'] = new_col_2003063"
   ]
  },
  {
   "cell_type": "markdown",
   "metadata": {},
   "source": [
    "### A61H2003/065   •••• in the form of braille"
   ]
  },
  {
   "cell_type": "code",
   "execution_count": 78,
   "metadata": {},
   "outputs": [],
   "source": [
    "# AND Operator keywords\n",
    "A61H2003065 = ['braille']\n",
    "\n",
    "# NEAR operator keywords (List1 NEAR5 List2)\n",
    "A61H2003065_list1 = []\n",
    "A61H2003065_list2 = []\n",
    "\n",
    "#SSTO command e.g. search \"eye massage device\" as single word\n",
    "A61H2003065_word = []\n"
   ]
  },
  {
   "cell_type": "code",
   "execution_count": 79,
   "metadata": {},
   "outputs": [],
   "source": [
    "new_col_2003065 = []\n",
    "for i in range(len(df_second['all_text'])):\n",
    "    if df_second['A61H030261'][i] == 1:\n",
    "        check_word_2003065 = int((near_operator(df_second['all_text'][i],A61H2003065_list1,A61H2003065_list2, near=5) or \n",
    "                           and_operator(df_second['all_text'][i],A61H2003065) or\n",
    "                           ssto(df_second['all_text'][i], A61H2003065_word)))\n",
    "    else:\n",
    "        check_word_2003065 = 0\n",
    "    \n",
    "    new_col_2003065.append(check_word_2003065)\n",
    "    \n",
    "df_second['A61H2003065'] = new_col_2003065"
   ]
  },
  {
   "cell_type": "markdown",
   "metadata": {},
   "source": [
    "### A61H3/066      •• Installations on the floor, e.g. special surfaces, to guide blind persons}"
   ]
  },
  {
   "cell_type": "code",
   "execution_count": 80,
   "metadata": {},
   "outputs": [],
   "source": [
    "# AND Operator keywords\n",
    "A61H03066 = ['installation floor']\n",
    "\n",
    "# NEAR operator keywords (List1 NEAR5 List2)\n",
    "A61H03066_list1 = ['install', 'special']\n",
    "A61H03066_list2 = ['floor', 'surface', 'lighting', 'road']\n",
    "\n",
    "#SSTO command e.g. search \"eye massage device\" as single word\n",
    "A61H03066_word = []\n"
   ]
  },
  {
   "cell_type": "code",
   "execution_count": 81,
   "metadata": {},
   "outputs": [],
   "source": [
    "new_col_03066 = []\n",
    "for i in range(len(df_second['all_text'])):\n",
    "    if df_second['A61H0306'][i] == 1:\n",
    "        check_word_03066 = int((near_operator(df_second['all_text'][i],A61H03066_list1,A61H03066_list2, near=4) or \n",
    "                           and_operator(df_second['all_text'][i],A61H03066) or\n",
    "                           ssto(df_second['all_text'][i], A61H03066_word)))\n",
    "    else:\n",
    "        check_word_03066 = 0\n",
    "    \n",
    "    new_col_03066.append(check_word_03066)\n",
    "    \n",
    "df_second['A61H03066'] = new_col_03066"
   ]
  },
  {
   "cell_type": "markdown",
   "metadata": {},
   "source": [
    "### A61H3/068      •• Sticks for blind persons"
   ]
  },
  {
   "cell_type": "code",
   "execution_count": 82,
   "metadata": {},
   "outputs": [],
   "source": [
    "# AND Operator keywords\n",
    "A61H03068 = ['stick', 'cane']\n",
    "\n",
    "# NEAR operator keywords (List1 NEAR5 List2)\n",
    "A61H03068_list1 = ['white']\n",
    "A61H03068_list2 = ['cane']\n",
    "\n",
    "#SSTO command e.g. search \"eye massage device\" as single word\n",
    "A61H03068_word = []\n"
   ]
  },
  {
   "cell_type": "code",
   "execution_count": 83,
   "metadata": {},
   "outputs": [],
   "source": [
    "new_col_03068 = []\n",
    "for i in range(len(df_second['all_text'])):\n",
    "    if df_second['A61H0306'][i] == 1:\n",
    "        check_word_03068 = int((near_operator(df_second['all_text'][i],A61H03068_list1,A61H03068_list2, near=5) or \n",
    "                           and_operator(df_second['all_text'][i],A61H03068) or\n",
    "                           ssto(df_second['all_text'][i], A61H03068_word)))\n",
    "    else:\n",
    "        check_word_03068 = 0\n",
    "    \n",
    "    new_col_03068.append(check_word_03068)\n",
    "    \n",
    "df_second['A61H03068'] = new_col_03068"
   ]
  },
  {
   "cell_type": "markdown",
   "metadata": {},
   "source": [
    "## Final step"
   ]
  },
  {
   "cell_type": "code",
   "execution_count": 84,
   "metadata": {},
   "outputs": [],
   "source": [
    "for i in range(4,len(df_second.columns)):\n",
    "    df_second.iloc[:,i].replace(1,df_second.columns[i], inplace=True)\n",
    "    df_second.iloc[:,i].replace(0,'', inplace=True)"
   ]
  },
  {
   "cell_type": "code",
   "execution_count": 86,
   "metadata": {},
   "outputs": [],
   "source": [
    "cols = ['A61H0300', 'A61H2003001', 'A61H2003002', 'A61H2003003', 'A61H2003004', 'A61H2003005',\n",
    "        'A61H2003006', 'A61H2003007', 'A61H03008', 'A61H0302', 'A61H20030205',\n",
    "        'A61H20030211', 'A61H20030216', 'A61H20030222', 'A61H20030227',\n",
    "        'A61H20030233', 'A61H20030238', 'A61H030244', 'A61H2003025',\n",
    "        'A61H20030255', 'A61H20030261', 'A61H20030266', 'A61H20030272',\n",
    "        'A61H030277', 'A61H20030283', 'A61H030288', 'A61H20030294', 'A61H0304',\n",
    "        'A61H2003043', 'A61H2003046', 'A61H0306', 'A61H030261', 'A61H2003063',\n",
    "        'A61H2003065', 'A61H03066', 'A61H03068']\n",
    "\n",
    "df_second['prediction'] = ''\n",
    "for i in range(len(df_second)):\n",
    "    for col in cols:\n",
    "        if not df_second.loc[i,col] == '':\n",
    "            df_second.loc[i,'prediction'] = (df_second.loc[i,'prediction'] + ' | '\n",
    "                                                        + df_second.loc[i,col])\n",
    "\n",
    "df_second['prediction'] = df_second['prediction'].str[3:]"
   ]
  },
  {
   "cell_type": "code",
   "execution_count": 87,
   "metadata": {},
   "outputs": [],
   "source": [
    "df_final = df_second.drop(columns=['A61H0300', 'A61H2003001', 'A61H2003002', 'A61H2003003', 'A61H2003004', 'A61H2003005',\n",
    "             'A61H2003006', 'A61H2003007', 'A61H03008', 'A61H0302', 'A61H20030205',\n",
    "             'A61H20030211', 'A61H20030216', 'A61H20030222', 'A61H20030227',\n",
    "             'A61H20030233', 'A61H20030238', 'A61H030244', 'A61H2003025',\n",
    "             'A61H20030255', 'A61H20030261', 'A61H20030266', 'A61H20030272',\n",
    "             'A61H030277', 'A61H20030283', 'A61H030288', 'A61H20030294', 'A61H0304',\n",
    "             'A61H2003043', 'A61H2003046', 'A61H0306', 'A61H030261', 'A61H2003063',\n",
    "             'A61H2003065', 'A61H03066', 'A61H03068', 'all_text'], axis=1)\n"
   ]
  },
  {
   "cell_type": "code",
   "execution_count": 88,
   "metadata": {},
   "outputs": [
    {
     "name": "stdout",
     "output_type": "stream",
     "text": [
      "Module A61H0300 is successfully loaded on 30/Jul/2021 - 14:26 PM\n"
     ]
    }
   ],
   "source": [
    "from datetime import datetime\n",
    "dt_string = datetime.now().strftime(\"%d/%b/%Y - %H:%M %p\")\n",
    "print(\"Module A61H0300 is successfully loaded on\",dt_string)"
   ]
  },
  {
   "cell_type": "code",
   "execution_count": null,
   "metadata": {},
   "outputs": [],
   "source": []
  }
 ],
 "metadata": {
  "kernelspec": {
   "display_name": "Python 3",
   "language": "python",
   "name": "python3"
  },
  "language_info": {
   "codemirror_mode": {
    "name": "ipython",
    "version": 3
   },
   "file_extension": ".py",
   "mimetype": "text/x-python",
   "name": "python",
   "nbconvert_exporter": "python",
   "pygments_lexer": "ipython3",
   "version": "3.8.5"
  }
 },
 "nbformat": 4,
 "nbformat_minor": 2
}
