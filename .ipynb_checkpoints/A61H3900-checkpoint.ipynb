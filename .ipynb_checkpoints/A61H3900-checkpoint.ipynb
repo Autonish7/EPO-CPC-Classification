{
 "cells": [
  {
   "cell_type": "markdown",
   "metadata": {},
   "source": [
    "# A61H CPC Classification - A61H3900\n",
    "\n",
    "<font size=\"3\">\n",
    "\n",
    "#### About the Module:\n",
    "<I><span style=\"font-family:Arial\">This module work to identify patents in A61H3900 class. Class detail is as follow<br></span>\n",
    "<span style=\"font-family:Arial\">A61H39/00 &emsp; &emsp;•&emsp;Devices for locating or stimulating specific reflex\n",
    "points of the body for physical therapy, e.g.acupuncture<br></span>\n",
    "<span style=\"font-family:Arial\">A61H39/002&emsp;&emsp;•&emsp;Using electric currents<br></span>\n",
    "<span style=\"font-family:Arial\">A61H2039/005&emsp;•&emsp;by means of electromagnetic waves, e.g. I.R., U.V. rays<br></span>\n",
    "<span style=\"font-family:Arial\">A61H39/007&emsp;&emsp;•&emsp;Stimulation by mechanical vibrations, e.g. ultrasonic<br></span>\n",
    "<span style=\"font-family:Arial\">A61H39/02 &emsp; &emsp;•&emsp;Devices for locating such points<br></span>\n",
    "<span style=\"font-family:Arial\">A61H39/04 &emsp; &emsp;•&emsp;Devices for pressing such points, e.g. Shiatsu<br></span>\n",
    "<span style=\"font-family:Arial\">A61H39/06 &emsp; &emsp;•&emsp;Devices for heating or cooling such points within cell-life limits<br></span>\n",
    "<span style=\"font-family:Arial\">A61H39/08 &emsp;&emsp; •&emsp;Devices for applying needles to such points, i.e. for acupuncture<br></span>\n",
    "<span style=\"font-family:Arial\">A61H39/083&emsp;&emsp;••&emsp;Needle tubes<br></span>\n",
    "<span style=\"font-family:Arial\">A61H39/086&emsp;&emsp;••&emsp;Acupuncture needles<br></span>\n",
    "\n",
    "<font size=\"3\">\n",
    "\n",
    "#### Input needed: \n",
    "<I><span style=\"font-family:Arial\">This module use libraries, function and processed text data present in initial_processing module</span></I>\n",
    "\n",
    "#### Output expected: \n",
    "<I><span style=\"font-family:Arial\">This module will identify patents in A61H3900 class in test data.<br>This output is pass to the module final_file. No output is expected in this module alone.</span></I>\n",
    "\n",
    "#### Related modules: \n",
    "<I><span style=\"font-family:Arial\">This module is calling initial_processing module and is called by final_file module</span></I>\n",
    "\n",
    "#### Who and when: \n",
    "<I><span style=\"font-family:Arial\">Last Modified by : Nishant Chauhan</span><br>\n",
    "<span style=\"font-family:Arial\">Last Modified on : 24-July-2020</span><br>\n",
    "<span style=\"font-family:Arial\">Version no       : 2</span><br>\n",
    "<span style=\"font-family:Arial\">Developed by     : Nishant Chauhan </span><br></font></I>\n"
   ]
  },
  {
   "cell_type": "code",
   "execution_count": 115,
   "metadata": {},
   "outputs": [],
   "source": [
    "import os\n",
    "import sys\n",
    "import import_ipynb\n",
    "from Initial_processing import *"
   ]
  },
  {
   "cell_type": "code",
   "execution_count": 3,
   "metadata": {},
   "outputs": [
    {
     "data": {
      "text/plain": [
       "0    3594\n",
       "1     323\n",
       "Name: A61H3900, dtype: int64"
      ]
     },
     "execution_count": 3,
     "metadata": {},
     "output_type": "execute_result"
    }
   ],
   "source": [
    "df['A61H3900'] = df['CPC'].str.contains('A61H39/|A61H2039|A61H 39/|A61H0039').astype('int')\n",
    "df['A61H3900'].value_counts()"
   ]
  },
  {
   "cell_type": "markdown",
   "metadata": {},
   "source": [
    "## Model training and prediction"
   ]
  },
  {
   "cell_type": "code",
   "execution_count": 4,
   "metadata": {},
   "outputs": [],
   "source": [
    "y_train = df['A61H3900']\n",
    "\n",
    "model_title , score_title = train_model(X_title_dtm, y_train)\n",
    "\n",
    "y_pred_class_title = model_title.predict(X_title_test_dtm)"
   ]
  },
  {
   "cell_type": "code",
   "execution_count": 5,
   "metadata": {},
   "outputs": [],
   "source": [
    "model_abstract , score_abstract = train_model(X_abstract_dtm, y_train)\n",
    "\n",
    "y_pred_class_abstract = model_abstract.predict(X_abstract_test_dtm)"
   ]
  },
  {
   "cell_type": "code",
   "execution_count": 6,
   "metadata": {},
   "outputs": [
    {
     "name": "stdout",
     "output_type": "stream",
     "text": [
      "Training data accuracy score :  0.940515673480231\n"
     ]
    }
   ],
   "source": [
    "model_tab , score_tab = train_model(X_tab_dtm, y_train)\n",
    "\n",
    "y_pred_class_tab = model_tab.predict(X_tab_test_dtm)\n",
    "\n",
    "print(\"Training data accuracy score : \" ,((score_abstract.mean() + score_title.mean() + score_tab.mean())/3))"
   ]
  },
  {
   "cell_type": "code",
   "execution_count": 85,
   "metadata": {},
   "outputs": [],
   "source": [
    "df_first = pd.DataFrame(df_test[['number','title','abstract']])"
   ]
  },
  {
   "cell_type": "code",
   "execution_count": 86,
   "metadata": {},
   "outputs": [],
   "source": [
    "df_first['all_text'] = X_all\n",
    "df_first['title_prediction'] = y_pred_class_title\n",
    "df_first['abstract_prediction'] = y_pred_class_abstract"
   ]
  },
  {
   "cell_type": "markdown",
   "metadata": {},
   "source": [
    "## Predicting using words"
   ]
  },
  {
   "cell_type": "code",
   "execution_count": 87,
   "metadata": {},
   "outputs": [],
   "source": [
    "# AND Operator keywords\n",
    "\n",
    "A61H3900 = ['acupuncture','moxibustion', 'Shiatsu', 'acupressure', 'acupoint','proprioceptive']\n",
    "\n",
    "# NEAR operator keywords (List1 NEAR5 List2)\n",
    "\n",
    "A61H3900_list1 = ['reflex', 'acu', 'stimulat']\n",
    "A61H3900_list2 = ['point']\n",
    "\n",
    "A61H3900_list3 = ['foot', 'feet']\n",
    "A61H3900_list4 = ['pressure point', 'acupoint']\n",
    "#SSTO command e.g. search \"eye massage device\" as single word\n",
    "\n",
    "A61H3900_word = []"
   ]
  },
  {
   "cell_type": "code",
   "execution_count": 88,
   "metadata": {},
   "outputs": [],
   "source": [
    "new_col = []\n",
    "for i in range(len(df_first['all_text'])):\n",
    "    check_word =   (near_operator(df_first['all_text'][i],A61H3900_list1,A61H3900_list2, near=5) or\n",
    "                    near_operator(df_first['all_text'][i],A61H3900_list3,A61H3900_list4, near=7) or\n",
    "                    and_operator(df_first['all_text'][i],A61H3900) or\n",
    "                    ssto(df_first['all_text'][i], A61H3900_word))\n",
    "    new_col.append(check_word)\n",
    "    \n",
    "df_first['word_predict'] = new_col"
   ]
  },
  {
   "cell_type": "code",
   "execution_count": 89,
   "metadata": {},
   "outputs": [],
   "source": [
    "df_first['A61H3900'] = df_first['word_predict'] + df_first['title_prediction'] + df_first['abstract_prediction']\n",
    "\n",
    "for row in range(len(df_first['A61H3900'])):\n",
    "    if df_first.loc[row, 'A61H3900'] > 0:\n",
    "        df_first.loc[row, 'A61H3900'] = 1\n",
    "    else:\n",
    "        df_first.loc[row, 'A61H3900'] = 0"
   ]
  },
  {
   "cell_type": "code",
   "execution_count": 90,
   "metadata": {},
   "outputs": [],
   "source": [
    "df_second = df_first.drop(['title_prediction','abstract_prediction', 'word_predict'],axis=1)"
   ]
  },
  {
   "cell_type": "markdown",
   "metadata": {},
   "source": [
    "## Sub-classification of A61H3900"
   ]
  },
  {
   "cell_type": "markdown",
   "metadata": {},
   "source": [
    "### A61H39/002  • Using electric currents"
   ]
  },
  {
   "cell_type": "code",
   "execution_count": 91,
   "metadata": {},
   "outputs": [],
   "source": [
    "# AND Operator keywords\n",
    "A61H39002 = ['electrotherapy']\n",
    "\n",
    "# NEAR operator keywords (List1 NEAR5 List2)\n",
    "A61H39002_list1 = ['electric', 'electrical']\n",
    "A61H39002_list2 = ['energy', 'current', 'voltage']\n",
    "\n",
    "#SSTO command e.g. search \"eye massage device\" as single word\n",
    "A61H39002_word = []"
   ]
  },
  {
   "cell_type": "code",
   "execution_count": 92,
   "metadata": {},
   "outputs": [],
   "source": [
    "new_col_39002 = []\n",
    "for i in range(len(df_second['all_text'])):\n",
    "    if df_second['A61H3900'][i] == 1:\n",
    "        check_word_39002 = int((near_operator(df_second['all_text'][i],A61H39002_list1,A61H39002_list2, near=3) or \n",
    "                           and_operator(df_second['all_text'][i],A61H39002) or\n",
    "                           ssto(df_second['all_text'][i], A61H39002_word)))\n",
    "    else:\n",
    "        check_word_39002 = 0\n",
    "    \n",
    "    new_col_39002.append(check_word_39002)\n",
    "    \n",
    "df_second['A61H39002'] = new_col_39002"
   ]
  },
  {
   "cell_type": "markdown",
   "metadata": {},
   "source": [
    "### A61H2039/005 • by means of electromagnetic waves, e.g. I.R., U.V. rays"
   ]
  },
  {
   "cell_type": "code",
   "execution_count": 93,
   "metadata": {},
   "outputs": [],
   "source": [
    "# AND Operator keywords\n",
    "A61H2039005 = []\n",
    "\n",
    "# NEAR operator keywords (List1 NEAR5 List2)\n",
    "A61H2039005_list1 = ['infrared', 'ultraviolet', 'electromagnetic']\n",
    "A61H2039005_list2 = ['ray','wave']\n",
    "\n",
    "#SSTO command e.g. search \"eye massage device\" as single word\n",
    "A61H2039005_word = []"
   ]
  },
  {
   "cell_type": "code",
   "execution_count": 94,
   "metadata": {},
   "outputs": [],
   "source": [
    "new_col_2039005 = []\n",
    "for i in range(len(df_second['all_text'])):\n",
    "    if df_second['A61H3900'][i] == 1:\n",
    "        check_word_2039005 = int((near_operator(df_second['all_text'][i],A61H2039005_list1,A61H2039005_list2, near=5) or \n",
    "                           and_operator(df_second['all_text'][i],A61H2039005) or\n",
    "                           ssto(df_second['all_text'][i], A61H2039005_word)))\n",
    "    else:\n",
    "        check_word_2039005 = 0\n",
    "    \n",
    "    new_col_2039005.append(check_word_2039005)\n",
    "    \n",
    "df_second['A61H2039005'] = new_col_2039005"
   ]
  },
  {
   "cell_type": "markdown",
   "metadata": {},
   "source": [
    "### A61H39/007  • Stimulation by mechanical vibrations, e.g. ultrasonic"
   ]
  },
  {
   "cell_type": "code",
   "execution_count": 95,
   "metadata": {},
   "outputs": [],
   "source": [
    "# AND Operator keywords\n",
    "A61H39007 = ['mechanical vibrat', 'ultrasonic vibrat', 'shock wave vibrat', 'sonic wave vibrat',\n",
    "             'ultrasonic transduce', 'piezo electric', 'eccentric motor']\n",
    "\n",
    "# NEAR operator keywords (List1 NEAR5 List2)\n",
    "A61H39007_list1 = ['mechanical', 'ultrasonic', ]\n",
    "A61H39007_list2 = ['vibrat', 'oscillat']\n",
    "\n",
    "#SSTO command e.g. search \"eye massage device\" as single word\n",
    "A61H39007_word = []"
   ]
  },
  {
   "cell_type": "code",
   "execution_count": 96,
   "metadata": {},
   "outputs": [],
   "source": [
    "new_col_39007 = []\n",
    "for i in range(len(df_second['all_text'])):\n",
    "    if df_second['A61H3900'][i] == 1:\n",
    "        check_word_39002 = int((near_operator(df_second['all_text'][i],A61H39007_list1,A61H39007_list2, near=5) or \n",
    "                           and_operator(df_second['all_text'][i],A61H39007) or\n",
    "                           ssto(df_second['all_text'][i], A61H39007_word)))\n",
    "    else:\n",
    "        check_word_39007 = 0\n",
    "    \n",
    "    new_col_39007.append(check_word_39007)\n",
    "    \n",
    "df_second['A61H39007'] = new_col_39007"
   ]
  },
  {
   "cell_type": "markdown",
   "metadata": {},
   "source": [
    "### A61H39/02    • Devices for locating such points"
   ]
  },
  {
   "cell_type": "code",
   "execution_count": 97,
   "metadata": {},
   "outputs": [],
   "source": [
    "# AND Operator keywords\n",
    "A61H3902 = ['reflex','trigger', 'pressure point', 'acupressure']\n",
    "\n",
    "# NEAR operator keywords (List1 NEAR5 List2)\n",
    "A61H3902_list1 = ['locat', 'find', 'establish', 'found']\n",
    "A61H3902_list2 = ['point']\n",
    "\n",
    "#SSTO command e.g. search \"eye massage device\" as single word\n",
    "A61H3902_word = []"
   ]
  },
  {
   "cell_type": "code",
   "execution_count": 98,
   "metadata": {},
   "outputs": [],
   "source": [
    "new_col_3902 = []\n",
    "for i in range(len(df_second['all_text'])):\n",
    "    if df_second['A61H3900'][i] == 1:\n",
    "        check_word_3902 = int(((near_operator(df_second['all_text'][i],A61H3902_list1,A61H3902_list2, near=5) and \n",
    "                           and_operator(df_second['all_text'][i],A61H3902)) or\n",
    "                           ssto(df_second['all_text'][i], A61H3902_word)))\n",
    "    else:\n",
    "        check_word_3902 = 0\n",
    "    \n",
    "    new_col_3902.append(check_word_3902)\n",
    "    \n",
    "df_second['A61H3902'] = new_col_3902"
   ]
  },
  {
   "cell_type": "markdown",
   "metadata": {},
   "source": [
    "### A61H39/04    • Devices for pressing such points, e.g. Shiatsu"
   ]
  },
  {
   "cell_type": "code",
   "execution_count": 99,
   "metadata": {},
   "outputs": [],
   "source": [
    "# AND Operator keywords\n",
    "A61H3904 = ['reflex','trigger', 'pressure point', 'acupressure']\n",
    "A61H3904_1 = ['shiatsu']\n",
    "\n",
    "# NEAR operator keywords (List1 NEAR5 List2)\n",
    "A61H3904_list1 = ['press', 'apply', 'force', 'pressure']\n",
    "A61H3904_list2 = ['point']\n",
    "\n",
    "#SSTO command e.g. search \"eye massage device\" as single word\n",
    "A61H3904_word = []"
   ]
  },
  {
   "cell_type": "code",
   "execution_count": 100,
   "metadata": {},
   "outputs": [],
   "source": [
    "new_col_3904 = []\n",
    "for i in range(len(df_second['all_text'])):\n",
    "    if df_second['A61H3900'][i] == 1:\n",
    "        check_word_3904 = int(((near_operator(df_second['all_text'][i],A61H3904_list1,A61H3904_list2, near=5) and \n",
    "                           and_operator(df_second['all_text'][i],A61H3904)) or\n",
    "                           and_operator(df_second['all_text'][i],A61H3904_1) or\n",
    "                           ssto(df_second['all_text'][i], A61H3904_word)))\n",
    "    else:\n",
    "        check_word_3904 = 0\n",
    "    \n",
    "    new_col_3904.append(check_word_3904)\n",
    "    \n",
    "df_second['A61H3904'] = new_col_3904"
   ]
  },
  {
   "cell_type": "markdown",
   "metadata": {},
   "source": [
    "### A61H39/06    • Devices for heating or cooling such points within cell-life limits"
   ]
  },
  {
   "cell_type": "code",
   "execution_count": 101,
   "metadata": {},
   "outputs": [],
   "source": [
    "# AND Operator keywords\n",
    "A61H3906 = ['reflex','trigger', 'pressure point', 'acupressure']\n",
    "\n",
    "# NEAR operator keywords (List1 NEAR5 List2)\n",
    "A61H3906_list1 = ['heat', 'cool']\n",
    "A61H3906_list2 = ['point']\n",
    "\n",
    "#SSTO command e.g. search \"eye massage device\" as single word\n",
    "A61H3906_word = []"
   ]
  },
  {
   "cell_type": "code",
   "execution_count": 102,
   "metadata": {},
   "outputs": [],
   "source": [
    "new_col_3906 = []\n",
    "for i in range(len(df_second['all_text'])):\n",
    "    if df_second['A61H3900'][i] == 1:\n",
    "        check_word_3906 = int(((near_operator(df_second['all_text'][i],A61H3906_list1,A61H3906_list2, near=5) and \n",
    "                           and_operator(df_second['all_text'][i],A61H3906)) or\n",
    "                           ssto(df_second['all_text'][i], A61H3906_word)))\n",
    "    else:\n",
    "        check_word_3906 = 0\n",
    "    \n",
    "    new_col_3906.append(check_word_3906)\n",
    "    \n",
    "df_second['A61H3906'] = new_col_3906"
   ]
  },
  {
   "cell_type": "markdown",
   "metadata": {},
   "source": [
    "### A61H39/08    • Devices for applying needles to such points, i.e. for acupuncture"
   ]
  },
  {
   "cell_type": "code",
   "execution_count": 103,
   "metadata": {},
   "outputs": [],
   "source": [
    "# AND Operator keywords\n",
    "A61H3908 = []\n",
    "\n",
    "# NEAR operator keywords (List1 NEAR5 List2)\n",
    "A61H3908_list1 = ['acupuncture']\n",
    "A61H3908_list2 = ['needle', 'injection']\n",
    "\n",
    "#SSTO command e.g. search \"eye massage device\" as single word\n",
    "A61H3908_word = []"
   ]
  },
  {
   "cell_type": "code",
   "execution_count": 104,
   "metadata": {},
   "outputs": [],
   "source": [
    "new_col_3908 = []\n",
    "for i in range(len(df_second['all_text'])):\n",
    "    if df_second['A61H3900'][i] == 1:\n",
    "        check_word_3908 = int(((near_operator(df_second['all_text'][i],A61H3908_list1,A61H3908_list2, near=5) or \n",
    "                           and_operator(df_second['all_text'][i],A61H3908)) or\n",
    "                           ssto(df_second['all_text'][i], A61H3908_word)))\n",
    "    else:\n",
    "        check_word_3908 = 0\n",
    "    \n",
    "    new_col_3908.append(check_word_3908)\n",
    "    \n",
    "df_second['A61H3908'] = new_col_3908"
   ]
  },
  {
   "cell_type": "markdown",
   "metadata": {},
   "source": [
    "### A61H39/083  •• Needle tubes"
   ]
  },
  {
   "cell_type": "code",
   "execution_count": 105,
   "metadata": {},
   "outputs": [],
   "source": [
    "# AND Operator keywords\n",
    "A61H39083 = []\n",
    "\n",
    "# NEAR operator keywords (List1 NEAR5 List2)\n",
    "A61H39083_list1 = ['tube']\n",
    "A61H39083_list2 = ['needle']\n",
    "\n",
    "#SSTO command e.g. search \"eye massage device\" as single word\n",
    "A61H39083_word = []"
   ]
  },
  {
   "cell_type": "code",
   "execution_count": 106,
   "metadata": {},
   "outputs": [],
   "source": [
    "new_col_39083 = []\n",
    "for i in range(len(df_second['all_text'])):\n",
    "    if df_second['A61H3908'][i] == 1:\n",
    "        check_word_3908 = int(((near_operator(df_second['all_text'][i],A61H39083_list1,A61H39083_list2, near=5) or \n",
    "                           and_operator(df_second['all_text'][i],A61H39083)) or\n",
    "                           ssto(df_second['all_text'][i], A61H39083_word)))\n",
    "    else:\n",
    "        check_word_39083 = 0\n",
    "    \n",
    "    new_col_39083.append(check_word_39083)\n",
    "    \n",
    "df_second['A61H39083'] = new_col_39083"
   ]
  },
  {
   "cell_type": "markdown",
   "metadata": {},
   "source": [
    "### A61H39/086  •• Acupuncture needles"
   ]
  },
  {
   "cell_type": "code",
   "execution_count": 107,
   "metadata": {},
   "outputs": [],
   "source": [
    "# AND Operator keywords\n",
    "A61H39086 = []\n",
    "\n",
    "# NEAR operator keywords (List1 NEAR5 List2)\n",
    "A61H39086_list1 = ['acupuncture']\n",
    "A61H39086_list2 = ['needle']\n",
    "\n",
    "#SSTO command e.g. search \"eye massage device\" as single word\n",
    "A61H39086_word = []"
   ]
  },
  {
   "cell_type": "code",
   "execution_count": 108,
   "metadata": {},
   "outputs": [],
   "source": [
    "new_col_39086 = []\n",
    "for i in range(len(df_second['all_text'])):\n",
    "    if df_second['A61H3908'][i] == 1:\n",
    "        check_word_39086 = int(((near_operator(df_second['all_text'][i],A61H39086_list1,A61H39086_list2, near=5) or \n",
    "                           and_operator(df_second['all_text'][i],A61H39086)) or\n",
    "                           ssto(df_second['all_text'][i], A61H39086_word)))\n",
    "    else:\n",
    "        check_word_39086 = 0\n",
    "    \n",
    "    new_col_39086.append(check_word_39086)\n",
    "    \n",
    "df_second['A61H39086'] = new_col_39086"
   ]
  },
  {
   "cell_type": "markdown",
   "metadata": {},
   "source": [
    "## Final step"
   ]
  },
  {
   "cell_type": "code",
   "execution_count": 109,
   "metadata": {},
   "outputs": [],
   "source": [
    "for i in range(4,len(df_second.columns)):\n",
    "    df_second.iloc[:,i].replace(1,df_second.columns[i], inplace=True)\n",
    "    df_second.iloc[:,i].replace(0,'', inplace=True)"
   ]
  },
  {
   "cell_type": "code",
   "execution_count": 110,
   "metadata": {},
   "outputs": [],
   "source": [
    "cols = ['A61H3900', 'A61H39002','A61H2039005', 'A61H39007', 'A61H3902', \n",
    "        'A61H3904', 'A61H3906','A61H3908', 'A61H39083', 'A61H39086']\n",
    "\n",
    "df_second['prediction'] = ''\n",
    "for i in range(len(df_second)):\n",
    "    for col in cols:\n",
    "        if not df_second.loc[i,col] == '':\n",
    "            df_second.loc[i,'prediction'] = (df_second.loc[i,'prediction'] + ' | '\n",
    "                                                        + df_second.loc[i,col])\n",
    "\n",
    "df_second['prediction'] = df_second['prediction'].str[3:]"
   ]
  },
  {
   "cell_type": "code",
   "execution_count": 111,
   "metadata": {},
   "outputs": [],
   "source": [
    "df_final = df_second.drop(columns=['A61H3900', 'A61H39002','A61H2039005', 'A61H39007', 'A61H3902', 'A61H3904', \n",
    "                                   'A61H3906','A61H3908', 'A61H39083', 'A61H39086','all_text'], axis=1)\n"
   ]
  },
  {
   "cell_type": "code",
   "execution_count": 1,
   "metadata": {},
   "outputs": [
    {
     "name": "stdout",
     "output_type": "stream",
     "text": [
      "Module A61H3900 is successfully loaded on 01/Aug/2020 - 01:05 AM\n"
     ]
    }
   ],
   "source": [
    "from datetime import datetime\n",
    "dt_string = datetime.now().strftime(\"%d/%b/%Y - %H:%M %p\")\n",
    "print(\"Module A61H3900 is successfully loaded on\",dt_string)"
   ]
  },
  {
   "cell_type": "code",
   "execution_count": null,
   "metadata": {},
   "outputs": [],
   "source": []
  }
 ],
 "metadata": {
  "kernelspec": {
   "display_name": "Python 3",
   "language": "python",
   "name": "python3"
  },
  "language_info": {
   "codemirror_mode": {
    "name": "ipython",
    "version": 3
   },
   "file_extension": ".py",
   "mimetype": "text/x-python",
   "name": "python",
   "nbconvert_exporter": "python",
   "pygments_lexer": "ipython3",
   "version": "3.8.3"
  }
 },
 "nbformat": 4,
 "nbformat_minor": 2
}
