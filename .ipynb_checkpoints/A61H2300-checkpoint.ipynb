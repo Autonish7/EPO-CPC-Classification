{
 "cells": [
  {
   "cell_type": "markdown",
   "metadata": {},
   "source": [
    "# A61H CPC Classification - A61H2300\n",
    "\n",
    "#### About the Module:\n",
    "\n",
    "<font size=\"2\">\n",
    "<I><span style=\"font-family:Arial\">This module work to identify patents in A61H2300 class. Class detail is as follow<br></span>\n",
    "<span style=\"font-family:Arial\">A61H23/00 &emsp; &emsp; •&emsp;Percussion or vibration massage, e.g. using supersonic vibration; Suction-vibration massage; Massage with moving diaphragms<br></span>\n",
    "<span style=\"font-family:Arial\">A61H2023/002&emsp; •&emsp;having a percussion element combined with a passive spacer element for bearing against the skin<br></span>\n",
    "<span style=\"font-family:Arial\">A61H23/004&emsp;&emsp; •&emsp;With mechanical drive, e.g. spring mechanism or vibrating unit being hit for starting vibration and then applied to the body of a patient<br></span>\n",
    "<span style=\"font-family:Arial\">A61H23/006&emsp;&emsp; •&emsp;Percussion or tapping massage<br></span>\n",
    "<span style=\"font-family:Arial\">A61H23/008&emsp;&emsp; •&emsp;using shock waves<br></span>\n",
    "<span style=\"font-family:Arial\">A61H23/02 &emsp; &emsp; •&emsp;with electric or magnetic drive<br></span>\n",
    "<span style=\"font-family:Arial\">A61H2023/0209&emsp;••&emsp;powered frequencies not related to mains frequency<br></span>\n",
    "<span style=\"font-family:Arial\">A61H23/0218&emsp;&emsp; ••&emsp;with alternating magnetic fields producing a\n",
    "translating/oscillating movement<br></span>\n",
    "<span style=\"font-family:Arial\">A61H2023/0227&emsp;•••&emsp;with magnetostrictive elements<br></span>\n",
    "<span style=\"font-family:Arial\">A61H23/0236&emsp;&emsp; •••&emsp;using sonic waves, e.g. using loudspeakers<br></span>\n",
    "<span style=\"font-family:Arial\">A61H23/0245&emsp;&emsp; ••&emsp;with ultrasonic transducers,eg.piezoelectric<br></span>\n",
    "<span style=\"font-family:Arial\">A61H23/0254&emsp;&emsp; ••&emsp;with rotary motor<br></span>\n",
    "<span style=\"font-family:Arial\">A61H23/0263&emsp;&emsp; •••&emsp;using rotating unbalanced masses<br></span>\n",
    "<span style=\"font-family:Arial\">A61H2023/0272&emsp;••••&emsp;multiple masses each rotated by an one motor<br></span>\n",
    "<span style=\"font-family:Arial\">A61H2023/0281&emsp;••••&emsp;multiple masses driven by the same motor<br></span>\n",
    "<span style=\"font-family:Arial\">A61H2023/029 &emsp;•••••&emsp;with variable angular positioning<br></span>\n",
    "<span style=\"font-family:Arial\">A61H23/04 &emsp; &emsp; •&emsp;with hydraulic or pneumatic drive<br></span>\n",
    "<span style=\"font-family:Arial\">A61H2023/045 &emsp;••&emsp;using hydrostatic pressure,eg. high density fluids<br></span>\n",
    "<span style=\"font-family:Arial\">A61H23/06 &emsp; &emsp; •&emsp;Hand percussion<br></span>\n",
    "\n",
    "<font size=\"3\">\n",
    "\n",
    "#### Input needed: \n",
    "<I><span style=\"font-family:Arial\">This module use libraries, function and processed text data present in initial_processing module</span></I>\n",
    "\n",
    "#### Output expected: \n",
    "<I><span style=\"font-family:Arial\">This module will identify patents in A61H2300 class in test data.<br>This output is pass to the module final_file. No output is expected in this module alone.</span></I>\n",
    "\n",
    "#### Related modules: \n",
    "<I><span style=\"font-family:Arial\">This module is calling initial_processing module and is called by final_file module</span></I>\n",
    "\n",
    "#### Who and when: \n",
    "<I><span style=\"font-family:Arial\">Last Modified by : Nishant Chauhan</span><br>\n",
    "<span style=\"font-family:Arial\">Last Modified on : 31-July-2020</span><br>\n",
    "<span style=\"font-family:Arial\">Version no       : 2</span><br>\n",
    "<span style=\"font-family:Arial\">Developed by     : Nishant Chauhan </span><br></font></I>"
   ]
  },
  {
   "cell_type": "code",
   "execution_count": 1,
   "metadata": {},
   "outputs": [
    {
     "name": "stdout",
     "output_type": "stream",
     "text": [
      "importing Jupyter notebook from Initial_processing.ipynb\n",
      "Module Initial Processing is successfully loaded on 02/Aug/2020 - 18:23 PM\n"
     ]
    }
   ],
   "source": [
    "import os\n",
    "import sys\n",
    "import import_ipynb\n",
    "from Initial_processing import *"
   ]
  },
  {
   "cell_type": "code",
   "execution_count": 2,
   "metadata": {},
   "outputs": [
    {
     "data": {
      "text/plain": [
       "0    3115\n",
       "1     802\n",
       "Name: A61H2300, dtype: int64"
      ]
     },
     "execution_count": 2,
     "metadata": {},
     "output_type": "execute_result"
    }
   ],
   "source": [
    "df['A61H2300'] = df['CPC'].str.contains('A61H23/|A61H0023|A61H 23/').astype('int')\n",
    "df['A61H2300'].value_counts()"
   ]
  },
  {
   "cell_type": "markdown",
   "metadata": {},
   "source": [
    "## Model training and prediction"
   ]
  },
  {
   "cell_type": "code",
   "execution_count": 3,
   "metadata": {},
   "outputs": [],
   "source": [
    "y_train = df['A61H2300']\n",
    "\n",
    "model_title , score_title = train_model(X_title_dtm, y_train)\n",
    "\n",
    "y_pred_class_title = model_title.predict(X_title_test_dtm)"
   ]
  },
  {
   "cell_type": "code",
   "execution_count": 4,
   "metadata": {},
   "outputs": [],
   "source": [
    "model_abstract , score_abstract = train_model(X_abstract_dtm, y_train)\n",
    "\n",
    "y_pred_class_abstract = model_abstract.predict(X_abstract_test_dtm)"
   ]
  },
  {
   "cell_type": "code",
   "execution_count": 23,
   "metadata": {},
   "outputs": [
    {
     "name": "stdout",
     "output_type": "stream",
     "text": [
      "Training data accuracy score :  0.8807011885213855\n"
     ]
    }
   ],
   "source": [
    "model_tab , score_tab = train_model(X_tab_dtm, y_train)\n",
    "\n",
    "y_pred_class_tab = model_tab.predict(X_tab_test_dtm)\n",
    "\n",
    "print(\"Training data accuracy score : \" ,((score_abstract.mean() + score_title.mean() + score_tab.mean())/3))"
   ]
  },
  {
   "cell_type": "code",
   "execution_count": 24,
   "metadata": {},
   "outputs": [],
   "source": [
    "df_first = pd.DataFrame(df_test[['number','title','abstract']])"
   ]
  },
  {
   "cell_type": "code",
   "execution_count": 27,
   "metadata": {},
   "outputs": [],
   "source": [
    "df_first['all_text'] = X_all\n",
    "df_first['title_prediction'] = y_pred_class_tab\n",
    "df_first['abstract_prediction'] = y_pred_class_abstract"
   ]
  },
  {
   "cell_type": "markdown",
   "metadata": {},
   "source": [
    "## Predicting using words"
   ]
  },
  {
   "cell_type": "code",
   "execution_count": 35,
   "metadata": {},
   "outputs": [],
   "source": [
    "# AND Operator keywords\n",
    "\n",
    "A61H2300 = ['massage','rehab', 'stimulat', 'medical', 'patient', 'disabl', 'elder', 'weak',\n",
    "             'impair', 'exercis']\n"
   ]
  },
  {
   "cell_type": "code",
   "execution_count": 36,
   "metadata": {},
   "outputs": [],
   "source": [
    "# NEAR operator keywords (List1 NEAR5 List2)\n",
    "\n",
    "A61H2300_list1 = ['vibration', 'vibrating','percussion', 'tapping', 'vibrational']\n",
    "A61H2300_list2 = ['massag','therap','hand', 'device', 'apparatus', 'motor']"
   ]
  },
  {
   "cell_type": "code",
   "execution_count": 37,
   "metadata": {},
   "outputs": [],
   "source": [
    "#SSTO command e.g. search \"eye massage device\" as single word\n",
    "\n",
    "A61H2300_word = []"
   ]
  },
  {
   "cell_type": "code",
   "execution_count": 38,
   "metadata": {},
   "outputs": [],
   "source": [
    "new_col = []\n",
    "for i in range(len(df_first['all_text'])):\n",
    "    check_word = ((near_operator(df_first['all_text'][i],A61H2300_list1,A61H2300_list2, near=5) and\n",
    "                 and_operator(df_first['all_text'][i],A61H2300)) or\n",
    "                 ssto(df_first['all_text'][i], A61H2300_word))\n",
    "                \n",
    "    new_col.append(check_word)\n",
    "    \n",
    "df_first['word_predict'] = new_col"
   ]
  },
  {
   "cell_type": "code",
   "execution_count": 43,
   "metadata": {},
   "outputs": [],
   "source": [
    "df_first['A61H2300'] = df_first['word_predict'] + df_first['title_prediction'] + df_first['abstract_prediction']\n",
    "\n",
    "for row in range(len(df_first['A61H2300'])):\n",
    "    if df_first.loc[row, 'A61H2300'] > 0:\n",
    "        df_first.loc[row, 'A61H2300'] = 1\n",
    "    else:\n",
    "        df_first.loc[row, 'A61H2300'] = 0"
   ]
  },
  {
   "cell_type": "code",
   "execution_count": 44,
   "metadata": {},
   "outputs": [],
   "source": [
    "df_second = df_first.drop(['title_prediction','abstract_prediction', 'word_predict'],axis=1)"
   ]
  },
  {
   "cell_type": "markdown",
   "metadata": {},
   "source": [
    "## Sub-classification of A61H23/00 (this section need improvement)"
   ]
  },
  {
   "cell_type": "markdown",
   "metadata": {},
   "source": [
    "### A61H2023/002 •   having a percussion element combined with a passive spacer element for bearing against the skin"
   ]
  },
  {
   "cell_type": "code",
   "execution_count": 159,
   "metadata": {},
   "outputs": [],
   "source": [
    "# AND Operator keywords\n",
    "A61H2023002 = ['spacer']\n",
    "\n",
    "# NEAR operator keywords (List1 NEAR5 List2)\n",
    "A61H2023002_list1 = ['percussion']\n",
    "A61H2023002_list2 = ['tool', 'apparatus', 'element', 'device']\n",
    "\n",
    "#SSTO command e.g. search \"eye massage device\" as single word\n",
    "A61H2023002_word = []"
   ]
  },
  {
   "cell_type": "code",
   "execution_count": 160,
   "metadata": {},
   "outputs": [],
   "source": [
    "new_col_2023002 = []\n",
    "for i in range(len(df_second['all_text'])):\n",
    "    if df_second['A61H2300'][i] == 1:\n",
    "        check_word_2023002 = int((near_operator(df_second['all_text'][i],A61H2023002_list1,A61H2023002_list2, near=5) and \n",
    "                           and_operator(df_second['all_text'][i],A61H2023002)) or\n",
    "                           ssto(df_second['all_text'][i], A61H2023002_word))\n",
    "    else:\n",
    "        check_word_2023002 = 0\n",
    "    \n",
    "    new_col_2023002.append(check_word_2023002)\n",
    "    \n",
    "df_second['A61H2023002'] = new_col_2023002"
   ]
  },
  {
   "cell_type": "markdown",
   "metadata": {},
   "source": [
    "### A61H23/004   • With mechanical drive, e.g. spring mechanism or vibrating unit being hit for starting vibration and then applied to the body of a patient"
   ]
  },
  {
   "cell_type": "code",
   "execution_count": 161,
   "metadata": {},
   "outputs": [],
   "source": [
    "# AND Operator keywords\n",
    "A61H23004 = []\n",
    "\n",
    "# NEAR operator keywords (List1 NEAR5 List2)\n",
    "A61H23004_list1 = ['mechanical', 'spring']\n",
    "A61H23004_list2 = ['drive', 'mechanism']\n",
    "A61H23004_list3 = ['vibrat', 'oscillat']\n",
    "\n",
    "#SSTO command e.g. search \"eye massage device\" as single word\n",
    "A61H23004_word = []"
   ]
  },
  {
   "cell_type": "code",
   "execution_count": 162,
   "metadata": {},
   "outputs": [],
   "source": [
    "new_col_23004 = []\n",
    "for i in range(len(df_second['all_text'])):\n",
    "    if df_second['A61H2300'][i] == 1:\n",
    "        check_word_23004 = int(((near_operator(df_second['all_text'][i],A61H23004_list1,A61H23004_list2, near=4) and\n",
    "                                near_operator(df_second['all_text'][i],A61H23004_list2,A61H23004_list3, near=7)) or\n",
    "                           and_operator(df_second['all_text'][i],A61H23004) or\n",
    "                           ssto(df_second['all_text'][i], A61H23004_word)))\n",
    "    else:\n",
    "        check_word_23004 = 0\n",
    "    \n",
    "    new_col_23004.append(check_word_23004)\n",
    "    \n",
    "df_second['A61H23004'] = new_col_23004"
   ]
  },
  {
   "cell_type": "markdown",
   "metadata": {},
   "source": [
    "### A61H23/006   • Percussion or tapping massage"
   ]
  },
  {
   "cell_type": "code",
   "execution_count": 163,
   "metadata": {},
   "outputs": [],
   "source": [
    "# AND Operator keywords\n",
    "A61H23006 = []\n",
    "\n",
    "# NEAR operator keywords (List1 NEAR5 List2)\n",
    "A61H23006_list1 = ['percussion', 'tapping']\n",
    "A61H23006_list2 = ['massag']\n",
    "\n",
    "#SSTO command e.g. search \"eye massage device\" as single word\n",
    "A61H23006_word = []"
   ]
  },
  {
   "cell_type": "code",
   "execution_count": 164,
   "metadata": {},
   "outputs": [],
   "source": [
    "new_col_23006 = []\n",
    "for i in range(len(df_second['all_text'])):\n",
    "    if df_second['A61H2300'][i] == 1:\n",
    "        check_word_23006 = int((near_operator(df_second['all_text'][i],A61H23006_list1,A61H23006_list2, near=5) or \n",
    "                           and_operator(df_second['all_text'][i],A61H23006) or\n",
    "                           ssto(df_second['all_text'][i], A61H23006_word)))\n",
    "    else:\n",
    "        check_word_23006 = 0\n",
    "    \n",
    "    new_col_23006.append(check_word_23006)\n",
    "    \n",
    "df_second['A61H23006'] = new_col_23006"
   ]
  },
  {
   "cell_type": "markdown",
   "metadata": {},
   "source": [
    "### A61H23/008   • using shock waves"
   ]
  },
  {
   "cell_type": "code",
   "execution_count": 165,
   "metadata": {},
   "outputs": [],
   "source": [
    "# AND Operator keywords\n",
    "A61H23008 = []\n",
    "\n",
    "# NEAR operator keywords (List1 NEAR5 List2)\n",
    "A61H23008_list1 = ['shock']\n",
    "A61H23008_list2 = ['Wave']\n",
    "\n",
    "#SSTO command e.g. search \"eye massage device\" as single word\n",
    "A61H23008_word = []"
   ]
  },
  {
   "cell_type": "code",
   "execution_count": 166,
   "metadata": {},
   "outputs": [],
   "source": [
    "new_col_23008 = []\n",
    "for i in range(len(df_second['all_text'])):\n",
    "    if df_second['A61H2300'][i] == 1:\n",
    "        check_word_23008 = int((near_operator(df_second['all_text'][i],A61H23008_list1,A61H23008_list2, near=3) or \n",
    "                           and_operator(df_second['all_text'][i],A61H23008) or\n",
    "                           ssto(df_second['all_text'][i], A61H23008_word)))\n",
    "    else:\n",
    "        check_word_23008 = 0\n",
    "    \n",
    "    new_col_23008.append(check_word_23008)\n",
    "    \n",
    "df_second['A61H23008'] = new_col_23008"
   ]
  },
  {
   "cell_type": "markdown",
   "metadata": {},
   "source": [
    "### A61H23/02     • with electric or magnetic drive"
   ]
  },
  {
   "cell_type": "code",
   "execution_count": 204,
   "metadata": {},
   "outputs": [],
   "source": [
    "# AND Operator keywords\n",
    "A61H2302 = ['electric motor']\n",
    "\n",
    "# NEAR operator keywords (List1 NEAR5 List2)\n",
    "A61H2302_list1 = ['electric', 'magnet', 'electrical', 'magnetic', 'electronic', 'vibration']\n",
    "A61H2302_list2 = ['motor', 'drive','battery', 'control', 'unit', 'system']\n",
    "\n",
    "#SSTO command e.g. search \"eye massage device\" as single word\n",
    "A61H2302_word = []"
   ]
  },
  {
   "cell_type": "code",
   "execution_count": 168,
   "metadata": {},
   "outputs": [],
   "source": [
    "new_col_2302 = []\n",
    "for i in range(len(df_second['all_text'])):\n",
    "    if df_second['A61H2300'][i] == 1:\n",
    "        check_word_2302 = int((near_operator(df_second['all_text'][i],A61H2302_list1,A61H2302_list2, near=5) or \n",
    "                           and_operator(df_second['all_text'][i],A61H2302) or\n",
    "                           ssto(df_second['all_text'][i], A61H2302_word)))\n",
    "    else:\n",
    "        check_word_2302 = 0\n",
    "    \n",
    "    new_col_2302.append(check_word_2302)\n",
    "    \n",
    "df_second['A61H2302'] = new_col_2302"
   ]
  },
  {
   "cell_type": "markdown",
   "metadata": {},
   "source": [
    "### A61H2023/0209 •• powered frequencies not related to mains frequency"
   ]
  },
  {
   "cell_type": "code",
   "execution_count": 169,
   "metadata": {},
   "outputs": [],
   "source": [
    "# AND Operator keywords\n",
    "A61H20230209 = []\n",
    "\n",
    "# NEAR operator keywords (List1 NEAR5 List2)\n",
    "A61H20230209_list1 = ['power', 'powered']\n",
    "A61H20230209_list2 = ['frequency','frequencies']\n",
    "A61H20230209_list3 = ['vibrat', 'oscillat']\n",
    "\n",
    "#SSTO command e.g. search \"eye massage device\" as single word\n",
    "A61H20230209_word = []"
   ]
  },
  {
   "cell_type": "code",
   "execution_count": 170,
   "metadata": {},
   "outputs": [],
   "source": [
    "new_col_20230209 = []\n",
    "for i in range(len(df_second['all_text'])):\n",
    "    if df_second['A61H2302'][i] == 1:\n",
    "        check_word_20230209 = int((near_operator(df_second['all_text'][i],A61H20230209_list1,A61H20230209_list2, near=3) and \n",
    "                                near_operator(df_second['all_text'][i],A61H20230209_list1,A61H20230209_list3, near=5)) or\n",
    "                           and_operator(df_second['all_text'][i],A61H20230209) or\n",
    "                           ssto(df_second['all_text'][i], A61H20230209_word))\n",
    "    else:\n",
    "        check_word_20230209 = 0\n",
    "    \n",
    "    new_col_20230209.append(check_word_20230209)\n",
    "    \n",
    "df_second['A61H20230209'] = new_col_20230209"
   ]
  },
  {
   "cell_type": "markdown",
   "metadata": {},
   "source": [
    "### A61H23/0218   •• with alternating magnetic fields producing a translating/oscillating movement"
   ]
  },
  {
   "cell_type": "code",
   "execution_count": 171,
   "metadata": {},
   "outputs": [],
   "source": [
    "# AND Operator keywords\n",
    "A61H230218 = []\n",
    "\n",
    "# NEAR operator keywords (List1 NEAR5 List2)\n",
    "A61H230218_list1 = ['alterna']\n",
    "A61H230218_list2 = ['magnet', 'magnetic']\n",
    "A61H230218_list3 = ['vibrat', 'oscilla', 'translat']\n",
    "\n",
    "#SSTO command e.g. search \"eye massage device\" as single word\n",
    "A61H230218_word = []"
   ]
  },
  {
   "cell_type": "code",
   "execution_count": 172,
   "metadata": {},
   "outputs": [],
   "source": [
    "new_col_230218 = []\n",
    "for i in range(len(df_second['all_text'])):\n",
    "    if df_second['A61H2302'][i] == 1:\n",
    "        check_word_230218 = int(((near_operator(df_second['all_text'][i],A61H230218_list1,A61H230218_list2, near=3) and\n",
    "                                 near_operator(df_second['all_text'][i],A61H230218_list1,A61H230218_list2, near=7)) or\n",
    "                           and_operator(df_second['all_text'][i],A61H230218) or\n",
    "                           ssto(df_second['all_text'][i], A61H230218_word)))\n",
    "    else:\n",
    "        check_word_230218 = 0\n",
    "    \n",
    "    new_col_230218.append(check_word_230218)\n",
    "    \n",
    "df_second['A61H230218'] = new_col_230218"
   ]
  },
  {
   "cell_type": "markdown",
   "metadata": {},
   "source": [
    "### A61H2023/0227 ••• with magnetostrictive elements"
   ]
  },
  {
   "cell_type": "code",
   "execution_count": 173,
   "metadata": {},
   "outputs": [],
   "source": [
    "# AND Operator keywords\n",
    "A61H20230227 = ['magnetostrictive']\n",
    "\n",
    "# NEAR operator keywords (List1 NEAR5 List2)\n",
    "A61H20230227_list1 = []\n",
    "A61H20230227_list2 = []\n",
    "\n",
    "#SSTO command e.g. search \"eye massage device\" as single word\n",
    "A61H20230227_word = []"
   ]
  },
  {
   "cell_type": "code",
   "execution_count": 174,
   "metadata": {},
   "outputs": [],
   "source": [
    "new_col_20230227 = []\n",
    "for i in range(len(df_second['all_text'])):\n",
    "    if df_second['A61H2302'][i] == 1:\n",
    "        check_word_20230227 = int((near_operator(df_second['all_text'][i],A61H20230227_list1,A61H20230227_list2, near=5) or \n",
    "                           and_operator(df_second['all_text'][i],A61H20230227) or\n",
    "                           ssto(df_second['all_text'][i], A61H20230227_word)))\n",
    "    else:\n",
    "        check_word_20230227 = 0\n",
    "    \n",
    "    new_col_20230227.append(check_word_20230227)\n",
    "    \n",
    "df_second['A61H20230227'] = new_col_20230227"
   ]
  },
  {
   "cell_type": "markdown",
   "metadata": {},
   "source": [
    "### A61H23/0236   ••• using sonic waves, e.g. using loudspeakers"
   ]
  },
  {
   "cell_type": "code",
   "execution_count": 175,
   "metadata": {},
   "outputs": [],
   "source": [
    "# AND Operator keywords\n",
    "A61H230236 = []\n",
    "\n",
    "# NEAR operator keywords (List1 NEAR5 List2)\n",
    "A61H230236_list1 = ['sonic', 'loud']\n",
    "A61H230236_list2 = ['wave', 'speaker']\n",
    "\n",
    "#SSTO command e.g. search \"eye massage device\" as single word\n",
    "A61H230236_word = ['loud speaker','loudspeaker']"
   ]
  },
  {
   "cell_type": "code",
   "execution_count": 176,
   "metadata": {},
   "outputs": [],
   "source": [
    "new_col_230236 = []\n",
    "for i in range(len(df_second['all_text'])):\n",
    "    if df_second['A61H2300'][i] == 1:\n",
    "        check_word_230236 = int((near_operator(df_second['all_text'][i],A61H230236_list1,A61H230236_list2, near=3) or \n",
    "                           and_operator(df_second['all_text'][i],A61H230236) or\n",
    "                           ssto(df_second['all_text'][i], A61H230236_word)))\n",
    "    else:\n",
    "        check_word_230236 = 0\n",
    "    \n",
    "    new_col_230236.append(check_word_230236)\n",
    "    \n",
    "df_second['A61H230236'] = new_col_230236"
   ]
  },
  {
   "cell_type": "markdown",
   "metadata": {},
   "source": [
    "### A61H23/0245   •• with ultrasonic transducers,eg.piezoelectric"
   ]
  },
  {
   "cell_type": "code",
   "execution_count": 177,
   "metadata": {},
   "outputs": [],
   "source": [
    "# AND Operator keywords\n",
    "A61H230245 = ['piezoelectric vibrat']\n",
    "\n",
    "# NEAR operator keywords (List1 NEAR5 List2)\n",
    "A61H230245_list1 = ['ultrasonic']\n",
    "A61H230245_list2 = ['transducer']\n",
    "\n",
    "#SSTO command e.g. search \"eye massage device\" as single word\n",
    "A61H230245_word = ['piezoelectric', 'piezo electric']"
   ]
  },
  {
   "cell_type": "code",
   "execution_count": 178,
   "metadata": {},
   "outputs": [],
   "source": [
    "new_col_230245 = []\n",
    "for i in range(len(df_second['all_text'])):\n",
    "    if df_second['A61H2302'][i] == 1:\n",
    "        check_word_230245 = int((near_operator(df_second['all_text'][i],A61H230245_list1,A61H230245_list2, near=5) or \n",
    "                           and_operator(df_second['all_text'][i],A61H230245) or\n",
    "                           ssto(df_second['all_text'][i], A61H230245_word)))\n",
    "    else:\n",
    "        check_word_230245 = 0\n",
    "    \n",
    "    new_col_230245.append(check_word_230245)\n",
    "    \n",
    "df_second['A61H230245'] = new_col_230245"
   ]
  },
  {
   "cell_type": "markdown",
   "metadata": {},
   "source": [
    "### A61H23/0254   •• with rotary motor"
   ]
  },
  {
   "cell_type": "code",
   "execution_count": 179,
   "metadata": {},
   "outputs": [],
   "source": [
    "# AND Operator keywords\n",
    "A61H230254 = []\n",
    "\n",
    "# NEAR operator keywords (List1 NEAR5 List2)\n",
    "A61H230254_list1 = ['rotary', 'rotation', 'rotational', 'eccentric']\n",
    "A61H230254_list2 = ['motor']\n",
    "A61H230254_list3 = ['vibrat', 'oscillat']\n",
    "\n",
    "#SSTO command e.g. search \"eye massage device\" as single word\n",
    "A61H230254_word = ['variable angular position']"
   ]
  },
  {
   "cell_type": "code",
   "execution_count": 180,
   "metadata": {},
   "outputs": [],
   "source": [
    "new_col_230254 = []\n",
    "for i in range(len(df_second['all_text'])):\n",
    "    if df_second['A61H2302'][i] == 1:\n",
    "        check_word_230254 = int(((near_operator(df_second['all_text'][i],A61H230254_list1,A61H230254_list2, near=5) and\n",
    "                                 near_operator(df_second['all_text'][i],A61H230254_list2,A61H230254_list3, near=8)) or\n",
    "                           and_operator(df_second['all_text'][i],A61H230254) or\n",
    "                           ssto(df_second['all_text'][i], A61H230254_word)))\n",
    "    else:\n",
    "        check_word_230254 = 0\n",
    "    \n",
    "    new_col_230254.append(check_word_230254)\n",
    "    \n",
    "df_second['A61H230254'] = new_col_230254"
   ]
  },
  {
   "cell_type": "markdown",
   "metadata": {},
   "source": [
    "### A61H23/0263   ••• using rotating unbalanced masses"
   ]
  },
  {
   "cell_type": "code",
   "execution_count": 181,
   "metadata": {},
   "outputs": [],
   "source": [
    "# AND Operator keywords\n",
    "A61H230263 = []\n",
    "\n",
    "# NEAR operator keywords (List1 NEAR5 List2)\n",
    "A61H230263_list1 = ['mass', 'masses']\n",
    "A61H230263_list2 = ['rotary', 'rotation', 'rotational', 'eccentric']\n",
    "\n",
    "#SSTO command e.g. search \"eye massage device\" as single word\n",
    "A61H230263_word = []"
   ]
  },
  {
   "cell_type": "code",
   "execution_count": 182,
   "metadata": {},
   "outputs": [],
   "source": [
    "new_col_230263 = []\n",
    "for i in range(len(df_second['all_text'])):\n",
    "    if df_second['A61H230254'][i] == 1:\n",
    "        check_word_230263 = int((near_operator(df_second['all_text'][i],A61H230263_list1,A61H230263_list2, near=4) or \n",
    "                           and_operator(df_second['all_text'][i],A61H230263) or\n",
    "                           ssto(df_second['all_text'][i], A61H230263_word)))\n",
    "    else:\n",
    "        check_word_230263 = 0\n",
    "    \n",
    "    new_col_230263.append(check_word_230263)\n",
    "    \n",
    "df_second['A61H230263'] = new_col_230263"
   ]
  },
  {
   "cell_type": "markdown",
   "metadata": {},
   "source": [
    "### A61H2023/0272 •••• multiple masses each rotated by an individual motor"
   ]
  },
  {
   "cell_type": "code",
   "execution_count": 183,
   "metadata": {},
   "outputs": [],
   "source": [
    "# AND Operator keywords\n",
    "A61H20230272 = []\n",
    "\n",
    "# NEAR operator keywords (List1 NEAR5 List2)\n",
    "A61H20230272_list1 = ['multiple', 'many', 'different']\n",
    "A61H20230272_list2 = ['mass', 'masses']\n",
    "A61H20230272_list3 = ['rotate', 'rotating', 'rotated', 'drive', 'driven']\n",
    "A61H20230272_list4 = ['individual motor', 'each motor']\n",
    "\n",
    "#SSTO command e.g. search \"eye massage device\" as single word\n",
    "A61H20230272_word = []"
   ]
  },
  {
   "cell_type": "code",
   "execution_count": 184,
   "metadata": {},
   "outputs": [],
   "source": [
    "new_col_20230272 = []\n",
    "for i in range(len(df_second['all_text'])):\n",
    "    if df_second['A61H2302'][i] == 1:\n",
    "        check_word_20230272 = int(((near_operator(df_second['all_text'][i],A61H20230272_list1,A61H20230272_list2, near=3) and\n",
    "                                   near_operator(df_second['all_text'][i],A61H20230272_list2,A61H20230272_list3, near=4) and\n",
    "                                   near_operator(df_second['all_text'][i],A61H20230272_list3,A61H20230272_list4, near=8)) or\n",
    "                                   and_operator(df_second['all_text'][i],A61H20230272) or\n",
    "                                   ssto(df_second['all_text'][i], A61H20230272_word)))\n",
    "    else:\n",
    "        check_word_20230272 = 0\n",
    "    \n",
    "    new_col_20230272.append(check_word_20230272)\n",
    "    \n",
    "df_second['A61H20230272'] = new_col_20230272"
   ]
  },
  {
   "cell_type": "markdown",
   "metadata": {},
   "source": [
    "### A61H2023/0281 •••• multiple masses driven by the same motor"
   ]
  },
  {
   "cell_type": "code",
   "execution_count": 185,
   "metadata": {},
   "outputs": [],
   "source": [
    "# AND Operator keywords\n",
    "A61H20230281 = []\n",
    "\n",
    "# NEAR operator keywords (List1 NEAR5 List2)\n",
    "A61H20230281_list1 = ['multiple', 'many', 'different']\n",
    "A61H20230281_list2 = ['mass', 'masses']\n",
    "A61H20230281_list3 = ['rotate', 'rotating', 'rotated','drive', 'driven']\n",
    "A61H20230281_list4 = ['one motor', 'individual motor', 'single motor']\n",
    "\n",
    "#SSTO command e.g. search \"eye massage device\" as single word\n",
    "A61H20230281_word = []"
   ]
  },
  {
   "cell_type": "code",
   "execution_count": 186,
   "metadata": {},
   "outputs": [],
   "source": [
    "new_col_20230281 = []\n",
    "for i in range(len(df_second['all_text'])):\n",
    "    if df_second['A61H2302'][i] == 1:\n",
    "        check_word_20230281 = int(((near_operator(df_second['all_text'][i],A61H20230281_list1,A61H20230281_list2, near=3) and\n",
    "                                    near_operator(df_second['all_text'][i],A61H20230281_list2,A61H20230281_list3, near=5) and\n",
    "                                   near_operator(df_second['all_text'][i],A61H20230281_list3,A61H20230281_list4, near=5)) or\n",
    "                           and_operator(df_second['all_text'][i],A61H20230281) or\n",
    "                           ssto(df_second['all_text'][i], A61H20230281_word)))\n",
    "    else:\n",
    "        check_word_20230281 = 0\n",
    "    \n",
    "    new_col_20230281.append(check_word_20230281)\n",
    "    \n",
    "df_second['A61H20230281'] = new_col_20230281"
   ]
  },
  {
   "cell_type": "markdown",
   "metadata": {},
   "source": [
    "### A61H2023/029  ••••• with variable angular positioning"
   ]
  },
  {
   "cell_type": "code",
   "execution_count": 187,
   "metadata": {},
   "outputs": [],
   "source": [
    "# AND Operator keywords\n",
    "A61H2023029 = ['variable angular position']\n",
    "\n",
    "# NEAR operator keywords (List1 NEAR5 List2)\n",
    "A61H2023029_list1 = ['variable', 'varying', 'vary']\n",
    "A61H2023029_list2 = ['angular']\n",
    "\n",
    "#SSTO command e.g. search \"eye massage device\" as single word\n",
    "A61H2023029_word = ['variable angular', 'varying angular']"
   ]
  },
  {
   "cell_type": "code",
   "execution_count": 188,
   "metadata": {},
   "outputs": [],
   "source": [
    "new_col_2023029 = []\n",
    "for i in range(len(df_second['all_text'])):\n",
    "    if df_second['A61H20230281'][i] == 1:\n",
    "        check_word_2023029 = int((near_operator(df_second['all_text'][i],A61H2023029_list1,A61H2023029_list2, near=5) or \n",
    "                           and_operator(df_second['all_text'][i],A61H2023029) or\n",
    "                           ssto(df_second['all_text'][i], A61H2023029_word)))\n",
    "    else:\n",
    "        check_word_2023029 = 0\n",
    "    \n",
    "    new_col_2023029.append(check_word_2023029)\n",
    "    \n",
    "df_second['A61H2023029'] = new_col_2023029"
   ]
  },
  {
   "cell_type": "markdown",
   "metadata": {},
   "source": [
    "### A61H23/04     • with hydraulic or pneumatic drive"
   ]
  },
  {
   "cell_type": "code",
   "execution_count": 189,
   "metadata": {},
   "outputs": [],
   "source": [
    "# AND Operator keywords\n",
    "A61H2304 = []\n",
    "\n",
    "# NEAR operator keywords (List1 NEAR5 List2)\n",
    "A61H2304_list1 = ['hydraulic', 'pneumatic','hydrostatic']\n",
    "A61H2304_list2 = ['drive', 'operate', 'control', 'device']\n",
    "A61H2304_list3 = ['vibrat', 'oscillat']\n",
    "\n",
    "#SSTO command e.g. search \"eye massage device\" as single word\n",
    "A61H2304_word = ['hydrostatic pressure', 'high density liquid', 'high density fluid']"
   ]
  },
  {
   "cell_type": "code",
   "execution_count": 190,
   "metadata": {},
   "outputs": [],
   "source": [
    "new_col_2304 = []\n",
    "for i in range(len(df_second['all_text'])):\n",
    "    if df_second['A61H2300'][i] == 1:\n",
    "        check_word_2304 = int((near_operator(df_second['all_text'][i],A61H2304_list1,A61H2304_list2, near=4) and\n",
    "                               near_operator(df_second['all_text'][i],A61H2304_list1,A61H2304_list3, near=10)) or\n",
    "                           and_operator(df_second['all_text'][i],A61H2304) or\n",
    "                            (and_operator(df_second['all_text'][i],A61H2304_list3) and\n",
    "                           ssto(df_second['all_text'][i], A61H2304_word)))\n",
    "    else:\n",
    "        check_word_2304 = 0\n",
    "    \n",
    "    new_col_2304.append(check_word_2304)\n",
    "    \n",
    "df_second['A61H2304'] = new_col_2304"
   ]
  },
  {
   "cell_type": "markdown",
   "metadata": {},
   "source": [
    "### A61H2023/045  •• using hydrostatic pressure,eg. high density fluids"
   ]
  },
  {
   "cell_type": "code",
   "execution_count": 191,
   "metadata": {},
   "outputs": [],
   "source": [
    "# AND Operator keywords\n",
    "A61H23045 = ['hydrostatic pressure', 'high density liquid', 'high density fluid']\n",
    "\n",
    "# NEAR operator keywords (List1 NEAR5 List2)\n",
    "A61H23045_list1 = ['hydrostatic']\n",
    "A61H23045_list2 = ['pressure']\n",
    "\n",
    "#SSTO command e.g. search \"eye massage device\" as single word\n",
    "A61H23045_word = []"
   ]
  },
  {
   "cell_type": "code",
   "execution_count": 192,
   "metadata": {},
   "outputs": [],
   "source": [
    "new_col_23045 = []\n",
    "for i in range(len(df_second['all_text'])):\n",
    "    if df_second['A61H2304'][i] == 1:\n",
    "        check_word_23045 = int((near_operator(df_second['all_text'][i],A61H23045_list1,A61H23045_list2, near=5) or \n",
    "                           and_operator(df_second['all_text'][i],A61H23045) or\n",
    "                           ssto(df_second['all_text'][i], A61H23045_word)))\n",
    "    else:\n",
    "        check_word_23045 = 0\n",
    "    \n",
    "    new_col_23045.append(check_word_23045)\n",
    "    \n",
    "df_second['A61H23045'] = new_col_23045"
   ]
  },
  {
   "cell_type": "markdown",
   "metadata": {},
   "source": [
    "### A61H23/06     • Hand percussion"
   ]
  },
  {
   "cell_type": "code",
   "execution_count": 193,
   "metadata": {},
   "outputs": [],
   "source": [
    "# AND Operator keywords\n",
    "A61H2306 = []\n",
    "\n",
    "# NEAR operator keywords (List1 NEAR5 List2)\n",
    "A61H2306_list1 = ['hand', 'handheld']\n",
    "A61H2306_list2 = ['percussion']\n",
    "\n",
    "#SSTO command e.g. search \"eye massage device\" as single word\n",
    "A61H2306_word = []"
   ]
  },
  {
   "cell_type": "code",
   "execution_count": 194,
   "metadata": {},
   "outputs": [],
   "source": [
    "new_col_2306 = []\n",
    "for i in range(len(df_second['all_text'])):\n",
    "    if df_second['A61H2300'][i] == 1:\n",
    "        check_word_2306 = int((near_operator(df_second['all_text'][i],A61H2306_list1,A61H2306_list2, near=4) or \n",
    "                           and_operator(df_second['all_text'][i],A61H2306) or\n",
    "                           ssto(df_second['all_text'][i], A61H2306_word)))\n",
    "    else:\n",
    "        check_word_2306 = 0\n",
    "    \n",
    "    new_col_2306.append(check_word_2306)\n",
    "    \n",
    "df_second['A61H2306'] = new_col_2306"
   ]
  },
  {
   "cell_type": "markdown",
   "metadata": {},
   "source": [
    "## Final step"
   ]
  },
  {
   "cell_type": "code",
   "execution_count": 197,
   "metadata": {},
   "outputs": [],
   "source": [
    "for i in range(4,len(df_second.columns)):\n",
    "    df_second.iloc[:,i].replace(1,df_second.columns[i], inplace=True)\n",
    "    df_second.iloc[:,i].replace(0,'', inplace=True)"
   ]
  },
  {
   "cell_type": "code",
   "execution_count": 198,
   "metadata": {},
   "outputs": [],
   "source": [
    "cols = ['A61H2300', 'A61H2023002','A61H23004', 'A61H23006', 'A61H23008', 'A61H2302', 'A61H20230209',\n",
    "       'A61H230218', 'A61H20230227', 'A61H230236', 'A61H230245', 'A61H230254','A61H230263', \n",
    "        'A61H20230272', 'A61H20230281', 'A61H2023029', 'A61H2304','A61H23045', 'A61H2306']\n",
    "\n",
    "df_second['prediction'] = ''\n",
    "for i in range(len(df_second)):\n",
    "    for col in cols:\n",
    "        if not df_second.loc[i,col] == '':\n",
    "            df_second.loc[i,'prediction'] = (df_second.loc[i,'prediction'] + ' | '\n",
    "                                                        + df_second.loc[i,col])\n",
    "\n",
    "df_second['prediction'] = df_second['prediction'].str[3:]"
   ]
  },
  {
   "cell_type": "code",
   "execution_count": 199,
   "metadata": {},
   "outputs": [],
   "source": [
    "df_final = df_second.drop(columns=['A61H2300', 'A61H2023002','A61H23004', 'A61H23006', \n",
    "                                   'A61H23008', 'A61H2302', 'A61H20230209','A61H230218', 'A61H20230227',\n",
    "                                   'A61H230236', 'A61H230245', 'A61H230254','A61H230263', 'A61H20230272', \n",
    "                                   'A61H20230281', 'A61H2023029', 'A61H2304','A61H23045', 'A61H2306', 'all_text'], axis=1)"
   ]
  },
  {
   "cell_type": "code",
   "execution_count": 200,
   "metadata": {},
   "outputs": [
    {
     "name": "stdout",
     "output_type": "stream",
     "text": [
      "Module A61H2300 is successfully loaded on 03/Aug/2020 - 00:25 AM\n"
     ]
    }
   ],
   "source": [
    "from datetime import datetime\n",
    "dt_string = datetime.now().strftime(\"%d/%b/%Y - %H:%M %p\")\n",
    "print(\"Module A61H2300 is successfully loaded on\",dt_string)"
   ]
  },
  {
   "cell_type": "code",
   "execution_count": null,
   "metadata": {},
   "outputs": [],
   "source": []
  },
  {
   "cell_type": "code",
   "execution_count": null,
   "metadata": {},
   "outputs": [],
   "source": []
  }
 ],
 "metadata": {
  "kernelspec": {
   "display_name": "Python 3",
   "language": "python",
   "name": "python3"
  },
  "language_info": {
   "codemirror_mode": {
    "name": "ipython",
    "version": 3
   },
   "file_extension": ".py",
   "mimetype": "text/x-python",
   "name": "python",
   "nbconvert_exporter": "python",
   "pygments_lexer": "ipython3",
   "version": "3.8.5"
  }
 },
 "nbformat": 4,
 "nbformat_minor": 2
}
