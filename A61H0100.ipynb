{
 "cells": [
  {
   "cell_type": "markdown",
   "metadata": {},
   "source": [
    "# A61H CPC Classification - A61H0100\n",
    "\n",
    "\n",
    "\n",
    "#### About the Module:\n",
    "<I><span style=\"font-family:Arial\">This module work to identify patents in A61H100 class. Class detail is as follow<br></span>\n",
    "<span style=\"font-family:Arial\">A61H1/00&emsp; &emsp; &emsp; &emsp;•&emsp;Apparatus for passive exercising<br></span>\n",
    "<span style=\"font-family:Arial\">A61H1/001 &emsp; &emsp; &emsp; •&emsp;Apparatus for applying movements to the whole body<br></span>\n",
    "<span style=\"font-family:Arial\">A61H1/003 &emsp; &emsp; &emsp; ••&emsp;Rocking or oscillating around a horizontal axis transversal to the body<br></span>\n",
    "<span style=\"font-family:Arial\">A61H1/005 &emsp; &emsp; &emsp; •&emsp;Moveable platform, e.g. vibrating or oscillating platform for standing, sitting, laying, leaning<br></span>\n",
    "<span style=\"font-family:Arial\">A61H1/006 &emsp; &emsp; &emsp; •&emsp;Apparatus for applying pressure or blows for compressive stressing of a part of the skeletal structure<br></span>\n",
    "<span style=\"font-family:Arial\">A61H1/008 &emsp; &emsp; &emsp; •&emsp;Apparatus for applying pressure or blows almost perpendicular to the body or limb axis<br></span>\n",
    "<span style=\"font-family:Arial\">A61H1/02 &emsp; &emsp;&emsp;&emsp; •&emsp;Stretching or bending apparatus for exercising<br></span>\n",
    "<span style=\"font-family:Arial\">A61H2001/0203&emsp;&emsp;••&emsp;Rotation of a body part around its longitudinal axis<br></span>\n",
    "<span style=\"font-family:Arial\">A61H2001/0207&emsp;&emsp;••&emsp;Nutating movement of a body part around its articulation<br></span>\n",
    "<span style=\"font-family:Arial\">A61H2001/0211&emsp;&emsp;••&emsp;Walking coordination of arms and legs<br></span>\n",
    "<span style=\"font-family:Arial\">A61H1/0214&emsp; &emsp; &emsp;••&emsp;by rotating cycling movement<br></span>\n",
    "<span style=\"font-family:Arial\">A61H1/0218&emsp; &emsp; &emsp;••&emsp;Drawing-out devices<br></span>\n",
    "<span style=\"font-family:Arial\">A61H1/0222&emsp; &emsp; &emsp;•••&emsp;Traction tables<br></span>\n",
    "<span style=\"font-family:Arial\">A61H1/0229&emsp; &emsp; &emsp;•••&emsp;by reducing gravity forces normally applied to the body, e.g. by lifting or hanging the body or part of it<br></span>\n",
    "<span style=\"font-family:Arial\">A61H2001/0233&emsp;&emsp;•••&emsp;Pulsating, alternating, fluctuating<br></span>\n",
    "<span style=\"font-family:Arial\">A61H1/0237&emsp; &emsp; &emsp;••&emsp;for the lower limbs<br></span>\n",
    "<span style=\"font-family:Arial\">A61H1/024 &emsp; &emsp; &emsp; •••&emsp;Knees<br></span>\n",
    "<span style=\"font-family:Arial\">A61H1/0244&emsp; &emsp; &emsp;•••&emsp;Hip<br></span>\n",
    "<span style=\"font-family:Arial\">A61H2001/0248&emsp;&emsp;••••&emsp;by separating the legs laterally<br></span>\n",
    "<span style=\"font-family:Arial\">A61H2001/0251&emsp;&emsp;••••&emsp;by moving the legs together laterally<br></span>\n",
    "<span style=\"font-family:Arial\">A61H1/0255&emsp; &emsp; &emsp;•••&emsp;Both knee and hip of a patient, eg. supine or sitting position, the feet move in a plane parallel to the body symmetrical-plane<br></span>\n",
    "<span style=\"font-family:Arial\">A61H1/0259&emsp; &emsp; &emsp;••••&emsp;moved by translation<br></span>\n",
    "<span style=\"font-family:Arial\">A61H1/0262&emsp; &emsp; &emsp;••••&emsp;Walking movement; Appliances for aiding disabled persons to walk<br></span>\n",
    "<span style=\"font-family:Arial\">A61H1/0266&emsp; &emsp; &emsp;•••&emsp;Foot<br></span>\n",
    "<span style=\"font-family:Arial\">A61H2001/027 &emsp;&emsp;••••&emsp;Toes<br></span>\n",
    "<span style=\"font-family:Arial\">A61H1/0274&emsp; &emsp; &emsp;•••&emsp;For the upper limbs<br></span>\n",
    "<span style=\"font-family:Arial\">A61H1/0277&emsp; &emsp; &emsp;•••&emsp;Elbow<br></span>\n",
    "<span style=\"font-family:Arial\">A61H1/0281&emsp; &emsp; &emsp;•••&emsp;Shoulder<br></span>\n",
    "<span style=\"font-family:Arial\">A61H1/0285&emsp; &emsp; &emsp;•••&emsp;Hands<br></span>\n",
    "<span style=\"font-family:Arial\">A61H1/0288&emsp; &emsp; &emsp;••••&emsp;Fingers<br></span>\n",
    "<span style=\"font-family:Arial\">A61H1/0292&emsp; &emsp; &emsp;••&emsp;For the spinal column<br></span>\n",
    "<span style=\"font-family:Arial\">A61H1/0296&emsp; &emsp; &emsp;•••&emsp;Neck<br></span>\n",
    "\n",
    "<font size=\"3\">\n",
    "\n",
    "#### Input needed: \n",
    "<I><span style=\"font-family:Arial\">This module use libraries, function and processed text data present in initial_processing module</span></I>\n",
    "\n",
    "#### Output expected: \n",
    "<I><span style=\"font-family:Arial\">This module will identify patents in A61H100 class in test data.<br>This output is pass to the module final_file. No output is expected in this module alone.</span></I>\n",
    "\n",
    "#### Related modules: \n",
    "<I><span style=\"font-family:Arial\">This module is calling initial_processing module and is called by final_file module</span></I>\n",
    "\n",
    "#### Who and when: \n",
    "<I><span style=\"font-family:Arial\">Last Modified by : Nishant Chauhan</span><br>\n",
    "<span style=\"font-family:Arial\">Last Modified on : 27-July-2021</span><br>\n",
    "<span style=\"font-family:Arial\">Version no       : 2</span><br>\n",
    "<span style=\"font-family:Arial\">Developed by     : Nishant Chauhan </span><br></font></I>\n"
   ]
  },
  {
   "cell_type": "code",
   "execution_count": 5,
   "metadata": {},
   "outputs": [
    {
     "name": "stdout",
     "output_type": "stream",
     "text": [
      "importing Jupyter notebook from Initial_processing.ipynb\n",
      "Module Initial Processing is successfully loaded on 31/Jul/2021 - 19:00 PM\n"
     ]
    }
   ],
   "source": [
    "import os\n",
    "import sys\n",
    "import import_ipynb\n",
    "from Initial_processing import *"
   ]
  },
  {
   "cell_type": "code",
   "execution_count": 6,
   "metadata": {},
   "outputs": [
    {
     "data": {
      "text/plain": [
       "0    3161\n",
       "1     851\n",
       "Name: A61H0100, dtype: int64"
      ]
     },
     "execution_count": 6,
     "metadata": {},
     "output_type": "execute_result"
    }
   ],
   "source": [
    "df['A61H0100'] = df['CPC'].str.contains('A61H1/|A61H0001|A61H 1/').astype('int')\n",
    "df['A61H0100'].value_counts()"
   ]
  },
  {
   "cell_type": "markdown",
   "metadata": {},
   "source": [
    "## Model training and prediction"
   ]
  },
  {
   "cell_type": "code",
   "execution_count": 7,
   "metadata": {},
   "outputs": [],
   "source": [
    "y_train = df['A61H0100']\n",
    "\n",
    "model_title , score_title = train_model(X_title_dtm, y_train)\n",
    "\n",
    "y_pred_class_title = model_title.predict(X_title_test_dtm)"
   ]
  },
  {
   "cell_type": "code",
   "execution_count": 8,
   "metadata": {},
   "outputs": [],
   "source": [
    "model_abstract , score_abstract = train_model(X_abstract_dtm, y_train)\n",
    "\n",
    "y_pred_class_abstract = model_abstract.predict(X_abstract_test_dtm)"
   ]
  },
  {
   "cell_type": "code",
   "execution_count": 9,
   "metadata": {},
   "outputs": [
    {
     "name": "stdout",
     "output_type": "stream",
     "text": [
      "Training data accuracy score :  0.8817784306357394\n"
     ]
    }
   ],
   "source": [
    "model_tab , score_tab = train_model(X_tab_dtm, y_train)\n",
    "\n",
    "y_pred_class_tab = model_tab.predict(X_tab_test_dtm)\n",
    "\n",
    "print(\"Training data accuracy score : \" ,((score_abstract.mean() + score_title.mean() + score_tab.mean())/3))"
   ]
  },
  {
   "cell_type": "code",
   "execution_count": 10,
   "metadata": {},
   "outputs": [],
   "source": [
    "df_first = pd.DataFrame(df_test[['number','title','abstract']])"
   ]
  },
  {
   "cell_type": "code",
   "execution_count": 11,
   "metadata": {},
   "outputs": [],
   "source": [
    "df_first['all_text'] = X_all\n",
    "df_first['title_prediction'] = y_pred_class_title\n",
    "df_first['abstract_prediction'] = y_pred_class_abstract"
   ]
  },
  {
   "cell_type": "markdown",
   "metadata": {},
   "source": [
    "## Predicting using words"
   ]
  },
  {
   "cell_type": "code",
   "execution_count": 12,
   "metadata": {},
   "outputs": [],
   "source": [
    "# AND Operator keywords\n",
    "\n",
    "A61H0100 = ['soft tissue mobilization','therapeutic pillow','compression garment','osteoporosis','exoskeleton']\n",
    "\n",
    "A61H0100_1 = ['medical','patient','rehab','elder','disabl','impair', 'weak']"
   ]
  },
  {
   "cell_type": "code",
   "execution_count": 13,
   "metadata": {},
   "outputs": [],
   "source": [
    "# NEAR operator keywords (List1 NEAR5 List2)\n",
    "\n",
    "A61H0100_list1 = ['passive', 'automatic', 'automate']\n",
    "A61H0100_list2 = ['exercis','training', 'rehabilit', 'physical therap']\n",
    "\n",
    "A61H0100_list3 = ['rehabilit']\n",
    "A61H0100_list4 = ['training','exercis','exoskeleton','patient','limb','finger',\n",
    "                  'hand','neck','spine','spinal','shoulder','elbow','elder','disabl']\n",
    "\n",
    "A61H0100_list5 = ['assist', 'actuator']\n",
    "A61H0100_list6 = ['knee','thigh','hip','neck','spine','spinal', 'limb','shoulder','elbow', \n",
    "                  'gait', 'motion', 'foot', 'feet','ankle','wrist']\n",
    "\n",
    "A61H0100_list7 = [ 'inversion', 'vibrat', 'traction','chiropractic','oscillat','Orthopaedic']\n",
    "A61H0100_list8 = ['table', 'platform','apparatus', 'device', 'tool']\n",
    "\n",
    "A61H0100_list9 = ['stretch','bending','twisting', 'torsion']\n",
    "A61H0100_list10 = ['exercis', 'machine', 'apparatus']"
   ]
  },
  {
   "cell_type": "code",
   "execution_count": 14,
   "metadata": {},
   "outputs": [],
   "source": [
    "#SSTO command e.g. search \"eye massage device\" as single word\n",
    "\n",
    "A61H0100_word = ['hand assist', 'finger assist', 'knee assist', 'hip assist']"
   ]
  },
  {
   "cell_type": "code",
   "execution_count": 15,
   "metadata": {},
   "outputs": [],
   "source": [
    "new_col = []\n",
    "for i in range(len(df_first['all_text'])):\n",
    "    check_word = (((near_operator(df_first['all_text'][i],A61H0100_list1,A61H0100_list2, near=5) or\n",
    "                  near_operator(df_first['all_text'][i],A61H0100_list3,A61H0100_list4, near=5) or\n",
    "                  near_operator(df_first['all_text'][i],A61H0100_list5,A61H0100_list6, near=5) or\n",
    "                  near_operator(df_first['all_text'][i],A61H0100_list7,A61H0100_list8, near=5) or\n",
    "                  near_operator(df_first['all_text'][i],A61H0100_list9,A61H0100_list10, near=5) or\n",
    "                 and_operator(df_first['all_text'][i],A61H0100) or\n",
    "                 ssto(df_first['all_text'][i], A61H0100_word))) and\n",
    "                  and_operator(df_first['all_text'][i],A61H0100_1))\n",
    "                \n",
    "    new_col.append(check_word)\n",
    "    \n",
    "df_first['word_predict'] = new_col"
   ]
  },
  {
   "cell_type": "code",
   "execution_count": 16,
   "metadata": {},
   "outputs": [],
   "source": [
    "df_first['A61H0100'] = df_first['word_predict'] + df_first['title_prediction'] + df_first['abstract_prediction']\n",
    "\n",
    "for row in range(len(df_first['A61H0100'])):\n",
    "    if df_first.loc[row, 'A61H0100'] > 0:\n",
    "        df_first.loc[row, 'A61H0100'] = 1\n",
    "    else:\n",
    "        df_first.loc[row, 'A61H0100'] = 0"
   ]
  },
  {
   "cell_type": "code",
   "execution_count": 17,
   "metadata": {},
   "outputs": [],
   "source": [
    "df_second = df_first.drop(['title_prediction','abstract_prediction', 'word_predict'],axis=1)"
   ]
  },
  {
   "cell_type": "markdown",
   "metadata": {},
   "source": [
    "## Sub-classification of A61H1/00 (this section need improvement)"
   ]
  },
  {
   "cell_type": "markdown",
   "metadata": {},
   "source": [
    "### A61H1/001       • Apparatus for applying movements to the whole body"
   ]
  },
  {
   "cell_type": "code",
   "execution_count": 18,
   "metadata": {},
   "outputs": [],
   "source": [
    "# AND Operator keywords\n",
    "A61H1001 = []\n",
    "\n",
    "# NEAR operator keywords (List1 NEAR5 List2)\n",
    "A61H1001_list1 = ['movement ', 'oscillati', 'rocking']\n",
    "A61H1001_list2 = ['whole body', 'user body', 'patient body', 'human body']\n",
    "\n",
    "#SSTO command e.g. search \"eye massage device\" as single word\n",
    "A61H1001_word = []"
   ]
  },
  {
   "cell_type": "code",
   "execution_count": 19,
   "metadata": {},
   "outputs": [],
   "source": [
    "new_col_1001 = []\n",
    "for i in range(len(df_second['all_text'])):\n",
    "    if df_second['A61H0100'][i] == 1:\n",
    "        check_word_1001 = int((near_operator(df_second['all_text'][i],A61H1001_list1,A61H1001_list2, near=5) or \n",
    "                           and_operator(df_second['all_text'][i],A61H1001) or\n",
    "                           ssto(df_second['all_text'][i], A61H1001_word)))\n",
    "    else:\n",
    "        check_word_1001 = 0\n",
    "    \n",
    "    new_col_1001.append(check_word_1001)\n",
    "    \n",
    "df_second['A61H1001'] = new_col_1001"
   ]
  },
  {
   "cell_type": "markdown",
   "metadata": {},
   "source": [
    "### A61H1/003       •• Rocking or oscillating around a horizontal axis transversal to the body"
   ]
  },
  {
   "cell_type": "code",
   "execution_count": 20,
   "metadata": {},
   "outputs": [],
   "source": [
    "# AND Operator keywords\n",
    "A61H1003 = ['user body', 'patient body', 'human body']\n",
    "\n",
    "# NEAR operator keywords (List1 NEAR5 List2)\n",
    "A61H1003_list1 = ['oscillati', 'rocking']\n",
    "A61H1003_list2 = ['movement','motion' ]\n",
    "\n",
    "#SSTO command e.g. search \"eye massage device\" as single word\n",
    "A61H1003_word = []"
   ]
  },
  {
   "cell_type": "code",
   "execution_count": 21,
   "metadata": {},
   "outputs": [],
   "source": [
    "new_col_1003 = []\n",
    "for i in range(len(df_second['all_text'])):\n",
    "    if df_second['A61H1001'][i] == 1:\n",
    "        check_word_1003 = int(((near_operator(df_second['all_text'][i],A61H1003_list1,A61H1003_list2, near=5) and \n",
    "                           and_operator(df_second['all_text'][i],A61H1003)) or\n",
    "                           ssto(df_second['all_text'][i], A61H1003_word)))\n",
    "    else:\n",
    "        check_word_1003 = 0\n",
    "    \n",
    "    new_col_1003.append(check_word_1003)\n",
    "    \n",
    "df_second['A61H1003'] = new_col_1003"
   ]
  },
  {
   "cell_type": "markdown",
   "metadata": {},
   "source": [
    "### A61H1/005  • Moveable platform, e.g. vibrating or oscillating platform for standing, sitting, laying, leaning"
   ]
  },
  {
   "cell_type": "code",
   "execution_count": 22,
   "metadata": {},
   "outputs": [],
   "source": [
    "# AND Operator keywords\n",
    "A61H1005 = ['standing', 'sitting','laying', 'leaning']\n",
    "\n",
    "# NEAR operator keywords (List1 NEAR5 List2)\n",
    "A61H1005_list1 = ['moveable', 'vibrat', 'oscillat']\n",
    "A61H1005_list2 = ['platform', 'device', 'apparatus']\n",
    "\n",
    "#SSTO command e.g. search \"eye massage device\" as single word\n",
    "A61H1005_word = []"
   ]
  },
  {
   "cell_type": "code",
   "execution_count": 23,
   "metadata": {},
   "outputs": [],
   "source": [
    "new_col_1005 = []\n",
    "for i in range(len(df_second['all_text'])):\n",
    "    if df_second['A61H0100'][i] == 1:\n",
    "        check_word_1005 = int(((near_operator(df_second['all_text'][i],A61H1005_list1,A61H1005_list2, near=5) and \n",
    "                           and_operator(df_second['all_text'][i],A61H1005)) or\n",
    "                           ssto(df_second['all_text'][i], A61H1005_word)))\n",
    "    else:\n",
    "        check_word_1005 = 0\n",
    "    \n",
    "    new_col_1005.append(check_word_1005)\n",
    "    \n",
    "df_second['A61H1005'] = new_col_1005"
   ]
  },
  {
   "cell_type": "markdown",
   "metadata": {},
   "source": [
    "### A61H1/006   • Apparatus for applying pressure or blows for compressive stressing of a part of the skeletal structure"
   ]
  },
  {
   "cell_type": "code",
   "execution_count": 24,
   "metadata": {},
   "outputs": [],
   "source": [
    "# AND Operator keywords\n",
    "A61H1006 = ['lower limb', 'upper limb', 'arms', 'legs', 'hand', 'back', 'shoulder', 'hip',\n",
    "            'thigh', 'skeletal','body part']\n",
    "\n",
    "# NEAR operator keywords (List1 NEAR5 List2)\n",
    "A61H1006_list1 = ['compress', 'pressure']\n",
    "A61H1006_list2 = ['blow', 'stress']\n",
    "\n",
    "#SSTO command e.g. search \"eye massage device\" as single word\n",
    "A61H1006_word = ['osteoporosis']"
   ]
  },
  {
   "cell_type": "code",
   "execution_count": 25,
   "metadata": {},
   "outputs": [],
   "source": [
    "new_col_1006 = []\n",
    "for i in range(len(df_second['all_text'])):\n",
    "    if df_second['A61H0100'][i] == 1:\n",
    "        check_word_1006 = int(((near_operator(df_second['all_text'][i],A61H1006_list1,A61H1006_list2, near=5) and \n",
    "                           and_operator(df_second['all_text'][i],A61H1006)) or\n",
    "                           ssto(df_second['all_text'][i], A61H1006_word)))\n",
    "    else:\n",
    "        check_word_1006 = 0\n",
    "    \n",
    "    new_col_1006.append(check_word_1006)\n",
    "    \n",
    "df_second['A61H1006'] = new_col_1006"
   ]
  },
  {
   "cell_type": "markdown",
   "metadata": {},
   "source": [
    "### A61H1/008  • Apparatus for applying pressure or blows almost perpendicular to the body or limb axis"
   ]
  },
  {
   "cell_type": "code",
   "execution_count": 26,
   "metadata": {},
   "outputs": [],
   "source": [
    "# AND Operator keywords\n",
    "\n",
    "A61H1008 = ['chiropractic devices', 'reposition vertebrae','chiropractic tool', \n",
    "           'mobilization therapy', 'chiropractic apparatus']\n",
    "\n",
    "A61H1008_1 = ['lower limb', 'upper limb', 'arms', 'legs', 'hand', 'back', 'shoulder', 'hip',\n",
    "            'thigh', 'skeletal','body part']\n",
    "\n",
    "# NEAR operator keywords (List1 NEAR5 List2)\n",
    "A61H1008_list1 = ['pressure', 'compress']\n",
    "A61H1008_list2 = ['blow', 'stress', 'force', 'garment', 'harness']\n",
    "\n",
    "#SSTO command e.g. search \"eye massage device\" as single word\n",
    "A61H1008_word = []"
   ]
  },
  {
   "cell_type": "code",
   "execution_count": 27,
   "metadata": {},
   "outputs": [],
   "source": [
    "new_col_1008 = []\n",
    "for i in range(len(df_second['all_text'])):\n",
    "    if df_second['A61H0100'][i] == 1:\n",
    "        check_word_1008 = int(((near_operator(df_second['all_text'][i],A61H1008_list1,A61H1008_list2, near=5) and \n",
    "                           and_operator(df_second['all_text'][i],A61H1008_1)) or\n",
    "                            and_operator(df_second['all_text'][i],A61H1008) or\n",
    "                           ssto(df_second['all_text'][i], A61H1008_word)))\n",
    "    else:\n",
    "        check_word_1008 = 0\n",
    "    \n",
    "    new_col_1008.append(check_word_1008)\n",
    "    \n",
    "df_second['A61H1008'] = new_col_1008"
   ]
  },
  {
   "cell_type": "markdown",
   "metadata": {},
   "source": [
    "### A61H1/02       • Stretching or bending apparatus for exercising"
   ]
  },
  {
   "cell_type": "code",
   "execution_count": 28,
   "metadata": {},
   "outputs": [],
   "source": [
    "# AND Operator keywords\n",
    "A61H0102 = ['exoskeleton','orthosis','orthoses', 'splint']\n",
    "\n",
    "# NEAR operator keywords (List1 NEAR5 List2)\n",
    "A61H0102_list1 = ['stretch', 'bend', 'torsion', 'twist', 'assist', 'support']\n",
    "A61H0102_list2 = ['exercis', 'body', 'limb', 'legs', 'arms', 'finger', 'waist', \n",
    "                  'ankle', 'feet', 'foot', 'hand', 'glove', 'knee', 'hip', 'thigh',\n",
    "                  'position', 'torso',]\n",
    "\n",
    "#SSTO command e.g. search \"eye massage device\" as single word\n",
    "A61H0102_word = ['traction table','drawing out device']"
   ]
  },
  {
   "cell_type": "code",
   "execution_count": 29,
   "metadata": {},
   "outputs": [],
   "source": [
    "new_col_0102 = []\n",
    "for i in range(len(df_second['all_text'])):\n",
    "    if df_second['A61H0100'][i] == 1:\n",
    "        check_word_0102 = int((near_operator(df_second['all_text'][i],A61H0102_list1,A61H0102_list2, near=5) or \n",
    "                           and_operator(df_second['all_text'][i],A61H0102) or\n",
    "                           ssto(df_second['all_text'][i], A61H0102_word)))\n",
    "    else:\n",
    "        check_word_0102 = 0\n",
    "    \n",
    "    new_col_0102.append(check_word_0102)\n",
    "    \n",
    "df_second['A61H0102'] = new_col_0102"
   ]
  },
  {
   "cell_type": "markdown",
   "metadata": {},
   "source": [
    "### A61H2001/0203  •• Rotation of a body part around its longitudinal axis"
   ]
  },
  {
   "cell_type": "code",
   "execution_count": 30,
   "metadata": {},
   "outputs": [],
   "source": [
    "# AND Operator keywords\n",
    "A61H20010203 = ['arm','leg','limb','body']\n",
    "\n",
    "# NEAR operator keywords (List1 NEAR5 List2)\n",
    "A61H20010203_list1 = ['longitud']\n",
    "A61H20010203_list2 = ['rotat']\n",
    "\n",
    "#SSTO command e.g. search \"eye massage device\" as single word\n",
    "A61H20010203_word = []"
   ]
  },
  {
   "cell_type": "code",
   "execution_count": 31,
   "metadata": {},
   "outputs": [],
   "source": [
    "new_col_20010203 = []\n",
    "for i in range(len(df_second['all_text'])):\n",
    "    if df_second['A61H0102'][i] == 1:\n",
    "        check_word_20010203 = int(((near_operator(df_second['all_text'][i],A61H20010203_list1,A61H20010203_list2, near=5) and \n",
    "                           and_operator(df_second['all_text'][i],A61H20010203)) or\n",
    "                           ssto(df_second['all_text'][i], A61H20010203_word)))\n",
    "    else:\n",
    "        check_word_20010203 = 0\n",
    "    \n",
    "    new_col_20010203.append(check_word_20010203)\n",
    "    \n",
    "df_second['A61H20010203'] = new_col_20010203"
   ]
  },
  {
   "cell_type": "markdown",
   "metadata": {},
   "source": [
    "### A61H2001/0207  •• Nutating movement of a body part around its articulation"
   ]
  },
  {
   "cell_type": "code",
   "execution_count": 32,
   "metadata": {},
   "outputs": [],
   "source": [
    "# AND Operator keywords\n",
    "A61H20010207 = []\n",
    "\n",
    "# NEAR operator keywords (List1 NEAR5 List2)\n",
    "A61H20010207_list1 = ['nutating', 'rocking','sway', 'nodding', 'circular','rotation','flexion','supination'  ]\n",
    "A61H20010207_list2 = ['body part', 'legs', 'arms', 'wrist', 'forearm', 'feet', 'foot','lower limb',\n",
    "                      'upper limb', 'lower extremity','upper extremity']\n",
    "A61H20010207_list3 = [ 'motion', 'movement']\n",
    "\n",
    "#SSTO command e.g. search \"eye massage device\" as single word\n",
    "A61H20010207_word = []"
   ]
  },
  {
   "cell_type": "code",
   "execution_count": 33,
   "metadata": {},
   "outputs": [],
   "source": [
    "new_col_20010207 = []\n",
    "for i in range(len(df_second['all_text'])):\n",
    "    if df_second['A61H0102'][i] == 1:\n",
    "        check_word_20010207 = int(((near_operator(df_second['all_text'][i],A61H20010207_list1,A61H20010207_list3, near=4) and \n",
    "                           near_operator(df_second['all_text'][i],A61H20010207_list1,A61H20010207_list2, near=8)) or\n",
    "                            and_operator(df_second['all_text'][i],A61H20010207) or\n",
    "                           ssto(df_second['all_text'][i], A61H20010207_word)))\n",
    "    else:\n",
    "        check_word_20010207 = 0\n",
    "    \n",
    "    new_col_20010207.append(check_word_20010207)\n",
    "    \n",
    "df_second['A61H20010207'] = new_col_20010207"
   ]
  },
  {
   "cell_type": "markdown",
   "metadata": {},
   "source": [
    "### A61H2001/0211  •• Walking coordination of arms and legs"
   ]
  },
  {
   "cell_type": "code",
   "execution_count": 34,
   "metadata": {},
   "outputs": [],
   "source": [
    "# AND Operator keywords\n",
    "A61H20010211 = ['arms', 'legs']\n",
    "\n",
    "# NEAR operator keywords (List1 NEAR5 List2)\n",
    "A61H20010211_list1 = ['walk']\n",
    "A61H20010211_list2 = ['coordination']\n",
    "\n",
    "#SSTO command e.g. search \"eye massage device\" as single word\n",
    "A61H20010211_word = []"
   ]
  },
  {
   "cell_type": "code",
   "execution_count": 35,
   "metadata": {},
   "outputs": [],
   "source": [
    "new_col_20010211 = []\n",
    "for i in range(len(df_second['all_text'])):\n",
    "    if df_second['A61H0102'][i] == 1:\n",
    "        check_word_20010211 = int(((near_operator(df_second['all_text'][i],A61H20010211_list1,A61H20010211_list2, near=5) and \n",
    "                           and_operator(df_second['all_text'][i],A61H20010211)) or\n",
    "                           ssto(df_second['all_text'][i], A61H20010211_word)))\n",
    "    else:\n",
    "        check_word_20010211 = 0\n",
    "    \n",
    "    new_col_20010211.append(check_word_20010211)\n",
    "    \n",
    "df_second['A61H20010211'] = new_col_20010211"
   ]
  },
  {
   "cell_type": "markdown",
   "metadata": {},
   "source": [
    "### A61H1/0214     •• by rotating cycling movement"
   ]
  },
  {
   "cell_type": "code",
   "execution_count": 36,
   "metadata": {},
   "outputs": [],
   "source": [
    "# AND Operator keywords\n",
    "A61H10214 = ['arms', 'legs', 'lower limb', 'upper limb', 'lower extremity','upper extremity', 'limb','extremity' ]\n",
    "\n",
    "# NEAR operator keywords (List1 NEAR5 List2)\n",
    "A61H10214_list1 = ['cycl']\n",
    "A61H10214_list2 = ['movement', 'motion']\n",
    "\n",
    "#SSTO command e.g. search \"eye massage device\" as single word\n",
    "A61H10214_word = ['rotating cycling movement']"
   ]
  },
  {
   "cell_type": "code",
   "execution_count": 37,
   "metadata": {},
   "outputs": [],
   "source": [
    "new_col_10214 = []\n",
    "for i in range(len(df_second['all_text'])):\n",
    "    if df_second['A61H0102'][i] == 1:\n",
    "        check_word_10214 = int(((near_operator(df_second['all_text'][i],A61H10214_list1,A61H10214_list2, near=5) and \n",
    "                           and_operator(df_second['all_text'][i],A61H10214)) or\n",
    "                           ssto(df_second['all_text'][i], A61H10214_word)))\n",
    "    else:\n",
    "        check_word_10214 = 0\n",
    "    \n",
    "    new_col_10214.append(check_word_10214)\n",
    "    \n",
    "df_second['A61H10214'] = new_col_10214"
   ]
  },
  {
   "cell_type": "markdown",
   "metadata": {},
   "source": [
    "### A61H1/0218     •• Drawing-out devices"
   ]
  },
  {
   "cell_type": "code",
   "execution_count": 38,
   "metadata": {},
   "outputs": [],
   "source": [
    "# AND Operator keywords\n",
    "A61H10218 = ['reduce gravity lift body']\n",
    "\n",
    "# NEAR operator keywords (List1 NEAR5 List2)\n",
    "A61H10218_list1 = ['apparatus', 'table', 'device']\n",
    "A61H10218_list2 = ['drawing', 'traction', 'suspension','Chiroprac', 'osteopath']\n",
    "A61H10218_list3 = ['stand', 'upright', 'Walk','lifting', 'hanging']\n",
    "\n",
    "\n",
    "#SSTO command e.g. search \"eye massage device\" as single word\n",
    "A61H10218_word = ['drawing out device']"
   ]
  },
  {
   "cell_type": "code",
   "execution_count": 39,
   "metadata": {},
   "outputs": [],
   "source": [
    "new_col_10218 = []\n",
    "for i in range(len(df_second['all_text'])):\n",
    "    if df_second['A61H0102'][i] == 1:\n",
    "        check_word_10218 = int(((near_operator(df_second['all_text'][i],A61H10218_list1,A61H10218_list2, near=4) and \n",
    "                                 near_operator(df_second['all_text'][i],A61H10218_list2,A61H10218_list3, near=8)) or\n",
    "                           and_operator(df_second['all_text'][i],A61H10218) or\n",
    "                           ssto(df_second['all_text'][i], A61H10218_word)))\n",
    "    else:\n",
    "        check_word_10218 = 0\n",
    "    \n",
    "    new_col_10218.append(check_word_10218)\n",
    "    \n",
    "df_second['A61H10218'] = new_col_10218"
   ]
  },
  {
   "cell_type": "markdown",
   "metadata": {},
   "source": [
    "### A61H1/0222     ••• Traction tables"
   ]
  },
  {
   "cell_type": "code",
   "execution_count": 40,
   "metadata": {},
   "outputs": [],
   "source": [
    "# AND Operator keywords\n",
    "A61H10222 = []\n",
    "\n",
    "# NEAR operator keywords (List1 NEAR5 List2)\n",
    "A61H10222_list1 = ['table']\n",
    "A61H10222_list2 = ['traction']\n",
    "\n",
    "#SSTO command e.g. search \"eye massage device\" as single word\n",
    "A61H10222_word = []"
   ]
  },
  {
   "cell_type": "code",
   "execution_count": 41,
   "metadata": {},
   "outputs": [],
   "source": [
    "new_col_10222 = []\n",
    "for i in range(len(df_second['all_text'])):\n",
    "    if df_second['A61H10218'][i] == 1:\n",
    "        check_word_10222 = int((near_operator(df_second['all_text'][i],A61H10222_list1,A61H10222_list2, near=5) or \n",
    "                           and_operator(df_second['all_text'][i],A61H10222) or\n",
    "                           ssto(df_second['all_text'][i], A61H10222_word)))\n",
    "    else:\n",
    "        check_word_10222 = 0\n",
    "    \n",
    "    new_col_10222.append(check_word_10222)\n",
    "    \n",
    "df_second['A61H10222'] = new_col_10222"
   ]
  },
  {
   "cell_type": "markdown",
   "metadata": {},
   "source": [
    "### A61H1/0229     ••• by reducing gravity forces normally applied to the body, e.g. by lifting or hanging the body or part of it"
   ]
  },
  {
   "cell_type": "code",
   "execution_count": 42,
   "metadata": {},
   "outputs": [],
   "source": [
    "# AND Operator keywords\n",
    "A61H10229 = []\n",
    "\n",
    "# NEAR operator keywords (List1 NEAR5 List2)\n",
    "A61H10229_list1 = ['reduc']\n",
    "A61H10229_list2 = ['gravity']\n",
    "\n",
    "A61H10229_list3 = ['lift', 'hang']\n",
    "A61H10229_list4 = ['body', 'limb','extremity']\n",
    "\n",
    "#SSTO command e.g. search \"eye massage device\" as single word\n",
    "A61H10229_word = []"
   ]
  },
  {
   "cell_type": "code",
   "execution_count": 43,
   "metadata": {},
   "outputs": [],
   "source": [
    "new_col_10229 = []\n",
    "for i in range(len(df_second['all_text'])):\n",
    "    if df_second['A61H10218'][i] == 1:\n",
    "        check_word_10229 = int(((near_operator(df_second['all_text'][i],A61H10229_list1,A61H10229_list2, near=5) and \n",
    "                                near_operator(df_second['all_text'][i],A61H10229_list3,A61H10229_list4, near=5)) or \n",
    "                           and_operator(df_second['all_text'][i],A61H10229) or\n",
    "                           ssto(df_second['all_text'][i], A61H10229_word)))\n",
    "    else:\n",
    "        check_word_10229 = 0\n",
    "    \n",
    "    new_col_10229.append(check_word_10229)\n",
    "    \n",
    "df_second['A61H10229'] = new_col_10229"
   ]
  },
  {
   "cell_type": "markdown",
   "metadata": {},
   "source": [
    "### A61H2001/0233  ••• Pulsating, alternating, fluctuating"
   ]
  },
  {
   "cell_type": "code",
   "execution_count": 44,
   "metadata": {},
   "outputs": [],
   "source": [
    "# AND Operator keywords\n",
    "A61H20010233 = []\n",
    "\n",
    "# NEAR operator keywords (List1 NEAR5 List2)\n",
    "A61H20010233_list1 = ['Pulsat', 'alternating', 'fluctuat']\n",
    "A61H20010233_list2 = ['body part', 'legs', 'arms', 'wrist', 'forearm', 'feet', 'foot','lower limb',\n",
    "                      'upper limb', 'lower extremity','upper extremity']\n",
    "\n",
    "#SSTO command e.g. search \"eye massage device\" as single word\n",
    "A61H20010233_word = []"
   ]
  },
  {
   "cell_type": "code",
   "execution_count": 45,
   "metadata": {},
   "outputs": [],
   "source": [
    "new_col_20010233 = []\n",
    "for i in range(len(df_second['all_text'])):\n",
    "    if df_second['A61H10218'][i] == 1:\n",
    "        check_word_20010233 = int((near_operator(df_second['all_text'][i],A61H20010233_list1,A61H20010233_list2, near=5) or \n",
    "                           and_operator(df_second['all_text'][i],A61H20010233) or\n",
    "                           ssto(df_second['all_text'][i], A61H20010233_word)))\n",
    "    else:\n",
    "        check_word_20010233 = 0\n",
    "    \n",
    "    new_col_20010233.append(check_word_20010233)\n",
    "    \n",
    "df_second['A61H20010233'] = new_col_20010233"
   ]
  },
  {
   "cell_type": "markdown",
   "metadata": {},
   "source": [
    "\n",
    "## A61H1/0237     •• for the lower limbs"
   ]
  },
  {
   "cell_type": "code",
   "execution_count": 46,
   "metadata": {},
   "outputs": [],
   "source": [
    "# AND Operator keywords\n",
    "A61H10237 = ['legs', 'feet', 'foot', 'ankle', 'knee', 'hip', 'thigh', 'walking movement']\n",
    "\n",
    "# NEAR operator keywords (List1 NEAR5 List2)\n",
    "A61H10237_list1 = ['lower']\n",
    "A61H10237_list2 = ['limb','extremity', 'leg']\n",
    "\n",
    "#SSTO command e.g. search \"eye massage device\" as single word\n",
    "A61H10237_word = []"
   ]
  },
  {
   "cell_type": "code",
   "execution_count": 47,
   "metadata": {},
   "outputs": [],
   "source": [
    "new_col_10237 = []\n",
    "for i in range(len(df_second['all_text'])):\n",
    "    if df_second['A61H0100'][i] == 1:\n",
    "        check_word_10237 = int((near_operator(df_second['all_text'][i],A61H10237_list1,A61H10237_list2, near=5) or \n",
    "                           and_operator(df_second['all_text'][i],A61H10237) or\n",
    "                           ssto(df_second['all_text'][i], A61H10237_word)))\n",
    "    else:\n",
    "        check_word_10237 = 0\n",
    "    \n",
    "    new_col_10237.append(check_word_10237)\n",
    "    \n",
    "df_second['A61H10237'] = new_col_10237"
   ]
  },
  {
   "cell_type": "markdown",
   "metadata": {},
   "source": [
    "### A61H1/024       ••• Knees"
   ]
  },
  {
   "cell_type": "code",
   "execution_count": 48,
   "metadata": {},
   "outputs": [],
   "source": [
    "# AND Operator keywords\n",
    "A61H1024 = []\n",
    "\n",
    "# NEAR operator keywords (List1 NEAR5 List2)\n",
    "A61H1024_list1 = ['knee', 'patella']\n",
    "A61H1024_list2 = ['assist','support', 'aid','automat']\n",
    "A61H1024_list3 = ['motor','actuat', 'exoskeleton', 'robot', 'electric']\n",
    "\n",
    "#SSTO command e.g. search \"eye massage device\" as single word\n",
    "A61H1024_word = []"
   ]
  },
  {
   "cell_type": "code",
   "execution_count": 49,
   "metadata": {},
   "outputs": [],
   "source": [
    "new_col_1024 = []\n",
    "for i in range(len(df_second['all_text'])):\n",
    "    if df_second['A61H10237'][i] == 1:\n",
    "        check_word_1024 = int(((near_operator(df_second['all_text'][i],A61H1024_list1,A61H1024_list2, near=5) and \n",
    "                               near_operator(df_second['all_text'][i],A61H1024_list1,A61H1024_list3, near=10)) or\n",
    "                           and_operator(df_second['all_text'][i],A61H1024) or\n",
    "                           ssto(df_second['all_text'][i], A61H1024_word)))\n",
    "    else:\n",
    "        check_word_1024 = 0\n",
    "    \n",
    "    new_col_1024.append(check_word_1024)\n",
    "    \n",
    "df_second['A61H1024'] = new_col_1024"
   ]
  },
  {
   "cell_type": "markdown",
   "metadata": {},
   "source": [
    "### A61H1/0244     ••• Hip"
   ]
  },
  {
   "cell_type": "code",
   "execution_count": 50,
   "metadata": {},
   "outputs": [],
   "source": [
    "# AND Operator keywords\n",
    "A61H10244 = []\n",
    "\n",
    "# NEAR operator keywords (List1 NEAR5 List2)\n",
    "A61H10244_list1 = ['hip', 'thigh']\n",
    "A61H10244_list2 = ['assist','support', 'aid','automat']\n",
    "A61H10244_list3 = ['motor','actuat', 'exoskeleton', 'robot', 'electric']\n",
    "\n",
    "#SSTO command e.g. search \"eye massage device\" as single word\n",
    "A61H10244_word = []"
   ]
  },
  {
   "cell_type": "code",
   "execution_count": 51,
   "metadata": {},
   "outputs": [],
   "source": [
    "new_col_10244 = []\n",
    "for i in range(len(df_second['all_text'])):\n",
    "    if df_second['A61H10237'][i] == 1:\n",
    "        check_word_10244 = int((near_operator(df_second['all_text'][i],A61H10244_list1,A61H10244_list2, near=5) or \n",
    "                           and_operator(df_second['all_text'][i],A61H10244) or\n",
    "                           ssto(df_second['all_text'][i], A61H10244_word)))\n",
    "    else:\n",
    "        check_word_10244 = 0\n",
    "    \n",
    "    new_col_10244.append(check_word_10244)\n",
    "    \n",
    "df_second['A61H10244'] = new_col_10244"
   ]
  },
  {
   "cell_type": "markdown",
   "metadata": {},
   "source": [
    "### A61H2001/0248  •••• by separating the legs laterally"
   ]
  },
  {
   "cell_type": "code",
   "execution_count": 52,
   "metadata": {},
   "outputs": [],
   "source": [
    "# AND Operator keywords\n",
    "A61H20010248 = []\n",
    "\n",
    "# NEAR operator keywords (List1 NEAR5 List2)\n",
    "A61H20010248_list1 = ['separating', 'separate']\n",
    "A61H20010248_list2 = ['leg', 'lower limb']\n",
    "A61H20010248_list3 = ['laterally']\n",
    "\n",
    "#SSTO command e.g. search \"eye massage device\" as single word\n",
    "A61H20010248_word = []\n"
   ]
  },
  {
   "cell_type": "code",
   "execution_count": 53,
   "metadata": {},
   "outputs": [],
   "source": [
    "new_col_20010248 = []\n",
    "for i in range(len(df_second['all_text'])):\n",
    "    if df_second['A61H10244'][i] == 1:\n",
    "        check_word_20010248 = int(((near_operator(df_second['all_text'][i],A61H20010248_list1,A61H20010248_list2, near=5) and\n",
    "                                near_operator(df_second['all_text'][i],A61H20010248_list1,A61H20010248_list3, near=7)) or\n",
    "                           and_operator(df_second['all_text'][i],A61H20010248) or\n",
    "                           ssto(df_second['all_text'][i], A61H20010248_word)))\n",
    "    else:\n",
    "        check_word_20010248 = 0\n",
    "    \n",
    "    new_col_20010248.append(check_word_20010248)\n",
    "    \n",
    "df_second['A61H20010248'] = new_col_20010248"
   ]
  },
  {
   "cell_type": "markdown",
   "metadata": {},
   "source": [
    "### A61H2001/0251  •••• by moving the legs together laterally"
   ]
  },
  {
   "cell_type": "code",
   "execution_count": 54,
   "metadata": {},
   "outputs": [],
   "source": [
    "# AND Operator keywords\n",
    "A61H20010251 = []\n",
    "\n",
    "# NEAR operator keywords (List1 NEAR5 List2)\n",
    "A61H20010251_list1 = ['moving', 'move']\n",
    "A61H20010251_list2 = ['legs', 'lower limb']\n",
    "A61H20010251_list3 = ['together']\n",
    "\n",
    "#SSTO command e.g. search \"eye massage device\" as single word\n",
    "A61H20010251_word = []"
   ]
  },
  {
   "cell_type": "code",
   "execution_count": 55,
   "metadata": {},
   "outputs": [],
   "source": [
    "new_col_20010251 = []\n",
    "for i in range(len(df_second['all_text'])):\n",
    "    if df_second['A61H10244'][i] == 1:\n",
    "        check_word_20010251 = int(((near_operator(df_second['all_text'][i],A61H20010251_list1,A61H20010251_list2, near=5) and\n",
    "                                near_operator(df_second['all_text'][i],A61H20010251_list1,A61H20010251_list3, near=5)) or\n",
    "                           and_operator(df_second['all_text'][i],A61H20010251) or\n",
    "                           ssto(df_second['all_text'][i], A61H20010251_word)))\n",
    "    else:\n",
    "        check_word_20010251 = 0\n",
    "    \n",
    "    new_col_20010251.append(check_word_20010251)\n",
    "    \n",
    "df_second['A61H20010251'] = new_col_20010251"
   ]
  },
  {
   "cell_type": "markdown",
   "metadata": {},
   "source": [
    "### A61H1/0255  ••• Both knee and hip of a patient, eg. supine or sitting position, the feet move in a plane parallel to the body symmetrical-plane"
   ]
  },
  {
   "cell_type": "code",
   "execution_count": 56,
   "metadata": {},
   "outputs": [],
   "source": [
    "# AND Operator keywords\n",
    "A61H10255 = ['feet move plane parallel body symmetrical plane']\n",
    "\n",
    "# NEAR operator keywords (List1 NEAR5 List2)\n",
    "A61H10255_list1 = ['knee', 'hip','thigh']\n",
    "A61H10255_list2 = ['supine','sitting', 'walk']\n",
    "A61H10255_list3 = ['position','posture', 'movement', 'cycl']\n",
    "\n",
    "#SSTO command e.g. search \"eye massage device\" as single word\n",
    "A61H10255_word = []"
   ]
  },
  {
   "cell_type": "code",
   "execution_count": 57,
   "metadata": {},
   "outputs": [],
   "source": [
    "new_col_10255 = []\n",
    "for i in range(len(df_second['all_text'])):\n",
    "    if df_second['A61H10237'][i] == 1:\n",
    "        check_word_10255 = int(((near_operator(df_second['all_text'][i],A61H10255_list1,A61H10255_list2, near=5) and \n",
    "                                 near_operator(df_second['all_text'][i],A61H10255_list2,A61H10255_list2, near=5)) or\n",
    "                           and_operator(df_second['all_text'][i],A61H10255) or\n",
    "                           ssto(df_second['all_text'][i], A61H10255_word)))\n",
    "    else:\n",
    "        check_word_10255 = 0\n",
    "    \n",
    "    new_col_10255.append(check_word_10255)\n",
    "    \n",
    "df_second['A61H10255'] = new_col_10255"
   ]
  },
  {
   "cell_type": "markdown",
   "metadata": {},
   "source": [
    "### A61H1/0259     •••• moved by translation"
   ]
  },
  {
   "cell_type": "code",
   "execution_count": 58,
   "metadata": {},
   "outputs": [],
   "source": [
    "# AND Operator keywords\n",
    "A61H10259 = ['supine']\n",
    "\n",
    "# NEAR operator keywords (List1 NEAR5 List2)\n",
    "A61H10259_list1 = ['move']\n",
    "A61H10259_list2 = ['translation']\n",
    "\n",
    "#SSTO command e.g. search \"eye massage device\" as single word\n",
    "A61H10259_word = []"
   ]
  },
  {
   "cell_type": "code",
   "execution_count": 59,
   "metadata": {},
   "outputs": [],
   "source": [
    "new_col_10259 = []\n",
    "for i in range(len(df_second['all_text'])):\n",
    "    if df_second['A61H10255'][i] == 1:\n",
    "        check_word_10259 = int(((near_operator(df_second['all_text'][i],A61H10259_list1,A61H10259_list2, near=5) and \n",
    "                           and_operator(df_second['all_text'][i],A61H10259)) or\n",
    "                           ssto(df_second['all_text'][i], A61H10259_word)))\n",
    "    else:\n",
    "        check_word_10259 = 0\n",
    "    \n",
    "    new_col_10259.append(check_word_10259)\n",
    "    \n",
    "df_second['A61H10259'] = new_col_10259"
   ]
  },
  {
   "cell_type": "markdown",
   "metadata": {},
   "source": [
    "### A61H1/0262     •••• Walking movement; Appliances for aiding disabled persons to walk"
   ]
  },
  {
   "cell_type": "code",
   "execution_count": 60,
   "metadata": {},
   "outputs": [],
   "source": [
    "# AND Operator keywords\n",
    "A61H10262 = []\n",
    "\n",
    "# NEAR operator keywords (List1 NEAR5 List2)\n",
    "A61H10262_list1 = ['walk', 'gait']\n",
    "A61H10262_list2 = ['movement', 'training', 'exercis','automat','assist']\n",
    "\n",
    "#SSTO command e.g. search \"eye massage device\" as single word\n",
    "A61H10262_word = []"
   ]
  },
  {
   "cell_type": "code",
   "execution_count": 61,
   "metadata": {},
   "outputs": [],
   "source": [
    "new_col_10262 = []\n",
    "for i in range(len(df_second['all_text'])):\n",
    "    if df_second['A61H10237'][i] == 1:\n",
    "        check_word_10262 = int((near_operator(df_second['all_text'][i],A61H10262_list1,A61H10262_list2, near=5) or \n",
    "                           and_operator(df_second['all_text'][i],A61H10262) or\n",
    "                           ssto(df_second['all_text'][i], A61H10262_word)))\n",
    "    else:\n",
    "        check_word_10262 = 0\n",
    "    \n",
    "    new_col_10262.append(check_word_10262)\n",
    "    \n",
    "df_second['A61H10262'] = new_col_10262"
   ]
  },
  {
   "cell_type": "markdown",
   "metadata": {},
   "source": [
    "### A61H1/0266     ••• Foot"
   ]
  },
  {
   "cell_type": "code",
   "execution_count": 62,
   "metadata": {},
   "outputs": [],
   "source": [
    "# AND Operator keywords\n",
    "A61H10266 = []\n",
    "\n",
    "# NEAR operator keywords (List1 NEAR5 List2)\n",
    "A61H10266_list1 = ['foot', 'feet', 'ankle']\n",
    "A61H10266_list2 = ['motor', 'actuat', 'exercis', 'rehab','automat', 'assist']\n",
    "\n",
    "#SSTO command e.g. search \"eye massage device\" as single word\n",
    "A61H10266_word = []"
   ]
  },
  {
   "cell_type": "code",
   "execution_count": 63,
   "metadata": {},
   "outputs": [],
   "source": [
    "new_col_10266 = []\n",
    "for i in range(len(df_second['all_text'])):\n",
    "    if df_second['A61H10237'][i] == 1:\n",
    "        check_word_10266 = int((near_operator(df_second['all_text'][i],A61H10266_list1,A61H10266_list2, near=5) or \n",
    "                           and_operator(df_second['all_text'][i],A61H10266) or\n",
    "                           ssto(df_second['all_text'][i], A61H10266_word)))\n",
    "    else:\n",
    "        check_word_10266 = 0\n",
    "    \n",
    "    new_col_10266.append(check_word_10266)\n",
    "    \n",
    "df_second['A61H10266'] = new_col_10266"
   ]
  },
  {
   "cell_type": "markdown",
   "metadata": {},
   "source": [
    "### A61H2001/027   •••• Toes"
   ]
  },
  {
   "cell_type": "code",
   "execution_count": 64,
   "metadata": {},
   "outputs": [],
   "source": [
    "# AND Operator keywords\n",
    "A61H2001027 = []\n",
    "\n",
    "# NEAR operator keywords (List1 NEAR5 List2)\n",
    "A61H2001027_list1 = ['toes']\n",
    "A61H2001027_list2 = ['motor', 'actuat', 'exercis', 'rehab','automat', 'assist']\n",
    "\n",
    "#SSTO command e.g. search \"eye massage device\" as single word\n",
    "A61H2001027_word = []"
   ]
  },
  {
   "cell_type": "code",
   "execution_count": 65,
   "metadata": {},
   "outputs": [],
   "source": [
    "new_col_2001027 = []\n",
    "for i in range(len(df_second['all_text'])):\n",
    "    if df_second['A61H10237'][i] == 1:\n",
    "        check_word_2001027 = int((near_operator(df_second['all_text'][i],A61H2001027_list1,A61H2001027_list2, near=5) or \n",
    "                           and_operator(df_second['all_text'][i],A61H2001027) or\n",
    "                           ssto(df_second['all_text'][i], A61H2001027_word)))\n",
    "    else:\n",
    "        check_word_2001027 = 0\n",
    "    \n",
    "    new_col_2001027.append(check_word_2001027)\n",
    "    \n",
    "df_second['A61H2001027'] = new_col_2001027"
   ]
  },
  {
   "cell_type": "markdown",
   "metadata": {},
   "source": [
    "### A61H1/0274     ••• For the upper limbs"
   ]
  },
  {
   "cell_type": "code",
   "execution_count": 66,
   "metadata": {},
   "outputs": [],
   "source": [
    "# AND Operator keywords\n",
    "A61H10274 = ['upper limb rehab','upper extremity rehab','upper limb assist','upper limb actuator',\n",
    "            'upper extremity actuator', 'upper extremity assist']\n",
    "\n",
    "# NEAR operator keywords (List1 NEAR5 List2)\n",
    "A61H10274_list1 = ['elbow', 'shoulder', 'forearm','finger','glove','wrist']\n",
    "A61H10274_list2 = ['rehab', 'assist', 'motor', 'actuat','exercis', 'stretch', 'bending','automat']\n",
    "\n",
    "#SSTO command e.g. search \"eye massage device\" as single word\n",
    "A61H10274_word = []"
   ]
  },
  {
   "cell_type": "code",
   "execution_count": 67,
   "metadata": {},
   "outputs": [],
   "source": [
    "new_col_10274 = []\n",
    "for i in range(len(df_second['all_text'])):\n",
    "    if df_second['A61H0100'][i] == 1:\n",
    "        check_word_10274 = int((near_operator(df_second['all_text'][i],A61H10274_list1,A61H10274_list2, near=5) or \n",
    "                           and_operator(df_second['all_text'][i],A61H10274) or\n",
    "                           ssto(df_second['all_text'][i], A61H10274_word)))\n",
    "    else:\n",
    "        check_word_10274 = 0\n",
    "    \n",
    "    new_col_10274.append(check_word_10274)\n",
    "    \n",
    "df_second['A61H10274'] = new_col_10274"
   ]
  },
  {
   "cell_type": "markdown",
   "metadata": {},
   "source": [
    "### A61H1/0277     ••• Elbow"
   ]
  },
  {
   "cell_type": "code",
   "execution_count": 68,
   "metadata": {},
   "outputs": [],
   "source": [
    "# AND Operator keywords\n",
    "A61H10277 = []\n",
    "\n",
    "# NEAR operator keywords (List1 NEAR5 List2)\n",
    "A61H10277_list1 = ['elbow']\n",
    "A61H10277_list2 = ['motor', 'actuat', 'exercis', 'rehab','automat','assist']\n",
    "\n",
    "#SSTO command e.g. search \"eye massage device\" as single word\n",
    "A61H10277_word = []"
   ]
  },
  {
   "cell_type": "code",
   "execution_count": 69,
   "metadata": {},
   "outputs": [],
   "source": [
    "new_col_10277 = []\n",
    "for i in range(len(df_second['all_text'])):\n",
    "    if df_second['A61H10274'][i] == 1:\n",
    "        check_word_10277 = int((near_operator(df_second['all_text'][i],A61H10277_list1,A61H10277_list2, near=5) or \n",
    "                           and_operator(df_second['all_text'][i],A61H10277) or\n",
    "                           ssto(df_second['all_text'][i], A61H10277_word)))\n",
    "    else:\n",
    "        check_word_10277 = 0\n",
    "    \n",
    "    new_col_10277.append(check_word_10277)\n",
    "    \n",
    "df_second['A61H10277'] = new_col_10277"
   ]
  },
  {
   "cell_type": "markdown",
   "metadata": {},
   "source": [
    "### A61H1/0281     ••• Shoulder"
   ]
  },
  {
   "cell_type": "code",
   "execution_count": 70,
   "metadata": {},
   "outputs": [],
   "source": [
    "# AND Operator keywords\n",
    "A61H10281 = []\n",
    "\n",
    "# NEAR operator keywords (List1 NEAR5 List2)\n",
    "A61H10281_list1 = ['shoulder']\n",
    "A61H10281_list2 = ['motor', 'actuat', 'exercis', 'rehab','automat', 'assist']\n",
    "\n",
    "#SSTO command e.g. search \"eye massage device\" as single word\n",
    "A61H10281_word = []"
   ]
  },
  {
   "cell_type": "code",
   "execution_count": 71,
   "metadata": {},
   "outputs": [],
   "source": [
    "new_col_10281 = []\n",
    "for i in range(len(df_second['all_text'])):\n",
    "    if df_second['A61H10274'][i] == 1:\n",
    "        check_word_10281 = int((near_operator(df_second['all_text'][i],A61H10281_list1,A61H10281_list2, near=5) or \n",
    "                           and_operator(df_second['all_text'][i],A61H10281) or\n",
    "                           ssto(df_second['all_text'][i], A61H10281_word)))\n",
    "    else:\n",
    "        check_word_10281 = 0\n",
    "    \n",
    "    new_col_10281.append(check_word_10281)\n",
    "    \n",
    "df_second['A61H10281'] = new_col_10281"
   ]
  },
  {
   "cell_type": "markdown",
   "metadata": {},
   "source": [
    "### A61H1/0285     ••• Hands"
   ]
  },
  {
   "cell_type": "code",
   "execution_count": 72,
   "metadata": {},
   "outputs": [],
   "source": [
    "# AND Operator keywords\n",
    "A61H10285 = []\n",
    "\n",
    "# NEAR operator keywords (List1 NEAR5 List2)\n",
    "A61H10285_list1 = ['hands', 'arms', 'forearm','wrist']\n",
    "A61H10285_list2 = ['motor', 'actuat', 'exercis', 'rehab','automat', 'assist']\n",
    "\n",
    "#SSTO command e.g. search \"eye massage device\" as single word\n",
    "A61H10285_word = []"
   ]
  },
  {
   "cell_type": "code",
   "execution_count": 73,
   "metadata": {},
   "outputs": [],
   "source": [
    "new_col_10285 = []\n",
    "for i in range(len(df_second['all_text'])):\n",
    "    if df_second['A61H10274'][i] == 1:\n",
    "        check_word_10285 = int((near_operator(df_second['all_text'][i],A61H10285_list1,A61H10285_list2, near=5) or \n",
    "                           and_operator(df_second['all_text'][i],A61H10285) or\n",
    "                           ssto(df_second['all_text'][i], A61H10285_word)))\n",
    "    else:\n",
    "        check_word_10285 = 0\n",
    "    \n",
    "    new_col_10285.append(check_word_10285)\n",
    "    \n",
    "df_second['A61H10285'] = new_col_10285"
   ]
  },
  {
   "cell_type": "markdown",
   "metadata": {},
   "source": [
    "### A61H1/0288     •••• Fingers"
   ]
  },
  {
   "cell_type": "code",
   "execution_count": 74,
   "metadata": {},
   "outputs": [],
   "source": [
    "# AND Operator keywords\n",
    "A61H10288 = []\n",
    "\n",
    "# NEAR operator keywords (List1 NEAR5 List2)\n",
    "A61H10288_list1 = ['finger', 'glove']\n",
    "A61H10288_list2 = ['motor', 'actuat', 'exercis', 'rehab','automat', 'assist']\n",
    "\n",
    "#SSTO command e.g. search \"eye massage device\" as single word\n",
    "A61H10288_word = []"
   ]
  },
  {
   "cell_type": "code",
   "execution_count": 75,
   "metadata": {},
   "outputs": [],
   "source": [
    "new_col_10288 = []\n",
    "for i in range(len(df_second['all_text'])):\n",
    "    if df_second['A61H10274'][i] == 1:\n",
    "        check_word_10288 = int((near_operator(df_second['all_text'][i],A61H10288_list1,A61H10288_list2, near=5) or \n",
    "                           and_operator(df_second['all_text'][i],A61H10288) or\n",
    "                           ssto(df_second['all_text'][i], A61H10288_word)))\n",
    "    else:\n",
    "        check_word_10288 = 0\n",
    "    \n",
    "    new_col_10288.append(check_word_10288)\n",
    "    \n",
    "df_second['A61H10288'] = new_col_10288"
   ]
  },
  {
   "cell_type": "markdown",
   "metadata": {},
   "source": [
    "### A61H1/0292     •• For the spinal column"
   ]
  },
  {
   "cell_type": "code",
   "execution_count": 76,
   "metadata": {},
   "outputs": [],
   "source": [
    "# AND Operator keywords\n",
    "A61H10292 = []\n",
    "\n",
    "# NEAR operator keywords (List1 NEAR5 List2)\n",
    "A61H10292_list1 = ['spine','spinal','pelvic']\n",
    "A61H10292_list2 = ['motor', 'actuat', 'exercis', 'rehab','automat','assist']\n",
    "\n",
    "#SSTO command e.g. search \"eye massage device\" as single word\n",
    "A61H10292_word = []\n"
   ]
  },
  {
   "cell_type": "code",
   "execution_count": 77,
   "metadata": {},
   "outputs": [],
   "source": [
    "new_col_10292 = []\n",
    "for i in range(len(df_second['all_text'])):\n",
    "    if df_second['A61H0102'][i] == 1:\n",
    "        check_word_10292 = int((near_operator(df_second['all_text'][i],A61H10292_list1,A61H10292_list2, near=5) or \n",
    "                           and_operator(df_second['all_text'][i],A61H10292) or\n",
    "                           ssto(df_second['all_text'][i], A61H10292_word)))\n",
    "    else:\n",
    "        check_word_10292 = 0\n",
    "    \n",
    "    new_col_10292.append(check_word_10292)\n",
    "    \n",
    "df_second['A61H10292'] = new_col_10292"
   ]
  },
  {
   "cell_type": "markdown",
   "metadata": {},
   "source": [
    "### A61H1/0296     ••• Neck"
   ]
  },
  {
   "cell_type": "code",
   "execution_count": 78,
   "metadata": {},
   "outputs": [],
   "source": [
    "# AND Operator keywords\n",
    "A61H10296 = []\n",
    "\n",
    "# NEAR operator keywords (List1 NEAR5 List2)\n",
    "A61H10296_list1 = ['neck']\n",
    "A61H10296_list2 = ['motor', 'actuat', 'exercis', 'rehab','automat','assist']\n",
    "\n",
    "#SSTO command e.g. search \"eye massage device\" as single word\n",
    "A61H10296_word = []"
   ]
  },
  {
   "cell_type": "code",
   "execution_count": 79,
   "metadata": {},
   "outputs": [],
   "source": [
    "new_col_10296 = []\n",
    "for i in range(len(df_second['all_text'])):\n",
    "    if df_second['A61H0102'][i] == 1:\n",
    "        check_word_10296 = int((near_operator(df_second['all_text'][i],A61H10296_list1,A61H10296_list2, near=5) or \n",
    "                           and_operator(df_second['all_text'][i],A61H10296) or\n",
    "                           ssto(df_second['all_text'][i], A61H10296_word)))\n",
    "    else:\n",
    "        check_word_10296 = 0\n",
    "    \n",
    "    new_col_10296.append(check_word_10296)\n",
    "    \n",
    "df_second['A61H10296'] = new_col_10296"
   ]
  },
  {
   "cell_type": "markdown",
   "metadata": {},
   "source": [
    "## Final step"
   ]
  },
  {
   "cell_type": "code",
   "execution_count": 80,
   "metadata": {},
   "outputs": [],
   "source": [
    "for i in range(4,len(df_second.columns)):\n",
    "    df_second.iloc[:,i].replace(1,df_second.columns[i], inplace=True)\n",
    "    df_second.iloc[:,i].replace(0,'', inplace=True)"
   ]
  },
  {
   "cell_type": "code",
   "execution_count": 81,
   "metadata": {},
   "outputs": [],
   "source": [
    "cols = ['A61H0100', 'A61H1001','A61H1003', 'A61H1005', 'A61H1006', 'A61H1008', 'A61H0102',\n",
    "       'A61H20010203', 'A61H20010207', 'A61H20010211', 'A61H10214','A61H10218', 'A61H10222', \n",
    "        'A61H10229', 'A61H20010233', 'A61H10237','A61H1024', 'A61H10244', 'A61H20010248',\n",
    "        'A61H20010251', 'A61H10255','A61H10259', 'A61H10262', 'A61H10266', 'A61H2001027', 'A61H10274',\n",
    "       'A61H10277', 'A61H10281', 'A61H10285', 'A61H10288', 'A61H10292','A61H10296']\n",
    "\n",
    "df_second['prediction'] = ''\n",
    "for i in range(len(df_second)):\n",
    "    for col in cols:\n",
    "        if not df_second.loc[i,col] == '':\n",
    "            df_second.loc[i,'prediction'] = (df_second.loc[i,'prediction'] + ' | '\n",
    "                                                        + df_second.loc[i,col])\n",
    "\n",
    "df_second['prediction'] = df_second['prediction'].str[3:]"
   ]
  },
  {
   "cell_type": "code",
   "execution_count": 82,
   "metadata": {},
   "outputs": [],
   "source": [
    "df_final = df_second.drop(columns=['A61H0100', 'A61H1001','A61H1003', 'A61H1005', 'A61H1006', 'A61H1008', 'A61H0102',\n",
    "       'A61H20010203', 'A61H20010207', 'A61H20010211', 'A61H10214','A61H10218', 'A61H10222', \n",
    "        'A61H10229', 'A61H20010233', 'A61H10237','A61H1024', 'A61H10244', 'A61H20010248',\n",
    "        'A61H20010251', 'A61H10255','A61H10259', 'A61H10262', 'A61H10266', 'A61H2001027', 'A61H10274',\n",
    "       'A61H10277', 'A61H10281', 'A61H10285', 'A61H10288', 'A61H10292','A61H10296', 'all_text'], axis=1)\n"
   ]
  },
  {
   "cell_type": "code",
   "execution_count": 83,
   "metadata": {},
   "outputs": [
    {
     "name": "stdout",
     "output_type": "stream",
     "text": [
      "Module A61H0100 is successfully loaded on 31/Jul/2021 - 19:04 PM\n"
     ]
    }
   ],
   "source": [
    "from datetime import datetime\n",
    "dt_string = datetime.now().strftime(\"%d/%b/%Y - %H:%M %p\")\n",
    "print(\"Module A61H0100 is successfully loaded on\",dt_string)"
   ]
  },
  {
   "cell_type": "code",
   "execution_count": null,
   "metadata": {},
   "outputs": [],
   "source": []
  }
 ],
 "metadata": {
  "kernelspec": {
   "display_name": "Python 3",
   "language": "python",
   "name": "python3"
  },
  "language_info": {
   "codemirror_mode": {
    "name": "ipython",
    "version": 3
   },
   "file_extension": ".py",
   "mimetype": "text/x-python",
   "name": "python",
   "nbconvert_exporter": "python",
   "pygments_lexer": "ipython3",
   "version": "3.6.12"
  }
 },
 "nbformat": 4,
 "nbformat_minor": 2
}
