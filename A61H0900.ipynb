{
 "cells": [
  {
   "cell_type": "markdown",
   "metadata": {},
   "source": [
    "# A61H CPC Classification - A61H0900\n",
    "\n",
    "<font size=\"3\">\n",
    "\n",
    "#### About the Module:       \n",
    "\n",
    "<I><span style=\"font-family:Arial\">This module work to identify patents in A61H900 class. Class detail is as follow<br></span>\n",
    "<span style=\"font-family:Arial\">A61H9/00&emsp; &emsp; &emsp; &emsp;•&emsp;Pneumatic or hydraulic massage<br></span>\n",
    "<span style=\"font-family:Arial\">A61H9/0007&emsp; &emsp; &emsp;•&emsp;Pulsating<br></span>\n",
    "<span style=\"font-family:Arial\">A61H2009/0014&emsp;&emsp;•&emsp;with particles, e.g. sand<br></span>\n",
    "<span style=\"font-family:Arial\">A61H9/0021&emsp; &emsp;&emsp; •&emsp;Hydraulic massage<br></span>\n",
    "<span style=\"font-family:Arial\">A61H9/0028&emsp; &emsp;&emsp; ••&emsp;Hand-held devices for spraying and removing liquid while moved on the skin<br></span>\n",
    "<span style=\"font-family:Arial\">A61H2009/0035&emsp;&emsp;••&emsp;with cabin for the whole body<br></span>\n",
    "<span style=\"font-family:Arial\">A61H2009/0042&emsp;&emsp;••&emsp;with water recirculation<br></span>\n",
    "<span style=\"font-family:Arial\">A61H9/005 &emsp; &emsp; &emsp; •&emsp;Pneumatic massage<br></span>\n",
    "<span style=\"font-family:Arial\">A61H9/0057&emsp; &emsp; &emsp;••&emsp;Suction<br></span>\n",
    "<span style=\"font-family:Arial\">A61H2009/0064&emsp;&emsp;••&emsp;suction by releasing a flexible cup after deformation, i.e. without further vacuum source<br></span>\n",
    "<span style=\"font-family:Arial\">A61H9/0071&emsp; &emsp; &emsp;••&emsp;by localized pressure, e.g. air streams or jets<br></span>\n",
    "<span style=\"font-family:Arial\">A61H9/0078&emsp; &emsp; &emsp;••&emsp;with intermittent or alternately inflated bladders\n",
    "or cuffs<br></span>\n",
    "<span style=\"font-family:Arial\">A61H9/0085&emsp; &emsp; &emsp;•••&emsp;Inflated by user's body movement, e.g. ambulatory devices<br></span>\n",
    "<span style=\"font-family:Arial\">A61H9/0092&emsp; &emsp; &emsp;•••&emsp;Cuffs therefor<br></span>\n",
    "\n",
    "#### Input needed: \n",
    "<I><span style=\"font-family:Arial\">This module use libraries, function and processed text data present in initial_processing module</span></I>\n",
    "\n",
    "#### Output expected: \n",
    "<I><span style=\"font-family:Arial\">This module will identify patents in A61H900 class in test data.<br>This output is pass to the module final_file. No output is expected in this module alone.</span></I>\n",
    "\n",
    "#### Related modules: \n",
    "<I><span style=\"font-family:Arial\">This module is calling initial_processing module and is called by final_file module</span></I>\n",
    "\n",
    "#### Who and when: \n",
    "<I><span style=\"font-family:Arial\">Last Modified by : Nishant Chauhan</span><br>\n",
    "<span style=\"font-family:Arial\">Last Modified on : 31-July-2020</span><br>\n",
    "<span style=\"font-family:Arial\">Version no       : 2</span><br>\n",
    "<span style=\"font-family:Arial\">Developed by     : Nishant Chauhan </span><br></font></I>\n"
   ]
  },
  {
   "cell_type": "code",
   "execution_count": 1,
   "metadata": {},
   "outputs": [
    {
     "name": "stdout",
     "output_type": "stream",
     "text": [
      "importing Jupyter notebook from Initial_processing.ipynb\n",
      "Module Initial Processing is successfully loaded on 03/Aug/2020 - 11:32 AM\n"
     ]
    }
   ],
   "source": [
    "import os\n",
    "import sys\n",
    "import import_ipynb\n",
    "from Initial_processing import *"
   ]
  },
  {
   "cell_type": "code",
   "execution_count": 2,
   "metadata": {},
   "outputs": [
    {
     "data": {
      "text/plain": [
       "0    3472\n",
       "1     445\n",
       "Name: A61H0900, dtype: int64"
      ]
     },
     "execution_count": 2,
     "metadata": {},
     "output_type": "execute_result"
    }
   ],
   "source": [
    "df['A61H0900'] = df['CPC'].str.contains('A61H9/|A61H0009|A61H 9/').astype('int')\n",
    "df['A61H0900'].value_counts()"
   ]
  },
  {
   "cell_type": "markdown",
   "metadata": {},
   "source": [
    "## Model training and prediction"
   ]
  },
  {
   "cell_type": "code",
   "execution_count": 3,
   "metadata": {},
   "outputs": [],
   "source": [
    "y_train = df['A61H0900']\n",
    "\n",
    "model_title , score_title = train_model(X_title_dtm, y_train)\n",
    "\n",
    "y_pred_class_title = model_title.predict(X_title_test_dtm)"
   ]
  },
  {
   "cell_type": "code",
   "execution_count": 4,
   "metadata": {},
   "outputs": [],
   "source": [
    "model_abstract , score_abstract = train_model(X_abstract_dtm, y_train)\n",
    "\n",
    "y_pred_class_abstract = model_abstract.predict(X_abstract_test_dtm)"
   ]
  },
  {
   "cell_type": "code",
   "execution_count": 5,
   "metadata": {},
   "outputs": [
    {
     "name": "stdout",
     "output_type": "stream",
     "text": [
      "Training data accuracy score :  0.922568982893285\n"
     ]
    }
   ],
   "source": [
    "model_tab , score_tab = train_model(X_tab_dtm, y_train)\n",
    "\n",
    "y_pred_class_tab = model_tab.predict(X_tab_test_dtm)\n",
    "\n",
    "print(\"Training data accuracy score : \" ,((score_abstract.mean() + score_title.mean() + score_tab.mean())/3))"
   ]
  },
  {
   "cell_type": "code",
   "execution_count": 6,
   "metadata": {},
   "outputs": [],
   "source": [
    "df_first = pd.DataFrame(df_test[['number','title','abstract']])"
   ]
  },
  {
   "cell_type": "code",
   "execution_count": 7,
   "metadata": {},
   "outputs": [],
   "source": [
    "df_first['all_text'] = X_all\n",
    "df_first['title_prediction'] = y_pred_class_title\n",
    "df_first['abstract_prediction'] = y_pred_class_abstract"
   ]
  },
  {
   "cell_type": "markdown",
   "metadata": {},
   "source": [
    "## Predicting using words"
   ]
  },
  {
   "cell_type": "code",
   "execution_count": 8,
   "metadata": {},
   "outputs": [],
   "source": [
    "# AND Operator keywords\n",
    "\n",
    "A61H0900 = []\n",
    "\n",
    "A61H0900_1 = ['medical','patient','rehab','elder','disabl','impair', 'weak',\n",
    "              'massag', 'therap', 'treatment']\n"
   ]
  },
  {
   "cell_type": "code",
   "execution_count": 9,
   "metadata": {},
   "outputs": [],
   "source": [
    "# NEAR operator keywords (List1 NEAR5 List2)\n",
    "\n",
    "A61H0900_list1 = ['hydraulic', 'pneumatic', 'hydro']\n",
    "A61H0900_list2 = ['massag', 'therap']\n",
    "\n",
    "A61H0900_list3 = ['inflate', 'inflatable', 'inflated', 'deflate', 'deflatable', 'deflated', 'inflation', 'deflation']\n",
    "A61H0900_list4 = ['cup','bladder','cuff','garment','cloth','harness', 'air bag', 'airbag']\n",
    "                  \n",
    "A61H0900_list5 = ['suction']\n",
    "A61H0900_list6 = ['cup', 'cups']\n",
    "    \n",
    "A61H0900_list7 = [ 'massage', 'massager', 'massaging']\n",
    "A61H0900_list8 = ['bladder','cuff', 'localized']\n",
    "\n",
    "A61H0900_list9 = ['pressure']\n",
    "A61H0900_list10 = ['intermittent', 'localized']"
   ]
  },
  {
   "cell_type": "code",
   "execution_count": 10,
   "metadata": {},
   "outputs": [],
   "source": [
    "#SSTO command e.g. search \"eye massage device\" as single word\n",
    "\n",
    "A61H0900_word = []"
   ]
  },
  {
   "cell_type": "code",
   "execution_count": 11,
   "metadata": {},
   "outputs": [],
   "source": [
    "new_col = []\n",
    "for i in range(len(df_first['all_text'])):\n",
    "    check_word = (((near_operator(df_first['all_text'][i],A61H0900_list1,A61H0900_list2, near=3) or\n",
    "                  near_operator(df_first['all_text'][i],A61H0900_list3,A61H0900_list4, near=3) or\n",
    "                  near_operator(df_first['all_text'][i],A61H0900_list5,A61H0900_list6, near=3) or\n",
    "                  near_operator(df_first['all_text'][i],A61H0900_list7,A61H0900_list8, near=3) or\n",
    "                  near_operator(df_first['all_text'][i],A61H0900_list9,A61H0900_list10, near=3) or\n",
    "                 and_operator(df_first['all_text'][i],A61H0900) or\n",
    "                 ssto(df_first['all_text'][i], A61H0900_word))) and\n",
    "                  and_operator(df_first['all_text'][i],A61H0900_1))\n",
    "                \n",
    "    new_col.append(check_word)\n",
    "    \n",
    "df_first['word_predict'] = new_col"
   ]
  },
  {
   "cell_type": "code",
   "execution_count": 12,
   "metadata": {},
   "outputs": [],
   "source": [
    "df_first['A61H0900'] = df_first['word_predict'] + df_first['title_prediction'] + df_first['abstract_prediction']\n",
    "\n",
    "for row in range(len(df_first['A61H0900'])):\n",
    "    if df_first.loc[row, 'A61H0900'] > 0:\n",
    "        df_first.loc[row, 'A61H0900'] = 1\n",
    "    else:\n",
    "        df_first.loc[row, 'A61H0900'] = 0"
   ]
  },
  {
   "cell_type": "code",
   "execution_count": 13,
   "metadata": {},
   "outputs": [],
   "source": [
    "df_second = df_first.drop(['title_prediction','abstract_prediction', 'word_predict'],axis=1)"
   ]
  },
  {
   "cell_type": "markdown",
   "metadata": {},
   "source": [
    "## Sub-classification of A61H9/00"
   ]
  },
  {
   "cell_type": "markdown",
   "metadata": {},
   "source": [
    "### A61H9/0007     • Pulsating"
   ]
  },
  {
   "cell_type": "code",
   "execution_count": 14,
   "metadata": {},
   "outputs": [],
   "source": [
    "# AND Operator keywords\n",
    "A61H90007 = []\n",
    "\n",
    "# NEAR operator keywords (List1 NEAR5 List2)\n",
    "A61H90007_list1 = ['pulsating','pulsate']\n",
    "A61H90007_list2 = ['massag', 'therap']\n",
    "\n",
    "#SSTO command e.g. search \"eye massage device\" as single word\n",
    "A61H90007_word = []"
   ]
  },
  {
   "cell_type": "code",
   "execution_count": 15,
   "metadata": {},
   "outputs": [],
   "source": [
    "new_col_90007 = []\n",
    "for i in range(len(df_second['all_text'])):\n",
    "    if df_second['A61H0900'][i] == 1:\n",
    "        check_word_90007 = int((near_operator(df_second['all_text'][i],A61H90007_list1,A61H90007_list2, near=5) or \n",
    "                           and_operator(df_second['all_text'][i],A61H90007) or\n",
    "                           ssto(df_second['all_text'][i], A61H90007_word)))\n",
    "    else:\n",
    "        check_word_90007 = 0\n",
    "    \n",
    "    new_col_90007.append(check_word_90007)\n",
    "    \n",
    "df_second['A61H90007'] = new_col_90007"
   ]
  },
  {
   "cell_type": "markdown",
   "metadata": {},
   "source": [
    "### A61H2009/0014  • with particles, e.g. sand"
   ]
  },
  {
   "cell_type": "code",
   "execution_count": 16,
   "metadata": {},
   "outputs": [],
   "source": [
    "# AND Operator keywords\n",
    "A61H20090014 = []\n",
    "\n",
    "# NEAR operator keywords (List1 NEAR5 List2)\n",
    "A61H20090014_list1 = ['massage', 'massaging', 'massager']\n",
    "A61H20090014_list2 = ['particle', 'sand']\n",
    "\n",
    "#SSTO command e.g. search \"eye massage device\" as single word\n",
    "A61H20090014_word = []"
   ]
  },
  {
   "cell_type": "code",
   "execution_count": 17,
   "metadata": {},
   "outputs": [],
   "source": [
    "new_col_20090014 = []\n",
    "for i in range(len(df_second['all_text'])):\n",
    "    if df_second['A61H0900'][i] == 1:\n",
    "        check_word_20090014 = int((near_operator(df_second['all_text'][i],A61H20090014_list1,A61H20090014_list2, near=5) or \n",
    "                           and_operator(df_second['all_text'][i],A61H20090014) or\n",
    "                           ssto(df_second['all_text'][i], A61H20090014_word)))\n",
    "    else:\n",
    "        check_word_20090014 = 0\n",
    "    \n",
    "    new_col_20090014.append(check_word_20090014)\n",
    "    \n",
    "df_second['A61H20090014'] = new_col_20090014"
   ]
  },
  {
   "cell_type": "markdown",
   "metadata": {},
   "source": [
    "### A61H9/0021     • Hydraulic massage"
   ]
  },
  {
   "cell_type": "code",
   "execution_count": 18,
   "metadata": {},
   "outputs": [],
   "source": [
    "# AND Operator keywords\n",
    "A61H90021 = ['hydrotherapy', 'hydromassage']\n",
    "\n",
    "# NEAR operator keywords (List1 NEAR5 List2)\n",
    "A61H90021_list1 = ['hydraulic', 'hydro']\n",
    "A61H90021_list2 = ['massage']\n",
    "\n",
    "#SSTO command e.g. search \"eye massage device\" as single word\n",
    "A61H90021_word = []"
   ]
  },
  {
   "cell_type": "code",
   "execution_count": 19,
   "metadata": {},
   "outputs": [],
   "source": [
    "new_col_90021 = []\n",
    "for i in range(len(df_second['all_text'])):\n",
    "    if df_second['A61H0900'][i] == 1:\n",
    "        check_word_90021 = int((near_operator(df_second['all_text'][i],A61H90021_list1,A61H90021_list2, near=5) or \n",
    "                           and_operator(df_second['all_text'][i],A61H90021) or\n",
    "                           ssto(df_second['all_text'][i], A61H90021_word)))\n",
    "    else:\n",
    "        check_word_90021 = 0\n",
    "    \n",
    "    new_col_90021.append(check_word_90021)\n",
    "    \n",
    "df_second['A61H90021'] = new_col_90021"
   ]
  },
  {
   "cell_type": "markdown",
   "metadata": {},
   "source": [
    "### A61H9/0028     •• Hand-held devices for spraying and removing liquid while moved on the skin"
   ]
  },
  {
   "cell_type": "code",
   "execution_count": 20,
   "metadata": {},
   "outputs": [],
   "source": [
    "# AND Operator keywords\n",
    "A61H90028 = ['handheld']\n",
    "\n",
    "# NEAR operator keywords (List1 NEAR5 List2)\n",
    "A61H90028_list1 = ['hand' ]\n",
    "A61H90028_list2 = ['drive', 'operate']\n",
    "\n",
    "#SSTO command e.g. search \"eye massage device\" as single word\n",
    "A61H90028_word = []"
   ]
  },
  {
   "cell_type": "code",
   "execution_count": 21,
   "metadata": {},
   "outputs": [],
   "source": [
    "new_col_90028 = []\n",
    "for i in range(len(df_second['all_text'])):\n",
    "    if df_second['A61H90021'][i] == 1:\n",
    "        check_word_90028 = int((near_operator(df_second['all_text'][i],A61H90028_list1,A61H90028_list2, near=5) or \n",
    "                           and_operator(df_second['all_text'][i],A61H90028) or\n",
    "                           ssto(df_second['all_text'][i], A61H90028_word)))\n",
    "    else:\n",
    "        check_word_90028 = 0\n",
    "    \n",
    "    new_col_90028.append(check_word_90028)\n",
    "    \n",
    "df_second['A61H90028'] = new_col_90028"
   ]
  },
  {
   "cell_type": "markdown",
   "metadata": {},
   "source": [
    "### A61H2009/0035  •• with cabin for the whole body"
   ]
  },
  {
   "cell_type": "code",
   "execution_count": 22,
   "metadata": {},
   "outputs": [],
   "source": [
    "# AND Operator keywords\n",
    "A61H20090035 = ['cabin']\n",
    "\n",
    "# NEAR operator keywords (List1 NEAR5 List2)\n",
    "A61H20090035_list1 = []\n",
    "A61H20090035_list2 = []\n",
    "\n",
    "#SSTO command e.g. search \"eye massage device\" as single word\n",
    "A61H20090035_word = []"
   ]
  },
  {
   "cell_type": "code",
   "execution_count": 23,
   "metadata": {},
   "outputs": [],
   "source": [
    "new_col_20090035 = []\n",
    "for i in range(len(df_second['all_text'])):\n",
    "    if df_second['A61H90021'][i] == 1:\n",
    "        check_word_20090035 = int((near_operator(df_second['all_text'][i],A61H20090035_list1,A61H20090035_list2, near=5) or \n",
    "                           and_operator(df_second['all_text'][i],A61H20090035) or\n",
    "                           ssto(df_second['all_text'][i], A61H20090035_word)))\n",
    "    else:\n",
    "        check_word_20090035 = 0\n",
    "    \n",
    "    new_col_20090035.append(check_word_20090035)\n",
    "    \n",
    "df_second['A61H20090035'] = new_col_20090035"
   ]
  },
  {
   "cell_type": "markdown",
   "metadata": {},
   "source": [
    "### A61H2009/0042  •• with water recirculation"
   ]
  },
  {
   "cell_type": "code",
   "execution_count": 24,
   "metadata": {},
   "outputs": [],
   "source": [
    "# AND Operator keywords\n",
    "A61H20090042 = []\n",
    "\n",
    "# NEAR operator keywords (List1 NEAR5 List2)\n",
    "A61H20090042_list1 = ['water']\n",
    "A61H20090042_list2 = ['recirculat', 'circulat']\n",
    "\n",
    "#SSTO command e.g. search \"eye massage device\" as single word\n",
    "A61H20090042_word = []"
   ]
  },
  {
   "cell_type": "code",
   "execution_count": 25,
   "metadata": {},
   "outputs": [],
   "source": [
    "new_col_20090042 = []\n",
    "for i in range(len(df_second['all_text'])):\n",
    "    if df_second['A61H90021'][i] == 1:\n",
    "        check_word_20090042 = int((near_operator(df_second['all_text'][i],A61H20090042_list1,A61H20090042_list2, near=5) or \n",
    "                           and_operator(df_second['all_text'][i],A61H20090042) or\n",
    "                           ssto(df_second['all_text'][i], A61H20090042_word)))\n",
    "    else:\n",
    "        check_word_20090042 = 0\n",
    "    \n",
    "    new_col_20090042.append(check_word_20090042)\n",
    "    \n",
    "df_second['A61H20090042'] = new_col_20090042"
   ]
  },
  {
   "cell_type": "markdown",
   "metadata": {},
   "source": [
    "### A61H9/005       • Pneumatic massage"
   ]
  },
  {
   "cell_type": "code",
   "execution_count": 26,
   "metadata": {},
   "outputs": [],
   "source": [
    "# AND Operator keywords\n",
    "A61H9005 = []\n",
    "\n",
    "# NEAR operator keywords (List1 NEAR5 List2)\n",
    "A61H9005_list1 = ['pneumatic', 'air']\n",
    "A61H9005_list2 = ['massag']\n",
    "\n",
    "A61H9005_list3 = ['inflate', 'inflatable', 'inflated', 'deflate', 'deflatable', 'deflated', 'inflation', 'deflation']\n",
    "A61H9005_list4 = ['cup','bladder','cuff','garment','cloth','harness', 'air bag', 'airbag']\n",
    "                  \n",
    "A61H9005_list5 = ['suction']\n",
    "A61H9005_list6 = ['cup', 'cups']\n",
    "    \n",
    "A61H9005_list7 = [ 'massage', 'massager', 'massaging']\n",
    "A61H9005_list8 = ['bladder','cuff', 'localized']\n",
    "\n",
    "A61H9005_list9 = ['pressure']\n",
    "A61H9005_list10 = ['intermittent', 'localized', 'air cell', 'aircell', 'air bag', 'airbag']\n",
    "\n",
    "#SSTO command e.g. search \"eye massage device\" as single word\n",
    "A61H9005_word = []"
   ]
  },
  {
   "cell_type": "code",
   "execution_count": 27,
   "metadata": {},
   "outputs": [],
   "source": [
    "new_col_9005 = []\n",
    "for i in range(len(df_second['all_text'])):\n",
    "    if df_second['A61H0900'][i] == 1:\n",
    "        check_word_9005 = int((near_operator(df_second['all_text'][i],A61H9005_list1,A61H9005_list2, near=5) or \n",
    "                               near_operator(df_second['all_text'][i],A61H9005_list3,A61H9005_list4, near=5) or\n",
    "                               near_operator(df_second['all_text'][i],A61H9005_list5,A61H9005_list6, near=5) or\n",
    "                               near_operator(df_second['all_text'][i],A61H9005_list7,A61H9005_list8, near=5) or\n",
    "                               near_operator(df_second['all_text'][i],A61H9005_list9,A61H9005_list10, near=5) or\n",
    "                           and_operator(df_second['all_text'][i],A61H9005) or\n",
    "                           ssto(df_second['all_text'][i], A61H9005_word)))\n",
    "    else:\n",
    "        check_word_9005 = 0\n",
    "    \n",
    "    new_col_9005.append(check_word_9005)\n",
    "    \n",
    "df_second['A61H9005'] = new_col_9005"
   ]
  },
  {
   "cell_type": "markdown",
   "metadata": {},
   "source": [
    "### A61H9/0057     •• Suction"
   ]
  },
  {
   "cell_type": "code",
   "execution_count": 28,
   "metadata": {},
   "outputs": [],
   "source": [
    "# AND Operator keywords\n",
    "A61H90057 = []\n",
    "\n",
    "# NEAR operator keywords (List1 NEAR5 List2)\n",
    "A61H90057_list1 = ['suction']\n",
    "A61H90057_list2 = []\n",
    "\n",
    "#SSTO command e.g. search \"eye massage device\" as single word\n",
    "A61H90057_word = []"
   ]
  },
  {
   "cell_type": "code",
   "execution_count": 29,
   "metadata": {},
   "outputs": [],
   "source": [
    "new_col_90057 = []\n",
    "for i in range(len(df_second['all_text'])):\n",
    "    if df_second['A61H9005'][i] == 1:\n",
    "        check_word_90057 = int((near_operator(df_second['all_text'][i],A61H90057_list1,A61H90057_list2, near=5) or \n",
    "                           and_operator(df_second['all_text'][i],A61H90057) or\n",
    "                           ssto(df_second['all_text'][i], A61H90057_word)))\n",
    "    else:\n",
    "        check_word_90057 = 0\n",
    "    \n",
    "    new_col_90057.append(check_word_90057)\n",
    "    \n",
    "df_second['A61H90057'] = new_col_90057"
   ]
  },
  {
   "cell_type": "markdown",
   "metadata": {},
   "source": [
    "### A61H2009/0064  •• suction by releasing a flexible cup after deformation, i.e. without further vacuum source"
   ]
  },
  {
   "cell_type": "code",
   "execution_count": 30,
   "metadata": {},
   "outputs": [],
   "source": [
    "# AND Operator keywords\n",
    "A61H20090064 = []\n",
    "\n",
    "# NEAR operator keywords (List1 NEAR5 List2)\n",
    "A61H20090064_list1 = ['suction']\n",
    "A61H20090064_list2 = ['cup', 'cups']\n",
    "\n",
    "#SSTO command e.g. search \"eye massage device\" as single word\n",
    "A61H20090064_word = []"
   ]
  },
  {
   "cell_type": "code",
   "execution_count": 31,
   "metadata": {},
   "outputs": [],
   "source": [
    "new_col_20090064 = []\n",
    "for i in range(len(df_second['all_text'])):\n",
    "    if df_second['A61H0900'][i] == 1:\n",
    "        check_word_20090064 = int((near_operator(df_second['all_text'][i],A61H20090064_list1,A61H20090064_list2, near=5) or \n",
    "                           and_operator(df_second['all_text'][i],A61H20090064) or\n",
    "                           ssto(df_second['all_text'][i], A61H20090064_word)))\n",
    "    else:\n",
    "        check_word_20090064 = 0\n",
    "    \n",
    "    new_col_20090064.append(check_word_20090064)\n",
    "    \n",
    "df_second['A61H20090064'] = new_col_20090064"
   ]
  },
  {
   "cell_type": "markdown",
   "metadata": {},
   "source": [
    "### A61H9/0071     •• by localized pressure, e.g. air streams or jets"
   ]
  },
  {
   "cell_type": "code",
   "execution_count": 32,
   "metadata": {},
   "outputs": [],
   "source": [
    "# AND Operator keywords\n",
    "A61H90071 = []\n",
    "\n",
    "# NEAR operator keywords (List1 NEAR5 List2)\n",
    "A61H90071_list1 = ['localised', 'localized']\n",
    "A61H90071_list2 = ['pressure', 'jet', 'air stream', 'massag', 'therap']\n",
    "\n",
    "#SSTO command e.g. search \"eye massage device\" as single word\n",
    "A61H90071_word = []"
   ]
  },
  {
   "cell_type": "code",
   "execution_count": 33,
   "metadata": {},
   "outputs": [],
   "source": [
    "new_col_90071 = []\n",
    "for i in range(len(df_second['all_text'])):\n",
    "    if df_second['A61H9005'][i] == 1:\n",
    "        check_word_90071 = int((near_operator(df_second['all_text'][i],A61H90071_list1,A61H90071_list2, near=5) or \n",
    "                           and_operator(df_second['all_text'][i],A61H90071) or\n",
    "                           ssto(df_second['all_text'][i], A61H90071_word)))\n",
    "    else:\n",
    "        check_word_90071 = 0\n",
    "    \n",
    "    new_col_90071.append(check_word_90071)\n",
    "    \n",
    "df_second['A61H90071'] = new_col_90071"
   ]
  },
  {
   "cell_type": "markdown",
   "metadata": {},
   "source": [
    "### A61H9/0078     •• with intermittent or alternately inflated bladders or cuffs"
   ]
  },
  {
   "cell_type": "code",
   "execution_count": 47,
   "metadata": {},
   "outputs": [],
   "source": [
    "# AND Operator keywords\n",
    "A61H90078 = []\n",
    "\n",
    "# NEAR operator keywords (List1 NEAR5 List2)\n",
    "A61H90078_list1 = ['inflate', 'inflatable', 'inflated','inflation', 'expand', 'expansion']\n",
    "A61H90078_list2 = ['deflate', 'deflatable', 'deflated','deflation', 'contract', 'contraction']\n",
    "A61H90078_list3 = ['intermittent','bladder', 'cuff', 'air bag','airbag', 'aircell', \n",
    "                   'air cell', 'seat', 'mattress', 'garment', 'cloth', 'harness']\n",
    "\n",
    "A61H90078_list4 = ['pressure']\n",
    "A61H90078_list5 = ['intermittent','inflat', 'deflat','bladder','cuff', 'mattress', 'seat', 'garment', 'cloth']\n",
    "\n",
    "\n",
    "#SSTO command e.g. search \"eye massage device\" as single word\n",
    "A61H90078_word = []"
   ]
  },
  {
   "cell_type": "code",
   "execution_count": 48,
   "metadata": {},
   "outputs": [],
   "source": [
    "new_col_90078 = []\n",
    "for i in range(len(df_second['all_text'])):\n",
    "    if df_second['A61H0900'][i] == 1:\n",
    "        check_word_90078 = int((near_operator(df_second['all_text'][i],A61H90078_list1,A61H90078_list3, near=5) or \n",
    "                                near_operator(df_second['all_text'][i],A61H90078_list2,A61H90078_list3, near=5) or\n",
    "                                near_operator(df_second['all_text'][i],A61H90078_list4,A61H90078_list5, near=4) or\n",
    "                           and_operator(df_second['all_text'][i],A61H90078) or\n",
    "                           ssto(df_second['all_text'][i], A61H90078_word)))\n",
    "    else:\n",
    "        check_word_90078 = 0\n",
    "    \n",
    "    new_col_90078.append(check_word_90078)\n",
    "    \n",
    "df_second['A61H90078'] = new_col_90078"
   ]
  },
  {
   "cell_type": "markdown",
   "metadata": {},
   "source": [
    "### A61H9/0085     ••• Inflated by user's body movement, e.g. ambulatory devices"
   ]
  },
  {
   "cell_type": "code",
   "execution_count": 57,
   "metadata": {},
   "outputs": [],
   "source": [
    "# AND Operator keywords\n",
    "A61H90085 = []\n",
    "\n",
    "# NEAR operator keywords (List1 NEAR5 List2)\n",
    "A61H90085_list1 = ['inflate', 'inflatable', 'inflated','inflation', 'expand', 'expansion'\n",
    "                  'deflate', 'deflatable', 'deflated','deflation', 'contract', 'contraction']\n",
    "A61H90085_list2 = ['ambulatory device', 'walk', 'body', 'user', 'patient']\n",
    "A61H90085_list3 = ['movement', 'motion']\n",
    "\n",
    "#SSTO command e.g. search \"eye massage device\" as single word\n",
    "A61H90085_word = []"
   ]
  },
  {
   "cell_type": "code",
   "execution_count": 58,
   "metadata": {},
   "outputs": [],
   "source": [
    "new_col_90085 = []\n",
    "for i in range(len(df_second['all_text'])):\n",
    "    if df_second['A61H90078'][i] == 1:\n",
    "        check_word_90085 = int(((near_operator(df_second['all_text'][i],A61H90085_list1,A61H90085_list2, near=5) and\n",
    "                                near_operator(df_second['all_text'][i],A61H90085_list2,A61H90085_list3, near=3)) or\n",
    "                           and_operator(df_second['all_text'][i],A61H90085) or\n",
    "                           ssto(df_second['all_text'][i], A61H90085_word)))\n",
    "    else:\n",
    "        check_word_90085 = 0\n",
    "    \n",
    "    new_col_90085.append(check_word_90085)\n",
    "    \n",
    "df_second['A61H90085'] = new_col_90085"
   ]
  },
  {
   "cell_type": "markdown",
   "metadata": {},
   "source": [
    "### A61H9/0092     ••• Cuffs therefor"
   ]
  },
  {
   "cell_type": "code",
   "execution_count": 59,
   "metadata": {},
   "outputs": [],
   "source": [
    "# AND Operator keywords\n",
    "A61H90092 = ['cuff']\n",
    "\n",
    "# NEAR operator keywords (List1 NEAR5 List2)\n",
    "A61H90092_list1 = []\n",
    "A61H90092_list2 = []\n",
    "\n",
    "#SSTO command e.g. search \"eye massage device\" as single word\n",
    "A61H90092_word = []"
   ]
  },
  {
   "cell_type": "code",
   "execution_count": 60,
   "metadata": {},
   "outputs": [],
   "source": [
    "new_col_90092 = []\n",
    "for i in range(len(df_second['all_text'])):\n",
    "    if df_second['A61H90078'][i] == 1:\n",
    "        check_word_90092 = int((near_operator(df_second['all_text'][i],A61H90092_list1,A61H90092_list2, near=5) or \n",
    "                           and_operator(df_second['all_text'][i],A61H90092) or\n",
    "                           ssto(df_second['all_text'][i], A61H90092_word)))\n",
    "    else:\n",
    "        check_word_90092 = 0\n",
    "    \n",
    "    new_col_90092.append(check_word_90092)\n",
    "    \n",
    "df_second['A61H90092'] = new_col_90092"
   ]
  },
  {
   "cell_type": "markdown",
   "metadata": {},
   "source": [
    "## Final step"
   ]
  },
  {
   "cell_type": "code",
   "execution_count": 62,
   "metadata": {},
   "outputs": [],
   "source": [
    "for i in range(4,len(df_second.columns)):\n",
    "    df_second.iloc[:,i].replace(1,df_second.columns[i], inplace=True)\n",
    "    df_second.iloc[:,i].replace(0,'', inplace=True)"
   ]
  },
  {
   "cell_type": "code",
   "execution_count": 63,
   "metadata": {},
   "outputs": [],
   "source": [
    "cols = ['A61H0900', 'A61H90007','A61H20090014', 'A61H90021', 'A61H90028', 'A61H20090035','A61H20090042', \n",
    "        'A61H9005', 'A61H90057', 'A61H20090064', 'A61H90071', 'A61H90078', 'A61H90092', 'A61H90085']\n",
    "\n",
    "df_second['prediction'] = ''\n",
    "for i in range(len(df_second)):\n",
    "    for col in cols:\n",
    "        if not df_second.loc[i,col] == '':\n",
    "            df_second.loc[i,'prediction'] = (df_second.loc[i,'prediction'] + ' | '\n",
    "                                                        + df_second.loc[i,col])\n",
    "\n",
    "df_second['prediction'] = df_second['prediction'].str[3:]"
   ]
  },
  {
   "cell_type": "code",
   "execution_count": 64,
   "metadata": {},
   "outputs": [],
   "source": [
    "df_final = df_second.drop(columns=['A61H0900', 'A61H90007','A61H20090014', 'A61H90021', 'A61H90028',\n",
    "                                   'A61H20090035','A61H20090042', 'A61H9005', 'A61H90057', 'A61H20090064',\n",
    "                                   'A61H90071', 'A61H90078', 'A61H90092', 'A61H90085', 'all_text'], axis=1)"
   ]
  },
  {
   "cell_type": "code",
   "execution_count": 65,
   "metadata": {},
   "outputs": [
    {
     "name": "stdout",
     "output_type": "stream",
     "text": [
      "Module A61H0900 is successfully loaded on 03/Aug/2020 - 12:03 PM\n"
     ]
    }
   ],
   "source": [
    "from datetime import datetime\n",
    "dt_string = datetime.now().strftime(\"%d/%b/%Y - %H:%M %p\")\n",
    "print(\"Module A61H0900 is successfully loaded on\",dt_string)"
   ]
  },
  {
   "cell_type": "code",
   "execution_count": null,
   "metadata": {},
   "outputs": [],
   "source": []
  },
  {
   "cell_type": "code",
   "execution_count": null,
   "metadata": {},
   "outputs": [],
   "source": []
  }
 ],
 "metadata": {
  "kernelspec": {
   "display_name": "Python 3",
   "language": "python",
   "name": "python3"
  },
  "language_info": {
   "codemirror_mode": {
    "name": "ipython",
    "version": 3
   },
   "file_extension": ".py",
   "mimetype": "text/x-python",
   "name": "python",
   "nbconvert_exporter": "python",
   "pygments_lexer": "ipython3",
   "version": "3.8.5"
  }
 },
 "nbformat": 4,
 "nbformat_minor": 2
}
